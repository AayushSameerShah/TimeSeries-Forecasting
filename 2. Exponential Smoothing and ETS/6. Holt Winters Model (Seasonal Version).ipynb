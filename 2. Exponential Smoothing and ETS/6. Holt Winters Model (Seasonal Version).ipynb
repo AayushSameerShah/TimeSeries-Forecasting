{
 "cells": [
  {
   "cell_type": "markdown",
   "id": "c0de4a6c-ac2b-4760-8e84-39898eba9e1c",
   "metadata": {},
   "source": [
    "# 🏂 Holt Winters Model (Seasonal Version)\n",
    "Now, it has the WINTER'S component, meaning *the season of winter will be covered* 😁 <br>\n",
    "**Nah**, here winters is not the ***season***!"
   ]
  },
  {
   "cell_type": "markdown",
   "id": "b092063c-7952-46de-ab6c-e4d97a731dd2",
   "metadata": {},
   "source": [
    "### 🤷‍♂️ But why Winters?\n",
    "Now obviously you will get this doubt that *there can be a name like **holt** but, what about **winters** part? Does that show some kind of seasonality*? Hah, looking on the internet:\n",
    "\n",
    "> Holt-Winter's Exponential Smoothing as named after its **two contributors**: Charles ***Holt*** and Peter ***Winter's*** is one of the oldest time series analysis techniques which takes into account the trend and seasonality while doing the forecasting.\n",
    "\n",
    "અરે યાર, winters કોઈનો નામ પણ હોય! 🙄"
   ]
  }
 ],
 "metadata": {
  "kernelspec": {
   "display_name": "Python 3 (ipykernel)",
   "language": "python",
   "name": "python3"
  },
  "language_info": {
   "codemirror_mode": {
    "name": "ipython",
    "version": 3
   },
   "file_extension": ".py",
   "mimetype": "text/x-python",
   "name": "python",
   "nbconvert_exporter": "python",
   "pygments_lexer": "ipython3",
   "version": "3.9.7"
  }
 },
 "nbformat": 4,
 "nbformat_minor": 5
}
