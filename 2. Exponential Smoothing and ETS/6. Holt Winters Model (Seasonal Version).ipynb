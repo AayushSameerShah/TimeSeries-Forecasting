{
 "cells": [
  {
   "cell_type": "markdown",
   "id": "c0de4a6c-ac2b-4760-8e84-39898eba9e1c",
   "metadata": {},
   "source": [
    "# 🏂 Holt Winters Model (Seasonal Version)\n",
    "Now, it has the WINTER component, meaning *the season of winter will be covered* 😁 <br>\n",
    "**Nah**, here winters is not the ***season***!"
   ]
  },
  {
   "cell_type": "markdown",
   "id": "b092063c-7952-46de-ab6c-e4d97a731dd2",
   "metadata": {},
   "source": [
    "### 🤷‍♂️ But why Winters?\n",
    "Now obviously you will get this doubt that *there can be a name like **holt** but, what about **winter** part? Does that show some kind of seasonality*? Hah, looking on the internet:\n",
    "\n",
    "> Holt-Winter's Exponential Smoothing as named after its **two contributors**: Charles ***Holt*** and Peter ***Winter*** is one of the oldest time series analysis techniques which takes into account the trend and seasonality while doing the forecasting.\n",
    "\n",
    "અરે યાર, winter કોઈનો નામ પણ હોય! 🙄"
   ]
  },
  {
   "cell_type": "markdown",
   "id": "90f8dd61-be74-45c5-b530-44c2fae0cfd6",
   "metadata": {},
   "source": [
    "____"
   ]
  },
  {
   "cell_type": "markdown",
   "id": "39ca87e7-3711-4d3e-a8f3-d200392d8229",
   "metadata": {},
   "source": [
    "We started our journey of forecasting with:\n",
    "- Simple MA\n",
    "- Exponentially MA\n",
    "\n",
    "Till now **no** forecasting was done.\n",
    "- Simple Exponential Smoothing (The EWMA but repeated the last term `h` times) | **No Season, No Trend**\n",
    "- Holt model (Added the *trend* in the calculation) | **No Season, Yes Trend**\n",
    "\n",
    "And, now you *might* feel the *real* forecasting. Because it is:\n",
    "- Holt Winter's model | **Yes Season, Yes Trend**."
   ]
  },
  {
   "cell_type": "markdown",
   "id": "7a4c1e9d-309e-4f07-b971-246d8f462f44",
   "metadata": {},
   "source": [
    "###### "
   ]
  },
  {
   "cell_type": "markdown",
   "id": "d253c7be-6bc8-44f1-a20e-efcf498a3741",
   "metadata": {},
   "source": [
    "### ❄ The components, visually"
   ]
  },
  {
   "cell_type": "markdown",
   "id": "34071306-95a8-4582-9653-21422ac6447b",
   "metadata": {},
   "source": [
    "We will plot the values with *our* data when we will get into that part, but for now - let's have a look at how 3 of the components look like when they are plotted.\n",
    "\n",
    "<img src=\"../images/holt-winters-1.png\" height=400 width=500>"
   ]
  },
  {
   "cell_type": "markdown",
   "id": "d2056e20-c3d2-438c-827c-e82ff1381840",
   "metadata": {},
   "source": [
    "- See, that season component has **only** extracted the fluctuations overtime\n",
    "- The trend (slope) shows **when** was what kind of trend in time. Still, it is not much intuative\n",
    "- The level is just the EWMA at that perticular time so, nothing much to tell about it\n",
    "\n",
    "But, don't worry we will see this in action in out `passengers` dataset soon. First, let's get into the nitty gritty stuff of this model."
   ]
  },
  {
   "cell_type": "markdown",
   "id": "de4d9a3a-ea8a-4c7a-8043-b802e65731df",
   "metadata": {},
   "source": [
    "## "
   ]
  },
  {
   "cell_type": "markdown",
   "id": "1b21c6ae-4758-4197-b86a-faf9f00d5425",
   "metadata": {},
   "source": [
    "### `2` Ways to Model The Problem\n",
    "Meaning, there are **2** ways to put the **equation into an action**. Which equation? — The Main Forecast Equation $\\hat y_{t + h | t} $."
   ]
  },
  {
   "cell_type": "markdown",
   "id": "685c161f-f321-4636-b963-e1dc3e4ca00c",
   "metadata": {},
   "source": [
    "1. Additive Method — Seasonal comp. is ***added***\n",
    "    - y = level + trend + seasonal\n",
    "2. Multiplicative Method — Seasonal comp. is ***multiplied***\n",
    "    - y = (level + trend) * seasonal\n",
    "\n",
    "Let's see how it works & how it affects the following equations."
   ]
  },
  {
   "cell_type": "markdown",
   "id": "08149de9-bd33-4239-b37b-015d9d0f55e8",
   "metadata": {},
   "source": [
    "##### "
   ]
  },
  {
   "cell_type": "markdown",
   "id": "64ecf443-536a-4ddb-8cb9-b89011c949f2",
   "metadata": {},
   "source": [
    "### ➕ Additive Method"
   ]
  },
  {
   "cell_type": "markdown",
   "id": "46943a68-85cd-414b-81bf-5ae36346baba",
   "metadata": {},
   "source": [
    "#### 1️⃣ Forecast Equation\n",
    "# $$\\hat y_{t + h | t} = l_t + (b_t \\times h) + s_{t + h - mk} $$\n",
    "\n",
    "- Bro! The most of the equation is just the ***same*** as we have seen in the Holt's model!\n",
    "- And the remaining is to be understood only! What an ease!\n",
    "- Now, things are gonna get a **level forward**. Here, you will have to *look back in time for frequany `m` and for the latest time `k`.*\n",
    "\n",
    "I know, I know things are looking foreign to you, but we will understand that a bit better*ly*. And for that we have a dedicated section for our $s_{t + h - mk}$ only. Let's ***de-mystify*** the seasonal term! We are coming winter! 😈"
   ]
  },
  {
   "cell_type": "markdown",
   "id": "6b4dcae8-46b7-46e4-a34f-0e03560e567c",
   "metadata": {},
   "source": [
    "# $$ s_{t + h - mk} $$"
   ]
  },
  {
   "cell_type": "markdown",
   "id": "20446050-1671-4a6b-ac6f-e5ed955644df",
   "metadata": {},
   "source": [
    "- $t:$ It is the last known time of the real observation (hence we add $h$ to it to show the future time).\n",
    "\n",
    "- $h:$ It is the steps to look forward in the future.\n",
    "\n",
    "\n",
    "- $m:$ Defines the **period** of the seasonal component (you can say a cycle - frequency) which is: *a length of time for the signal to repeat itself*.\n",
    "    - Thus, if we are looking at the sales data **each month** then the period will be... month? Nah! A year!\n",
    "    - It is because the analysis goes on for a year (the overall) but they are based on the months.\n",
    "    - Similarly, if I am looking at my BP data **each second** then the period will be... second? Come on! A day! Or Month!\n",
    "    - See, the **pattern** or the season can only be seen when you **zoom out** in the time frame. So, it should be intuative.\n",
    "\n",
    "\n",
    "- $k:$ It is a **number chosen** so that we can ***appropriately*** look back in the training data. To consider the **last** data to be considered.\n",
    "    - I want to consider the last year's data for each month so... suppose today is **June - 22** and so for that I want my model to take the data from **June - 21** and hence I will take `k` as `1`.\n",
    "    - But if I want the data 2 years back ie. consider **June - 20** so for that I would take `k` as `2`.\n",
    "    - See that `k` is **multiplied** with the period term `m` which makes sense as we would get back `k` times on the units of defined as `m`.\n",
    "    - If `m=12` & `k=1` → Go back 12 months (1 year back)\n",
    "    - If `m=12` & `k=2` → Go back 24 months (2 years back)\n",
    "    - If `m=24` & `k=3` → Go back 72 hours (3 days back)\n",
    "    - **Obviously** the model doesn't know whether there are days, or hours ***it will just go back `mk` units back*** which could be months, days, hours etc.\n",
    "    \n",
    "    \n",
    "- That's not it, mathameticians have given the ***formulae*** to get the value for `k`. Which is: $k = floor(\\frac{h - 1}{m} + 1)$\n",
    "    \n",
    "> **NOTE**: That only the *level* and *trend* components are from the last known component and the *seasonal* component comes from the last period."
   ]
  },
  {
   "cell_type": "markdown",
   "id": "02212ac1-b4eb-48a5-bf94-a826d98690dd",
   "metadata": {},
   "source": [
    "Huff... Amazing Amzing... Please read back **again** if you didn't get it. It is really easy.<br> Once again from my another book: માત્ર આ વાંચ, હાઉ દૂર થઇ જશે. Guerenteed 😉"
   ]
  },
  {
   "cell_type": "code",
   "execution_count": null,
   "id": "1aba3e17-d40c-45c8-97b1-e7d0d0ec6b1a",
   "metadata": {},
   "outputs": [],
   "source": []
  },
  {
   "cell_type": "markdown",
   "id": "f32dedfc-e205-4fcd-b6b5-6e85fdc216ab",
   "metadata": {},
   "source": [
    "### BAKI CHHE"
   ]
  },
  {
   "cell_type": "code",
   "execution_count": null,
   "id": "75a442e0-830d-4895-b32c-bbae21a392aa",
   "metadata": {},
   "outputs": [],
   "source": []
  },
  {
   "cell_type": "markdown",
   "id": "95147226-f9ba-47fa-ab78-da4d2b4cb45e",
   "metadata": {},
   "source": [
    "#### 2️⃣ Level Equation\n",
    "# $$l_t = \\alpha y_t + (1 - \\alpha)(l_{t - 1} + b_{t - 1})$$\n",
    "\n",
    "- Just try to compare it with the previous SES version of the equation: $l_t = \\alpha y_t + (1 - \\alpha)l_{t - 1}$\n",
    "- The thing is the same, the *later part* on the right side shows the smoothed version of the previous value, but **since** we are using more than 1 component in the model (which is a trend as well), we would now have to add that.\n",
    "- And **note that** the $(l_{t - 1} + b_{t - 1})$ ***is actually*** $(l_{t - 1} + (b_{t - 1} \\times 1))$ or say `h = 1` one point ahead in time — and since 1 has no meaning, we will remove it."
   ]
  },
  {
   "cell_type": "markdown",
   "id": "75ebcda0-2604-445c-ae01-8fd61a6fb752",
   "metadata": {},
   "source": [
    "#### 3️⃣ Trend Equation\n",
    "# $$b_t = \\beta(l_t - l_{t - 1}) + (1 - \\beta)b_{t - 1}$$\n",
    "\n",
    "- We are **still using** the same form of the equation but with *slight* modification according to the model.\n",
    "- The story of $(l_t - l_{t - 1})$\n",
    "    - We find the slope generally with $\\frac{l_t - l_{t - 1}}{1}$\n",
    "    - $l_t:$ the value of current time\n",
    "    - $l_{t - 1}:$ the value of previous time\n",
    "    - Where the `1` in the denomenator represents the time frame — period\n",
    "    - Just learning the slope in the gap of 1 day, 1 month... it is 1.\n",
    "    - So that can be removed from the equation.\n",
    "- We are taking the slope of single-single data into account to build the general trend."
   ]
  },
  {
   "cell_type": "code",
   "execution_count": null,
   "id": "e0336a1f-14e7-4f2a-82b7-7de7d923233e",
   "metadata": {},
   "outputs": [],
   "source": []
  },
  {
   "cell_type": "markdown",
   "id": "0c27265d-736b-457e-bd86-a23501d22297",
   "metadata": {},
   "source": [
    "<img src=\"../images/additive_multiplicative.png\" width=500 height=300>"
   ]
  }
 ],
 "metadata": {
  "kernelspec": {
   "display_name": "Python 3 (ipykernel)",
   "language": "python",
   "name": "python3"
  },
  "language_info": {
   "codemirror_mode": {
    "name": "ipython",
    "version": 3
   },
   "file_extension": ".py",
   "mimetype": "text/x-python",
   "name": "python",
   "nbconvert_exporter": "python",
   "pygments_lexer": "ipython3",
   "version": "3.9.7"
  }
 },
 "nbformat": 4,
 "nbformat_minor": 5
}
