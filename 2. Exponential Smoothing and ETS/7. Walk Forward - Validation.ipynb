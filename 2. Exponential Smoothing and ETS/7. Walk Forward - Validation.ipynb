{
 "cells": [
  {
   "cell_type": "markdown",
   "id": "4f820783-04b4-49c9-bbc6-ab937456b613",
   "metadata": {},
   "source": [
    "# 🚶‍♂️ The Validation, by walking in the forward"
   ]
  },
  {
   "cell_type": "markdown",
   "id": "9716547f-2cae-4727-a87d-93e3529b2a27",
   "metadata": {},
   "source": [
    "The \"*walk forward - validation*\" is the *technique* that will let us fit the model **which has generalized** the overall pattern in the data and is not *overfitted*.\n",
    "\n",
    "> But... we do have train-test-split right?"
   ]
  },
  {
   "cell_type": "markdown",
   "id": "c0f28d51-ac68-441e-b49f-e59b639c6101",
   "metadata": {},
   "source": [
    "## The problems\n",
    "\n",
    "## 1️⃣\n",
    "Till now, I have used the old school `ttsplit` technique to do the work... but that **again** *(\"again\" because that same problem rises in the common ML scenario)* creates problems because we are only partitionling the data in `2` parts and while testing, with the test data, we *tune the model* by ourselves — and hence the testing data becomes the \"in-sample\" data ie. the model might not have been generalized yet — only optimized for the training and testing data.\n",
    "\n",
    "## 2️⃣\n",
    "The solution was **to use the Cross-Validation**. The shiny, glittering, jargon, used by professors and paper readers term: \"Cross. Vali. Dation.\"\n",
    "\n",
    "Yeah, I mean literally this technique is like, when I read this... I've got it! But when it comes in different context... *I might wanna re-check it once*. Coming back to the problems: Can we use the Cross validation in the time series setting?\n",
    "\n",
    "> Of course... not!\n",
    "\n",
    "**Why?** <br>\n",
    "The reason is — the CV split *\"kind of randomized data\"*. While the time-series being a sequential data, ***we can't actually let it randomize it***. Consider this → 1, 2, 3, 4, 5 are the months in 2022. For 1st CV it will use 2, 3, 4, 5 as training and 1 for valucation. Fine, but then it will use 1, 3, 4, 5 and 2 for validation. There is a gap man!\n",
    "\n",
    "And also, the data points inside can be randomized as well!\n",
    "\n",
    "<img src=\"../images/no-nooo.gif\" hight=300 width=200>"
   ]
  },
  {
   "cell_type": "markdown",
   "id": "950217cd-bf8e-4178-b191-32bb74c21b9f",
   "metadata": {},
   "source": [
    "Okay got it... but what is the freakin' solution? How can I save my model not to **mug up** the data?"
   ]
  },
  {
   "cell_type": "markdown",
   "id": "46e876cb-b48f-4052-896c-aafa7a8fcab8",
   "metadata": {},
   "source": [
    "### "
   ]
  },
  {
   "cell_type": "markdown",
   "id": "182d5b43-35eb-4d4b-9fe2-604d07e3c11a",
   "metadata": {},
   "source": [
    "## 📝 The WalkForward Validation\n",
    "*Notice, there is no \"CROSS\"*."
   ]
  },
  {
   "cell_type": "markdown",
   "id": "659d4cd7-30e0-4d2e-b6dd-de94bc6feb2a",
   "metadata": {},
   "source": [
    "<img src=\"../images/walk-forward-validation.png\" height=300 width=500>"
   ]
  },
  {
   "cell_type": "markdown",
   "id": "2f30d515-1896-42b4-b1f3-b0ec8571994e",
   "metadata": {},
   "source": [
    "- We will start with *some minimum* amount of data.\n",
    "- Then we will forecast the `h` points.\n",
    "- That means: we will only take `h` sized validation set.\n",
    "- Then we will move some `offest` step ahead and repeat the same *(offset say, 1)*.\n",
    "- This will continue **till we reach to end** of the data.\n",
    "\n",
    "\n",
    "    `data`: 1, 2, 3, 4, 5, 6, 7, 8, 9, 10, 11\n",
    "    `h`: 3\n",
    "    \n",
    "    Step 1 — `train-set`: 1 | `validation-set`: 2, 3, 4\n",
    "    Step 1.1 — Train → forecast `h` and validate \n",
    "    Step 2 — `train-set`: 1, 2 | `validation-set`: 3, 4, 5\n",
    "    .\n",
    "    .\n",
    "    .\n",
    "    Step n - hth: — `train-set`: 1, 2, 3, 4, 5, 6, 7, 8 | `validation-set`: 9, 10, 11\n",
    "    (here 8th)\n",
    "\n",
    "😊 માજા આવી?"
   ]
  },
  {
   "cell_type": "markdown",
   "id": "6d9b3f48-72d7-4ad8-843f-4d58135e4eb5",
   "metadata": {},
   "source": [
    "###### "
   ]
  },
  {
   "cell_type": "markdown",
   "id": "d19a4426-9214-492b-8154-18d64ab637b9",
   "metadata": {},
   "source": [
    "### And ausaau <a href=\"https://dictionary.cambridge.org/media/english/uk_pron/u/uka/ukall/ukally_030.mp3\"> 🔊 </a>\n",
    "We can choose whether or not to take \"full data\" or not. Meaning, if in our case the data relies more on the recent past data, and we also want the *recent* data to be in the training... ***and instead of growing*** the data continuously by some `offset` term... we can keep the **datasize *constant***.\n",
    "\n",
    "*(you might want to click on the speaker)*"
   ]
  },
  {
   "cell_type": "markdown",
   "id": "6ea5dbae-efc3-45cc-873b-4850eb1a7285",
   "metadata": {},
   "source": [
    "<img src=\"../images/fix-window.png\" height=300 width=500>"
   ]
  },
  {
   "cell_type": "markdown",
   "id": "9b35d8b5-46e4-4922-992b-f6744623c6bc",
   "metadata": {},
   "source": [
    "### It is ausaau <a href=\"https://dictionary.cambridge.org/media/english/uk_pron/u/uka/ukall/ukally_030.mp3\"> 🔊 </a> possible to walk `h` steps\n",
    "Meaning, the \"bigger\" jumps!\n",
    "\n",
    "<img src=\"../images/h-steps.png\" height=300 width=500>\n",
    "\n",
    "- This *might* require you to manually calculate the `offset` size which **evenly** divides the data"
   ]
  },
  {
   "cell_type": "markdown",
   "id": "726e42f0-264a-4cfc-af7e-b94075685dfc",
   "metadata": {},
   "source": [
    "# "
   ]
  },
  {
   "cell_type": "markdown",
   "id": "185919b9-1e8b-4145-a22c-cc92816d3ce6",
   "metadata": {},
   "source": [
    "# 💺 Tighten Your Seats\n",
    "We are going to code it!"
   ]
  },
  {
   "cell_type": "code",
   "execution_count": 1,
   "id": "68e34146-9a02-45a0-bdc5-113c53b674cf",
   "metadata": {},
   "outputs": [],
   "source": [
    "import numpy as np\n",
    "import pandas as pd\n",
    "import matplotlib.pyplot as plt\n",
    "plt.rcParams['figure.figsize'] = (20, 10)\n",
    "\n",
    "from statsmodels.tsa.holtwinters import ExponentialSmoothing\n",
    "from sklearn.metrics import mean_absolute_error, mean_absolute_percentage_error"
   ]
  },
  {
   "cell_type": "code",
   "execution_count": 2,
   "id": "2bf6614f-75a9-4ea3-b9c1-a76afdd9818c",
   "metadata": {},
   "outputs": [],
   "source": [
    "df = pd.read_csv(\"../data/airline_passengers.csv\",\n",
    "                 index_col=0,\n",
    "                 parse_dates=True)\n",
    "\n",
    "df.index.freq = \"MS\""
   ]
  },
  {
   "cell_type": "code",
   "execution_count": 3,
   "id": "e1d70ce1-812d-4b2f-91f7-5c6f157b7833",
   "metadata": {},
   "outputs": [
    {
     "data": {
      "text/html": [
       "<div>\n",
       "<style scoped>\n",
       "    .dataframe tbody tr th:only-of-type {\n",
       "        vertical-align: middle;\n",
       "    }\n",
       "\n",
       "    .dataframe tbody tr th {\n",
       "        vertical-align: top;\n",
       "    }\n",
       "\n",
       "    .dataframe thead th {\n",
       "        text-align: right;\n",
       "    }\n",
       "</style>\n",
       "<table border=\"1\" class=\"dataframe\">\n",
       "  <thead>\n",
       "    <tr style=\"text-align: right;\">\n",
       "      <th></th>\n",
       "      <th>Passengers</th>\n",
       "    </tr>\n",
       "    <tr>\n",
       "      <th>Month</th>\n",
       "      <th></th>\n",
       "    </tr>\n",
       "  </thead>\n",
       "  <tbody>\n",
       "    <tr>\n",
       "      <th>1949-01-01</th>\n",
       "      <td>112</td>\n",
       "    </tr>\n",
       "    <tr>\n",
       "      <th>1949-02-01</th>\n",
       "      <td>118</td>\n",
       "    </tr>\n",
       "    <tr>\n",
       "      <th>1949-03-01</th>\n",
       "      <td>132</td>\n",
       "    </tr>\n",
       "    <tr>\n",
       "      <th>1949-04-01</th>\n",
       "      <td>129</td>\n",
       "    </tr>\n",
       "    <tr>\n",
       "      <th>1949-05-01</th>\n",
       "      <td>121</td>\n",
       "    </tr>\n",
       "  </tbody>\n",
       "</table>\n",
       "</div>"
      ],
      "text/plain": [
       "            Passengers\n",
       "Month                 \n",
       "1949-01-01         112\n",
       "1949-02-01         118\n",
       "1949-03-01         132\n",
       "1949-04-01         129\n",
       "1949-05-01         121"
      ]
     },
     "execution_count": 3,
     "metadata": {},
     "output_type": "execute_result"
    }
   ],
   "source": [
    "df.head()"
   ]
  },
  {
   "cell_type": "markdown",
   "id": "a53990c8-a836-41d9-94db-48bbe2ddecc6",
   "metadata": {},
   "source": [
    "## 🔎 An Overview\n",
    "See, that this is *a kind of* cross validation technique. So, here instead of ***learning*** a new model technique... we will simply use the latest learned model *(Holt Winter's)* and use the **WalkForward** to **hypertune** the good parameters.\n",
    "\n",
    "The parameters will be chosen on the basis of: \"whichever giving the smallest error\". Thus, there will be an error function.\n",
    "\n",
    "**Overview** is:\n",
    "1. We will see how to \"**walk**\" — how to partition the data.\n",
    "2. Create a **function** which will help us **to walk** through data — with validation chunks.\n",
    "3. Create **another function** which will **call the previous** function to test all combinations of the input *(Grid search)*."
   ]
  },
  {
   "cell_type": "code",
   "execution_count": 4,
   "id": "a435ccbf-a1fe-4c84-8005-89d39472ce1e",
   "metadata": {},
   "outputs": [
    {
     "data": {
      "text/plain": [
       "144"
      ]
     },
     "execution_count": 4,
     "metadata": {},
     "output_type": "execute_result"
    }
   ],
   "source": [
    "# Total indices\n",
    "len(df.index)"
   ]
  },
  {
   "cell_type": "markdown",
   "id": "7054e6f2-349d-4a14-a6c7-1c4c8e3fb823",
   "metadata": {},
   "source": [
    "- Means we can set the horision `h` as 12. That means: **we will be able to forecast 12 points in the future and validate at the same time**. \n",
    "- Then we will set the `offset` to 1. Which is common."
   ]
  },
  {
   "cell_type": "markdown",
   "id": "c0a2da80-1964-4fbf-8f1f-c671033a7a69",
   "metadata": {},
   "source": [
    "Keep this image in mind ↓ <br>\n",
    "<img src=\"../images/walk-forward-validation.png\" height=300 width=500>"
   ]
  },
  {
   "cell_type": "markdown",
   "id": "3fe6a7ae-ab5d-489b-8d87-34047c39a4f6",
   "metadata": {},
   "source": [
    "Just a handy calculation... \n",
    "\n",
    "1. `144` data points are **there in total**.\n",
    "2. Initially we will take `100` points, keeping `12` points **for validation**.\n",
    "    - Hence, in first iteration we will be using `112` data-points only *(leaving `32` for later use)* .\n",
    "3. Then, with `100` points, we will **train** and with `12` points we will **validate**.\n",
    "4. **Store the error** in the list.\n",
    "5. **Update** the training size: to `101` and hence we will be using `113` data-points now.*(leaving `31` for later use)*  .\n",
    "6. We will **repeat** steps 3, 4, 5 until no data-points are remaining in the data.\n",
    "7. This process will take exactly 33 steps *(loops to complete)* or ***33 folds*** (because the 1st fold will be counted).\n",
    "\n",
    "Let's verify them."
   ]
  },
  {
   "cell_type": "code",
   "execution_count": 5,
   "id": "31a5d548-7ba9-458f-a47e-65b83f08bac2",
   "metadata": {},
   "outputs": [],
   "source": [
    "# Just the simple parameters for our validation\n",
    "h = 12\n",
    "offset = 1"
   ]
  },
  {
   "cell_type": "code",
   "execution_count": 6,
   "id": "bfecd860-e6c2-4f73-9cf0-2c761b73b59a",
   "metadata": {},
   "outputs": [
    {
     "data": {
      "image/png": "[encoded data removed]",
      "text/plain": [
       "<Figure size 1440x720 with 1 Axes>"
      ]
     },
     "metadata": {
      "needs_background": "light"
     },
     "output_type": "display_data"
    }
   ],
   "source": [
    "axes = plt.axes()\n",
    "\n",
    "for th, idx in enumerate(range(100, len(df) + 1 - h, offset)):\n",
    "    axes.plot([0, idx], [th, th], color=\"blue\", label=\"Training\")\n",
    "    axes.plot([idx, idx + h], [th, th], color=\"red\", label=\"Validation\")\n",
    "\n",
    "    \n",
    "axes.invert_yaxis()\n",
    "axes.set_xticks(range(0, 145, 12))\n",
    "axes.set_title(\"The data slicing visualization\")\n",
    "axes.set_xlabel(\"← Data length →\", labelpad=15)\n",
    "axes.set_ylabel(\"← Iteration →\", labelpad=15);"
   ]
  },
  {
   "cell_type": "code",
   "execution_count": 7,
   "id": "7333da4c-aebf-4489-9d63-4e1412b14c76",
   "metadata": {},
   "outputs": [
    {
     "name": "stdout",
     "output_type": "stream",
     "text": [
      "Total iterations were:  33\n"
     ]
    }
   ],
   "source": [
    "print(\"Total iterations were: \", th + 1)"
   ]
  },
  {
   "cell_type": "markdown",
   "id": "7832ee69-9614-489e-adfe-67e101a6164d",
   "metadata": {},
   "source": [
    "**Note:** That the *blue* represents the training data, and *red* represents the validation data."
   ]
  },
  {
   "cell_type": "markdown",
   "id": "03b81b1c-2ef0-44ca-b65f-640affeabebf",
   "metadata": {},
   "source": [
    "The line: `len(df) + 1 - h, offset` should not confuse you.\n",
    "- `len(df)` lets us set *till when*.\n",
    "- `+1` lets us use the last point as well *(because if 0 index based programming!)*.\n",
    "- `h` lets use set the we should only go 144 - 12. Otherwise we would empty whole dataset *(even taking the last 12 point and leavning with nothing in last 12 runs for validation)*"
   ]
  },
  {
   "cell_type": "markdown",
   "id": "9eaca101-b7d4-4884-a9b3-76512e60fc64",
   "metadata": {},
   "source": [
    "###### "
   ]
  },
  {
   "cell_type": "markdown",
   "id": "53120c3c-fa00-41f9-914b-f90ac823c268",
   "metadata": {},
   "source": [
    "### ⚒ Making a function to do stuff"
   ]
  },
  {
   "cell_type": "code",
   "execution_count": 8,
   "id": "ee3a5962-260e-4052-877d-41624bcae46f",
   "metadata": {},
   "outputs": [],
   "source": [
    "df = df.Passengers"
   ]
  },
  {
   "cell_type": "code",
   "execution_count": 9,
   "id": "1ba9180d-88b7-40d1-83f7-dd486599497b",
   "metadata": {},
   "outputs": [],
   "source": [
    "def walkforward(\n",
    "    trend_type,\n",
    "    season_type,\n",
    "    init_method,\n",
    "    use_boxcox,\n",
    "    debug=False):\n",
    "    \n",
    "    \"\"\"\n",
    "    This function should be called either individually or from the \n",
    "    grid search (the manual one).\n",
    "    \n",
    "    What is does is, it will fit and validate the model sotring the \n",
    "    errors of each fold in the errors list.\n",
    "    \n",
    "    Returns the mean of errors.\n",
    "    \"\"\"\n",
    "    errors = []\n",
    "    for th, idx in enumerate(range(100, len(df) + 1 - h, offset)):\n",
    "        # Two simple parts\n",
    "        train = df.iloc[:idx]\n",
    "        test = df.iloc[idx:idx+h]\n",
    "        \n",
    "        # The model initialization of the parameters \n",
    "        model = ExponentialSmoothing(train, \n",
    "                                    trend=trend_type,\n",
    "                                    seasonal=season_type,\n",
    "                                    initialization_method=init_method,\n",
    "                                    use_boxcox=use_boxcox,\n",
    "                                    seasonal_periods=12)\n",
    "        # Learning\n",
    "        result = model.fit()\n",
    "        \n",
    "        # Getting the forecast results\n",
    "        forecast = result.forecast(h)\n",
    "        \n",
    "        # Storing the error\n",
    "        error = mean_absolute_percentage_error(test, forecast)\n",
    "        errors.append(error)\n",
    "        \n",
    "    if debug:\n",
    "        print(\"Total\", th + 1, \"steps!\")\n",
    "            \n",
    "    return np.mean(errors) * 100"
   ]
  },
  {
   "cell_type": "code",
   "execution_count": 10,
   "id": "6fbc4b19-1c6e-4406-bddd-2f5823f2eff6",
   "metadata": {},
   "outputs": [
    {
     "name": "stdout",
     "output_type": "stream",
     "text": [
      "Total 33 steps!\n"
     ]
    },
    {
     "data": {
      "text/plain": [
       "5.220419866050618"
      ]
     },
     "execution_count": 10,
     "metadata": {},
     "output_type": "execute_result"
    }
   ],
   "source": [
    "walkforward(\"add\", \"mul\", \"estimated\", True, True)"
   ]
  },
  {
   "cell_type": "markdown",
   "id": "4ec9ffae-c064-4638-8265-36cc0a677d31",
   "metadata": {},
   "source": [
    "So, whith *those* parameters we are getting the `5.22%` error on an everage. Which can be said as a good as of now.\n",
    "\n",
    "Let's try implementing the Grid Search!"
   ]
  },
  {
   "cell_type": "code",
   "execution_count": 11,
   "id": "177c750b-dfe1-4600-92aa-aac649699a51",
   "metadata": {},
   "outputs": [],
   "source": [
    "from itertools import product"
   ]
  },
  {
   "cell_type": "code",
   "execution_count": 12,
   "id": "33b7408d-e448-413d-a87d-2adca60c1fdc",
   "metadata": {},
   "outputs": [],
   "source": [
    "some_list = \\\n",
    "[\n",
    "    [\"A\", \"Y\"],\n",
    "    [\"1\", \"2\"],\n",
    "    [\"^\", \"#\", \"$\"],\n",
    "]"
   ]
  },
  {
   "cell_type": "code",
   "execution_count": 13,
   "id": "5b6913f2-4b14-4ad8-92e7-e37a80f78634",
   "metadata": {},
   "outputs": [
    {
     "name": "stdout",
     "output_type": "stream",
     "text": [
      "('A', '1', '^')\n",
      "('A', '1', '#')\n",
      "('A', '1', '$')\n",
      "('A', '2', '^')\n",
      "('A', '2', '#')\n",
      "('A', '2', '$')\n",
      "('Y', '1', '^')\n",
      "('Y', '1', '#')\n",
      "('Y', '1', '$')\n",
      "('Y', '2', '^')\n",
      "('Y', '2', '#')\n",
      "('Y', '2', '$')\n"
     ]
    }
   ],
   "source": [
    "for i in product(*some_list):\n",
    "    print(i)"
   ]
  },
  {
   "cell_type": "markdown",
   "id": "92f718a8-9a21-4083-a7bb-0eb038ca0ad8",
   "metadata": {},
   "source": [
    "Thus, see that we are able to get all combinations *(not permutations!)* of the items provided. Just that will be used as our logic!"
   ]
  },
  {
   "cell_type": "code",
   "execution_count": 14,
   "id": "1f74eb35-2377-442d-acef-cf49ca68afe4",
   "metadata": {},
   "outputs": [],
   "source": [
    "list_of_parameters = \\\n",
    "[\n",
    "    [\"add\", \"mul\"],\n",
    "    [\"add\", \"mul\"],\n",
    "    [\"estimated\", \"heuristic\", \"legacy-heuristic\"],\n",
    "    [True, False]\n",
    "]"
   ]
  },
  {
   "cell_type": "code",
   "execution_count": 15,
   "id": "1e1bfcea-8d44-495c-b42a-c42292f24cc7",
   "metadata": {},
   "outputs": [
    {
     "data": {
      "text/plain": [
       "24"
      ]
     },
     "execution_count": 15,
     "metadata": {},
     "output_type": "execute_result"
    }
   ],
   "source": [
    "# Total possible combinations\n",
    "2 * 2 * 3 * 2"
   ]
  },
  {
   "cell_type": "code",
   "execution_count": 16,
   "id": "75d6a679-deb3-4255-884e-5af6122e838e",
   "metadata": {},
   "outputs": [],
   "source": [
    "def gridSearch(list_of_parameters):\n",
    "    best_score = float('inf') # NEW!\n",
    "    best_hyperparams = None\n",
    "    \n",
    "    for th, parameters in enumerate(product(*list_of_parameters)):\n",
    "        print(th + 1, \"/24\", sep=\"\")\n",
    "        score = walkforward(*parameters)\n",
    "        \n",
    "        if score < best_score:\n",
    "            best_score = score\n",
    "            best_hyperparams = parameters\n",
    "            \n",
    "    return best_score, best_hyperparams"
   ]
  },
  {
   "cell_type": "code",
   "execution_count": 141,
   "id": "5c6f1faf-7aa1-4765-a5ac-b8acabc77a4f",
   "metadata": {},
   "outputs": [
    {
     "name": "stdout",
     "output_type": "stream",
     "text": [
      "1/24\n",
      "2/24\n",
      "3/24\n",
      "4/24\n",
      "5/24\n",
      "6/24\n",
      "7/24\n",
      "8/24\n",
      "9/24\n",
      "10/24\n",
      "11/24\n",
      "12/24\n",
      "13/24\n",
      "14/24\n",
      "15/24\n",
      "16/24\n",
      "17/24\n",
      "18/24\n",
      "19/24\n",
      "20/24\n",
      "21/24\n",
      "22/24\n",
      "23/24\n",
      "24/24\n"
     ]
    },
    {
     "data": {
      "text/plain": [
       "(4.232775520177539, ('add', 'mul', 'legacy-heuristic', False))"
      ]
     },
     "execution_count": 141,
     "metadata": {},
     "output_type": "execute_result"
    }
   ],
   "source": [
    "gridSearch(list_of_parameters)"
   ]
  },
  {
   "cell_type": "markdown",
   "id": "bce8c8d0-eb5c-4c23-8935-8ecc42504c1a",
   "metadata": {},
   "source": [
    "Total: `24 * 33 = 792` fits!"
   ]
  },
  {
   "cell_type": "markdown",
   "id": "2af54fdb-d8ec-486b-ac6d-35744de6de9b",
   "metadata": {},
   "source": [
    "### Bro!!\n",
    "We have done it! The grid search is done!"
   ]
  },
  {
   "cell_type": "markdown",
   "id": "59495dfd-85ab-4c69-9cb9-11f0b2f45db7",
   "metadata": {},
   "source": [
    "# How was it?\n",
    "Next up, we will **practice** on another dataset! See you there!"
   ]
  }
 ],
 "metadata": {
  "kernelspec": {
   "display_name": "Python 3 (ipykernel)",
   "language": "python",
   "name": "python3"
  },
  "language_info": {
   "codemirror_mode": {
    "name": "ipython",
    "version": 3
   },
   "file_extension": ".py",
   "mimetype": "text/x-python",
   "name": "python",
   "nbconvert_exporter": "python",
   "pygments_lexer": "ipython3",
   "version": "3.9.12"
  }
 },
 "nbformat": 4,
 "nbformat_minor": 5
}
