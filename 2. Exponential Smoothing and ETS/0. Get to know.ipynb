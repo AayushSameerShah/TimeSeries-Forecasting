{
 "cells": [
  {
   "cell_type": "markdown",
   "id": "484adb3a-6a38-45e4-a542-83b99b4d33e7",
   "metadata": {},
   "source": [
    "# 🥱 Finally at Non-Naive Forecating!"
   ]
  },
  {
   "cell_type": "markdown",
   "id": "3319dc9b-e993-4f0a-8e44-951258e607ff",
   "metadata": {},
   "source": [
    "As said, we will now take the first step in the direction of ***real*** forecasting. The heart of this **Exponential Smoothing** is the **Moving Average** — which simply is the *sliding* window taking the averages."
   ]
  },
  {
   "cell_type": "markdown",
   "id": "fd04a457-1d51-4ddc-9a12-32d6f8089472",
   "metadata": {},
   "source": [
    "### ETS: ExponenTial Smoothing"
   ]
  },
  {
   "cell_type": "markdown",
   "id": "b94408f1-6ea6-4386-b8de-ea0472aa23d5",
   "metadata": {},
   "source": [
    "- **Simple** moving average *(SMA)*\n",
    "\n",
    "<img src=\"../images/ETS.png\" height=300 width=500>\n",
    "\n",
    "- Exponentially **weighted** moving average *(EWMA)* : 😄 (EW) & (MA)\n",
    "\n",
    "<img src=\"../images/EWMA.png\" height=300 width=500>"
   ]
  },
  {
   "cell_type": "markdown",
   "id": "7c331eda-8aa9-446d-a87f-605faea87e96",
   "metadata": {},
   "source": [
    "1. SMA: Each point is **equally** weighted. Each point matters **the same amount**.\n",
    "2. EWMA: Each point is **not equally** weighted. Weights each point **exponentially**.\n",
    "    - Newer point matter more than older point.\n",
    "    - **Good when** the time-series is *dynamic* and chaning over time."
   ]
  },
  {
   "cell_type": "markdown",
   "id": "450a7cc1-d9bb-44a2-814c-dd6c67af05fa",
   "metadata": {},
   "source": [
    "#### "
   ]
  },
  {
   "cell_type": "markdown",
   "id": "4ed271b2-b763-4f1d-ac6e-1e01aa19cb9b",
   "metadata": {},
   "source": [
    "## 💻 Which models to be learnt?\n",
    "\n",
    "1. **Simple Exponential Smoothing** (SES)\n",
    "    - Non Trending, Non Seasonal (Simplest 😉)\n",
    "2. **Holt Model**\n",
    "    - Trending, Non Seasonal (Average 🙂)    \n",
    "3. **Holt Winters**\n",
    "    - Trending, Seasonal (Amazing 🤗)"
   ]
  },
  {
   "cell_type": "markdown",
   "id": "d2a3f003-039b-4b4e-82da-d7fadc59e53f",
   "metadata": {},
   "source": [
    "|                  | **Seasonal** | **Non-Seasonal**     |\n",
    "|------------------|--------------|----------------------|\n",
    "| **Trending**     | Holt Winters |      Holt Model      |\n",
    "| **Non-Trending** |       —      | Simple Exp Smoothing |"
   ]
  },
  {
   "cell_type": "markdown",
   "id": "3ca0dbe3-370a-4784-ac29-6ba6fffb1b81",
   "metadata": {},
   "source": [
    "# "
   ]
  },
  {
   "cell_type": "markdown",
   "id": "9672fdac-8929-4771-a7f5-32aa7731dfee",
   "metadata": {},
   "source": [
    "# Great stuff ahead\n",
    "We will see you in the next book where we will understand the ETS."
   ]
  }
 ],
 "metadata": {
  "kernelspec": {
   "display_name": "Python 3 (ipykernel)",
   "language": "python",
   "name": "python3"
  },
  "language_info": {
   "codemirror_mode": {
    "name": "ipython",
    "version": 3
   },
   "file_extension": ".py",
   "mimetype": "text/x-python",
   "name": "python",
   "nbconvert_exporter": "python",
   "pygments_lexer": "ipython3",
   "version": "3.9.7"
  }
 },
 "nbformat": 4,
 "nbformat_minor": 5
}
