{
 "cells": [
  {
   "cell_type": "markdown",
   "id": "92416dcb-9e5e-4eda-b046-1a98de091952",
   "metadata": {},
   "source": [
    "# 🦾  Treat it as a project.\n",
    "Yeah. I saw an introduction and this dataset looks amazing. This time, we are going to be dealing with a **new** dataset if the **human** activity."
   ]
  },
  {
   "cell_type": "markdown",
   "id": "618370ca-a08e-4ea0-9caf-91f0df143f54",
   "metadata": {},
   "source": [
    "This will be a new kind of problem that we will be trying to solve. Here, the dataset includes the \"measurements\" taken from the smart watch ⌚ from multiple people throughout the day.\n",
    "\n",
    "> The goal is to classify **whether** a person is *sitting*, *dancing*, *sleeping* or whatever! Or just bathing in his bathtub. There will be 6 classes to classify. Hence, it is a **multiclass-classification** problem. But, with the time-series.\n"
   ]
  },
  {
   "cell_type": "markdown",
   "id": "6429e5e4-1dfa-4859-a393-90f635d045e6",
   "metadata": {},
   "source": [
    "There are `2` sensors are used for this dataset: \n",
    "1. Gyroscope\n",
    "2. Accelerometer"
   ]
  },
  {
   "cell_type": "markdown",
   "id": "f7422b6d-37fb-4429-9017-b3c2bf9d5363",
   "metadata": {},
   "source": [
    "Each of them returns `3` separate channels because we are living in the 3D space."
   ]
  },
  {
   "cell_type": "markdown",
   "id": "d3a6f13c-05f7-4e98-b8db-fdf1adbd4bc1",
   "metadata": {},
   "source": [
    "___\n",
    "Dataset metadata:\n",
    "- There are 2 sensors,.\n",
    "- Each will return 3 channels.\n",
    "- Hence, we will be having `3` + `3` = **`6`** features.\n",
    "- Their names are ***\"acceleration\"*** & ***\"angular velocity\"*** returned by accelerometer and gyroscope respectively.\n",
    "- BUTT: There are **2** types of acceleration:\n",
    "    1. Total acceleration\n",
    "    2. Body acceleration = Total acceleration - gravity\n",
    "- Hence, we have `3` + `3` + `3` = **`9`** final features in the dataset."
   ]
  },
  {
   "cell_type": "markdown",
   "id": "d645904a-7ce9-4e78-aa4f-108009614d9f",
   "metadata": {},
   "source": [
    "About the time-series:\n",
    "\n",
    "- Each measurement was sampled at `50Hz` = 50 measurements/sec\n",
    "- Taken at the intervals of `2.56` seconds.\n",
    "- Thus, we have 50 * 2.56 = `128` measurements for each time-series.\n",
    "- Meaning, **the leanght** of time series corresponding to **each** activity is 128."
   ]
  },
  {
   "cell_type": "markdown",
   "id": "c1c08d3a-ca9a-4ef6-9501-8702548b6620",
   "metadata": {},
   "source": [
    "Some pre-processing is done already:\n",
    "\n",
    "- Noise removal\n",
    "- Low pass filtering (smoothing - EWMA *if you remember* 😉)\n",
    "- Scaling [-1, 1]\n",
    "\n",
    "Hence, the time-series is not in a raw version."
   ]
  },
  {
   "cell_type": "markdown",
   "id": "b7b01159-1582-4bb3-a882-4a46cc110bee",
   "metadata": {},
   "source": [
    "      +--------+\n",
    "      /        /|\n",
    "     /    T   / |\n",
    "    +--------+  |\n",
    "    |        | D|\n",
    "    |   N    |  +\n",
    "    |        | /\n",
    "    |        |/\n",
    "    +--------+"
   ]
  },
  {
   "cell_type": "markdown",
   "id": "082a42e2-bb80-4883-a7a6-3f81bd7d8a4a",
   "metadata": {},
   "source": [
    "Where:\n",
    "- N: Number of observations\n",
    "- T: Features\n",
    "- D: What makes the feature? (128 observations)\n",
    "\n",
    "Till now, this is the visualization of the data till now. And what about **Y**? It is the simple `1D` data encoded in {0, 1, 2, 3, 4, 5, 6}\n",
    "\n",
    "#### 🤔 Does this look... a bit strange?\n",
    "Yes, because till now... we have only worked with the **2D** data. Or just NxT data. Now are are dealing with **Multivariate** data.\n",
    "\n",
    "Before this, we had **Univariate** data, thus we were able to store them in the 2D table. Here still a 2D table will be there, but the data itself has to be treated *differently*."
   ]
  },
  {
   "cell_type": "markdown",
   "id": "a90e5b02-8936-4efc-8275-b1c77363b0d9",
   "metadata": {},
   "source": [
    "> Here is the [link](https://www.kaggle.com/datasets/uciml/human-activity-recognition-with-smartphones) to the dataset. Have a look if there is any confusion... or anything."
   ]
  },
  {
   "cell_type": "markdown",
   "id": "fda914f9-7084-4c20-a331-ebedc7b42948",
   "metadata": {
    "tags": []
   },
   "source": [
    "## 🛣 Side track\n",
    "\n",
    "**A multi-variate jargon** <br>\n",
    "So, till now we have seen the 2D data like...\n",
    "\n",
    "#### 👉 Before\n",
    "<img src=\"../images/univariate.jpg\" width=300 height=300>\n",
    "\n",
    "Where, <br>\n",
    "- **N** is the number of observations.\n",
    "- **T** is the number of features.\n",
    "\n",
    "Such a simple and beautiful thing. <br>\n",
    "____\n",
    "\n",
    "#### 👉 Now\n",
    "<img src=\"../images/multivariate.jpg\" width=300 height=300>\n",
    "\n",
    "Where, <br>\n",
    "- **D** is the number of different perspectives to observe the data."
   ]
  },
  {
   "cell_type": "markdown",
   "id": "bd791594-440e-4d54-80c0-97272aa9da57",
   "metadata": {},
   "source": [
    "### 🐼 But in pandas...\n",
    "We can show that like this."
   ]
  },
  {
   "cell_type": "code",
   "execution_count": 1,
   "id": "afc9e3bb-0cfb-4c85-a649-194be2a87580",
   "metadata": {},
   "outputs": [],
   "source": [
    "import pandas as pd\n",
    "import numpy as np"
   ]
  },
  {
   "cell_type": "code",
   "execution_count": 2,
   "id": "b40ffa71-1f96-483f-bfe0-70f08359df0b",
   "metadata": {},
   "outputs": [],
   "source": [
    "columns = pd.MultiIndex.from_product([[\"Machine 1\", \"Machine 2\", \"Machine 3\"], \n",
    "                                      [\"Height\", \"Weight\"]])"
   ]
  },
  {
   "cell_type": "code",
   "execution_count": 3,
   "id": "480c710f-73a5-41f7-91cd-25eed46f3045",
   "metadata": {},
   "outputs": [
    {
     "data": {
      "text/html": [
       "<div>\n",
       "<style scoped>\n",
       "    .dataframe tbody tr th:only-of-type {\n",
       "        vertical-align: middle;\n",
       "    }\n",
       "\n",
       "    .dataframe tbody tr th {\n",
       "        vertical-align: top;\n",
       "    }\n",
       "\n",
       "    .dataframe thead tr th {\n",
       "        text-align: left;\n",
       "    }\n",
       "\n",
       "    .dataframe thead tr:last-of-type th {\n",
       "        text-align: right;\n",
       "    }\n",
       "</style>\n",
       "<table border=\"1\" class=\"dataframe\">\n",
       "  <thead>\n",
       "    <tr>\n",
       "      <th>D →</th>\n",
       "      <th colspan=\"2\" halign=\"left\">Machine 1</th>\n",
       "      <th colspan=\"2\" halign=\"left\">Machine 2</th>\n",
       "      <th colspan=\"2\" halign=\"left\">Machine 3</th>\n",
       "      <th></th>\n",
       "    </tr>\n",
       "    <tr>\n",
       "      <th>T →</th>\n",
       "      <th>Height</th>\n",
       "      <th>Weight</th>\n",
       "      <th>Height</th>\n",
       "      <th>Weight</th>\n",
       "      <th>Height</th>\n",
       "      <th>Weight</th>\n",
       "      <th>Gender</th>\n",
       "    </tr>\n",
       "    <tr>\n",
       "      <th>N ↓</th>\n",
       "      <th></th>\n",
       "      <th></th>\n",
       "      <th></th>\n",
       "      <th></th>\n",
       "      <th></th>\n",
       "      <th></th>\n",
       "      <th></th>\n",
       "    </tr>\n",
       "  </thead>\n",
       "  <tbody>\n",
       "    <tr>\n",
       "      <th>0</th>\n",
       "      <td>-4</td>\n",
       "      <td>9</td>\n",
       "      <td>4</td>\n",
       "      <td>0</td>\n",
       "      <td>-3</td>\n",
       "      <td>-4</td>\n",
       "      <td>M</td>\n",
       "    </tr>\n",
       "    <tr>\n",
       "      <th>1</th>\n",
       "      <td>8</td>\n",
       "      <td>0</td>\n",
       "      <td>0</td>\n",
       "      <td>-7</td>\n",
       "      <td>-3</td>\n",
       "      <td>-8</td>\n",
       "      <td>M</td>\n",
       "    </tr>\n",
       "    <tr>\n",
       "      <th>2</th>\n",
       "      <td>-9</td>\n",
       "      <td>1</td>\n",
       "      <td>-5</td>\n",
       "      <td>-9</td>\n",
       "      <td>-10</td>\n",
       "      <td>1</td>\n",
       "      <td>M</td>\n",
       "    </tr>\n",
       "    <tr>\n",
       "      <th>3</th>\n",
       "      <td>1</td>\n",
       "      <td>6</td>\n",
       "      <td>-1</td>\n",
       "      <td>5</td>\n",
       "      <td>4</td>\n",
       "      <td>4</td>\n",
       "      <td>M</td>\n",
       "    </tr>\n",
       "    <tr>\n",
       "      <th>4</th>\n",
       "      <td>8</td>\n",
       "      <td>1</td>\n",
       "      <td>9</td>\n",
       "      <td>-8</td>\n",
       "      <td>-6</td>\n",
       "      <td>8</td>\n",
       "      <td>F</td>\n",
       "    </tr>\n",
       "  </tbody>\n",
       "</table>\n",
       "</div>"
      ],
      "text/plain": [
       "D → Machine 1        Machine 2        Machine 3              \n",
       "T →    Height Weight    Height Weight    Height Weight Gender\n",
       "N ↓                                                          \n",
       "0          -4      9         4      0        -3     -4      M\n",
       "1           8      0         0     -7        -3     -8      M\n",
       "2          -9      1        -5     -9       -10      1      M\n",
       "3           1      6        -1      5         4      4      M\n",
       "4           8      1         9     -8        -6      8      F"
      ]
     },
     "execution_count": 3,
     "metadata": {},
     "output_type": "execute_result"
    }
   ],
   "source": [
    "np.random.seed(42)\n",
    "df = pd.DataFrame(np.random.randint(-10, 10, (5, 3 * 2)), columns=columns)\n",
    "df = pd.concat([df, pd.Series(\n",
    "                np.random.choice([\"M\", \"F\"], 5),\n",
    "                name=(\"\", \"Gender\"))], \n",
    "          axis=1)\n",
    "\n",
    "df.columns.names = [\"D →\", \"T →\"]\n",
    "df.index.name = \"N ↓\"\n",
    "df"
   ]
  },
  {
   "cell_type": "markdown",
   "id": "7c7c71f2-ea13-4c83-85a0-0fc303c12448",
   "metadata": {},
   "source": [
    "Yeah. This is it. This is the `N x T x D` shape."
   ]
  },
  {
   "cell_type": "markdown",
   "id": "17766d21-dfdd-4be9-8e8d-b1bbef290820",
   "metadata": {},
   "source": [
    "*If you want to see some crazy things...* look below.\n",
    "\n",
    "The data is like:"
   ]
  },
  {
   "cell_type": "code",
   "execution_count": 4,
   "id": "614806fd-5b7b-4911-9d89-b2c48d7d01e6",
   "metadata": {},
   "outputs": [
    {
     "data": {
      "text/plain": [
       "array([[[ 0,  1,  2],\n",
       "        [ 3,  4,  5],\n",
       "        [ 6,  7,  8]],\n",
       "\n",
       "       [[ 9, 10, 11],\n",
       "        [12, 13, 14],\n",
       "        [15, 16, 17]],\n",
       "\n",
       "       [[18, 19, 20],\n",
       "        [21, 22, 23],\n",
       "        [24, 25, 26]]])"
      ]
     },
     "execution_count": 4,
     "metadata": {},
     "output_type": "execute_result"
    }
   ],
   "source": [
    "multivariate = np.arange(27).reshape(3, 3, 3)\n",
    "multivariate"
   ]
  },
  {
   "cell_type": "code",
   "execution_count": 5,
   "id": "1f59c5e0-04db-4874-97a7-7260788cdece",
   "metadata": {},
   "outputs": [
    {
     "data": {
      "text/plain": [
       "(3, 3, 3)"
      ]
     },
     "execution_count": 5,
     "metadata": {},
     "output_type": "execute_result"
    }
   ],
   "source": [
    "# N x T x D\n",
    "multivariate.shape"
   ]
  },
  {
   "cell_type": "markdown",
   "id": "67373e64-28e3-4008-a3b2-c1d0b456e5b7",
   "metadata": {},
   "source": [
    "To convert **that** into the dataframe style..."
   ]
  },
  {
   "cell_type": "markdown",
   "id": "5e7f853a-5ea6-4ba8-9a08-df7cbd0dd824",
   "metadata": {},
   "source": [
    "#### Option 1"
   ]
  },
  {
   "cell_type": "code",
   "execution_count": 6,
   "id": "1f061fc9-b0c4-407d-84bf-95e69fe30a68",
   "metadata": {},
   "outputs": [
    {
     "data": {
      "text/plain": [
       "array([[ 0,  1,  2,  9, 10, 11, 18, 19, 20],\n",
       "       [ 3,  4,  5, 12, 13, 14, 21, 22, 23],\n",
       "       [ 6,  7,  8, 15, 16, 17, 24, 25, 26]])"
      ]
     },
     "execution_count": 6,
     "metadata": {},
     "output_type": "execute_result"
    }
   ],
   "source": [
    "# a chain operation\n",
    "multivariate.reshape(3, 9, order=\"F\").reshape(9, 3, order=\"F\").reshape(3, 9)"
   ]
  },
  {
   "cell_type": "markdown",
   "id": "5283e70e-f112-4943-81ad-f0ced1113d14",
   "metadata": {},
   "source": [
    "#### Option 2"
   ]
  },
  {
   "cell_type": "code",
   "execution_count": 7,
   "id": "0861fd85-0143-4327-903b-483f7d123ac9",
   "metadata": {},
   "outputs": [],
   "source": [
    "# a loop operation\n",
    "x = multivariate[0, :].copy()\n",
    "for i in range(1, multivariate.shape[-1]): # for shape D\n",
    "    x = np.c_[x, multivariate[i, :]]"
   ]
  },
  {
   "cell_type": "code",
   "execution_count": 8,
   "id": "6676dd20-02a1-4bbd-a6bf-4ebe97e0261a",
   "metadata": {},
   "outputs": [
    {
     "data": {
      "text/plain": [
       "array([[ 0,  1,  2,  9, 10, 11, 18, 19, 20],\n",
       "       [ 3,  4,  5, 12, 13, 14, 21, 22, 23],\n",
       "       [ 6,  7,  8, 15, 16, 17, 24, 25, 26]])"
      ]
     },
     "execution_count": 8,
     "metadata": {},
     "output_type": "execute_result"
    }
   ],
   "source": [
    "x"
   ]
  },
  {
   "cell_type": "markdown",
   "id": "9054096b-243a-4de0-b7ac-5d45dd25919b",
   "metadata": {
    "tags": []
   },
   "source": [
    "#### 🛣 Back to the track"
   ]
  },
  {
   "cell_type": "markdown",
   "id": "935e7a72-7b4a-45b0-bf00-8510bdd3944c",
   "metadata": {},
   "source": [
    "Now we know **how the data is represented** we would love to see **what shouldn't be done.**"
   ]
  },
  {
   "cell_type": "markdown",
   "id": "8bfc313d-d0fd-4986-ad26-be72d3667d28",
   "metadata": {},
   "source": [
    "## 🧷 What we did.\n",
    "\n",
    "1. We had `N x T x D` shape of data.\n",
    "2. We converted that into `N x TD` data so that can be treated as 2D\n",
    "\n",
    "After that, the **naive approach** would be to **make the simple NN as we usually do**... \n",
    "\n",
    "```python\n",
    "input_layer = Input(shape=(TD,))\n",
    "hidden_layer = Dense(...)\n",
    "...\n",
    "model = Model(...)\n",
    "```\n",
    "\n",
    "Simple right? <br>\n",
    "But that's **NOT** ideal. Because that means that: ***each dimension is treated equally.***\n",
    "\n",
    "Since this time-series has a special structure, we would need to take the advantage of that. And also our neural network is so flexible that it can handle this *multivariate* or *multi-input* kind of inputs. We just need to tweak some parameters. "
   ]
  },
  {
   "cell_type": "markdown",
   "id": "00512783-020e-404e-b33e-4b5fe93c9880",
   "metadata": {},
   "source": [
    "### ⚒ So we will build multi \"tailed\" network\n",
    "\n",
    "<img src=\"../images/multivariate-nn.png\" width=400 height=500>"
   ]
  },
  {
   "cell_type": "markdown",
   "id": "97b9e74f-87dd-43e4-8eca-8873482dabde",
   "metadata": {},
   "source": [
    "> 🤔 But...? Why multi **tailed** and not **multi-headed**? <br> <br> 😀 The reason is that, the final layer (output layer) is called the \"head\" of the neural net. Thus, the inputs are the tails."
   ]
  },
  {
   "cell_type": "markdown",
   "id": "22705a37-bddb-474e-b81c-5e47dacfa31f",
   "metadata": {},
   "source": [
    "And **yes**. The final layer (output layer) can have the multiple layers as well! Which is multi-layer-output."
   ]
  },
  {
   "cell_type": "markdown",
   "id": "46d5477c-c9bf-454f-8df2-826b2b095b43",
   "metadata": {},
   "source": [
    "The code will be like:\n",
    "```python\n",
    "# multiple inputes\n",
    "input_layer1 = Input(shape(T,))\n",
    "input_layer2 = Input(shape(T,))\n",
    "input_layer3 = Input(shape(T,))\n",
    "\n",
    "# hidden layer 1 for each inputs\n",
    "hidden_layer1_1 = Dense(32, activation=\"relu\")(input_layer1)\n",
    "hidden_layer1_2 = Dense(32, activation=\"relu\")(input_layer2)\n",
    "hidden_layer1_3 = Dense(32, activation=\"relu\")(input_layer3)\n",
    "\n",
    "# this will let us to streamline all seperate layers into a single - sequential layer\n",
    "full_layer = Concatenate()([hidden_layer1_1, hidden_layer1_2, hidden_layer1_3])\n",
    "\n",
    "# the final output | K = number of classes (so the nodes)\n",
    "output_layer = Dense(K)(full_layer)\n",
    "\n",
    "# the model\n",
    "model = Model([input_layer1, input_layer2, input_layer3], output_layer)\n",
    "```"
   ]
  },
  {
   "cell_type": "markdown",
   "id": "75df1aaf-187a-4936-b66e-57bb3b9f9bc0",
   "metadata": {},
   "source": [
    "Yes, the code certainly feels like **training multiple seperate neural networks** for each layer... but that is just in the starting portion. When we concatenate, things are not like the *seperate nets*. "
   ]
  },
  {
   "cell_type": "code",
   "execution_count": 12,
   "id": "6a1492c6-21ab-40af-8743-2c975d2eb7cb",
   "metadata": {},
   "outputs": [
    {
     "data": {
      "text/plain": [
       "array([[[ 0,  1,  2],\n",
       "        [ 3,  4,  5],\n",
       "        [ 6,  7,  8]],\n",
       "\n",
       "       [[ 9, 10, 11],\n",
       "        [12, 13, 14],\n",
       "        [15, 16, 17]],\n",
       "\n",
       "       [[18, 19, 20],\n",
       "        [21, 22, 23],\n",
       "        [24, 25, 26]]])"
      ]
     },
     "execution_count": 12,
     "metadata": {},
     "output_type": "execute_result"
    }
   ],
   "source": [
    "multivariate"
   ]
  },
  {
   "cell_type": "code",
   "execution_count": 11,
   "id": "830940d0-546a-4779-be6c-f60cb9d6dfde",
   "metadata": {},
   "outputs": [
    {
     "data": {
      "text/plain": [
       "array([[ 0,  3,  6],\n",
       "       [ 9, 12, 15],\n",
       "       [18, 21, 24]])"
      ]
     },
     "execution_count": 11,
     "metadata": {},
     "output_type": "execute_result"
    }
   ],
   "source": [
    "multivariate[:, :, 0]"
   ]
  }
 ],
 "metadata": {
  "kernelspec": {
   "display_name": "Python 3 (ipykernel)",
   "language": "python",
   "name": "python3"
  },
  "language_info": {
   "codemirror_mode": {
    "name": "ipython",
    "version": 3
   },
   "file_extension": ".py",
   "mimetype": "text/x-python",
   "name": "python",
   "nbconvert_exporter": "python",
   "pygments_lexer": "ipython3",
   "version": "3.9.7"
  }
 },
 "nbformat": 4,
 "nbformat_minor": 5
}
