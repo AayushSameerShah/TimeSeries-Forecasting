{
 "cells": [
  {
   "cell_type": "markdown",
   "id": "92416dcb-9e5e-4eda-b046-1a98de091952",
   "metadata": {},
   "source": [
    "# 🦾  Treat it as a project.\n",
    "Yeah. I saw an introduction and this dataset looks amazing. This time, we are going to be dealing with a **new** dataset if the **human** activity."
   ]
  },
  {
   "cell_type": "markdown",
   "id": "618370ca-a08e-4ea0-9caf-91f0df143f54",
   "metadata": {},
   "source": [
    "This will be a new kind of problem that we will be trying to solve. Here, the dataset includes the \"measurements\" taken from the smart watch ⌚ from multiple people throughout the day.\n",
    "\n",
    "> The goal is to classify **whether** a person is *sitting*, *dancing*, *sleeping* or whatever! Or just bathing in his bathtub. There will be 6 classes to classify. Hence, it is a **multiclass-classification** problem. But, with the time-series.\n"
   ]
  },
  {
   "cell_type": "markdown",
   "id": "6429e5e4-1dfa-4859-a393-90f635d045e6",
   "metadata": {},
   "source": [
    "There are `2` sensors are used for this dataset: \n",
    "1. Gyroscope\n",
    "2. Accelerometer"
   ]
  },
  {
   "cell_type": "markdown",
   "id": "f7422b6d-37fb-4429-9017-b3c2bf9d5363",
   "metadata": {},
   "source": [
    "Each of them returns `3` separate channels because we are living in the 3D space."
   ]
  },
  {
   "cell_type": "markdown",
   "id": "d3a6f13c-05f7-4e98-b8db-fdf1adbd4bc1",
   "metadata": {},
   "source": [
    "___\n",
    "Dataset metadata:\n",
    "- There are 2 sensors,.\n",
    "- Each will return 3 channels.\n",
    "- Hence, we will be having `3` + `3` = **`6`** features.\n",
    "- Their names are ***\"acceleration\"*** & ***\"angular velocity\"*** returned by accelerometer and gyroscope respectively.\n",
    "- BUTT: There are **2** types of acceleration:\n",
    "    1. Total acceleration\n",
    "    2. Body acceleration = Total acceleration - gravity\n",
    "- Hence, we have `3` + `3` + `3` = **`9`** final features in the dataset."
   ]
  },
  {
   "cell_type": "markdown",
   "id": "d645904a-7ce9-4e78-aa4f-108009614d9f",
   "metadata": {},
   "source": [
    "About the time-series:\n",
    "\n",
    "- Each measurement was sampled at `50Hz` = 50 measurements/sec\n",
    "- Taken at the intervals of `2.56` seconds.\n",
    "- Thus, we have 50 * 2.56 = `128` measurements for each time-series.\n",
    "- Meaning, **the leanght** of time series corresponding to **each** activity is 128."
   ]
  },
  {
   "cell_type": "markdown",
   "id": "c1c08d3a-ca9a-4ef6-9501-8702548b6620",
   "metadata": {},
   "source": [
    "Some pre-processing is done already:\n",
    "\n",
    "- Noise removal\n",
    "- Low pass filtering (smoothing - EWMA *if you remember* 😉)\n",
    "- Scaling [-1, 1]\n",
    "\n",
    "Hence, the time-series is not in a raw version."
   ]
  },
  {
   "cell_type": "markdown",
   "id": "b7b01159-1582-4bb3-a882-4a46cc110bee",
   "metadata": {},
   "source": [
    "      +--------+\n",
    "      /        /|\n",
    "     /    T   / |\n",
    "    +--------+  |\n",
    "    |        | D|\n",
    "    |   N    |  +\n",
    "    |        | /\n",
    "    |        |/\n",
    "    +--------+"
   ]
  },
  {
   "cell_type": "markdown",
   "id": "082a42e2-bb80-4883-a7a6-3f81bd7d8a4a",
   "metadata": {},
   "source": [
    "Where:\n",
    "- N: Number of observations\n",
    "- T: Features\n",
    "- D: What makes the feature? (128 observations)\n",
    "\n",
    "Till now, this is the visualization of the data till now. And what about **Y**? It is the simple `1D` data encoded in {0, 1, 2, 3, 4, 5, 6}\n",
    "\n",
    "#### 🤔 Does this look... a bit strange?\n",
    "Yes, because till now... we have only worked with the **2D** data. Or just NxT data. Now are are dealing with **Multivariate** data.\n",
    "\n",
    "Before this, we had **Univariate** data, thus we were able to store them in the 2D table. Here still a 2D table will be there, but the data itself has to be treated *differently*."
   ]
  },
  {
   "cell_type": "markdown",
   "id": "a90e5b02-8936-4efc-8275-b1c77363b0d9",
   "metadata": {},
   "source": [
    "> Here are the links [link-1](https://www.kaggle.com/datasets/uciml/human-activity-recognition-with-smartphones) or [link-2](https://www.kaggle.com/datasets/erenaktas/human-activity-recognition) to the dataset. Have a look if there is any confusion... or anything."
   ]
  },
  {
   "cell_type": "markdown",
   "id": "fda914f9-7084-4c20-a331-ebedc7b42948",
   "metadata": {
    "tags": []
   },
   "source": [
    "## 🛣 Side track\n",
    "\n",
    "**A multi-variate jargon** <br>\n",
    "So, till now we have seen the 2D data like...\n",
    "\n",
    "#### 👉 Before\n",
    "<img src=\"../images/univariate.jpg\" width=300 height=300>\n",
    "\n",
    "Where, <br>\n",
    "- **N** is the number of observations.\n",
    "- **T** is the number of features.\n",
    "\n",
    "Such a simple and beautiful thing. <br>\n",
    "____\n",
    "\n",
    "#### 👉 Now\n",
    "<img src=\"../images/multivariate.jpg\" width=300 height=300>\n",
    "\n",
    "Where, <br>\n",
    "- **D** is the number of different perspectives to observe the data."
   ]
  },
  {
   "cell_type": "markdown",
   "id": "bd791594-440e-4d54-80c0-97272aa9da57",
   "metadata": {},
   "source": [
    "### 🐼 But in pandas...\n",
    "We can show that like this."
   ]
  },
  {
   "cell_type": "code",
   "execution_count": 1,
   "id": "afc9e3bb-0cfb-4c85-a649-194be2a87580",
   "metadata": {},
   "outputs": [],
   "source": [
    "import numpy as np\n",
    "import pandas as pd"
   ]
  },
  {
   "cell_type": "code",
   "execution_count": 2,
   "id": "b40ffa71-1f96-483f-bfe0-70f08359df0b",
   "metadata": {},
   "outputs": [],
   "source": [
    "columns = pd.MultiIndex.from_product(\n",
    "    [[\"Machine 1\", \"Machine 2\", \"Machine 3\"], [\"Height\", \"Weight\"]]\n",
    ")"
   ]
  },
  {
   "cell_type": "code",
   "execution_count": 3,
   "id": "480c710f-73a5-41f7-91cd-25eed46f3045",
   "metadata": {},
   "outputs": [
    {
     "data": {
      "text/html": [
       "<div>\n",
       "<style scoped>\n",
       "    .dataframe tbody tr th:only-of-type {\n",
       "        vertical-align: middle;\n",
       "    }\n",
       "\n",
       "    .dataframe tbody tr th {\n",
       "        vertical-align: top;\n",
       "    }\n",
       "\n",
       "    .dataframe thead tr th {\n",
       "        text-align: left;\n",
       "    }\n",
       "\n",
       "    .dataframe thead tr:last-of-type th {\n",
       "        text-align: right;\n",
       "    }\n",
       "</style>\n",
       "<table border=\"1\" class=\"dataframe\">\n",
       "  <thead>\n",
       "    <tr>\n",
       "      <th>D →</th>\n",
       "      <th colspan=\"2\" halign=\"left\">Machine 1</th>\n",
       "      <th colspan=\"2\" halign=\"left\">Machine 2</th>\n",
       "      <th colspan=\"2\" halign=\"left\">Machine 3</th>\n",
       "      <th></th>\n",
       "    </tr>\n",
       "    <tr>\n",
       "      <th>T →</th>\n",
       "      <th>Height</th>\n",
       "      <th>Weight</th>\n",
       "      <th>Height</th>\n",
       "      <th>Weight</th>\n",
       "      <th>Height</th>\n",
       "      <th>Weight</th>\n",
       "      <th>Gender</th>\n",
       "    </tr>\n",
       "    <tr>\n",
       "      <th>N ↓</th>\n",
       "      <th></th>\n",
       "      <th></th>\n",
       "      <th></th>\n",
       "      <th></th>\n",
       "      <th></th>\n",
       "      <th></th>\n",
       "      <th></th>\n",
       "    </tr>\n",
       "  </thead>\n",
       "  <tbody>\n",
       "    <tr>\n",
       "      <th>0</th>\n",
       "      <td>-4</td>\n",
       "      <td>9</td>\n",
       "      <td>4</td>\n",
       "      <td>0</td>\n",
       "      <td>-3</td>\n",
       "      <td>-4</td>\n",
       "      <td>M</td>\n",
       "    </tr>\n",
       "    <tr>\n",
       "      <th>1</th>\n",
       "      <td>8</td>\n",
       "      <td>0</td>\n",
       "      <td>0</td>\n",
       "      <td>-7</td>\n",
       "      <td>-3</td>\n",
       "      <td>-8</td>\n",
       "      <td>M</td>\n",
       "    </tr>\n",
       "    <tr>\n",
       "      <th>2</th>\n",
       "      <td>-9</td>\n",
       "      <td>1</td>\n",
       "      <td>-5</td>\n",
       "      <td>-9</td>\n",
       "      <td>-10</td>\n",
       "      <td>1</td>\n",
       "      <td>M</td>\n",
       "    </tr>\n",
       "    <tr>\n",
       "      <th>3</th>\n",
       "      <td>1</td>\n",
       "      <td>6</td>\n",
       "      <td>-1</td>\n",
       "      <td>5</td>\n",
       "      <td>4</td>\n",
       "      <td>4</td>\n",
       "      <td>M</td>\n",
       "    </tr>\n",
       "    <tr>\n",
       "      <th>4</th>\n",
       "      <td>8</td>\n",
       "      <td>1</td>\n",
       "      <td>9</td>\n",
       "      <td>-8</td>\n",
       "      <td>-6</td>\n",
       "      <td>8</td>\n",
       "      <td>F</td>\n",
       "    </tr>\n",
       "  </tbody>\n",
       "</table>\n",
       "</div>"
      ],
      "text/plain": [
       "D → Machine 1        Machine 2        Machine 3              \n",
       "T →    Height Weight    Height Weight    Height Weight Gender\n",
       "N ↓                                                          \n",
       "0          -4      9         4      0        -3     -4      M\n",
       "1           8      0         0     -7        -3     -8      M\n",
       "2          -9      1        -5     -9       -10      1      M\n",
       "3           1      6        -1      5         4      4      M\n",
       "4           8      1         9     -8        -6      8      F"
      ]
     },
     "execution_count": 3,
     "metadata": {},
     "output_type": "execute_result"
    }
   ],
   "source": [
    "np.random.seed(42)\n",
    "df = pd.DataFrame(np.random.randint(-10, 10, (5, 3 * 2)), columns=columns)\n",
    "df = pd.concat(\n",
    "    [df, pd.Series(np.random.choice([\"M\", \"F\"], 5), name=(\"\", \"Gender\"))], axis=1\n",
    ")\n",
    "\n",
    "df.columns.names = [\"D →\", \"T →\"]\n",
    "df.index.name = \"N ↓\"\n",
    "df"
   ]
  },
  {
   "cell_type": "markdown",
   "id": "7c7c71f2-ea13-4c83-85a0-0fc303c12448",
   "metadata": {},
   "source": [
    "Yeah. This is it. This is the `N x T x D` shape."
   ]
  },
  {
   "cell_type": "markdown",
   "id": "17766d21-dfdd-4be9-8e8d-b1bbef290820",
   "metadata": {},
   "source": [
    "*If you want to see some crazy things...* look below.\n",
    "\n",
    "The data is like:"
   ]
  },
  {
   "cell_type": "code",
   "execution_count": 4,
   "id": "614806fd-5b7b-4911-9d89-b2c48d7d01e6",
   "metadata": {},
   "outputs": [
    {
     "data": {
      "text/plain": [
       "array([[[ 0,  1,  2],\n",
       "        [ 3,  4,  5]],\n",
       "\n",
       "       [[ 6,  7,  8],\n",
       "        [ 9, 10, 11]],\n",
       "\n",
       "       [[12, 13, 14],\n",
       "        [15, 16, 17]],\n",
       "\n",
       "       [[18, 19, 20],\n",
       "        [21, 22, 23]]])"
      ]
     },
     "execution_count": 4,
     "metadata": {},
     "output_type": "execute_result"
    }
   ],
   "source": [
    "multivariate = np.arange(24).reshape(4, 2, 3)\n",
    "multivariate"
   ]
  },
  {
   "cell_type": "markdown",
   "id": "c8b10327-457a-430e-a24d-4e38eb72642c",
   "metadata": {},
   "source": [
    "Here `3` levels are there. Meaning, 3 `Ds` are there."
   ]
  },
  {
   "cell_type": "code",
   "execution_count": 5,
   "id": "1f59c5e0-04db-4874-97a7-7260788cdece",
   "metadata": {},
   "outputs": [
    {
     "data": {
      "text/plain": [
       "(4, 2, 3)"
      ]
     },
     "execution_count": 5,
     "metadata": {},
     "output_type": "execute_result"
    }
   ],
   "source": [
    "# N x T x D\n",
    "multivariate.shape"
   ]
  },
  {
   "cell_type": "code",
   "execution_count": 6,
   "id": "e8694d1f-cbbf-4b17-a2b7-44f78b580e65",
   "metadata": {},
   "outputs": [
    {
     "data": {
      "text/plain": [
       "array([[ 0,  3],\n",
       "       [ 6,  9],\n",
       "       [12, 15],\n",
       "       [18, 21]])"
      ]
     },
     "execution_count": 6,
     "metadata": {},
     "output_type": "execute_result"
    }
   ],
   "source": [
    "# first level\n",
    "multivariate[:, :, 0]"
   ]
  },
  {
   "cell_type": "code",
   "execution_count": 7,
   "id": "0f7becbc-e667-4144-9400-82eb21c92907",
   "metadata": {},
   "outputs": [
    {
     "data": {
      "text/plain": [
       "array([[ 1,  4],\n",
       "       [ 7, 10],\n",
       "       [13, 16],\n",
       "       [19, 22]])"
      ]
     },
     "execution_count": 7,
     "metadata": {},
     "output_type": "execute_result"
    }
   ],
   "source": [
    "# second level\n",
    "multivariate[:, :, 1]"
   ]
  },
  {
   "cell_type": "code",
   "execution_count": 8,
   "id": "8670c1c2-db94-40cf-bd62-c6f107018f5e",
   "metadata": {},
   "outputs": [
    {
     "data": {
      "text/plain": [
       "array([[ 2,  5],\n",
       "       [ 8, 11],\n",
       "       [14, 17],\n",
       "       [20, 23]])"
      ]
     },
     "execution_count": 8,
     "metadata": {},
     "output_type": "execute_result"
    }
   ],
   "source": [
    "# third level\n",
    "multivariate[:, :, 2]"
   ]
  },
  {
   "cell_type": "markdown",
   "id": "67373e64-28e3-4008-a3b2-c1d0b456e5b7",
   "metadata": {},
   "source": [
    "To convert **that** into the dataframe style..."
   ]
  },
  {
   "cell_type": "markdown",
   "id": "5e7f853a-5ea6-4ba8-9a08-df7cbd0dd824",
   "metadata": {},
   "source": [
    "#### Option 1"
   ]
  },
  {
   "cell_type": "code",
   "execution_count": 9,
   "id": "2ebcdf67-e5a6-481f-a4e2-338a9fac0bb3",
   "metadata": {},
   "outputs": [
    {
     "data": {
      "text/plain": [
       "array([[ 0,  3,  1,  4,  2,  5],\n",
       "       [ 6,  9,  7, 10,  8, 11],\n",
       "       [12, 15, 13, 16, 14, 17],\n",
       "       [18, 21, 19, 22, 20, 23]])"
      ]
     },
     "execution_count": 9,
     "metadata": {},
     "output_type": "execute_result"
    }
   ],
   "source": [
    "# a reshape with order \"F\"\n",
    "multivariate.reshape(4, 6, order=\"F\")"
   ]
  },
  {
   "cell_type": "markdown",
   "id": "5283e70e-f112-4943-81ad-f0ced1113d14",
   "metadata": {},
   "source": [
    "#### Option 2"
   ]
  },
  {
   "cell_type": "code",
   "execution_count": 10,
   "id": "0861fd85-0143-4327-903b-483f7d123ac9",
   "metadata": {},
   "outputs": [],
   "source": [
    "# a loop operation\n",
    "x = multivariate[:, :, 0].copy()\n",
    "for i in range(1, multivariate.shape[-1]):  # for shape D\n",
    "    x = np.c_[x, multivariate[:, :, i]]"
   ]
  },
  {
   "cell_type": "code",
   "execution_count": 11,
   "id": "6676dd20-02a1-4bbd-a6bf-4ebe97e0261a",
   "metadata": {},
   "outputs": [
    {
     "data": {
      "text/plain": [
       "array([[ 0,  3,  1,  4,  2,  5],\n",
       "       [ 6,  9,  7, 10,  8, 11],\n",
       "       [12, 15, 13, 16, 14, 17],\n",
       "       [18, 21, 19, 22, 20, 23]])"
      ]
     },
     "execution_count": 11,
     "metadata": {},
     "output_type": "execute_result"
    }
   ],
   "source": [
    "x"
   ]
  },
  {
   "cell_type": "markdown",
   "id": "9054096b-243a-4de0-b7ac-5d45dd25919b",
   "metadata": {
    "tags": []
   },
   "source": [
    "#### 🛣 Back to the track"
   ]
  },
  {
   "cell_type": "markdown",
   "id": "935e7a72-7b4a-45b0-bf00-8510bdd3944c",
   "metadata": {},
   "source": [
    "Now we know **how the data is represented** we would love to see **what shouldn't be done.**"
   ]
  },
  {
   "cell_type": "markdown",
   "id": "8bfc313d-d0fd-4986-ad26-be72d3667d28",
   "metadata": {},
   "source": [
    "## 🧷 What we did.\n",
    "\n",
    "1. We had `N x T x D` shape of data.\n",
    "2. We converted that into `N x TD` data so that can be treated as 2D\n",
    "\n",
    "After that, the **naive approach** would be to **make the simple NN as we usually do**... \n",
    "\n",
    "```python\n",
    "input_layer = Input(shape=(TD,))\n",
    "hidden_layer = Dense(...)\n",
    "...\n",
    "model = Model(...)\n",
    "```\n",
    "\n",
    "Simple right? <br>\n",
    "But that's **NOT** ideal. Because that means that: ***each dimension is treated equally.***\n",
    "\n",
    "Since this time-series has a special structure, we would need to take the advantage of that. And also our neural network is so flexible that it can handle this *multivariate* or *multi-input* kind of inputs. We just need to tweak some parameters. "
   ]
  },
  {
   "cell_type": "markdown",
   "id": "00512783-020e-404e-b33e-4b5fe93c9880",
   "metadata": {},
   "source": [
    "### ⚒ So we will build multi \"tailed\" network\n",
    "\n",
    "<img src=\"../images/multivariate-nn.png\" width=400 height=500>"
   ]
  },
  {
   "cell_type": "markdown",
   "id": "97b9e74f-87dd-43e4-8eca-8873482dabde",
   "metadata": {},
   "source": [
    "> 🤔 But...? Why multi **tailed** and not **multi-headed**? <br> <br> 😀 The reason is that, the final layer (output layer) is called the \"head\" of the neural net. Thus, the inputs are the tails."
   ]
  },
  {
   "cell_type": "markdown",
   "id": "22705a37-bddb-474e-b81c-5e47dacfa31f",
   "metadata": {},
   "source": [
    "And **yes**. The final layer (output layer) can have the multiple layers as well! Which is multi-layer-output."
   ]
  },
  {
   "cell_type": "markdown",
   "id": "46d5477c-c9bf-454f-8df2-826b2b095b43",
   "metadata": {},
   "source": [
    "The code will be like:\n",
    "```python\n",
    "# multiple inputes\n",
    "input_layer1 = Input(shape(T,))\n",
    "input_layer2 = Input(shape(T,))\n",
    "input_layer3 = Input(shape(T,))\n",
    "\n",
    "# hidden layer 1 for each inputs\n",
    "hidden_layer1_1 = Dense(32, activation=\"relu\")(input_layer1)\n",
    "hidden_layer1_2 = Dense(32, activation=\"relu\")(input_layer2)\n",
    "hidden_layer1_3 = Dense(32, activation=\"relu\")(input_layer3)\n",
    "\n",
    "# this will let us to streamline all seperate layers into a single - sequential layer\n",
    "full_layer = Concatenate()([hidden_layer1_1, hidden_layer1_2, hidden_layer1_3])\n",
    "\n",
    "# the final output | K = number of classes (so the nodes)\n",
    "output_layer = Dense(K)(full_layer)\n",
    "\n",
    "# the model\n",
    "model = Model([input_layer1, input_layer2, input_layer3], output_layer)\n",
    "```"
   ]
  },
  {
   "cell_type": "markdown",
   "id": "75df1aaf-187a-4936-b66e-57bb3b9f9bc0",
   "metadata": {},
   "source": [
    "Yes, the code certainly feels like **training multiple seperate neural networks** for each layer... but that is just in the starting portion. When we concatenate, things are not like the *seperate nets*. "
   ]
  },
  {
   "cell_type": "markdown",
   "id": "688a1322-09f7-4663-a0ec-14873c4f6422",
   "metadata": {},
   "source": [
    "# "
   ]
  },
  {
   "cell_type": "markdown",
   "id": "fa54b30b-5c7e-47b6-a7db-f01556fa7b59",
   "metadata": {},
   "source": [
    "# 👨‍💻 Let's code it"
   ]
  },
  {
   "cell_type": "code",
   "execution_count": 12,
   "id": "a625a178-554c-4dff-8493-e5895ccb1cfa",
   "metadata": {},
   "outputs": [],
   "source": [
    "# usual imports\n",
    "# unusual imports\n",
    "import os\n",
    "\n",
    "import matplotlib.pyplot as plt\n",
    "import numpy as np\n",
    "import pandas as pd\n",
    "\n",
    "plt.rcParams[\"figure.figsize\"] = (20, 10)\n",
    "\n",
    "# neural network imports\n",
    "import tensorflow as tf\n",
    "from sklearn.ensemble import RandomForestClassifier\n",
    "from sklearn.linear_model import LogisticRegression\n",
    "\n",
    "# sklearn imports\n",
    "from sklearn.metrics import (\n",
    "    ConfusionMatrixDisplay,\n",
    "    accuracy_score,\n",
    "    classification_report,\n",
    "    confusion_matrix,\n",
    ")\n",
    "from sklearn.naive_bayes import BernoulliNB\n",
    "from sklearn.preprocessing import StandardScaler\n",
    "\n",
    "# to save the model state: \"મસ્ત\"\n",
    "from tensorflow.keras.callbacks import ModelCheckpoint\n",
    "from tensorflow.keras.layers import Concatenate, Dense, Input  # ## ← new ← ###\n",
    "\n",
    "# the neural network loss import\n",
    "from tensorflow.keras.losses import SparseCategoricalCrossentropy\n",
    "from tensorflow.keras.models import Model\n",
    "from tqdm.keras import TqdmCallback\n",
    "\n",
    "tf.random.set_seed(42)"
   ]
  },
  {
   "cell_type": "markdown",
   "id": "366b78df-e711-441a-a1e5-fbe44a85f784",
   "metadata": {},
   "source": [
    "> Please download the data from this direct [link](https://lazyprogrammer.me/course_files/timeseries/UCI-HAR.zip).\n",
    "\n",
    "**NOTE**: The data is in **multiple** files. We have to merge all files together and make the single dataframe out of it."
   ]
  },
  {
   "cell_type": "markdown",
   "id": "ca30a3fd-6cc3-442e-8bca-08e73583be50",
   "metadata": {},
   "source": [
    "___"
   ]
  },
  {
   "cell_type": "markdown",
   "id": "649f7474-9e99-48b4-b480-9177de5e98cb",
   "metadata": {
    "jp-MarkdownHeadingCollapsed": true,
    "tags": []
   },
   "source": [
    "## 📜  Some info about the dataset if you want to read.\n",
    "\n",
    "The experiments have been carried out with a group of 30 volunteers within an age bracket of 19-48 years. Each person performed six activities (*WALKING, WALKING_UPSTAIRS, WALKING_DOWNSTAIRS, SITTING, STANDING, LAYING*) wearing a smartphone (Samsung Galaxy S II) on the waist. Using its embedded accelerometer and gyroscope, we captured 3-axial linear acceleration and 3-axial angular velocity at a constant rate of 50Hz. The experiments have been video-recorded to label the data manually. The obtained dataset has been randomly partitioned into two sets, where 70% of the volunteers was selected for generating the training data and 30% the test data. \n",
    "\n",
    "The sensor signals (accelerometer and gyroscope) were pre-processed by applying noise filters and then sampled in fixed-width sliding windows of 2.56 sec and 50% overlap (128 readings/window). The sensor acceleration signal, which has gravitational and body motion components, was separated using a Butterworth low-pass filter into body acceleration and gravity. The gravitational force is assumed to have only low frequency components, therefore a filter with 0.3 Hz cutoff frequency was used. From each window, a vector of features was obtained by calculating variables from the time and frequency domain. See 'features_info.txt' for more details. \n",
    "\n",
    "#### 👉 For each record it is provided:\n",
    "- Triaxial acceleration from the accelerometer (total acceleration) and the estimated body acceleration.\n",
    "- Triaxial Angular velocity from the gyroscope. \n",
    "- A 561-feature vector with time and frequency domain variables. \n",
    "- Its activity label. \n",
    "- An identifier of the subject who carried out the experiment.\n",
    "\n",
    "#### 👉 The dataset includes the following files:\n",
    "\n",
    "- **'README.txt'**\n",
    "- **'features_info.txt'**: Shows information about the variables used on the feature vector.\n",
    "- **'features.txt'**: List of all features.\n",
    "- **'activity_labels.txt'**: Links the class labels with their activity name.\n",
    "- **'train/X_train.txt'**: Training set.\n",
    "- **'train/y_train.txt'**: Training labels.\n",
    "- **'test/X_test.txt'**: Test set.\n",
    "- **'test/y_test.txt'**: Test labels.\n",
    "\n",
    "The following files are available for the train and test data. Their descriptions are equivalent. \n",
    "\n",
    "- **'train/subject_train.txt'**: Each row identifies the subject who performed the activity for each window sample. Its range is from 1 to 30. \n",
    "- **'train/Inertial Signals/total_acc_x_train.txt'**: The acceleration signal from the smartphone accelerometer X axis in standard gravity units 'g'. Every row shows a 128 element vector. The same description applies for the 'total_acc_x_train.txt' and 'total_acc_z_train.txt' files for the Y and Z axis. \n",
    "- **'train/Inertial Signals/body_acc_x_train.txt'**: The body acceleration signal obtained by subtracting the gravity from the total acceleration. \n",
    "- **'train/Inertial Signals/body_gyro_x_train.txt'**: The angular velocity vector measured by the gyroscope for each window sample. The units are radians/second. \n",
    "\n",
    "#### 👉 Notes: \n",
    "- Features are normalized and bounded within [-1,1].\n",
    "- Each feature vector is a row on the text file.\n",
    "- The units used for the accelerations (total and body) are 'g's (gravity of earth -> 9.80665 m/seg2).\n",
    "- The gyroscope units are rad/seg.\n",
    "- A video of the experiment including an example of the 6 recorded activities with one of the participants can be seen in the following link: http://www.youtube.com/watch?v=XOEN9W05_4A\n",
    "\n",
    "#### 👉 Activity lables:\n",
    "- `1`  WALKING\n",
    "- `2`  WALKING_UPSTAIRS\n",
    "- `3`  WALKING_DOWNSTAIRS\n",
    "- `4`  SITTING\n",
    "- `5`  STANDING\n",
    "- `6`  LAYING"
   ]
  },
  {
   "cell_type": "markdown",
   "id": "c45a7e50-a151-43d5-917a-68e44a6c0b20",
   "metadata": {},
   "source": [
    "___"
   ]
  },
  {
   "cell_type": "markdown",
   "id": "3087ca6b-72c0-4654-8d06-ee052f78458d",
   "metadata": {},
   "source": [
    "Yeah, I have tried to make it look pretty... if you've read it, it should be pretty clear by now about the data. At least 20-30% what it tries to say.\n",
    "\n",
    "Now, let's load the data in and see what's possible."
   ]
  },
  {
   "cell_type": "code",
   "execution_count": 13,
   "id": "dacdcbe5-8df9-4a40-8c96-8cda822d0523",
   "metadata": {},
   "outputs": [
    {
     "name": "stdout",
     "output_type": "stream",
     "text": [
      "UCI HAR Dataset\n",
      "__MACOSX\n"
     ]
    }
   ],
   "source": [
    "# this is the main data\n",
    "!ls \"../data/UCI-HAR/\""
   ]
  },
  {
   "cell_type": "code",
   "execution_count": 14,
   "id": "6e57e4ed-3bba-4ed0-85c7-ce185f915ed9",
   "metadata": {},
   "outputs": [
    {
     "name": "stdout",
     "output_type": "stream",
     "text": [
      "README.txt\n",
      "activity_labels.txt\n",
      "features.txt\n",
      "features_info.txt\n",
      "test\n",
      "train\n"
     ]
    }
   ],
   "source": [
    "# this is the main view\n",
    "!ls \"../data/UCI-HAR/UCI HAR Dataset\""
   ]
  },
  {
   "cell_type": "markdown",
   "id": "c531417d-1572-4546-9345-55a6f55ff334",
   "metadata": {},
   "source": [
    "We're interested in `train` and `test`"
   ]
  },
  {
   "cell_type": "code",
   "execution_count": 15,
   "id": "e8bbd6ca-d307-492a-9025-40a727558a65",
   "metadata": {},
   "outputs": [
    {
     "name": "stdout",
     "output_type": "stream",
     "text": [
      "Inertial Signals\n",
      "X_train.txt\n",
      "subject_train.txt\n",
      "y_train.txt\n"
     ]
    }
   ],
   "source": [
    "# for `train`\n",
    "!ls \"../data/UCI-HAR/UCI HAR Dataset/train\""
   ]
  },
  {
   "cell_type": "code",
   "execution_count": 16,
   "id": "b3827761-6a9d-41e6-886d-5cfe9ac91a3f",
   "metadata": {},
   "outputs": [
    {
     "name": "stdout",
     "output_type": "stream",
     "text": [
      "Inertial Signals\n",
      "X_test.txt\n",
      "subject_test.txt\n",
      "y_test.txt\n"
     ]
    }
   ],
   "source": [
    "# for `test`\n",
    "!ls \"../data/UCI-HAR/UCI HAR Dataset/test\""
   ]
  },
  {
   "cell_type": "markdown",
   "id": "d7ffcb66-f67f-492a-8152-7245b416ca86",
   "metadata": {},
   "source": [
    "👉 Before going inside of any of the files... let's have a look at `features.txt`"
   ]
  },
  {
   "cell_type": "code",
   "execution_count": 17,
   "id": "18e35db9-6443-4a8e-b7f7-7e6c5509242a",
   "metadata": {},
   "outputs": [
    {
     "name": "stdout",
     "output_type": "stream",
     "text": [
      "1 tBodyAcc-mean()-X\n",
      "2 tBodyAcc-mean()-Y\n",
      "3 tBodyAcc-mean()-Z\n",
      "4 tBodyAcc-std()-X\n",
      "5 tBodyAcc-std()-Y\n",
      "6 tBodyAcc-std()-Z\n",
      "7 tBodyAcc-mad()-X\n",
      "8 tBodyAcc-mad()-Y\n",
      "9 tBodyAcc-mad()-Z\n",
      "10 tBodyAcc-max()-X\n"
     ]
    }
   ],
   "source": [
    "!head \"../data/UCI-HAR/UCI HAR Dataset/features.txt\""
   ]
  },
  {
   "cell_type": "markdown",
   "id": "7b5b6e5f-e70f-4568-a113-f845cca08c4a",
   "metadata": {},
   "source": [
    "There are like 561 features in total... but for the sake of *head* we can see these top 10."
   ]
  },
  {
   "cell_type": "markdown",
   "id": "4fd8d64b-bca5-4d89-82fc-7b3531973713",
   "metadata": {},
   "source": [
    "Alright, <br>\n",
    "Let's now explore the files in the `train` folder. Alternatively, the same type of data will be in the `test` folder. So, just try to understand."
   ]
  },
  {
   "cell_type": "code",
   "execution_count": 18,
   "id": "3b83e612-669d-4afe-bd37-0c451ee47cf6",
   "metadata": {},
   "outputs": [
    {
     "name": "stdout",
     "output_type": "stream",
     "text": [
      "Inertial Signals\n",
      "X_train.txt\n",
      "subject_train.txt\n",
      "y_train.txt\n"
     ]
    }
   ],
   "source": [
    "# for `train`\n",
    "!ls \"../data/UCI-HAR/UCI HAR Dataset/train\""
   ]
  },
  {
   "cell_type": "markdown",
   "id": "cfb2e0f6-2f6d-4f54-ab73-375baa79bac8",
   "metadata": {},
   "source": [
    "To start with, there is the `subject_train.txt` which is for..."
   ]
  },
  {
   "cell_type": "code",
   "execution_count": 19,
   "id": "acca3de8-af52-4050-8264-9e9ccd37e0fb",
   "metadata": {},
   "outputs": [
    {
     "name": "stdout",
     "output_type": "stream",
     "text": [
      "1\n",
      "1\n",
      "1\n",
      "1\n",
      "1\n",
      "1\n",
      "1\n",
      "1\n",
      "1\n",
      "1\n"
     ]
    }
   ],
   "source": [
    "!head \"../data/UCI-HAR/UCI HAR Dataset/train/subject_train.txt\""
   ]
  },
  {
   "cell_type": "code",
   "execution_count": 20,
   "id": "814cbff5-ab81-422b-a2f7-41188c89a754",
   "metadata": {},
   "outputs": [
    {
     "name": "stdout",
     "output_type": "stream",
     "text": [
      "7352 ../data/UCI-HAR/UCI HAR Dataset/train/subject_train.txt\n"
     ]
    }
   ],
   "source": [
    "# total number of records / lines\n",
    "!wc -l \"../data/UCI-HAR/UCI HAR Dataset/train/subject_train.txt\""
   ]
  },
  {
   "cell_type": "markdown",
   "id": "b944da4e-6a20-4692-ab7e-da5c08d01f6e",
   "metadata": {},
   "source": [
    "There are total `30` people who contributed to this project... so this file represents the number from 1 to 30 to indecate which row represents what. **Which is not necessary** for our exploration and the model building."
   ]
  },
  {
   "cell_type": "code",
   "execution_count": 21,
   "id": "28037cc3-364e-4165-9c6a-405cdc026497",
   "metadata": {},
   "outputs": [],
   "source": [
    "# for `x_train`\n",
    "Xtrain = pd.read_csv(\n",
    "    \"../data/UCI-HAR/UCI HAR Dataset/train/X_train.txt\",\n",
    "    header=None,\n",
    "    delim_whitespace=True,\n",
    ")"
   ]
  },
  {
   "cell_type": "code",
   "execution_count": 22,
   "id": "231d9fa2-2838-4bfb-8e49-60867ba937e4",
   "metadata": {},
   "outputs": [
    {
     "data": {
      "text/html": [
       "<div>\n",
       "<style scoped>\n",
       "    .dataframe tbody tr th:only-of-type {\n",
       "        vertical-align: middle;\n",
       "    }\n",
       "\n",
       "    .dataframe tbody tr th {\n",
       "        vertical-align: top;\n",
       "    }\n",
       "\n",
       "    .dataframe thead th {\n",
       "        text-align: right;\n",
       "    }\n",
       "</style>\n",
       "<table border=\"1\" class=\"dataframe\">\n",
       "  <thead>\n",
       "    <tr style=\"text-align: right;\">\n",
       "      <th></th>\n",
       "      <th>0</th>\n",
       "      <th>1</th>\n",
       "      <th>2</th>\n",
       "      <th>3</th>\n",
       "      <th>4</th>\n",
       "      <th>5</th>\n",
       "      <th>6</th>\n",
       "      <th>7</th>\n",
       "      <th>8</th>\n",
       "      <th>9</th>\n",
       "      <th>...</th>\n",
       "      <th>551</th>\n",
       "      <th>552</th>\n",
       "      <th>553</th>\n",
       "      <th>554</th>\n",
       "      <th>555</th>\n",
       "      <th>556</th>\n",
       "      <th>557</th>\n",
       "      <th>558</th>\n",
       "      <th>559</th>\n",
       "      <th>560</th>\n",
       "    </tr>\n",
       "  </thead>\n",
       "  <tbody>\n",
       "    <tr>\n",
       "      <th>0</th>\n",
       "      <td>0.288585</td>\n",
       "      <td>-0.020294</td>\n",
       "      <td>-0.132905</td>\n",
       "      <td>-0.995279</td>\n",
       "      <td>-0.983111</td>\n",
       "      <td>-0.913526</td>\n",
       "      <td>-0.995112</td>\n",
       "      <td>-0.983185</td>\n",
       "      <td>-0.923527</td>\n",
       "      <td>-0.934724</td>\n",
       "      <td>...</td>\n",
       "      <td>-0.074323</td>\n",
       "      <td>-0.298676</td>\n",
       "      <td>-0.710304</td>\n",
       "      <td>-0.112754</td>\n",
       "      <td>0.030400</td>\n",
       "      <td>-0.464761</td>\n",
       "      <td>-0.018446</td>\n",
       "      <td>-0.841247</td>\n",
       "      <td>0.179941</td>\n",
       "      <td>-0.058627</td>\n",
       "    </tr>\n",
       "    <tr>\n",
       "      <th>1</th>\n",
       "      <td>0.278419</td>\n",
       "      <td>-0.016411</td>\n",
       "      <td>-0.123520</td>\n",
       "      <td>-0.998245</td>\n",
       "      <td>-0.975300</td>\n",
       "      <td>-0.960322</td>\n",
       "      <td>-0.998807</td>\n",
       "      <td>-0.974914</td>\n",
       "      <td>-0.957686</td>\n",
       "      <td>-0.943068</td>\n",
       "      <td>...</td>\n",
       "      <td>0.158075</td>\n",
       "      <td>-0.595051</td>\n",
       "      <td>-0.861499</td>\n",
       "      <td>0.053477</td>\n",
       "      <td>-0.007435</td>\n",
       "      <td>-0.732626</td>\n",
       "      <td>0.703511</td>\n",
       "      <td>-0.844788</td>\n",
       "      <td>0.180289</td>\n",
       "      <td>-0.054317</td>\n",
       "    </tr>\n",
       "    <tr>\n",
       "      <th>2</th>\n",
       "      <td>0.279653</td>\n",
       "      <td>-0.019467</td>\n",
       "      <td>-0.113462</td>\n",
       "      <td>-0.995380</td>\n",
       "      <td>-0.967187</td>\n",
       "      <td>-0.978944</td>\n",
       "      <td>-0.996520</td>\n",
       "      <td>-0.963668</td>\n",
       "      <td>-0.977469</td>\n",
       "      <td>-0.938692</td>\n",
       "      <td>...</td>\n",
       "      <td>0.414503</td>\n",
       "      <td>-0.390748</td>\n",
       "      <td>-0.760104</td>\n",
       "      <td>-0.118559</td>\n",
       "      <td>0.177899</td>\n",
       "      <td>0.100699</td>\n",
       "      <td>0.808529</td>\n",
       "      <td>-0.848933</td>\n",
       "      <td>0.180637</td>\n",
       "      <td>-0.049118</td>\n",
       "    </tr>\n",
       "    <tr>\n",
       "      <th>3</th>\n",
       "      <td>0.279174</td>\n",
       "      <td>-0.026201</td>\n",
       "      <td>-0.123283</td>\n",
       "      <td>-0.996091</td>\n",
       "      <td>-0.983403</td>\n",
       "      <td>-0.990675</td>\n",
       "      <td>-0.997099</td>\n",
       "      <td>-0.982750</td>\n",
       "      <td>-0.989302</td>\n",
       "      <td>-0.938692</td>\n",
       "      <td>...</td>\n",
       "      <td>0.404573</td>\n",
       "      <td>-0.117290</td>\n",
       "      <td>-0.482845</td>\n",
       "      <td>-0.036788</td>\n",
       "      <td>-0.012892</td>\n",
       "      <td>0.640011</td>\n",
       "      <td>-0.485366</td>\n",
       "      <td>-0.848649</td>\n",
       "      <td>0.181935</td>\n",
       "      <td>-0.047663</td>\n",
       "    </tr>\n",
       "    <tr>\n",
       "      <th>4</th>\n",
       "      <td>0.276629</td>\n",
       "      <td>-0.016570</td>\n",
       "      <td>-0.115362</td>\n",
       "      <td>-0.998139</td>\n",
       "      <td>-0.980817</td>\n",
       "      <td>-0.990482</td>\n",
       "      <td>-0.998321</td>\n",
       "      <td>-0.979672</td>\n",
       "      <td>-0.990441</td>\n",
       "      <td>-0.942469</td>\n",
       "      <td>...</td>\n",
       "      <td>0.087753</td>\n",
       "      <td>-0.351471</td>\n",
       "      <td>-0.699205</td>\n",
       "      <td>0.123320</td>\n",
       "      <td>0.122542</td>\n",
       "      <td>0.693578</td>\n",
       "      <td>-0.615971</td>\n",
       "      <td>-0.847865</td>\n",
       "      <td>0.185151</td>\n",
       "      <td>-0.043892</td>\n",
       "    </tr>\n",
       "  </tbody>\n",
       "</table>\n",
       "<p>5 rows × 561 columns</p>\n",
       "</div>"
      ],
      "text/plain": [
       "        0         1         2         3         4         5         6    \\\n",
       "0  0.288585 -0.020294 -0.132905 -0.995279 -0.983111 -0.913526 -0.995112   \n",
       "1  0.278419 -0.016411 -0.123520 -0.998245 -0.975300 -0.960322 -0.998807   \n",
       "2  0.279653 -0.019467 -0.113462 -0.995380 -0.967187 -0.978944 -0.996520   \n",
       "3  0.279174 -0.026201 -0.123283 -0.996091 -0.983403 -0.990675 -0.997099   \n",
       "4  0.276629 -0.016570 -0.115362 -0.998139 -0.980817 -0.990482 -0.998321   \n",
       "\n",
       "        7         8         9    ...       551       552       553       554  \\\n",
       "0 -0.983185 -0.923527 -0.934724  ... -0.074323 -0.298676 -0.710304 -0.112754   \n",
       "1 -0.974914 -0.957686 -0.943068  ...  0.158075 -0.595051 -0.861499  0.053477   \n",
       "2 -0.963668 -0.977469 -0.938692  ...  0.414503 -0.390748 -0.760104 -0.118559   \n",
       "3 -0.982750 -0.989302 -0.938692  ...  0.404573 -0.117290 -0.482845 -0.036788   \n",
       "4 -0.979672 -0.990441 -0.942469  ...  0.087753 -0.351471 -0.699205  0.123320   \n",
       "\n",
       "        555       556       557       558       559       560  \n",
       "0  0.030400 -0.464761 -0.018446 -0.841247  0.179941 -0.058627  \n",
       "1 -0.007435 -0.732626  0.703511 -0.844788  0.180289 -0.054317  \n",
       "2  0.177899  0.100699  0.808529 -0.848933  0.180637 -0.049118  \n",
       "3 -0.012892  0.640011 -0.485366 -0.848649  0.181935 -0.047663  \n",
       "4  0.122542  0.693578 -0.615971 -0.847865  0.185151 -0.043892  \n",
       "\n",
       "[5 rows x 561 columns]"
      ]
     },
     "execution_count": 22,
     "metadata": {},
     "output_type": "execute_result"
    }
   ],
   "source": [
    "Xtrain.head()"
   ]
  },
  {
   "cell_type": "code",
   "execution_count": 23,
   "id": "527ef537-b8ce-414d-9103-47916e48f406",
   "metadata": {},
   "outputs": [
    {
     "data": {
      "text/plain": [
       "(7352, 561)"
      ]
     },
     "execution_count": 23,
     "metadata": {},
     "output_type": "execute_result"
    }
   ],
   "source": [
    "Xtrain.shape"
   ]
  },
  {
   "cell_type": "markdown",
   "id": "32adc806-9dd2-4df1-bf91-b6574c6e06bc",
   "metadata": {},
   "source": [
    "Cool. This means that we have the data in `x_train` with columns as all the features **found in** the `features.txt` and the rows are different observations. *(Same as total number of lines in features.txt 7352 == 7352)*"
   ]
  },
  {
   "cell_type": "code",
   "execution_count": 24,
   "id": "9a951c31-8719-4c00-92fd-1f0585c78461",
   "metadata": {},
   "outputs": [
    {
     "name": "stdout",
     "output_type": "stream",
     "text": [
      "5\n",
      "5\n",
      "5\n",
      "5\n",
      "5\n",
      "5\n",
      "5\n",
      "5\n",
      "5\n",
      "5\n"
     ]
    }
   ],
   "source": [
    "# for `y_train`\n",
    "!head \"../data/UCI-HAR/UCI HAR Dataset/train/y_train.txt\""
   ]
  },
  {
   "cell_type": "markdown",
   "id": "c6e33a96-228c-4227-8437-bffa7bc6a69b",
   "metadata": {},
   "source": [
    "This shows the **activity**. Which is encoded from 1 to 5. "
   ]
  },
  {
   "cell_type": "code",
   "execution_count": 25,
   "id": "dc021618-1584-4a2b-9619-533081b3120a",
   "metadata": {},
   "outputs": [
    {
     "name": "stdout",
     "output_type": "stream",
     "text": [
      "7352 ../data/UCI-HAR/UCI HAR Dataset/train/y_train.txt\n"
     ]
    }
   ],
   "source": [
    "!wc -l \"../data/UCI-HAR/UCI HAR Dataset/train/y_train.txt\""
   ]
  },
  {
   "cell_type": "markdown",
   "id": "54b9a79b-feae-4111-a2d0-d1cb515eba0e",
   "metadata": {},
   "source": [
    "Again, the same number of records 7352  == 7352  == 7352 "
   ]
  },
  {
   "cell_type": "code",
   "execution_count": 26,
   "id": "d4ff890e-2fd6-44fe-ade8-8038fd169238",
   "metadata": {},
   "outputs": [
    {
     "name": "stdout",
     "output_type": "stream",
     "text": [
      "body_acc_x_train.txt\n",
      "body_acc_y_train.txt\n",
      "body_acc_z_train.txt\n",
      "body_gyro_x_train.txt\n",
      "body_gyro_y_train.txt\n",
      "body_gyro_z_train.txt\n",
      "total_acc_x_train.txt\n",
      "total_acc_y_train.txt\n",
      "total_acc_z_train.txt\n"
     ]
    }
   ],
   "source": [
    "!ls \"../data/UCI-HAR/UCI HAR Dataset/train/Inertial Signals\""
   ]
  },
  {
   "cell_type": "markdown",
   "id": "feb30956-d6b2-4e50-8973-21cb503b5028",
   "metadata": {},
   "source": [
    "Okay, this looks like there are multiple *other* files to... I don't know!"
   ]
  },
  {
   "cell_type": "code",
   "execution_count": 27,
   "id": "6447de34-47e1-4c27-928d-2085854f7007",
   "metadata": {},
   "outputs": [],
   "source": [
    "# for `x_train`\n",
    "some_file = pd.read_csv(\n",
    "    \"../data/UCI-HAR/UCI HAR Dataset/train/Inertial Signals/body_acc_x_train.txt\",\n",
    "    header=None,\n",
    "    delim_whitespace=True,\n",
    ")"
   ]
  },
  {
   "cell_type": "code",
   "execution_count": 28,
   "id": "8c58fe21-36ef-461a-8a87-4b9c117ff285",
   "metadata": {},
   "outputs": [
    {
     "data": {
      "text/html": [
       "<div>\n",
       "<style scoped>\n",
       "    .dataframe tbody tr th:only-of-type {\n",
       "        vertical-align: middle;\n",
       "    }\n",
       "\n",
       "    .dataframe tbody tr th {\n",
       "        vertical-align: top;\n",
       "    }\n",
       "\n",
       "    .dataframe thead th {\n",
       "        text-align: right;\n",
       "    }\n",
       "</style>\n",
       "<table border=\"1\" class=\"dataframe\">\n",
       "  <thead>\n",
       "    <tr style=\"text-align: right;\">\n",
       "      <th></th>\n",
       "      <th>0</th>\n",
       "      <th>1</th>\n",
       "      <th>2</th>\n",
       "      <th>3</th>\n",
       "      <th>4</th>\n",
       "      <th>5</th>\n",
       "      <th>6</th>\n",
       "      <th>7</th>\n",
       "      <th>8</th>\n",
       "      <th>9</th>\n",
       "      <th>...</th>\n",
       "      <th>118</th>\n",
       "      <th>119</th>\n",
       "      <th>120</th>\n",
       "      <th>121</th>\n",
       "      <th>122</th>\n",
       "      <th>123</th>\n",
       "      <th>124</th>\n",
       "      <th>125</th>\n",
       "      <th>126</th>\n",
       "      <th>127</th>\n",
       "    </tr>\n",
       "  </thead>\n",
       "  <tbody>\n",
       "    <tr>\n",
       "      <th>0</th>\n",
       "      <td>0.000181</td>\n",
       "      <td>0.010139</td>\n",
       "      <td>0.009276</td>\n",
       "      <td>0.005066</td>\n",
       "      <td>0.010810</td>\n",
       "      <td>0.004045</td>\n",
       "      <td>0.004757</td>\n",
       "      <td>0.006214</td>\n",
       "      <td>0.003307</td>\n",
       "      <td>0.007572</td>\n",
       "      <td>...</td>\n",
       "      <td>0.001412</td>\n",
       "      <td>-0.001509</td>\n",
       "      <td>0.000060</td>\n",
       "      <td>0.000435</td>\n",
       "      <td>-0.000819</td>\n",
       "      <td>0.000228</td>\n",
       "      <td>-0.000300</td>\n",
       "      <td>-0.001147</td>\n",
       "      <td>-0.000222</td>\n",
       "      <td>0.001576</td>\n",
       "    </tr>\n",
       "    <tr>\n",
       "      <th>1</th>\n",
       "      <td>0.001094</td>\n",
       "      <td>0.004550</td>\n",
       "      <td>0.002879</td>\n",
       "      <td>0.002247</td>\n",
       "      <td>0.003305</td>\n",
       "      <td>0.002416</td>\n",
       "      <td>0.001619</td>\n",
       "      <td>0.000981</td>\n",
       "      <td>0.000009</td>\n",
       "      <td>-0.000363</td>\n",
       "      <td>...</td>\n",
       "      <td>-0.000104</td>\n",
       "      <td>-0.000141</td>\n",
       "      <td>0.001333</td>\n",
       "      <td>0.001541</td>\n",
       "      <td>0.001077</td>\n",
       "      <td>-0.000736</td>\n",
       "      <td>-0.003767</td>\n",
       "      <td>-0.004646</td>\n",
       "      <td>-0.002941</td>\n",
       "      <td>-0.001599</td>\n",
       "    </tr>\n",
       "    <tr>\n",
       "      <th>2</th>\n",
       "      <td>0.003531</td>\n",
       "      <td>0.002285</td>\n",
       "      <td>-0.000420</td>\n",
       "      <td>-0.003738</td>\n",
       "      <td>-0.006706</td>\n",
       "      <td>-0.003148</td>\n",
       "      <td>0.000733</td>\n",
       "      <td>0.000668</td>\n",
       "      <td>0.002162</td>\n",
       "      <td>-0.000946</td>\n",
       "      <td>...</td>\n",
       "      <td>0.000661</td>\n",
       "      <td>0.001853</td>\n",
       "      <td>-0.000268</td>\n",
       "      <td>-0.000394</td>\n",
       "      <td>-0.000279</td>\n",
       "      <td>-0.000316</td>\n",
       "      <td>0.000144</td>\n",
       "      <td>0.001246</td>\n",
       "      <td>0.003117</td>\n",
       "      <td>0.002178</td>\n",
       "    </tr>\n",
       "    <tr>\n",
       "      <th>3</th>\n",
       "      <td>-0.001772</td>\n",
       "      <td>-0.001311</td>\n",
       "      <td>0.000388</td>\n",
       "      <td>0.000408</td>\n",
       "      <td>-0.000355</td>\n",
       "      <td>0.000998</td>\n",
       "      <td>0.001109</td>\n",
       "      <td>-0.003149</td>\n",
       "      <td>-0.008882</td>\n",
       "      <td>-0.010483</td>\n",
       "      <td>...</td>\n",
       "      <td>0.000458</td>\n",
       "      <td>0.002103</td>\n",
       "      <td>0.001358</td>\n",
       "      <td>0.000820</td>\n",
       "      <td>-0.000212</td>\n",
       "      <td>-0.001915</td>\n",
       "      <td>-0.001631</td>\n",
       "      <td>-0.000867</td>\n",
       "      <td>-0.001172</td>\n",
       "      <td>-0.000028</td>\n",
       "    </tr>\n",
       "    <tr>\n",
       "      <th>4</th>\n",
       "      <td>0.000087</td>\n",
       "      <td>-0.000272</td>\n",
       "      <td>0.001022</td>\n",
       "      <td>0.003126</td>\n",
       "      <td>0.002284</td>\n",
       "      <td>0.000885</td>\n",
       "      <td>0.001933</td>\n",
       "      <td>0.002270</td>\n",
       "      <td>0.002247</td>\n",
       "      <td>0.002175</td>\n",
       "      <td>...</td>\n",
       "      <td>0.002529</td>\n",
       "      <td>0.003518</td>\n",
       "      <td>-0.000248</td>\n",
       "      <td>-0.002761</td>\n",
       "      <td>0.000252</td>\n",
       "      <td>0.003752</td>\n",
       "      <td>0.001626</td>\n",
       "      <td>-0.000698</td>\n",
       "      <td>-0.001223</td>\n",
       "      <td>-0.003328</td>\n",
       "    </tr>\n",
       "  </tbody>\n",
       "</table>\n",
       "<p>5 rows × 128 columns</p>\n",
       "</div>"
      ],
      "text/plain": [
       "        0         1         2         3         4         5         6    \\\n",
       "0  0.000181  0.010139  0.009276  0.005066  0.010810  0.004045  0.004757   \n",
       "1  0.001094  0.004550  0.002879  0.002247  0.003305  0.002416  0.001619   \n",
       "2  0.003531  0.002285 -0.000420 -0.003738 -0.006706 -0.003148  0.000733   \n",
       "3 -0.001772 -0.001311  0.000388  0.000408 -0.000355  0.000998  0.001109   \n",
       "4  0.000087 -0.000272  0.001022  0.003126  0.002284  0.000885  0.001933   \n",
       "\n",
       "        7         8         9    ...       118       119       120       121  \\\n",
       "0  0.006214  0.003307  0.007572  ...  0.001412 -0.001509  0.000060  0.000435   \n",
       "1  0.000981  0.000009 -0.000363  ... -0.000104 -0.000141  0.001333  0.001541   \n",
       "2  0.000668  0.002162 -0.000946  ...  0.000661  0.001853 -0.000268 -0.000394   \n",
       "3 -0.003149 -0.008882 -0.010483  ...  0.000458  0.002103  0.001358  0.000820   \n",
       "4  0.002270  0.002247  0.002175  ...  0.002529  0.003518 -0.000248 -0.002761   \n",
       "\n",
       "        122       123       124       125       126       127  \n",
       "0 -0.000819  0.000228 -0.000300 -0.001147 -0.000222  0.001576  \n",
       "1  0.001077 -0.000736 -0.003767 -0.004646 -0.002941 -0.001599  \n",
       "2 -0.000279 -0.000316  0.000144  0.001246  0.003117  0.002178  \n",
       "3 -0.000212 -0.001915 -0.001631 -0.000867 -0.001172 -0.000028  \n",
       "4  0.000252  0.003752  0.001626 -0.000698 -0.001223 -0.003328  \n",
       "\n",
       "[5 rows x 128 columns]"
      ]
     },
     "execution_count": 28,
     "metadata": {},
     "output_type": "execute_result"
    }
   ],
   "source": [
    "some_file.head()"
   ]
  },
  {
   "cell_type": "markdown",
   "id": "310463cf-486b-462c-9167-90ddc6938e1a",
   "metadata": {},
   "source": [
    "Alright, it has `128` columns now. We have seen this number before. This is the number derived from **tracking a single activity** with the 50Hz of refresh rate run for 2.56 seconds."
   ]
  },
  {
   "cell_type": "code",
   "execution_count": 29,
   "id": "40085c65-aa79-4025-8cf7-397fb2f0c9cd",
   "metadata": {},
   "outputs": [
    {
     "data": {
      "text/plain": [
       "128.0"
      ]
     },
     "execution_count": 29,
     "metadata": {},
     "output_type": "execute_result"
    }
   ],
   "source": [
    "50 * 2.56"
   ]
  },
  {
   "cell_type": "code",
   "execution_count": 30,
   "id": "0703f972-442c-4469-b92f-b10da462fccd",
   "metadata": {},
   "outputs": [
    {
     "data": {
      "text/plain": [
       "(7352, 128)"
      ]
     },
     "execution_count": 30,
     "metadata": {},
     "output_type": "execute_result"
    }
   ],
   "source": [
    "some_file.shape"
   ]
  },
  {
   "cell_type": "markdown",
   "id": "de891046-6eaf-4c74-b7c8-c8d07c3422f4",
   "metadata": {},
   "source": [
    "This `7352` number is a huge helper for us. Keep that in mind 🧠"
   ]
  },
  {
   "cell_type": "code",
   "execution_count": 31,
   "id": "ba7b5e11-00a2-4783-9f99-643ace6087af",
   "metadata": {},
   "outputs": [
    {
     "data": {
      "image/png": "[encoded data removed]",
      "text/plain": [
       "<Figure size 1440x720 with 1 Axes>"
      ]
     },
     "metadata": {
      "needs_background": "light"
     },
     "output_type": "display_data"
    }
   ],
   "source": [
    "# a single record in the intertial folder\n",
    "some_file.iloc[0].plot();"
   ]
  },
  {
   "cell_type": "code",
   "execution_count": 32,
   "id": "89f71c30-3ee6-463a-ab5c-ad0adc92491d",
   "metadata": {},
   "outputs": [
    {
     "data": {
      "image/png": "[encoded data removed]",
      "text/plain": [
       "<Figure size 1440x720 with 1 Axes>"
      ]
     },
     "metadata": {
      "needs_background": "light"
     },
     "output_type": "display_data"
    }
   ],
   "source": [
    "# a single column in the Xtrain file\n",
    "Xtrain.iloc[:, 0].plot();"
   ]
  },
  {
   "cell_type": "markdown",
   "id": "1e648463-50fd-4d51-bb8e-814bf8a9d875",
   "metadata": {},
   "source": [
    "### 🤩 Are you feeling something about the N x T x D now?\n",
    "It looks like we are looking at the data from multiple dimensions. **Nah.** We're not."
   ]
  },
  {
   "cell_type": "markdown",
   "id": "aa82b491-dfab-450c-9291-3a6ae201a280",
   "metadata": {},
   "source": [
    "- **Inertial Signals** are the collection of the **original** signals (of course the preprocessed but the simple, straingt signals.) \n",
    "- That means, whatever we have in the `x_train` or in `x_test` with 561 features are the **result** of feature engineering on the straight **intertial signals**!!\n",
    "- Thus, we have 2 options:\n",
    "    1. Either use the **ready** feature engineered file.\n",
    "    2. Use the raw signals from the intertial signals folder.\n",
    "- Note that inertial signals folder has `9` files. So, `x`, `y` and `z` from gyroscore and accelerometer *(and another one from body acceleration, as we have calculated above)*."
   ]
  },
  {
   "cell_type": "markdown",
   "id": "de95d522-e95d-4d7c-9374-af2c3bb12c53",
   "metadata": {},
   "source": [
    "> To make this project fun and understandable, we are going to use the files from the \"inertial signals\" folder and make the dataset from ground up. "
   ]
  },
  {
   "cell_type": "markdown",
   "id": "30ab3687-0402-43e6-9ad7-030aa54a7ac7",
   "metadata": {},
   "source": [
    "We have the following files to combine:"
   ]
  },
  {
   "cell_type": "code",
   "execution_count": 33,
   "id": "68de0a5b-1b2f-4e41-8fd0-c094257241be",
   "metadata": {},
   "outputs": [
    {
     "name": "stdout",
     "output_type": "stream",
     "text": [
      "body_acc_x_train.txt\n",
      "body_acc_y_train.txt\n",
      "body_acc_z_train.txt\n",
      "body_gyro_x_train.txt\n",
      "body_gyro_y_train.txt\n",
      "body_gyro_z_train.txt\n",
      "total_acc_x_train.txt\n",
      "total_acc_y_train.txt\n",
      "total_acc_z_train.txt\n"
     ]
    }
   ],
   "source": [
    "!ls \"../data/UCI-HAR/UCI HAR Dataset/train/Inertial Signals\""
   ]
  },
  {
   "cell_type": "markdown",
   "id": "d99a049d-2122-4ba2-9aff-0e48348e0fc9",
   "metadata": {},
   "source": [
    "Which will look like..."
   ]
  },
  {
   "cell_type": "markdown",
   "id": "97bceefe-c391-4deb-ae49-80ed63fd3f92",
   "metadata": {},
   "source": [
    "<img src=\"../images/data-viz.jpg\" height=400 width=400>"
   ]
  },
  {
   "cell_type": "markdown",
   "id": "e7f47242-29c0-4ce7-8914-71c67b53cff1",
   "metadata": {},
   "source": [
    "For both, *train* and *test*.\n",
    "___\n",
    "Let's code that out!"
   ]
  },
  {
   "cell_type": "markdown",
   "id": "58618ea8-e3ea-4690-940a-6a27f8e852e4",
   "metadata": {},
   "source": [
    "👉 Number of records in training!"
   ]
  },
  {
   "cell_type": "code",
   "execution_count": 34,
   "id": "d2d2b5ae-9be4-4284-b5ed-9226be8c0c15",
   "metadata": {},
   "outputs": [
    {
     "name": "stdout",
     "output_type": "stream",
     "text": [
      "7352 ../data/UCI-HAR/UCI HAR Dataset/train/Inertial Signals/body_acc_x_train.txt\n"
     ]
    }
   ],
   "source": [
    "!wc -l \"../data/UCI-HAR/UCI HAR Dataset/train/Inertial Signals/body_acc_x_train.txt\""
   ]
  },
  {
   "cell_type": "markdown",
   "id": "c3219133-e88b-45ec-b4e8-e5a319e75800",
   "metadata": {},
   "source": [
    "👉 Number of records in testing!"
   ]
  },
  {
   "cell_type": "code",
   "execution_count": 35,
   "id": "b7aa8f4a-85ce-4b40-a403-66f96addeab9",
   "metadata": {},
   "outputs": [
    {
     "name": "stdout",
     "output_type": "stream",
     "text": [
      "2947 ../data/UCI-HAR/UCI HAR Dataset/test/Inertial Signals/body_acc_x_test.txt\n"
     ]
    }
   ],
   "source": [
    "!wc -l \"../data/UCI-HAR/UCI HAR Dataset/test/Inertial Signals/body_acc_x_test.txt\""
   ]
  },
  {
   "cell_type": "code",
   "execution_count": 36,
   "id": "d2bb1eba-ef4d-4a19-9bf7-dd18ce289198",
   "metadata": {},
   "outputs": [],
   "source": [
    "# loading all 9 files and storing them in the array for easy access!\n",
    "Ntrain = 7352\n",
    "Ntest = 2947\n",
    "T = 128\n",
    "D = 9"
   ]
  },
  {
   "cell_type": "markdown",
   "id": "145bec8a-12ab-4d91-b79d-41510a3377b6",
   "metadata": {},
   "source": [
    "Great. Now, let's make the **empty** arrays where the data will be stored."
   ]
  },
  {
   "cell_type": "code",
   "execution_count": 37,
   "id": "25976b5f-7b99-4573-b7b4-1db0a6edbed6",
   "metadata": {},
   "outputs": [],
   "source": [
    "train = np.zeros(shape=(Ntrain, T, D))\n",
    "test = np.zeros(shape=(Ntest, T, D))"
   ]
  },
  {
   "cell_type": "markdown",
   "id": "e9adfda9-90cf-46ab-b52a-972b03e165ee",
   "metadata": {},
   "source": [
    "Now, let's start storing!"
   ]
  },
  {
   "cell_type": "code",
   "execution_count": 38,
   "id": "c93cb47e-68b8-4cfb-8730-cdc120c6a88a",
   "metadata": {},
   "outputs": [
    {
     "name": "stdout",
     "output_type": "stream",
     "text": [
      "Reading & Storing Successful for D = 0\n",
      "Reading & Storing Successful for D = 1\n",
      "Reading & Storing Successful for D = 2\n",
      "Reading & Storing Successful for D = 3\n",
      "Reading & Storing Successful for D = 4\n",
      "Reading & Storing Successful for D = 5\n",
      "Reading & Storing Successful for D = 6\n",
      "Reading & Storing Successful for D = 7\n",
      "Reading & Storing Successful for D = 8\n"
     ]
    }
   ],
   "source": [
    "# for training\n",
    "path = \"../data/UCI-HAR/UCI HAR Dataset/train/Inertial Signals/\"\n",
    "for Dth, file in enumerate(os.listdir(path=path)):\n",
    "    data = pd.read_csv(path + file, header=None, delim_whitespace=True).values\n",
    "    train[:, :, Dth] = data\n",
    "    print(\"Reading & Storing Successful for D =\", Dth)"
   ]
  },
  {
   "cell_type": "code",
   "execution_count": 39,
   "id": "da69a6e6-5f0e-4290-9a2b-af7d7eea563c",
   "metadata": {},
   "outputs": [
    {
     "name": "stdout",
     "output_type": "stream",
     "text": [
      "Reading & Storing Successful for D = 0\n",
      "Reading & Storing Successful for D = 1\n",
      "Reading & Storing Successful for D = 2\n",
      "Reading & Storing Successful for D = 3\n",
      "Reading & Storing Successful for D = 4\n",
      "Reading & Storing Successful for D = 5\n",
      "Reading & Storing Successful for D = 6\n",
      "Reading & Storing Successful for D = 7\n",
      "Reading & Storing Successful for D = 8\n"
     ]
    }
   ],
   "source": [
    "# for testing\n",
    "path = \"../data/UCI-HAR/UCI HAR Dataset/test/Inertial Signals/\"\n",
    "for Dth, file in enumerate(os.listdir(path=path)):\n",
    "    data = pd.read_csv(path + file, header=None, delim_whitespace=True).values\n",
    "    test[:, :, Dth] = data\n",
    "    print(\"Reading & Storing Successful for D =\", Dth)"
   ]
  },
  {
   "cell_type": "code",
   "execution_count": 40,
   "id": "f0cd9f66-16ba-4492-a744-8af691e44c26",
   "metadata": {},
   "outputs": [
    {
     "data": {
      "text/plain": [
       "(7352, 128, 9)"
      ]
     },
     "execution_count": 40,
     "metadata": {},
     "output_type": "execute_result"
    }
   ],
   "source": [
    "train.shape"
   ]
  },
  {
   "cell_type": "code",
   "execution_count": 41,
   "id": "d7b2200e-85c6-4017-8e33-ce361394afc5",
   "metadata": {},
   "outputs": [
    {
     "data": {
      "text/plain": [
       "(2947, 128, 9)"
      ]
     },
     "execution_count": 41,
     "metadata": {},
     "output_type": "execute_result"
    }
   ],
   "source": [
    "test.shape"
   ]
  },
  {
   "cell_type": "markdown",
   "id": "03cc2d8d-fdd1-4378-ac33-159134d1b3a1",
   "metadata": {},
   "source": [
    "### 🆒 "
   ]
  },
  {
   "cell_type": "markdown",
   "id": "0d767ed5-6d1e-4d8e-a865-20615853976f",
   "metadata": {},
   "source": [
    "#### Did we just forget our `y`?"
   ]
  },
  {
   "cell_type": "code",
   "execution_count": 42,
   "id": "6a1cf4d0-b5f4-49f7-a34d-8549873ea557",
   "metadata": {},
   "outputs": [],
   "source": [
    "ytrain = pd.read_csv(\n",
    "    \"../data/UCI-HAR/UCI HAR Dataset/train/y_train.txt\", header=None\n",
    ").values.flatten()\n",
    "ytest = pd.read_csv(\n",
    "    \"../data/UCI-HAR/UCI HAR Dataset/test/y_test.txt\", header=None\n",
    ").values.flatten()"
   ]
  },
  {
   "cell_type": "markdown",
   "id": "0bf711ac-d9a4-42e6-b62b-41c063fb3568",
   "metadata": {},
   "source": [
    "And also we need to **subtract** the `1` from the labels... otherwise in the accuracy... we will face some bad problems 😊"
   ]
  },
  {
   "cell_type": "code",
   "execution_count": 43,
   "id": "5eff0dfb-9c71-46ac-9398-7957446d3b3d",
   "metadata": {},
   "outputs": [],
   "source": [
    "ytrain = ytrain - 1\n",
    "ytest = ytest - 1"
   ]
  },
  {
   "cell_type": "code",
   "execution_count": 44,
   "id": "1988ca98-dd2a-468e-bced-bee6580bf843",
   "metadata": {},
   "outputs": [
    {
     "data": {
      "text/plain": [
       "(7352,)"
      ]
     },
     "execution_count": 44,
     "metadata": {},
     "output_type": "execute_result"
    }
   ],
   "source": [
    "ytrain.shape"
   ]
  },
  {
   "cell_type": "markdown",
   "id": "72de0cce-4c40-48bb-8ac4-8301155ae506",
   "metadata": {},
   "source": [
    "### 🆒 "
   ]
  },
  {
   "cell_type": "code",
   "execution_count": 45,
   "id": "93d3b7be-a986-482a-b03b-53a804d03d7f",
   "metadata": {},
   "outputs": [
    {
     "data": {
      "image/png": "[encoded data removed]",
      "text/plain": [
       "<Figure size 1440x720 with 1 Axes>"
      ]
     },
     "metadata": {
      "needs_background": "light"
     },
     "output_type": "display_data"
    }
   ],
   "source": [
    "# this is how `1` person's data looks like\n",
    "# for all 9 sensors.\n",
    "plt.plot(train[7000, :, :]);"
   ]
  },
  {
   "cell_type": "markdown",
   "id": "8b655e9a-b425-4fa2-a8ec-98ac13330432",
   "metadata": {},
   "source": [
    "Here, we are plotting: "
   ]
  },
  {
   "cell_type": "markdown",
   "id": "4220669d-e709-40a5-a1d7-3ad75737f7da",
   "metadata": {},
   "source": [
    "<img src=\"../images/all-sensors.jpg\" height=300 width=300>"
   ]
  },
  {
   "cell_type": "markdown",
   "id": "67569a0e-d464-4c82-a11c-a04be29d2970",
   "metadata": {},
   "source": [
    "*Used 7000th person because in the course, the author uses the same number. I have tried different numbers like 123, 1212, 999... but those persons are not showing a good chart like this. Hats off to the author for bringing this 7000th person with this clear view.*"
   ]
  },
  {
   "cell_type": "markdown",
   "id": "5d5e3454-0ca2-406b-b670-42e4aebb1590",
   "metadata": {},
   "source": [
    "# "
   ]
  },
  {
   "cell_type": "markdown",
   "id": "a760f6c5-f2a4-4f24-b207-f48c522119f8",
   "metadata": {},
   "source": [
    "# Model Building"
   ]
  },
  {
   "cell_type": "markdown",
   "id": "a8f1eb27-4d3b-4c76-af05-acba8e6dc015",
   "metadata": {},
   "source": [
    "<p align=\"center\">\n",
    "<img src=\"../images/neural_net.jpg\" height=500 width=300 alt=\"https://process.studio\">\n",
    "</p> "
   ]
  },
  {
   "cell_type": "markdown",
   "id": "ae5fb550-302f-44ca-a5a0-10b436a88f93",
   "metadata": {},
   "source": [
    "Now, we will start making the *multi tailed neural network* and that for *each D*."
   ]
  },
  {
   "cell_type": "code",
   "execution_count": 46,
   "id": "42513a3e-b84f-4241-b8a4-fbe9d093d080",
   "metadata": {},
   "outputs": [],
   "source": [
    "# to store input layers\n",
    "input_layers = []\n",
    "\n",
    "# to store the last hidden layers\n",
    "last_hidden_layers = []\n",
    "\n",
    "# this loop will iterate for D times\n",
    "for i in range(D):\n",
    "    input_layer = Input(shape=(T,))\n",
    "    hidden_layer = Dense(64, activation=\"relu\")(input_layer)\n",
    "    hidden_layer = Dense(32, activation=\"relu\")(hidden_layer)\n",
    "\n",
    "    input_layers.append(input_layer)\n",
    "    last_hidden_layers.append(hidden_layer)"
   ]
  },
  {
   "cell_type": "markdown",
   "id": "52f4c1cc-51d0-4bc4-87be-9710aaf0d958",
   "metadata": {},
   "source": [
    "Till now, we have the **left side** of the all `9` neural network ready. The right side of **concatination** and the **final output** layer is still remaining."
   ]
  },
  {
   "cell_type": "code",
   "execution_count": 47,
   "id": "bf717077-dc73-48a5-8aff-25f75564c8b4",
   "metadata": {},
   "outputs": [
    {
     "data": {
      "text/plain": [
       "9"
      ]
     },
     "execution_count": 47,
     "metadata": {},
     "output_type": "execute_result"
    }
   ],
   "source": [
    "len(last_hidden_layers)"
   ]
  },
  {
   "cell_type": "code",
   "execution_count": 48,
   "id": "5f8c6cd5-aae9-423a-a40c-8ef9a746b3fb",
   "metadata": {},
   "outputs": [],
   "source": [
    "fully_concatinated_layer = Concatenate()(last_hidden_layers)"
   ]
  },
  {
   "cell_type": "code",
   "execution_count": 49,
   "id": "4c5d31cd-c379-43d0-bf5c-988068cea1fa",
   "metadata": {},
   "outputs": [
    {
     "data": {
      "text/plain": [
       "<KerasTensor: shape=(None, 288) dtype=float32 (created by layer 'concatenate')>"
      ]
     },
     "execution_count": 49,
     "metadata": {},
     "output_type": "execute_result"
    }
   ],
   "source": [
    "fully_concatinated_layer"
   ]
  },
  {
   "cell_type": "code",
   "execution_count": 50,
   "id": "064225c3-d911-45d2-a001-1a16cf27eb79",
   "metadata": {},
   "outputs": [
    {
     "data": {
      "text/plain": [
       "288"
      ]
     },
     "execution_count": 50,
     "metadata": {},
     "output_type": "execute_result"
    }
   ],
   "source": [
    "32 * 9"
   ]
  },
  {
   "cell_type": "markdown",
   "id": "f88b581e-3a2d-47ed-a7cd-703928e81a24",
   "metadata": {},
   "source": [
    "See that number `288`? <br>\n",
    "That means, the last hidden_layer of 32 nodes for all 9 neural network have been concatenated and have made a **single major** layer with `288` nodes. Simple calculation!"
   ]
  },
  {
   "cell_type": "code",
   "execution_count": 51,
   "id": "8fa255b3-15a4-421e-a4be-ea00372d8d06",
   "metadata": {},
   "outputs": [],
   "source": [
    "# the number of classes\n",
    "n_classes = 6\n",
    "output_layer = Dense(n_classes, activation=\"softmax\")(fully_concatinated_layer)\n",
    "model = Model(input_layers, output_layer)"
   ]
  },
  {
   "cell_type": "code",
   "execution_count": 52,
   "id": "945da625-8694-4489-8c2e-f744e75cb0e5",
   "metadata": {},
   "outputs": [
    {
     "data": {
      "text/plain": [
       "<keras.engine.functional.Functional at 0x19386b56df0>"
      ]
     },
     "execution_count": 52,
     "metadata": {},
     "output_type": "execute_result"
    }
   ],
   "source": [
    "model"
   ]
  },
  {
   "cell_type": "markdown",
   "id": "55d79c6b-5fc6-4d72-926f-72ebf15e6fb3",
   "metadata": {},
   "source": [
    "Now, finally the model is **ready** 🤘"
   ]
  },
  {
   "cell_type": "code",
   "execution_count": 53,
   "id": "393dcdfe-72b9-4da6-bc9c-92bcf3968960",
   "metadata": {},
   "outputs": [
    {
     "data": {
      "image/png": "[encoded data removed]",
      "text/plain": [
       "<IPython.core.display.Image object>"
      ]
     },
     "execution_count": 53,
     "metadata": {},
     "output_type": "execute_result"
    }
   ],
   "source": [
    "tf.keras.utils.plot_model(model)"
   ]
  },
  {
   "cell_type": "markdown",
   "id": "6b81b827-cb2d-4df5-ab7c-f470d76970b1",
   "metadata": {},
   "source": [
    "Aha! This os probably the first time that we are visualizing the model. Before this, it was **possible** but with this library, we would have only plotted a linear structure... like just 4 blocks stacked upon each.\n",
    "\n",
    "Now, this is the multi-tailed, so there are 9 parallel mini-neural networks and after that, they all are combined in a single concatenated layer.\n",
    "\n",
    "___\n",
    "\n",
    "There are other libraries for keras to visualize single model with **all nodes inside**, like the structure that we want to see... but they don't work the way we are making the model.\n",
    "\n",
    "They expect us to make the model like `model = Sequential()` and then keep adding the layers into it. If the model is made like that, then they (the libraries) can help us visualize."
   ]
  },
  {
   "cell_type": "code",
   "execution_count": 54,
   "id": "9981ac3d-2ecb-4a09-8fa0-8ee42a69ecc2",
   "metadata": {},
   "outputs": [],
   "source": [
    "# making a checkpoint\n",
    "check_point = ModelCheckpoint(\n",
    "    \"./best_model_for_human.h5\", monitor=\"val_accuracy\", save_best_only=True\n",
    ")"
   ]
  },
  {
   "cell_type": "markdown",
   "id": "ba0ffd87-2f5b-418d-a8b5-587a613868e2",
   "metadata": {},
   "source": [
    "We have made **a checkpoint** object which will be used in the compile, so that it will help us to save the intermediate model on ***that*** epoch which results in the least loss and / or the highest accuracy defined in the `monitor` attribute. "
   ]
  },
  {
   "cell_type": "code",
   "execution_count": 55,
   "id": "70c27246-0650-4651-8d84-7717c1b4136b",
   "metadata": {},
   "outputs": [],
   "source": [
    "model.compile(optimizer=\"adam\", loss=\"mse\", metrics=[\"accuracy\"])"
   ]
  },
  {
   "cell_type": "markdown",
   "id": "c848b9f2-2c59-404e-ada7-bc2277f0d318",
   "metadata": {},
   "source": [
    "Now, just we have to `fit` the model."
   ]
  },
  {
   "cell_type": "code",
   "execution_count": 56,
   "id": "f4147109-3928-4383-bda6-0a3c430c21fc",
   "metadata": {},
   "outputs": [
    {
     "data": {
      "text/plain": [
       "(7352, 128, 9)"
      ]
     },
     "execution_count": 56,
     "metadata": {},
     "output_type": "execute_result"
    }
   ],
   "source": [
    "train.shape"
   ]
  },
  {
   "cell_type": "markdown",
   "id": "b3935841-470c-4261-9cec-eb538d7a5333",
   "metadata": {},
   "source": [
    "Running this: \n",
    "```python\n",
    "model.fit(Xtrain)\n",
    "```\n",
    "Will result in:\n",
    "> ValueError: Layer \"model\" expects 9 input(s), but it received 1 input tensors. Inputs received: [<tf.Tensor 'IteratorGetNext:0' shape=(None, 128, 9) dtype=float32>]"
   ]
  },
  {
   "cell_type": "markdown",
   "id": "56cbaf4d-e1de-496f-80ab-ec8c16122414",
   "metadata": {},
   "source": [
    "Because, ***we will need to pass the data in the form that it expects***.\n",
    "\n",
    "See, the data is like (N x T x D) and the main data that we are interested in is, (N x T) per D. And the model is made like this, right?"
   ]
  },
  {
   "cell_type": "markdown",
   "id": "0738c6a4-ca53-489d-98ba-0adeec6df5bc",
   "metadata": {},
   "source": [
    "So, we will have to make a \"list\" for N x T per D."
   ]
  },
  {
   "cell_type": "code",
   "execution_count": 57,
   "id": "9af3a477-c636-4771-a9dc-72ac922ceb62",
   "metadata": {},
   "outputs": [],
   "source": [
    "Xtrain_shapped = []\n",
    "Xtest_shapped = []"
   ]
  },
  {
   "cell_type": "code",
   "execution_count": 58,
   "id": "caa57ebe-c41f-4722-acdb-acac6919478f",
   "metadata": {},
   "outputs": [],
   "source": [
    "for Dth in range(D):\n",
    "    Xtrain_shapped.append(train[:, :, Dth])\n",
    "    Xtest_shapped.append(test[:, :, Dth])"
   ]
  },
  {
   "cell_type": "markdown",
   "id": "ae13ee66-0ab6-4ab2-a4b6-92c1473ec048",
   "metadata": {},
   "source": [
    "Let's try running our model now."
   ]
  },
  {
   "cell_type": "code",
   "execution_count": 59,
   "id": "9cb06757-52ff-4826-89fd-f02de00faf46",
   "metadata": {},
   "outputs": [
    {
     "data": {
      "application/vnd.jupyter.widget-view+json": {
       "model_id": "d20d1203b44d40759ae00ec459e76b4d",
       "version_major": 2,
       "version_minor": 0
      },
      "text/plain": [
       "0epoch [00:00, ?epoch/s]"
      ]
     },
     "metadata": {},
     "output_type": "display_data"
    }
   ],
   "source": [
    "result = model.fit(\n",
    "    Xtrain_shapped,\n",
    "    ytrain,\n",
    "    epochs=20,\n",
    "    validation_data=(Xtest_shapped, ytest),\n",
    "    verbose=0,\n",
    "    callbacks=[check_point, TqdmCallback(verbose=0)],\n",
    ")"
   ]
  },
  {
   "cell_type": "code",
   "execution_count": 60,
   "id": "0eec3bd9-826a-48ab-ae3e-980385e85841",
   "metadata": {},
   "outputs": [
    {
     "data": {
      "image/png": "[encoded data removed]",
      "text/plain": [
       "<Figure size 1440x720 with 1 Axes>"
      ]
     },
     "metadata": {
      "needs_background": "light"
     },
     "output_type": "display_data"
    }
   ],
   "source": [
    "plt.plot(result.history[\"accuracy\"], label=\"Training Acc\")\n",
    "plt.plot(result.history[\"val_accuracy\"], label=\"Validation Acc\")\n",
    "plt.legend();"
   ]
  },
  {
   "cell_type": "markdown",
   "id": "609d141a-3a80-4991-bf80-45934228036b",
   "metadata": {},
   "source": [
    "<img src=\"https://c.tenor.com/IJwsfw7ToiQAAAAd/wait-what.gif\" width=300 height=500>"
   ]
  },
  {
   "cell_type": "markdown",
   "id": "50c8d188-ab4e-4bd0-82bf-95346059d897",
   "metadata": {},
   "source": [
    "Just some... 30% accuracy in the training data!?"
   ]
  },
  {
   "cell_type": "markdown",
   "id": "3f883e50-44f6-4ce8-8ed7-ef834c0d3767",
   "metadata": {},
   "source": [
    "- The reason is that... we have use the `softmax` as the activation in the final layer.\n",
    "- WHICH WE SHOULD. When we have the data in the **one - hot encoded** format.\n",
    "- Here, we have the data in the [1], [3], [4] format. Which is called **sparse** format.\n",
    "\n",
    "Just for the testing..."
   ]
  },
  {
   "cell_type": "code",
   "execution_count": 61,
   "id": "f42edc6f-3c7f-423c-893e-708eb669019a",
   "metadata": {},
   "outputs": [
    {
     "name": "stdout",
     "output_type": "stream",
     "text": [
      "93/93 [==============================] - 1s 3ms/step\n"
     ]
    }
   ],
   "source": [
    "pred = model.predict(Xtest_shapped)"
   ]
  },
  {
   "cell_type": "markdown",
   "id": "5183e0d6-4e16-4135-af09-a2a2936dbfa4",
   "metadata": {},
   "source": [
    "To work with `softmax` you will need to convert the classes in one-hot encoding:\n",
    "```python\n",
    "from tensorflow.keras.utils import to_categorical\n",
    "\n",
    "ytrain_cat = to_categorical(ytrain)\n",
    "ytest_cat = to_categorical(ytest)\n",
    "```\n",
    "\n",
    "And, then training the model with this will **surely** improve the result. I have tried that, believe me. Not including here so to avoid a repetitive code."
   ]
  },
  {
   "cell_type": "markdown",
   "id": "4b257d41-6376-49a2-85c9-1f26b97091fd",
   "metadata": {},
   "source": [
    "#### What's the alternative?\n",
    "We can use the `SparseCategoricalEntropy` when we **don't want to convert the classes** in the one-hot and just want to work with 1, 4, 5..."
   ]
  },
  {
   "cell_type": "code",
   "execution_count": 62,
   "id": "e956ae49-8c11-4a95-86bc-a942d720bf5c",
   "metadata": {},
   "outputs": [],
   "source": [
    "# to store input layers\n",
    "input_layers = []\n",
    "\n",
    "# to store the last hidden layers\n",
    "last_hidden_layers = []\n",
    "\n",
    "# this loop will iterate for D times\n",
    "for i in range(D):\n",
    "    input_layer = Input(shape=(T,))\n",
    "    hidden_layer = Dense(64, activation=\"relu\")(input_layer)\n",
    "    hidden_layer = Dense(32, activation=\"relu\")(hidden_layer)\n",
    "\n",
    "    input_layers.append(input_layer)\n",
    "    last_hidden_layers.append(hidden_layer)\n",
    "\n",
    "fully_concatinated_layer = Concatenate()(last_hidden_layers)\n",
    "\n",
    "# the number of classes\n",
    "n_classes = 6\n",
    "output_layer = Dense(n_classes)(fully_concatinated_layer)  # NOTE \"softmax\" is removed.\n",
    "model = Model(input_layers, output_layer)"
   ]
  },
  {
   "cell_type": "code",
   "execution_count": 63,
   "id": "9990be4e-dd09-427f-af19-ce2174d90e48",
   "metadata": {},
   "outputs": [
    {
     "data": {
      "text/plain": [
       "<keras.engine.functional.Functional at 0x193879e8be0>"
      ]
     },
     "execution_count": 63,
     "metadata": {},
     "output_type": "execute_result"
    }
   ],
   "source": [
    "model"
   ]
  },
  {
   "cell_type": "code",
   "execution_count": 64,
   "id": "9a6cc827-649d-488e-90b5-6efddce72a3f",
   "metadata": {},
   "outputs": [],
   "source": [
    "# making a checkpoint\n",
    "check_point = ModelCheckpoint(\n",
    "    \"./best_model_for_human.h5\", monitor=\"val_accuracy\", save_best_only=True\n",
    ")"
   ]
  },
  {
   "cell_type": "code",
   "execution_count": 65,
   "id": "58312ad5-33db-4b80-9f0c-20864d124413",
   "metadata": {},
   "outputs": [],
   "source": [
    "model.compile(\n",
    "    optimizer=\"adam\",\n",
    "    loss=SparseCategoricalCrossentropy(from_logits=True),  ### ← This one ← ###\n",
    "    metrics=[\"accuracy\"],\n",
    ")"
   ]
  },
  {
   "cell_type": "code",
   "execution_count": 66,
   "id": "fdc4b5f3-dd46-4688-b711-7dd14cfe9b14",
   "metadata": {},
   "outputs": [
    {
     "data": {
      "application/vnd.jupyter.widget-view+json": {
       "model_id": "795bea1f20784089b288d2b886017004",
       "version_major": 2,
       "version_minor": 0
      },
      "text/plain": [
       "0epoch [00:00, ?epoch/s]"
      ]
     },
     "metadata": {},
     "output_type": "display_data"
    }
   ],
   "source": [
    "result = model.fit(\n",
    "    Xtrain_shapped,\n",
    "    ytrain,\n",
    "    epochs=20,\n",
    "    validation_data=(Xtest_shapped, ytest),\n",
    "    verbose=0,\n",
    "    callbacks=[check_point, TqdmCallback(verbose=0)],\n",
    ")"
   ]
  },
  {
   "cell_type": "code",
   "execution_count": 67,
   "id": "6747acaf-379a-4527-8bd1-4c64bd661d89",
   "metadata": {},
   "outputs": [
    {
     "data": {
      "image/png": "[encoded data removed]",
      "text/plain": [
       "<Figure size 1440x720 with 1 Axes>"
      ]
     },
     "metadata": {
      "needs_background": "light"
     },
     "output_type": "display_data"
    }
   ],
   "source": [
    "plt.plot(result.history[\"accuracy\"], label=\"Training Acc\")\n",
    "plt.plot(result.history[\"val_accuracy\"], label=\"Validation Acc\")\n",
    "plt.legend();"
   ]
  },
  {
   "cell_type": "markdown",
   "id": "0e4b3707-9885-4173-bc63-83ebc3b9d76b",
   "metadata": {},
   "source": [
    "Have a look! This is amazing."
   ]
  },
  {
   "cell_type": "code",
   "execution_count": 68,
   "id": "533ae801-f9dc-4313-ab08-d59d76215dd6",
   "metadata": {},
   "outputs": [],
   "source": [
    "# loading the best model\n",
    "best_model = tf.keras.models.load_model(\"./best_model_for_human.h5\")"
   ]
  },
  {
   "cell_type": "markdown",
   "id": "f964598c-762b-456f-ba0d-8cc4f3acafd8",
   "metadata": {},
   "source": [
    "And this is how we load the model!"
   ]
  },
  {
   "cell_type": "code",
   "execution_count": 69,
   "id": "be0fc8ae-a86a-4606-96a1-c702cfee94c1",
   "metadata": {},
   "outputs": [
    {
     "name": "stdout",
     "output_type": "stream",
     "text": [
      "93/93 [==============================] - 1s 3ms/step\n"
     ]
    }
   ],
   "source": [
    "preds = best_model.predict(Xtest_shapped)"
   ]
  },
  {
   "cell_type": "code",
   "execution_count": 70,
   "id": "def7a889-2a4d-4742-a6e6-8a786218a58b",
   "metadata": {},
   "outputs": [
    {
     "data": {
      "text/plain": [
       "array([[ -2.276115 ,  -3.2679384, -12.064729 ,   3.0087852,   5.730511 ,\n",
       "        -18.811234 ],\n",
       "       [ -2.0072792,  -2.99531  , -12.468675 ,   2.2533572,   7.5724053,\n",
       "        -18.78289  ],\n",
       "       [ -2.0451794,  -3.6833975, -13.457061 ,   4.866544 ,   7.8449   ,\n",
       "        -19.110596 ],\n",
       "       [ -2.1715388,  -3.2698584, -13.3497715,   3.5334616,   8.649657 ,\n",
       "        -18.743954 ],\n",
       "       [ -2.261182 ,  -3.176324 , -13.995667 ,   5.0977035,   8.297206 ,\n",
       "        -18.95365  ]], dtype=float32)"
      ]
     },
     "execution_count": 70,
     "metadata": {},
     "output_type": "execute_result"
    }
   ],
   "source": [
    "preds[:5]"
   ]
  },
  {
   "cell_type": "markdown",
   "id": "6b046e6c-db58-4d1f-8f6c-28aa0174c13f",
   "metadata": {},
   "source": [
    "So, we will have to `np.argmax` it."
   ]
  },
  {
   "cell_type": "code",
   "execution_count": 71,
   "id": "f1df56fc-a19f-4f50-b76b-4eab260f3dea",
   "metadata": {},
   "outputs": [],
   "source": [
    "preds = np.argmax(preds, axis=1)"
   ]
  },
  {
   "cell_type": "code",
   "execution_count": 72,
   "id": "acb04b0e-c8b0-4e2f-9f5c-d9fbbde6d6b4",
   "metadata": {},
   "outputs": [
    {
     "data": {
      "image/png": "[encoded data removed]",
      "text/plain": [
       "<Figure size 1440x720 with 2 Axes>"
      ]
     },
     "metadata": {
      "needs_background": "light"
     },
     "output_type": "display_data"
    }
   ],
   "source": [
    "ConfusionMatrixDisplay(confusion_matrix(ytest, preds)).plot();"
   ]
  },
  {
   "cell_type": "markdown",
   "id": "3aca1089-1f50-45ae-b450-bed3349c8fc4",
   "metadata": {},
   "source": [
    "Nice! We are doing amazing here."
   ]
  },
  {
   "cell_type": "code",
   "execution_count": 73,
   "id": "d0f5fe47-2590-4e52-ab72-70c70e933be5",
   "metadata": {},
   "outputs": [
    {
     "name": "stdout",
     "output_type": "stream",
     "text": [
      "              precision    recall  f1-score   support\n",
      "\n",
      "           0       0.96      0.96      0.96       496\n",
      "           1       0.88      0.97      0.92       471\n",
      "           2       0.95      0.87      0.91       420\n",
      "           3       0.91      0.89      0.90       491\n",
      "           4       0.90      0.92      0.91       532\n",
      "           5       1.00      0.97      0.98       537\n",
      "\n",
      "    accuracy                           0.93      2947\n",
      "   macro avg       0.93      0.93      0.93      2947\n",
      "weighted avg       0.93      0.93      0.93      2947\n",
      "\n"
     ]
    }
   ],
   "source": [
    "print(classification_report(ytest, preds))"
   ]
  },
  {
   "cell_type": "markdown",
   "id": "4336ac2d-d765-4556-8977-cfa75aa6387d",
   "metadata": {},
   "source": [
    "#### 👉 Activity lables:\n",
    "- `0`  WALKING\n",
    "- `1`  WALKING_UPSTAIRS\n",
    "- `2`  WALKING_DOWNSTAIRS\n",
    "- `3`  SITTING\n",
    "- `4`  STANDING\n",
    "- `5`  LAYING"
   ]
  },
  {
   "cell_type": "markdown",
   "id": "5c0582e0-702d-4a5e-b0cd-83f212e5cd7b",
   "metadata": {},
   "source": [
    "___\n",
    "-  Performance is slightly bad in the `3rd` and `4th` activities. Which are **sitting** and **standing** respectively. Makes sense probably as they both involve **lack of movement**.\n",
    "- `5th` lying has the perfect precision and recall as... you know it is simple."
   ]
  },
  {
   "cell_type": "markdown",
   "id": "409d3286-5860-478b-883c-9ad2fefd8fae",
   "metadata": {},
   "source": [
    "# "
   ]
  },
  {
   "cell_type": "markdown",
   "id": "828cc378-5b50-4616-9f2f-2520c5869a82",
   "metadata": {},
   "source": [
    "# 🙄 How about the dataset with engineered features? "
   ]
  },
  {
   "cell_type": "markdown",
   "id": "88930335-b03c-4804-8a33-3a6796a687f5",
   "metadata": {},
   "source": [
    "If you remember, we also had the ready data without the timeseries itself and had the *derived* features such as *mean*, *std*, *kurtosis* etc of **each x, y,z** and for **each sensor**.\n",
    "\n",
    "That results in some where 560+ features. \n",
    "___\n",
    "Here, we will **also** be able to use the **machine learning** models and can compare their differences in the accuracy and so on."
   ]
  },
  {
   "cell_type": "code",
   "execution_count": 74,
   "id": "d3dadca0-77f0-463e-9c7a-49bb38894ff1",
   "metadata": {},
   "outputs": [],
   "source": [
    "# loading the data\n",
    "path = \"../data/UCI-HAR/UCI HAR Dataset/\"\n",
    "\n",
    "\n",
    "Xtrain = pd.read_csv(path + \"train/X_train.txt\", header=None, delim_whitespace=True)\n",
    "\n",
    "Xtest = pd.read_csv(path + \"test/X_test.txt\", header=None, delim_whitespace=True)\n",
    "\n",
    "ytrain = pd.read_csv(path + \"train/y_train.txt\", header=None).values.flatten()\n",
    "ytest = pd.read_csv(path + \"test/y_test.txt\", header=None).values.flatten()\n",
    "\n",
    "ytrain = ytrain - 1\n",
    "ytest = ytest - 1"
   ]
  },
  {
   "cell_type": "markdown",
   "id": "2229a0be-ac93-4c4e-b8d2-722b2ac8e75c",
   "metadata": {},
   "source": [
    "We *also* have the opportunity to load the feature names here."
   ]
  },
  {
   "cell_type": "code",
   "execution_count": 75,
   "id": "5b4d10c9-758d-4174-b301-fc920ce612f4",
   "metadata": {},
   "outputs": [
    {
     "data": {
      "text/html": [
       "<div>\n",
       "<style scoped>\n",
       "    .dataframe tbody tr th:only-of-type {\n",
       "        vertical-align: middle;\n",
       "    }\n",
       "\n",
       "    .dataframe tbody tr th {\n",
       "        vertical-align: top;\n",
       "    }\n",
       "\n",
       "    .dataframe thead th {\n",
       "        text-align: right;\n",
       "    }\n",
       "</style>\n",
       "<table border=\"1\" class=\"dataframe\">\n",
       "  <thead>\n",
       "    <tr style=\"text-align: right;\">\n",
       "      <th></th>\n",
       "      <th>feature_names</th>\n",
       "    </tr>\n",
       "  </thead>\n",
       "  <tbody>\n",
       "    <tr>\n",
       "      <th>0</th>\n",
       "      <td>tBodyAcc-mean()-X</td>\n",
       "    </tr>\n",
       "    <tr>\n",
       "      <th>1</th>\n",
       "      <td>tBodyAcc-mean()-Y</td>\n",
       "    </tr>\n",
       "    <tr>\n",
       "      <th>2</th>\n",
       "      <td>tBodyAcc-mean()-Z</td>\n",
       "    </tr>\n",
       "    <tr>\n",
       "      <th>3</th>\n",
       "      <td>tBodyAcc-std()-X</td>\n",
       "    </tr>\n",
       "    <tr>\n",
       "      <th>4</th>\n",
       "      <td>tBodyAcc-std()-Y</td>\n",
       "    </tr>\n",
       "    <tr>\n",
       "      <th>...</th>\n",
       "      <td>...</td>\n",
       "    </tr>\n",
       "    <tr>\n",
       "      <th>556</th>\n",
       "      <td>angle(tBodyGyroMean,gravityMean)</td>\n",
       "    </tr>\n",
       "    <tr>\n",
       "      <th>557</th>\n",
       "      <td>angle(tBodyGyroJerkMean,gravityMean)</td>\n",
       "    </tr>\n",
       "    <tr>\n",
       "      <th>558</th>\n",
       "      <td>angle(X,gravityMean)</td>\n",
       "    </tr>\n",
       "    <tr>\n",
       "      <th>559</th>\n",
       "      <td>angle(Y,gravityMean)</td>\n",
       "    </tr>\n",
       "    <tr>\n",
       "      <th>560</th>\n",
       "      <td>angle(Z,gravityMean)</td>\n",
       "    </tr>\n",
       "  </tbody>\n",
       "</table>\n",
       "<p>561 rows × 1 columns</p>\n",
       "</div>"
      ],
      "text/plain": [
       "                            feature_names\n",
       "0                       tBodyAcc-mean()-X\n",
       "1                       tBodyAcc-mean()-Y\n",
       "2                       tBodyAcc-mean()-Z\n",
       "3                        tBodyAcc-std()-X\n",
       "4                        tBodyAcc-std()-Y\n",
       "..                                    ...\n",
       "556      angle(tBodyGyroMean,gravityMean)\n",
       "557  angle(tBodyGyroJerkMean,gravityMean)\n",
       "558                  angle(X,gravityMean)\n",
       "559                  angle(Y,gravityMean)\n",
       "560                  angle(Z,gravityMean)\n",
       "\n",
       "[561 rows x 1 columns]"
      ]
     },
     "execution_count": 75,
     "metadata": {},
     "output_type": "execute_result"
    }
   ],
   "source": [
    "feature_names = pd.read_csv(\n",
    "    \"../data/UCI-HAR/UCI HAR Dataset/features.txt\",\n",
    "    delim_whitespace=True,\n",
    "    usecols=[1],\n",
    "    names=[\"feature_names\"],\n",
    ")\n",
    "feature_names"
   ]
  },
  {
   "cell_type": "code",
   "execution_count": 76,
   "id": "b0f2992b-03ae-4b64-9660-e713250159dc",
   "metadata": {},
   "outputs": [],
   "source": [
    "Xtrain.columns = feature_names.iloc[:, 0].values\n",
    "Xtest.columns = feature_names.iloc[:, 0].values"
   ]
  },
  {
   "cell_type": "code",
   "execution_count": 77,
   "id": "917cfb4d-1e9e-4b88-b324-79db9f4539ab",
   "metadata": {},
   "outputs": [
    {
     "data": {
      "text/html": [
       "<div>\n",
       "<style scoped>\n",
       "    .dataframe tbody tr th:only-of-type {\n",
       "        vertical-align: middle;\n",
       "    }\n",
       "\n",
       "    .dataframe tbody tr th {\n",
       "        vertical-align: top;\n",
       "    }\n",
       "\n",
       "    .dataframe thead th {\n",
       "        text-align: right;\n",
       "    }\n",
       "</style>\n",
       "<table border=\"1\" class=\"dataframe\">\n",
       "  <thead>\n",
       "    <tr style=\"text-align: right;\">\n",
       "      <th></th>\n",
       "      <th>tBodyAcc-mean()-X</th>\n",
       "      <th>tBodyAcc-mean()-Y</th>\n",
       "      <th>tBodyAcc-mean()-Z</th>\n",
       "      <th>tBodyAcc-std()-X</th>\n",
       "      <th>tBodyAcc-std()-Y</th>\n",
       "      <th>tBodyAcc-std()-Z</th>\n",
       "      <th>tBodyAcc-mad()-X</th>\n",
       "      <th>tBodyAcc-mad()-Y</th>\n",
       "      <th>tBodyAcc-mad()-Z</th>\n",
       "      <th>tBodyAcc-max()-X</th>\n",
       "      <th>...</th>\n",
       "      <th>fBodyBodyGyroJerkMag-meanFreq()</th>\n",
       "      <th>fBodyBodyGyroJerkMag-skewness()</th>\n",
       "      <th>fBodyBodyGyroJerkMag-kurtosis()</th>\n",
       "      <th>angle(tBodyAccMean,gravity)</th>\n",
       "      <th>angle(tBodyAccJerkMean),gravityMean)</th>\n",
       "      <th>angle(tBodyGyroMean,gravityMean)</th>\n",
       "      <th>angle(tBodyGyroJerkMean,gravityMean)</th>\n",
       "      <th>angle(X,gravityMean)</th>\n",
       "      <th>angle(Y,gravityMean)</th>\n",
       "      <th>angle(Z,gravityMean)</th>\n",
       "    </tr>\n",
       "  </thead>\n",
       "  <tbody>\n",
       "    <tr>\n",
       "      <th>0</th>\n",
       "      <td>0.288585</td>\n",
       "      <td>-0.020294</td>\n",
       "      <td>-0.132905</td>\n",
       "      <td>-0.995279</td>\n",
       "      <td>-0.983111</td>\n",
       "      <td>-0.913526</td>\n",
       "      <td>-0.995112</td>\n",
       "      <td>-0.983185</td>\n",
       "      <td>-0.923527</td>\n",
       "      <td>-0.934724</td>\n",
       "      <td>...</td>\n",
       "      <td>-0.074323</td>\n",
       "      <td>-0.298676</td>\n",
       "      <td>-0.710304</td>\n",
       "      <td>-0.112754</td>\n",
       "      <td>0.030400</td>\n",
       "      <td>-0.464761</td>\n",
       "      <td>-0.018446</td>\n",
       "      <td>-0.841247</td>\n",
       "      <td>0.179941</td>\n",
       "      <td>-0.058627</td>\n",
       "    </tr>\n",
       "    <tr>\n",
       "      <th>1</th>\n",
       "      <td>0.278419</td>\n",
       "      <td>-0.016411</td>\n",
       "      <td>-0.123520</td>\n",
       "      <td>-0.998245</td>\n",
       "      <td>-0.975300</td>\n",
       "      <td>-0.960322</td>\n",
       "      <td>-0.998807</td>\n",
       "      <td>-0.974914</td>\n",
       "      <td>-0.957686</td>\n",
       "      <td>-0.943068</td>\n",
       "      <td>...</td>\n",
       "      <td>0.158075</td>\n",
       "      <td>-0.595051</td>\n",
       "      <td>-0.861499</td>\n",
       "      <td>0.053477</td>\n",
       "      <td>-0.007435</td>\n",
       "      <td>-0.732626</td>\n",
       "      <td>0.703511</td>\n",
       "      <td>-0.844788</td>\n",
       "      <td>0.180289</td>\n",
       "      <td>-0.054317</td>\n",
       "    </tr>\n",
       "    <tr>\n",
       "      <th>2</th>\n",
       "      <td>0.279653</td>\n",
       "      <td>-0.019467</td>\n",
       "      <td>-0.113462</td>\n",
       "      <td>-0.995380</td>\n",
       "      <td>-0.967187</td>\n",
       "      <td>-0.978944</td>\n",
       "      <td>-0.996520</td>\n",
       "      <td>-0.963668</td>\n",
       "      <td>-0.977469</td>\n",
       "      <td>-0.938692</td>\n",
       "      <td>...</td>\n",
       "      <td>0.414503</td>\n",
       "      <td>-0.390748</td>\n",
       "      <td>-0.760104</td>\n",
       "      <td>-0.118559</td>\n",
       "      <td>0.177899</td>\n",
       "      <td>0.100699</td>\n",
       "      <td>0.808529</td>\n",
       "      <td>-0.848933</td>\n",
       "      <td>0.180637</td>\n",
       "      <td>-0.049118</td>\n",
       "    </tr>\n",
       "    <tr>\n",
       "      <th>3</th>\n",
       "      <td>0.279174</td>\n",
       "      <td>-0.026201</td>\n",
       "      <td>-0.123283</td>\n",
       "      <td>-0.996091</td>\n",
       "      <td>-0.983403</td>\n",
       "      <td>-0.990675</td>\n",
       "      <td>-0.997099</td>\n",
       "      <td>-0.982750</td>\n",
       "      <td>-0.989302</td>\n",
       "      <td>-0.938692</td>\n",
       "      <td>...</td>\n",
       "      <td>0.404573</td>\n",
       "      <td>-0.117290</td>\n",
       "      <td>-0.482845</td>\n",
       "      <td>-0.036788</td>\n",
       "      <td>-0.012892</td>\n",
       "      <td>0.640011</td>\n",
       "      <td>-0.485366</td>\n",
       "      <td>-0.848649</td>\n",
       "      <td>0.181935</td>\n",
       "      <td>-0.047663</td>\n",
       "    </tr>\n",
       "    <tr>\n",
       "      <th>4</th>\n",
       "      <td>0.276629</td>\n",
       "      <td>-0.016570</td>\n",
       "      <td>-0.115362</td>\n",
       "      <td>-0.998139</td>\n",
       "      <td>-0.980817</td>\n",
       "      <td>-0.990482</td>\n",
       "      <td>-0.998321</td>\n",
       "      <td>-0.979672</td>\n",
       "      <td>-0.990441</td>\n",
       "      <td>-0.942469</td>\n",
       "      <td>...</td>\n",
       "      <td>0.087753</td>\n",
       "      <td>-0.351471</td>\n",
       "      <td>-0.699205</td>\n",
       "      <td>0.123320</td>\n",
       "      <td>0.122542</td>\n",
       "      <td>0.693578</td>\n",
       "      <td>-0.615971</td>\n",
       "      <td>-0.847865</td>\n",
       "      <td>0.185151</td>\n",
       "      <td>-0.043892</td>\n",
       "    </tr>\n",
       "  </tbody>\n",
       "</table>\n",
       "<p>5 rows × 561 columns</p>\n",
       "</div>"
      ],
      "text/plain": [
       "   tBodyAcc-mean()-X  tBodyAcc-mean()-Y  tBodyAcc-mean()-Z  tBodyAcc-std()-X  \\\n",
       "0           0.288585          -0.020294          -0.132905         -0.995279   \n",
       "1           0.278419          -0.016411          -0.123520         -0.998245   \n",
       "2           0.279653          -0.019467          -0.113462         -0.995380   \n",
       "3           0.279174          -0.026201          -0.123283         -0.996091   \n",
       "4           0.276629          -0.016570          -0.115362         -0.998139   \n",
       "\n",
       "   tBodyAcc-std()-Y  tBodyAcc-std()-Z  tBodyAcc-mad()-X  tBodyAcc-mad()-Y  \\\n",
       "0         -0.983111         -0.913526         -0.995112         -0.983185   \n",
       "1         -0.975300         -0.960322         -0.998807         -0.974914   \n",
       "2         -0.967187         -0.978944         -0.996520         -0.963668   \n",
       "3         -0.983403         -0.990675         -0.997099         -0.982750   \n",
       "4         -0.980817         -0.990482         -0.998321         -0.979672   \n",
       "\n",
       "   tBodyAcc-mad()-Z  tBodyAcc-max()-X  ...  fBodyBodyGyroJerkMag-meanFreq()  \\\n",
       "0         -0.923527         -0.934724  ...                        -0.074323   \n",
       "1         -0.957686         -0.943068  ...                         0.158075   \n",
       "2         -0.977469         -0.938692  ...                         0.414503   \n",
       "3         -0.989302         -0.938692  ...                         0.404573   \n",
       "4         -0.990441         -0.942469  ...                         0.087753   \n",
       "\n",
       "   fBodyBodyGyroJerkMag-skewness()  fBodyBodyGyroJerkMag-kurtosis()  \\\n",
       "0                        -0.298676                        -0.710304   \n",
       "1                        -0.595051                        -0.861499   \n",
       "2                        -0.390748                        -0.760104   \n",
       "3                        -0.117290                        -0.482845   \n",
       "4                        -0.351471                        -0.699205   \n",
       "\n",
       "   angle(tBodyAccMean,gravity)  angle(tBodyAccJerkMean),gravityMean)  \\\n",
       "0                    -0.112754                              0.030400   \n",
       "1                     0.053477                             -0.007435   \n",
       "2                    -0.118559                              0.177899   \n",
       "3                    -0.036788                             -0.012892   \n",
       "4                     0.123320                              0.122542   \n",
       "\n",
       "   angle(tBodyGyroMean,gravityMean)  angle(tBodyGyroJerkMean,gravityMean)  \\\n",
       "0                         -0.464761                             -0.018446   \n",
       "1                         -0.732626                              0.703511   \n",
       "2                          0.100699                              0.808529   \n",
       "3                          0.640011                             -0.485366   \n",
       "4                          0.693578                             -0.615971   \n",
       "\n",
       "   angle(X,gravityMean)  angle(Y,gravityMean)  angle(Z,gravityMean)  \n",
       "0             -0.841247              0.179941             -0.058627  \n",
       "1             -0.844788              0.180289             -0.054317  \n",
       "2             -0.848933              0.180637             -0.049118  \n",
       "3             -0.848649              0.181935             -0.047663  \n",
       "4             -0.847865              0.185151             -0.043892  \n",
       "\n",
       "[5 rows x 561 columns]"
      ]
     },
     "execution_count": 77,
     "metadata": {},
     "output_type": "execute_result"
    }
   ],
   "source": [
    "Xtrain.head()"
   ]
  },
  {
   "cell_type": "markdown",
   "id": "e579cef0-a9e5-4260-a1ab-fc7cb94ccff1",
   "metadata": {},
   "source": [
    "Happy?"
   ]
  },
  {
   "cell_type": "markdown",
   "id": "7ce7a862-a838-4f07-ad48-91183587a7cd",
   "metadata": {},
   "source": [
    "> **NOTE**: Here, we have `1` values for each time-series. Meaning, the **real** time-series that we saw in the Inertial signals files, with 128 data points, have been aggregated to a single point. And so, they are here in the file. Try to re-think on what I have just said... it will make sense. I promise. "
   ]
  },
  {
   "cell_type": "markdown",
   "id": "3c639fe0-c79e-4a7f-8593-3dc89a917109",
   "metadata": {},
   "source": [
    "# 🦋 Model-ling\n",
    "*Ah, a butterfly kind of looks like the neural network! I didn't notice it before*\n",
    "\n",
    "We will test:\n",
    "1. Neural Net\n",
    "2. Logistic Regression\n",
    "3. Random Forest\n",
    "4. Naive Bayes\n",
    "\n",
    "Cool. Let's get coded."
   ]
  },
  {
   "cell_type": "markdown",
   "id": "b3cf8538-abe2-4c3a-8a57-025cded0a84b",
   "metadata": {},
   "source": [
    "### `1.` Neural Net"
   ]
  },
  {
   "cell_type": "code",
   "execution_count": 78,
   "id": "060f92af-57d9-4f2c-8f0f-23e0780df221",
   "metadata": {},
   "outputs": [
    {
     "data": {
      "text/plain": [
       "(7352, 561)"
      ]
     },
     "execution_count": 78,
     "metadata": {},
     "output_type": "execute_result"
    }
   ],
   "source": [
    "Xtrain.shape"
   ]
  },
  {
   "cell_type": "markdown",
   "id": "02b65525-5451-4c3e-9f0c-1bad8caa79b7",
   "metadata": {},
   "source": [
    "We will have to keep the size of the Input payer `561`."
   ]
  },
  {
   "cell_type": "code",
   "execution_count": 79,
   "id": "783a611d-f877-45ea-80f1-44e5f8cfc08d",
   "metadata": {},
   "outputs": [],
   "source": [
    "input_layer = Input(shape=(561,))\n",
    "hidden_layer = Dense(64, activation=\"relu\")(input_layer)\n",
    "hidden_layer = Dense(32, activation=\"relu\")(hidden_layer)\n",
    "output_layer = Dense(6)(hidden_layer)\n",
    "model = Model(input_layer, output_layer)"
   ]
  },
  {
   "cell_type": "code",
   "execution_count": 80,
   "id": "d61edc57-8ebf-4a41-a349-9fe8ff5ffa86",
   "metadata": {},
   "outputs": [
    {
     "data": {
      "image/png": "[encoded data removed]",
      "text/plain": [
       "<IPython.core.display.Image object>"
      ]
     },
     "execution_count": 80,
     "metadata": {},
     "output_type": "execute_result"
    }
   ],
   "source": [
    "tf.keras.utils.plot_model(model)"
   ]
  },
  {
   "cell_type": "markdown",
   "id": "e731f41f-9ba5-42b4-a2fc-53040d75f002",
   "metadata": {},
   "source": [
    "And this is how it looks like... when we have the **simple** model and try to visualize."
   ]
  },
  {
   "cell_type": "code",
   "execution_count": 81,
   "id": "432e22b3-7334-4fe4-bdef-431863c47ecc",
   "metadata": {},
   "outputs": [],
   "source": [
    "model.compile(\n",
    "    optimizer=\"adam\",\n",
    "    loss=SparseCategoricalCrossentropy(from_logits=True),\n",
    "    metrics=[\"accuracy\"],\n",
    ")"
   ]
  },
  {
   "cell_type": "code",
   "execution_count": 82,
   "id": "90f6724b-09e4-446c-8a51-e51ffe02962f",
   "metadata": {},
   "outputs": [],
   "source": [
    "checkpoint = ModelCheckpoint(\n",
    "    \"./featured_best_model.h5\", monitor=\"val_accuracy\", save_best_only=True\n",
    ")"
   ]
  },
  {
   "cell_type": "code",
   "execution_count": 83,
   "id": "d83fb9b6-47d0-4d28-801a-5c165f095ed2",
   "metadata": {},
   "outputs": [
    {
     "data": {
      "application/vnd.jupyter.widget-view+json": {
       "model_id": "d207a31ece734310aa2984839aa08362",
       "version_major": 2,
       "version_minor": 0
      },
      "text/plain": [
       "0epoch [00:00, ?epoch/s]"
      ]
     },
     "metadata": {},
     "output_type": "display_data"
    }
   ],
   "source": [
    "results = model.fit(\n",
    "    Xtrain,\n",
    "    ytrain,\n",
    "    epochs=20,\n",
    "    validation_data=(Xtest, ytest),\n",
    "    verbose=0,\n",
    "    callbacks=[TqdmCallback(verbose=0), checkpoint],\n",
    ")"
   ]
  },
  {
   "cell_type": "code",
   "execution_count": 84,
   "id": "4a5de39b-67b0-49fb-ba25-52fcfd881e43",
   "metadata": {},
   "outputs": [
    {
     "data": {
      "image/png": "[encoded data removed]",
      "text/plain": [
       "<Figure size 1440x720 with 1 Axes>"
      ]
     },
     "metadata": {
      "needs_background": "light"
     },
     "output_type": "display_data"
    }
   ],
   "source": [
    "plt.plot(results.history[\"accuracy\"], label=\"Training Acc\")\n",
    "plt.plot(results.history[\"val_accuracy\"], label=\"Validation Acc\")\n",
    "plt.legend();"
   ]
  },
  {
   "cell_type": "markdown",
   "id": "4a756098-a60d-4d3d-9d7c-d5b7573233e0",
   "metadata": {},
   "source": [
    "Have a look, this model ***seems*** to be a better model than of the raw time-series model."
   ]
  },
  {
   "cell_type": "code",
   "execution_count": 85,
   "id": "d19e4b2b-dc2a-4412-9cac-d7dae1838956",
   "metadata": {},
   "outputs": [],
   "source": [
    "model = tf.keras.models.load_model(\"./featured_best_model.h5\")"
   ]
  },
  {
   "cell_type": "code",
   "execution_count": 86,
   "id": "fbc35bed-a981-4457-b8d9-4b96b2fcb136",
   "metadata": {},
   "outputs": [
    {
     "name": "stdout",
     "output_type": "stream",
     "text": [
      "93/93 [==============================] - 0s 2ms/step\n"
     ]
    }
   ],
   "source": [
    "preds = model.predict(Xtest)"
   ]
  },
  {
   "cell_type": "code",
   "execution_count": 87,
   "id": "d371c9b4-3009-4f01-950f-efdc2697a990",
   "metadata": {},
   "outputs": [
    {
     "data": {
      "text/plain": [
       "0.9463861554122837"
      ]
     },
     "execution_count": 87,
     "metadata": {},
     "output_type": "execute_result"
    }
   ],
   "source": [
    "accuracy_score(ytest, np.argmax(preds, axis=1))"
   ]
  },
  {
   "cell_type": "markdown",
   "id": "c1a92fa6-078d-43e9-8133-e9c046071a17",
   "metadata": {},
   "source": [
    "Have done an applaudable job 👏"
   ]
  },
  {
   "cell_type": "code",
   "execution_count": 88,
   "id": "33de1095-fe7d-40e1-8201-2f201ec8aaba",
   "metadata": {},
   "outputs": [
    {
     "data": {
      "image/png": "[encoded data removed]",
      "text/plain": [
       "<Figure size 1440x720 with 2 Axes>"
      ]
     },
     "metadata": {
      "needs_background": "light"
     },
     "output_type": "display_data"
    }
   ],
   "source": [
    "ConfusionMatrixDisplay(confusion_matrix(ytest, np.argmax(preds, axis=1))).plot();"
   ]
  },
  {
   "cell_type": "code",
   "execution_count": 89,
   "id": "ae7e87da-409f-422b-ba21-a9f581bd6c84",
   "metadata": {},
   "outputs": [
    {
     "name": "stdout",
     "output_type": "stream",
     "text": [
      "              precision    recall  f1-score   support\n",
      "\n",
      "           0       0.94      0.99      0.96       496\n",
      "           1       0.93      0.94      0.94       471\n",
      "           2       0.99      0.93      0.96       420\n",
      "           3       0.93      0.91      0.92       491\n",
      "           4       0.90      0.93      0.92       532\n",
      "           5       1.00      0.97      0.99       537\n",
      "\n",
      "    accuracy                           0.95      2947\n",
      "   macro avg       0.95      0.95      0.95      2947\n",
      "weighted avg       0.95      0.95      0.95      2947\n",
      "\n"
     ]
    }
   ],
   "source": [
    "print(classification_report(ytest, np.argmax(preds, axis=1)))"
   ]
  },
  {
   "cell_type": "markdown",
   "id": "fef55b3f-3674-4e71-8457-3ad70b31d517",
   "metadata": {},
   "source": [
    "We can still see that there is an area of improvement in between the `2`, `3` and `4` activities."
   ]
  },
  {
   "cell_type": "markdown",
   "id": "fd1547ab-e507-4007-9f54-0b7a20ef9b9e",
   "metadata": {},
   "source": [
    "### `2.` Logistic Regression"
   ]
  },
  {
   "cell_type": "code",
   "execution_count": 90,
   "id": "11cfed6f-15d8-46ad-8df0-28424187ccf5",
   "metadata": {},
   "outputs": [
    {
     "name": "stderr",
     "output_type": "stream",
     "text": [
      "[Parallel(n_jobs=-1)]: Using backend LokyBackend with 4 concurrent workers.\n",
      "[Parallel(n_jobs=-1)]: Done   1 out of   1 | elapsed:   10.5s finished\n"
     ]
    },
    {
     "data": {
      "text/plain": [
       "LogisticRegression(n_jobs=-1, verbose=1)"
      ]
     },
     "execution_count": 90,
     "metadata": {},
     "output_type": "execute_result"
    }
   ],
   "source": [
    "logistic_model = LogisticRegression(max_iter=100, verbose=1, n_jobs=-1)\n",
    "logistic_model.fit(Xtrain, ytrain)"
   ]
  },
  {
   "cell_type": "code",
   "execution_count": 91,
   "id": "b4d531af-440c-4d90-8af5-cfccd0c37f84",
   "metadata": {},
   "outputs": [],
   "source": [
    "preds = logistic_model.predict(Xtest)"
   ]
  },
  {
   "cell_type": "code",
   "execution_count": 92,
   "id": "6a09e5b0-2be3-4a5c-8713-871d99ab699b",
   "metadata": {},
   "outputs": [
    {
     "name": "stdout",
     "output_type": "stream",
     "text": [
      "              precision    recall  f1-score   support\n",
      "\n",
      "           0       0.95      0.99      0.97       496\n",
      "           1       0.96      0.94      0.95       471\n",
      "           2       0.99      0.96      0.97       420\n",
      "           3       0.96      0.88      0.92       491\n",
      "           4       0.90      0.97      0.93       532\n",
      "           5       1.00      1.00      1.00       537\n",
      "\n",
      "    accuracy                           0.96      2947\n",
      "   macro avg       0.96      0.96      0.96      2947\n",
      "weighted avg       0.96      0.96      0.96      2947\n",
      "\n"
     ]
    }
   ],
   "source": [
    "print(classification_report(ytest, preds))"
   ]
  },
  {
   "cell_type": "markdown",
   "id": "0e95608f-1787-4c68-b25f-adf65fa75c9a",
   "metadata": {},
   "source": [
    "Oh boy! This is the **great** model so far! And, I think... with some parameter tuning, we can make it better!"
   ]
  },
  {
   "cell_type": "code",
   "execution_count": 93,
   "id": "a8359dc6-431d-4559-8eb4-03d140cbe257",
   "metadata": {},
   "outputs": [
    {
     "data": {
      "image/png": "[encoded data removed]",
      "text/plain": [
       "<Figure size 1440x720 with 2 Axes>"
      ]
     },
     "metadata": {
      "needs_background": "light"
     },
     "output_type": "display_data"
    }
   ],
   "source": [
    "ConfusionMatrixDisplay(confusion_matrix(ytest, preds)).plot();"
   ]
  },
  {
   "cell_type": "markdown",
   "id": "022844fd-9dfb-4cca-80d3-97cccc52bdcf",
   "metadata": {},
   "source": [
    "We are making some progress... but here the `3rd` activitiy seems to be having bad recall."
   ]
  },
  {
   "cell_type": "markdown",
   "id": "ee259954-8c51-4627-b3c5-4cf08ec5885b",
   "metadata": {},
   "source": [
    "### `3.` Random Forest"
   ]
  },
  {
   "cell_type": "code",
   "execution_count": 94,
   "id": "8bd4cef9-c934-439f-90eb-6ed8c367a21c",
   "metadata": {},
   "outputs": [
    {
     "data": {
      "text/plain": [
       "RandomForestClassifier(min_samples_split=5, n_jobs=-1, random_state=42)"
      ]
     },
     "execution_count": 94,
     "metadata": {},
     "output_type": "execute_result"
    }
   ],
   "source": [
    "random_forest = RandomForestClassifier(min_samples_split=5, n_jobs=-1, random_state=42)\n",
    "random_forest.fit(Xtrain, ytrain)"
   ]
  },
  {
   "cell_type": "code",
   "execution_count": 95,
   "id": "26ef8403-a517-42f2-a8bd-3d5dd189ad30",
   "metadata": {},
   "outputs": [],
   "source": [
    "preds = random_forest.predict(Xtest)"
   ]
  },
  {
   "cell_type": "code",
   "execution_count": 96,
   "id": "702f57b3-acca-444c-9493-b3b633963fc5",
   "metadata": {},
   "outputs": [
    {
     "name": "stdout",
     "output_type": "stream",
     "text": [
      "              precision    recall  f1-score   support\n",
      "\n",
      "           0       0.89      0.97      0.93       496\n",
      "           1       0.90      0.90      0.90       471\n",
      "           2       0.96      0.86      0.91       420\n",
      "           3       0.92      0.88      0.90       491\n",
      "           4       0.90      0.93      0.91       532\n",
      "           5       1.00      1.00      1.00       537\n",
      "\n",
      "    accuracy                           0.93      2947\n",
      "   macro avg       0.93      0.92      0.92      2947\n",
      "weighted avg       0.93      0.93      0.93      2947\n",
      "\n"
     ]
    }
   ],
   "source": [
    "print(classification_report(ytest, preds))"
   ]
  },
  {
   "cell_type": "code",
   "execution_count": 97,
   "id": "71af0743-57a4-40c0-91b1-68c972dc4194",
   "metadata": {},
   "outputs": [
    {
     "data": {
      "image/png": "[encoded data removed]",
      "text/plain": [
       "<Figure size 1440x720 with 2 Axes>"
      ]
     },
     "metadata": {
      "needs_background": "light"
     },
     "output_type": "display_data"
    }
   ],
   "source": [
    "ConfusionMatrixDisplay(confusion_matrix(ytest, preds)).plot();"
   ]
  },
  {
   "cell_type": "markdown",
   "id": "8d444bf0-f803-49d3-89f2-70a473ed3ad7",
   "metadata": {},
   "source": [
    "Oh man, random forest doesn't seem to be a good model here."
   ]
  },
  {
   "cell_type": "code",
   "execution_count": 98,
   "id": "61c28ea4-222f-49ef-830d-ffd09caa4999",
   "metadata": {},
   "outputs": [
    {
     "data": {
      "text/plain": [
       "tGravityAcc-mean()-X                0.037966\n",
       "angle(X,gravityMean)                0.029971\n",
       "tGravityAcc-min()-X                 0.029884\n",
       "tGravityAcc-max()-X                 0.028940\n",
       "tGravityAcc-mean()-Y                0.027348\n",
       "                                      ...   \n",
       "fBodyGyro-min()-Y                   0.000073\n",
       "fBodyAccJerk-bandsEnergy()-57,64    0.000070\n",
       "fBodyAcc-min()-Z                    0.000070\n",
       "fBodyAcc-bandsEnergy()-49,64        0.000068\n",
       "fBodyAcc-min()-Y                    0.000059\n",
       "Length: 561, dtype: float64"
      ]
     },
     "execution_count": 98,
     "metadata": {},
     "output_type": "execute_result"
    }
   ],
   "source": [
    "feature_importances = pd.Series(\n",
    "    random_forest.feature_importances_, index=random_forest.feature_names_in_\n",
    ")\n",
    "feature_importances.sort_values(ascending=False)"
   ]
  },
  {
   "cell_type": "markdown",
   "id": "2d28336f-ef93-43d0-a7ec-32a609eb3a25",
   "metadata": {},
   "source": [
    "Sou... this `tGravityAcc-mean()-X` gives the highest importance in determining the class. Which is like `3.79%`."
   ]
  },
  {
   "cell_type": "markdown",
   "id": "6f245c7f-2d9a-40cd-9a15-619e19417a79",
   "metadata": {},
   "source": [
    "### `4.` Naive Bayes"
   ]
  },
  {
   "cell_type": "code",
   "execution_count": 99,
   "id": "cc808c4d-4537-4210-880c-83274ca97ed1",
   "metadata": {},
   "outputs": [
    {
     "data": {
      "text/plain": [
       "BernoulliNB()"
      ]
     },
     "execution_count": 99,
     "metadata": {},
     "output_type": "execute_result"
    }
   ],
   "source": [
    "naive_bayes = BernoulliNB()\n",
    "naive_bayes.fit(Xtrain, ytrain)"
   ]
  },
  {
   "cell_type": "code",
   "execution_count": 100,
   "id": "0f8294c4-7682-4b05-8eed-1ecf956b1851",
   "metadata": {},
   "outputs": [],
   "source": [
    "preds = naive_bayes.predict(Xtest)"
   ]
  },
  {
   "cell_type": "code",
   "execution_count": 101,
   "id": "d7e0475e-ec54-476b-a60e-edee88f6b0e8",
   "metadata": {},
   "outputs": [
    {
     "name": "stdout",
     "output_type": "stream",
     "text": [
      "              precision    recall  f1-score   support\n",
      "\n",
      "           0       0.75      0.91      0.82       496\n",
      "           1       0.83      0.89      0.86       471\n",
      "           2       0.85      0.59      0.70       420\n",
      "           3       0.88      0.75      0.81       491\n",
      "           4       0.80      0.90      0.85       532\n",
      "           5       1.00      1.00      1.00       537\n",
      "\n",
      "    accuracy                           0.85      2947\n",
      "   macro avg       0.85      0.84      0.84      2947\n",
      "weighted avg       0.86      0.85      0.85      2947\n",
      "\n"
     ]
    }
   ],
   "source": [
    "print(classification_report(ytest, preds))"
   ]
  },
  {
   "cell_type": "code",
   "execution_count": 102,
   "id": "c5ee9d3c-b58d-4d88-b506-2ef4a450ea3d",
   "metadata": {},
   "outputs": [
    {
     "data": {
      "image/png": "[encoded data removed]",
      "text/plain": [
       "<Figure size 1440x720 with 2 Axes>"
      ]
     },
     "metadata": {
      "needs_background": "light"
     },
     "output_type": "display_data"
    }
   ],
   "source": [
    "ConfusionMatrixDisplay(confusion_matrix(ytest, preds)).plot();"
   ]
  },
  {
   "cell_type": "markdown",
   "id": "9a4cf7ff-73d7-4dee-a48c-cfe9cfae6778",
   "metadata": {},
   "source": [
    "Alright... Logistic Regression won."
   ]
  },
  {
   "cell_type": "markdown",
   "id": "f84e511e-b3bb-44bd-989d-cca2bca03bee",
   "metadata": {},
   "source": [
    "# "
   ]
  },
  {
   "cell_type": "markdown",
   "id": "6ef7c558-8123-4d70-9172-05d76b175ac6",
   "metadata": {},
   "source": [
    "# 🧬 Combined Modelling\n",
    "We saw how **neural network** allows use to **combine** any number of data sources in different shapes and then later can be **concatenated**. It allows flexibility.\n",
    "\n",
    "> So, here we can also test that *\"what if I use engineered features and the raw time-series to train the model?\"*."
   ]
  },
  {
   "cell_type": "markdown",
   "id": "cdabd613-0a53-4b68-aa46-93f748ff31fe",
   "metadata": {},
   "source": [
    "Sounds cool. Let's have a look what I mean to say.\n",
    "- We will use 561 engineered features.\n",
    "- We will ***also*** use the raw time series with you know... 128 features.\n",
    "- Both 561 + (128 * 9) = `1713` features will be used to train a neural net.\n",
    "\n",
    "Thus, it seems to be pretty complex network. Be ready for it."
   ]
  },
  {
   "cell_type": "code",
   "execution_count": 103,
   "id": "35325869-34e8-4f4c-96d9-03650089f21c",
   "metadata": {},
   "outputs": [
    {
     "data": {
      "text/plain": [
       "(7352, 128, 9)"
      ]
     },
     "execution_count": 103,
     "metadata": {},
     "output_type": "execute_result"
    }
   ],
   "source": [
    "train.shape"
   ]
  },
  {
   "cell_type": "markdown",
   "id": "ef176739-5902-4e16-8333-5eb8c1e4473b",
   "metadata": {},
   "source": [
    "Remember this `train` object?"
   ]
  },
  {
   "cell_type": "code",
   "execution_count": 104,
   "id": "5e91671a-1649-43e3-94c7-6ad928c1e845",
   "metadata": {},
   "outputs": [
    {
     "data": {
      "text/plain": [
       "(128, 9, 7352, 2947)"
      ]
     },
     "execution_count": 104,
     "metadata": {},
     "output_type": "execute_result"
    }
   ],
   "source": [
    "(T, D, Ntrain, Ntest)"
   ]
  },
  {
   "cell_type": "code",
   "execution_count": 105,
   "id": "d4a97e90-5233-42e2-b8e7-064e2847deef",
   "metadata": {},
   "outputs": [],
   "source": [
    "# to store input layers\n",
    "input_layers_128 = []\n",
    "\n",
    "# to store the last hidden layers\n",
    "last_hidden_layers_128 = []\n",
    "\n",
    "# this loop will iterate for D times\n",
    "for i in range(D):\n",
    "    input_layer_128 = Input(shape=(T,))\n",
    "    hidden_layer_128 = Dense(64, activation=\"relu\")(input_layer_128)\n",
    "    hidden_layer_128 = Dense(32, activation=\"relu\")(hidden_layer_128)\n",
    "\n",
    "    input_layers_128.append(input_layer_128)\n",
    "    last_hidden_layers_128.append(hidden_layer_128)"
   ]
  },
  {
   "cell_type": "code",
   "execution_count": 106,
   "id": "3de852c8-baba-47c9-9fb9-c008c491844f",
   "metadata": {},
   "outputs": [],
   "source": [
    "# making another mini net for the engineered data\n",
    "input_layer_561 = Input(shape=(561,))\n",
    "hidden_layer_561 = Dense(64, activation=\"relu\")(input_layer_561)\n",
    "hidden_layer_561 = Dense(32, activation=\"relu\")(hidden_layer_561)"
   ]
  },
  {
   "cell_type": "code",
   "execution_count": 107,
   "id": "423b0105-a4ad-4599-8ce9-b9549dfcc283",
   "metadata": {},
   "outputs": [],
   "source": [
    "# concate\n",
    "fully_connected_layer = Concatenate()(last_hidden_layers_128 + [hidden_layer_561])"
   ]
  },
  {
   "cell_type": "code",
   "execution_count": 108,
   "id": "c81e897a-6c34-4cea-9d26-3e81e2b3694f",
   "metadata": {},
   "outputs": [],
   "source": [
    "# output\n",
    "output_layer = Dense(6)(fully_connected_layer)"
   ]
  },
  {
   "cell_type": "code",
   "execution_count": 109,
   "id": "3ca7a06f-4c4c-41ad-b5ff-1d359a31eff6",
   "metadata": {},
   "outputs": [],
   "source": [
    "# model\n",
    "MASTER_MODEL = Model(input_layers_128 + [input_layer_561], output_layer)"
   ]
  },
  {
   "cell_type": "code",
   "execution_count": 110,
   "id": "669fa0a9-7f42-4b49-bd58-e6abf67ef709",
   "metadata": {},
   "outputs": [
    {
     "data": {
      "image/png": "[encoded data removed]",
      "text/plain": [
       "<IPython.core.display.Image object>"
      ]
     },
     "execution_count": 110,
     "metadata": {},
     "output_type": "execute_result"
    }
   ],
   "source": [
    "tf.keras.utils.plot_model(MASTER_MODEL)"
   ]
  },
  {
   "cell_type": "code",
   "execution_count": 111,
   "id": "30683e19-1d8b-4dfa-93fc-ac5c6233d414",
   "metadata": {},
   "outputs": [
    {
     "name": "stdout",
     "output_type": "stream",
     "text": [
      "Model: \"model_3\"\n",
      "__________________________________________________________________________________________________\n",
      " Layer (type)                   Output Shape         Param #     Connected to                     \n",
      "==================================================================================================\n",
      " input_20 (InputLayer)          [(None, 128)]        0           []                               \n",
      "                                                                                                  \n",
      " input_21 (InputLayer)          [(None, 128)]        0           []                               \n",
      "                                                                                                  \n",
      " input_22 (InputLayer)          [(None, 128)]        0           []                               \n",
      "                                                                                                  \n",
      " input_23 (InputLayer)          [(None, 128)]        0           []                               \n",
      "                                                                                                  \n",
      " input_24 (InputLayer)          [(None, 128)]        0           []                               \n",
      "                                                                                                  \n",
      " input_25 (InputLayer)          [(None, 128)]        0           []                               \n",
      "                                                                                                  \n",
      " input_26 (InputLayer)          [(None, 128)]        0           []                               \n",
      "                                                                                                  \n",
      " input_27 (InputLayer)          [(None, 128)]        0           []                               \n",
      "                                                                                                  \n",
      " input_28 (InputLayer)          [(None, 128)]        0           []                               \n",
      "                                                                                                  \n",
      " input_29 (InputLayer)          [(None, 561)]        0           []                               \n",
      "                                                                                                  \n",
      " dense_41 (Dense)               (None, 64)           8256        ['input_20[0][0]']               \n",
      "                                                                                                  \n",
      " dense_43 (Dense)               (None, 64)           8256        ['input_21[0][0]']               \n",
      "                                                                                                  \n",
      " dense_45 (Dense)               (None, 64)           8256        ['input_22[0][0]']               \n",
      "                                                                                                  \n",
      " dense_47 (Dense)               (None, 64)           8256        ['input_23[0][0]']               \n",
      "                                                                                                  \n",
      " dense_49 (Dense)               (None, 64)           8256        ['input_24[0][0]']               \n",
      "                                                                                                  \n",
      " dense_51 (Dense)               (None, 64)           8256        ['input_25[0][0]']               \n",
      "                                                                                                  \n",
      " dense_53 (Dense)               (None, 64)           8256        ['input_26[0][0]']               \n",
      "                                                                                                  \n",
      " dense_55 (Dense)               (None, 64)           8256        ['input_27[0][0]']               \n",
      "                                                                                                  \n",
      " dense_57 (Dense)               (None, 64)           8256        ['input_28[0][0]']               \n",
      "                                                                                                  \n",
      " dense_59 (Dense)               (None, 64)           35968       ['input_29[0][0]']               \n",
      "                                                                                                  \n",
      " dense_42 (Dense)               (None, 32)           2080        ['dense_41[0][0]']               \n",
      "                                                                                                  \n",
      " dense_44 (Dense)               (None, 32)           2080        ['dense_43[0][0]']               \n",
      "                                                                                                  \n",
      " dense_46 (Dense)               (None, 32)           2080        ['dense_45[0][0]']               \n",
      "                                                                                                  \n",
      " dense_48 (Dense)               (None, 32)           2080        ['dense_47[0][0]']               \n",
      "                                                                                                  \n",
      " dense_50 (Dense)               (None, 32)           2080        ['dense_49[0][0]']               \n",
      "                                                                                                  \n",
      " dense_52 (Dense)               (None, 32)           2080        ['dense_51[0][0]']               \n",
      "                                                                                                  \n",
      " dense_54 (Dense)               (None, 32)           2080        ['dense_53[0][0]']               \n",
      "                                                                                                  \n",
      " dense_56 (Dense)               (None, 32)           2080        ['dense_55[0][0]']               \n",
      "                                                                                                  \n",
      " dense_58 (Dense)               (None, 32)           2080        ['dense_57[0][0]']               \n",
      "                                                                                                  \n",
      " dense_60 (Dense)               (None, 32)           2080        ['dense_59[0][0]']               \n",
      "                                                                                                  \n",
      " concatenate_2 (Concatenate)    (None, 320)          0           ['dense_42[0][0]',               \n",
      "                                                                  'dense_44[0][0]',               \n",
      "                                                                  'dense_46[0][0]',               \n",
      "                                                                  'dense_48[0][0]',               \n",
      "                                                                  'dense_50[0][0]',               \n",
      "                                                                  'dense_52[0][0]',               \n",
      "                                                                  'dense_54[0][0]',               \n",
      "                                                                  'dense_56[0][0]',               \n",
      "                                                                  'dense_58[0][0]',               \n",
      "                                                                  'dense_60[0][0]']               \n",
      "                                                                                                  \n",
      " dense_61 (Dense)               (None, 6)            1926        ['concatenate_2[0][0]']          \n",
      "                                                                                                  \n",
      "==================================================================================================\n",
      "Total params: 132,998\n",
      "Trainable params: 132,998\n",
      "Non-trainable params: 0\n",
      "__________________________________________________________________________________________________\n"
     ]
    }
   ],
   "source": [
    "MASTER_MODEL.summary()"
   ]
  },
  {
   "cell_type": "markdown",
   "id": "58bd1510-96e3-4711-9a88-909059cf03ca",
   "metadata": {},
   "source": [
    "So, there are `132,998` trainable parameters. And this is **how** there are **billions** of parameters to be trained in DALL•E or GPT models."
   ]
  },
  {
   "cell_type": "markdown",
   "id": "4dbbed10-2cc8-40cd-80a0-fa97aaa5f68d",
   "metadata": {},
   "source": [
    "___\n",
    "Of course, now we will have to make our X_train and X_test so that we can train the model."
   ]
  },
  {
   "cell_type": "code",
   "execution_count": 112,
   "id": "95f93231-05f8-4d22-8888-f8721b1c46b9",
   "metadata": {},
   "outputs": [],
   "source": [
    "X_train_master = []\n",
    "X_test_master = []\n",
    "\n",
    "for Dth in range(D):\n",
    "    X_train_master.append(train[:, :, Dth])\n",
    "    X_test_master.append(test[:, :, Dth])"
   ]
  },
  {
   "cell_type": "code",
   "execution_count": 113,
   "id": "b27783d8-9118-4659-a260-42541616ff51",
   "metadata": {},
   "outputs": [],
   "source": [
    "# Xtrain.values because Xtrain is the dataframe\n",
    "X_train_master.append(Xtrain.values)\n",
    "X_test_master.append(Xtest.values)"
   ]
  },
  {
   "cell_type": "code",
   "execution_count": 114,
   "id": "584a2c49-02f5-4674-8e9e-77c29d3aa098",
   "metadata": {},
   "outputs": [],
   "source": [
    "# making a checkpoint\n",
    "check_point = ModelCheckpoint(\n",
    "    \"./bes_combined_model.h5\", monitor=\"val_accuracy\", save_best_only=True\n",
    ")"
   ]
  },
  {
   "cell_type": "code",
   "execution_count": 115,
   "id": "a200f271-0903-4e03-b842-e471727c0b08",
   "metadata": {},
   "outputs": [],
   "source": [
    "MASTER_MODEL.compile(\n",
    "    optimizer=\"adam\",\n",
    "    loss=SparseCategoricalCrossentropy(from_logits=True),\n",
    "    metrics=[\"accuracy\"],\n",
    ")"
   ]
  },
  {
   "cell_type": "code",
   "execution_count": 116,
   "id": "9fbf087f-4d32-4259-859f-f97888812bf2",
   "metadata": {},
   "outputs": [
    {
     "data": {
      "application/vnd.jupyter.widget-view+json": {
       "model_id": "ec2854226a794a08910404129d959b0d",
       "version_major": 2,
       "version_minor": 0
      },
      "text/plain": [
       "0epoch [00:00, ?epoch/s]"
      ]
     },
     "metadata": {},
     "output_type": "display_data"
    }
   ],
   "source": [
    "master_result = MASTER_MODEL.fit(\n",
    "    X_train_master,\n",
    "    ytrain,\n",
    "    epochs=20,\n",
    "    validation_data=(X_test_master, ytest),\n",
    "    verbose=0,\n",
    "    callbacks=[check_point, TqdmCallback(verbose=0)],\n",
    ")"
   ]
  },
  {
   "cell_type": "code",
   "execution_count": 117,
   "id": "4863c8a0-2c2e-4066-aadd-f0ae62f0d166",
   "metadata": {},
   "outputs": [
    {
     "data": {
      "image/png": "[encoded data removed]",
      "text/plain": [
       "<Figure size 1440x720 with 1 Axes>"
      ]
     },
     "metadata": {
      "needs_background": "light"
     },
     "output_type": "display_data"
    }
   ],
   "source": [
    "plt.plot(master_result.history[\"accuracy\"], label=\"Training Acc\")\n",
    "plt.plot(master_result.history[\"val_accuracy\"], label=\"Validation Acc\")\n",
    "plt.legend();"
   ]
  },
  {
   "cell_type": "markdown",
   "id": "d91ef58f-d833-442c-b83e-1c412764a735",
   "metadata": {},
   "source": [
    "This model is indeed complex but has an improved accuracy! Loved it."
   ]
  },
  {
   "cell_type": "markdown",
   "id": "202e035b-0cc0-4acb-a02a-fafc375d698f",
   "metadata": {},
   "source": [
    "# "
   ]
  },
  {
   "cell_type": "markdown",
   "id": "fec27af5-d181-4d0d-83b2-a002ebbadc84",
   "metadata": {},
   "source": [
    "# That was a lot.\n",
    "I know this time, we have been dealing with the \"classification\" instead of some kind of \"time-series\", but that was fun. It felt like doing the deep learning.\n",
    "\n",
    "Let's see some more exciting stuff ahead."
   ]
  }
 ],
 "metadata": {
  "kernelspec": {
   "display_name": "Python 3 (ipykernel)",
   "language": "python",
   "name": "python3"
  },
  "language_info": {
   "codemirror_mode": {
    "name": "ipython",
    "version": 3
   },
   "file_extension": ".py",
   "mimetype": "text/x-python",
   "name": "python",
   "nbconvert_exporter": "python",
   "pygments_lexer": "ipython3",
   "version": "3.9.12"
  }
 },
 "nbformat": 4,
 "nbformat_minor": 5
}
