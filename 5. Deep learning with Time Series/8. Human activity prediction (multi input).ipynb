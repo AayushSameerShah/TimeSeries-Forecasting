{
 "cells": [
  {
   "cell_type": "markdown",
   "id": "92416dcb-9e5e-4eda-b046-1a98de091952",
   "metadata": {},
   "source": [
    "# 🦾  Treat it as a project.\n",
    "Yeah. I saw an introduction and this dataset looks amazing. This time, we are going to be dealing with a **new** dataset if the **human** activity."
   ]
  },
  {
   "cell_type": "markdown",
   "id": "618370ca-a08e-4ea0-9caf-91f0df143f54",
   "metadata": {},
   "source": [
    "This will be a new kind of problem that we will be trying to solve. Here, the dataset includes the \"measurements\" taken from the smart watch ⌚ from multiple people throughout the day.\n",
    "\n",
    "> The goal is to classify **whether** a person is *sitting*, *dancing*, *sleeping* or whatever! Or just bathing in his bathtub. There will be 6 classes to classify. Hence, it is a **multiclass-classification** problem. But, with the time-series.\n"
   ]
  },
  {
   "cell_type": "markdown",
   "id": "6429e5e4-1dfa-4859-a393-90f635d045e6",
   "metadata": {},
   "source": [
    "There are `2` sensors are used for this dataset: \n",
    "1. Gyroscope\n",
    "2. Accelerometer"
   ]
  },
  {
   "cell_type": "markdown",
   "id": "f7422b6d-37fb-4429-9017-b3c2bf9d5363",
   "metadata": {},
   "source": [
    "Each of them returns `3` separate channels because we are living in the 3D space."
   ]
  },
  {
   "cell_type": "markdown",
   "id": "d3a6f13c-05f7-4e98-b8db-fdf1adbd4bc1",
   "metadata": {},
   "source": [
    "___\n",
    "Dataset metadata:\n",
    "- There are 2 sensors,.\n",
    "- Each will return 3 channels.\n",
    "- Hence, we will be having `3` + `3` = **`6`** features.\n",
    "- Their names are ***\"acceleration\"*** & ***\"angular velocity\"*** returned by accelerometer and gyroscope respectively.\n",
    "- BUTT: There are **2** types of acceleration:\n",
    "    1. Total acceleration\n",
    "    2. Body acceleration = Total acceleration - gravity\n",
    "- Hence, we have `3` + `3` + `3` = **`9`** final features in the dataset."
   ]
  },
  {
   "cell_type": "markdown",
   "id": "d645904a-7ce9-4e78-aa4f-108009614d9f",
   "metadata": {},
   "source": [
    "About the time-series:\n",
    "\n",
    "- Each measurement was sampled at `50Hz` = 50 measurements/sec\n",
    "- Taken at the intervals of `2.56` seconds.\n",
    "- Thus, we have 50 * 2.56 = `128` measurements for each time-series.\n",
    "- Meaning, **the leanght** of time series corresponding to **each** activity is 128."
   ]
  },
  {
   "cell_type": "markdown",
   "id": "c1c08d3a-ca9a-4ef6-9501-8702548b6620",
   "metadata": {},
   "source": [
    "Some pre-processing is done already:\n",
    "\n",
    "- Noise removal\n",
    "- Low pass filtering (smoothing - EWMA *if you remember* 😉)\n",
    "- Scaling [-1, 1]\n",
    "\n",
    "Hence, the time-series is not in a raw version."
   ]
  },
  {
   "cell_type": "markdown",
   "id": "b7b01159-1582-4bb3-a882-4a46cc110bee",
   "metadata": {},
   "source": [
    "      +--------+\n",
    "      /        /|\n",
    "     /    T   / |\n",
    "    +--------+  |\n",
    "    |        | D|\n",
    "    |   N    |  +\n",
    "    |        | /\n",
    "    |        |/\n",
    "    +--------+"
   ]
  },
  {
   "cell_type": "markdown",
   "id": "082a42e2-bb80-4883-a7a6-3f81bd7d8a4a",
   "metadata": {},
   "source": [
    "Where:\n",
    "- N: Number of observations\n",
    "- T: Features\n",
    "- D: What makes the feature? (128 observations)\n",
    "\n",
    "Till now, this is the visualization of the data till now. And what about **Y**? It is the simple `1D` data encoded in {0, 1, 2, 3, 4, 5, 6}\n",
    "\n",
    "#### 🤔 Does this look... a bit strange?\n",
    "Yes, because till now... we have only worked with the **2D** data. Or just NxT data. Now are are dealing with **Multivariate** data.\n",
    "\n",
    "Before this, we had **Univariate** data, thus we were able to store them in the 2D table. Here still a 2D table will be there, but the data itself has to be treated *differently*."
   ]
  },
  {
   "cell_type": "markdown",
   "id": "a90e5b02-8936-4efc-8275-b1c77363b0d9",
   "metadata": {},
   "source": [
    "> Here is the [link](https://www.kaggle.com/datasets/uciml/human-activity-recognition-with-smartphones) to the dataset. Have a look if there is any confusion... or anything."
   ]
  },
  {
   "cell_type": "markdown",
   "id": "fda914f9-7084-4c20-a331-ebedc7b42948",
   "metadata": {
    "tags": []
   },
   "source": [
    "### 🛣 Side track"
   ]
  },
  {
   "cell_type": "code",
   "execution_count": null,
   "id": "4414e7d3-a207-4c18-bbef-79bde6756696",
   "metadata": {},
   "outputs": [],
   "source": []
  }
 ],
 "metadata": {
  "kernelspec": {
   "display_name": "Python 3 (ipykernel)",
   "language": "python",
   "name": "python3"
  },
  "language_info": {
   "codemirror_mode": {
    "name": "ipython",
    "version": 3
   },
   "file_extension": ".py",
   "mimetype": "text/x-python",
   "name": "python",
   "nbconvert_exporter": "python",
   "pygments_lexer": "ipython3",
   "version": "3.9.12"
  }
 },
 "nbformat": 4,
 "nbformat_minor": 5
}
