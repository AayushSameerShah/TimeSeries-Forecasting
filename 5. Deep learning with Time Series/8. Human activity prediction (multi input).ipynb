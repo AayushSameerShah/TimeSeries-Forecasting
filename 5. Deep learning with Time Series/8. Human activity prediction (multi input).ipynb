{
 "cells": [
  {
   "cell_type": "markdown",
   "id": "92416dcb-9e5e-4eda-b046-1a98de091952",
   "metadata": {},
   "source": [
    "# 🦾  Treat it as a project.\n",
    "Yeah. I saw an introduction and this dataset looks amazing. This time, we are going to be dealing with a **new** dataset if the **human** activity."
   ]
  },
  {
   "cell_type": "markdown",
   "id": "618370ca-a08e-4ea0-9caf-91f0df143f54",
   "metadata": {},
   "source": [
    "This will be a new kind of problem that we will be trying to solve. Here, the dataset includes the \"measurements\" taken from the smart watch ⌚ from multiple people throughout the day.\n",
    "\n",
    "> The goal is to classify **whether** a person is *sitting*, *dancing*, *sleeping* or whatever! Or just bathing in his bathtub. There will be 6 classes to classify. Hence, it is a **multiclass-classification** problem. But, with the time-series.\n"
   ]
  },
  {
   "cell_type": "markdown",
   "id": "6429e5e4-1dfa-4859-a393-90f635d045e6",
   "metadata": {},
   "source": [
    "There are `2` sensors are used for this dataset: \n",
    "1. Gyroscope\n",
    "2. Accelerometer"
   ]
  },
  {
   "cell_type": "markdown",
   "id": "f7422b6d-37fb-4429-9017-b3c2bf9d5363",
   "metadata": {},
   "source": [
    "Each of them returns `3` separate channels because we are living in the 3D space."
   ]
  },
  {
   "cell_type": "markdown",
   "id": "d3a6f13c-05f7-4e98-b8db-fdf1adbd4bc1",
   "metadata": {},
   "source": [
    "___\n",
    "Dataset metadata:\n",
    "- There are 2 sensors,.\n",
    "- Each will return 3 channels.\n",
    "- Hence, we will be having `3` + `3` = **`6`** features.\n",
    "- Their names are ***\"acceleration\"*** & ***\"angular velocity\"*** returned by accelerometer and gyroscope respectively.\n",
    "- BUTT: There are **2** types of acceleration:\n",
    "    1. Total acceleration\n",
    "    2. Body acceleration = Total acceleration - gravity\n",
    "- Hence, we have `3` + `3` + `3` = **`9`** final features in the dataset."
   ]
  },
  {
   "cell_type": "markdown",
   "id": "d645904a-7ce9-4e78-aa4f-108009614d9f",
   "metadata": {},
   "source": [
    "About the time-series:\n",
    "\n",
    "- Each measurement was sampled at `50Hz` = 50 measurements/sec\n",
    "- Taken at the intervals of `2.56` seconds.\n",
    "- Thus, we have 50 * 2.56 = `128` measurements for each time-series.\n",
    "- Meaning, **the leanght** of time series corresponding to **each** activity is 128."
   ]
  },
  {
   "cell_type": "markdown",
   "id": "c1c08d3a-ca9a-4ef6-9501-8702548b6620",
   "metadata": {},
   "source": [
    "Some pre-processing is done already:\n",
    "\n",
    "- Noise removal\n",
    "- Low pass filtering (smoothing - EWMA *if you remember* 😉)\n",
    "- Scaling [-1, 1]\n",
    "\n",
    "Hence, the time-series is not in a raw version."
   ]
  },
  {
   "cell_type": "markdown",
   "id": "b7b01159-1582-4bb3-a882-4a46cc110bee",
   "metadata": {},
   "source": [
    "      +--------+\n",
    "      /        /|\n",
    "     /    T   / |\n",
    "    +--------+  |\n",
    "    |        | D|\n",
    "    |   N    |  +\n",
    "    |        | /\n",
    "    |        |/\n",
    "    +--------+"
   ]
  },
  {
   "cell_type": "markdown",
   "id": "082a42e2-bb80-4883-a7a6-3f81bd7d8a4a",
   "metadata": {},
   "source": [
    "Where:\n",
    "- N: Number of observations\n",
    "- T: Features\n",
    "- D: What makes the feature? (128 observations)\n",
    "\n",
    "Till now, this is the visualization of the data till now. And what about **Y**? It is the simple `1D` data encoded in {0, 1, 2, 3, 4, 5, 6}\n",
    "\n",
    "#### 🤔 Does this look... a bit strange?\n",
    "Yes, because till now... we have only worked with the **2D** data. Or just NxT data. Now are are dealing with **Multivariate** data.\n",
    "\n",
    "Before this, we had **Univariate** data, thus we were able to store them in the 2D table. Here still a 2D table will be there, but the data itself has to be treated *differently*."
   ]
  },
  {
   "cell_type": "markdown",
   "id": "a90e5b02-8936-4efc-8275-b1c77363b0d9",
   "metadata": {},
   "source": [
    "> Here are the links [link-1](https://www.kaggle.com/datasets/uciml/human-activity-recognition-with-smartphones) or [link-2](https://www.kaggle.com/datasets/erenaktas/human-activity-recognition) to the dataset. Have a look if there is any confusion... or anything."
   ]
  },
  {
   "cell_type": "markdown",
   "id": "fda914f9-7084-4c20-a331-ebedc7b42948",
   "metadata": {
    "tags": []
   },
   "source": [
    "## 🛣 Side track\n",
    "\n",
    "**A multi-variate jargon** <br>\n",
    "So, till now we have seen the 2D data like...\n",
    "\n",
    "#### 👉 Before\n",
    "<img src=\"../images/univariate.jpg\" width=300 height=300>\n",
    "\n",
    "Where, <br>\n",
    "- **N** is the number of observations.\n",
    "- **T** is the number of features.\n",
    "\n",
    "Such a simple and beautiful thing. <br>\n",
    "____\n",
    "\n",
    "#### 👉 Now\n",
    "<img src=\"../images/multivariate.jpg\" width=300 height=300>\n",
    "\n",
    "Where, <br>\n",
    "- **D** is the number of different perspectives to observe the data."
   ]
  },
  {
   "cell_type": "markdown",
   "id": "bd791594-440e-4d54-80c0-97272aa9da57",
   "metadata": {},
   "source": [
    "### 🐼 But in pandas...\n",
    "We can show that like this."
   ]
  },
  {
   "cell_type": "code",
   "execution_count": 1,
   "id": "afc9e3bb-0cfb-4c85-a649-194be2a87580",
   "metadata": {},
   "outputs": [],
   "source": [
    "import pandas as pd\n",
    "import numpy as np"
   ]
  },
  {
   "cell_type": "code",
   "execution_count": 2,
   "id": "b40ffa71-1f96-483f-bfe0-70f08359df0b",
   "metadata": {},
   "outputs": [],
   "source": [
    "columns = pd.MultiIndex.from_product([[\"Machine 1\", \"Machine 2\", \"Machine 3\"], \n",
    "                                      [\"Height\", \"Weight\"]])"
   ]
  },
  {
   "cell_type": "code",
   "execution_count": 3,
   "id": "480c710f-73a5-41f7-91cd-25eed46f3045",
   "metadata": {},
   "outputs": [
    {
     "data": {
      "text/html": [
       "<div>\n",
       "<style scoped>\n",
       "    .dataframe tbody tr th:only-of-type {\n",
       "        vertical-align: middle;\n",
       "    }\n",
       "\n",
       "    .dataframe tbody tr th {\n",
       "        vertical-align: top;\n",
       "    }\n",
       "\n",
       "    .dataframe thead tr th {\n",
       "        text-align: left;\n",
       "    }\n",
       "\n",
       "    .dataframe thead tr:last-of-type th {\n",
       "        text-align: right;\n",
       "    }\n",
       "</style>\n",
       "<table border=\"1\" class=\"dataframe\">\n",
       "  <thead>\n",
       "    <tr>\n",
       "      <th>D →</th>\n",
       "      <th colspan=\"2\" halign=\"left\">Machine 1</th>\n",
       "      <th colspan=\"2\" halign=\"left\">Machine 2</th>\n",
       "      <th colspan=\"2\" halign=\"left\">Machine 3</th>\n",
       "      <th></th>\n",
       "    </tr>\n",
       "    <tr>\n",
       "      <th>T →</th>\n",
       "      <th>Height</th>\n",
       "      <th>Weight</th>\n",
       "      <th>Height</th>\n",
       "      <th>Weight</th>\n",
       "      <th>Height</th>\n",
       "      <th>Weight</th>\n",
       "      <th>Gender</th>\n",
       "    </tr>\n",
       "    <tr>\n",
       "      <th>N ↓</th>\n",
       "      <th></th>\n",
       "      <th></th>\n",
       "      <th></th>\n",
       "      <th></th>\n",
       "      <th></th>\n",
       "      <th></th>\n",
       "      <th></th>\n",
       "    </tr>\n",
       "  </thead>\n",
       "  <tbody>\n",
       "    <tr>\n",
       "      <th>0</th>\n",
       "      <td>-4</td>\n",
       "      <td>9</td>\n",
       "      <td>4</td>\n",
       "      <td>0</td>\n",
       "      <td>-3</td>\n",
       "      <td>-4</td>\n",
       "      <td>M</td>\n",
       "    </tr>\n",
       "    <tr>\n",
       "      <th>1</th>\n",
       "      <td>8</td>\n",
       "      <td>0</td>\n",
       "      <td>0</td>\n",
       "      <td>-7</td>\n",
       "      <td>-3</td>\n",
       "      <td>-8</td>\n",
       "      <td>M</td>\n",
       "    </tr>\n",
       "    <tr>\n",
       "      <th>2</th>\n",
       "      <td>-9</td>\n",
       "      <td>1</td>\n",
       "      <td>-5</td>\n",
       "      <td>-9</td>\n",
       "      <td>-10</td>\n",
       "      <td>1</td>\n",
       "      <td>M</td>\n",
       "    </tr>\n",
       "    <tr>\n",
       "      <th>3</th>\n",
       "      <td>1</td>\n",
       "      <td>6</td>\n",
       "      <td>-1</td>\n",
       "      <td>5</td>\n",
       "      <td>4</td>\n",
       "      <td>4</td>\n",
       "      <td>M</td>\n",
       "    </tr>\n",
       "    <tr>\n",
       "      <th>4</th>\n",
       "      <td>8</td>\n",
       "      <td>1</td>\n",
       "      <td>9</td>\n",
       "      <td>-8</td>\n",
       "      <td>-6</td>\n",
       "      <td>8</td>\n",
       "      <td>F</td>\n",
       "    </tr>\n",
       "  </tbody>\n",
       "</table>\n",
       "</div>"
      ],
      "text/plain": [
       "D → Machine 1        Machine 2        Machine 3              \n",
       "T →    Height Weight    Height Weight    Height Weight Gender\n",
       "N ↓                                                          \n",
       "0          -4      9         4      0        -3     -4      M\n",
       "1           8      0         0     -7        -3     -8      M\n",
       "2          -9      1        -5     -9       -10      1      M\n",
       "3           1      6        -1      5         4      4      M\n",
       "4           8      1         9     -8        -6      8      F"
      ]
     },
     "execution_count": 3,
     "metadata": {},
     "output_type": "execute_result"
    }
   ],
   "source": [
    "np.random.seed(42)\n",
    "df = pd.DataFrame(np.random.randint(-10, 10, (5, 3 * 2)), columns=columns)\n",
    "df = pd.concat([df, pd.Series(\n",
    "                np.random.choice([\"M\", \"F\"], 5),\n",
    "                name=(\"\", \"Gender\"))], \n",
    "          axis=1)\n",
    "\n",
    "df.columns.names = [\"D →\", \"T →\"]\n",
    "df.index.name = \"N ↓\"\n",
    "df"
   ]
  },
  {
   "cell_type": "markdown",
   "id": "7c7c71f2-ea13-4c83-85a0-0fc303c12448",
   "metadata": {},
   "source": [
    "Yeah. This is it. This is the `N x T x D` shape."
   ]
  },
  {
   "cell_type": "markdown",
   "id": "17766d21-dfdd-4be9-8e8d-b1bbef290820",
   "metadata": {},
   "source": [
    "*If you want to see some crazy things...* look below.\n",
    "\n",
    "The data is like:"
   ]
  },
  {
   "cell_type": "code",
   "execution_count": 4,
   "id": "614806fd-5b7b-4911-9d89-b2c48d7d01e6",
   "metadata": {},
   "outputs": [
    {
     "data": {
      "text/plain": [
       "array([[[ 0,  1,  2],\n",
       "        [ 3,  4,  5]],\n",
       "\n",
       "       [[ 6,  7,  8],\n",
       "        [ 9, 10, 11]],\n",
       "\n",
       "       [[12, 13, 14],\n",
       "        [15, 16, 17]],\n",
       "\n",
       "       [[18, 19, 20],\n",
       "        [21, 22, 23]]])"
      ]
     },
     "execution_count": 4,
     "metadata": {},
     "output_type": "execute_result"
    }
   ],
   "source": [
    "multivariate = np.arange(24).reshape(4, 2, 3)\n",
    "multivariate"
   ]
  },
  {
   "cell_type": "markdown",
   "id": "c8b10327-457a-430e-a24d-4e38eb72642c",
   "metadata": {},
   "source": [
    "Here `3` levels are there. Meaning, 3 `Ds` are there."
   ]
  },
  {
   "cell_type": "code",
   "execution_count": 5,
   "id": "1f59c5e0-04db-4874-97a7-7260788cdece",
   "metadata": {},
   "outputs": [
    {
     "data": {
      "text/plain": [
       "(4, 2, 3)"
      ]
     },
     "execution_count": 5,
     "metadata": {},
     "output_type": "execute_result"
    }
   ],
   "source": [
    "# N x T x D\n",
    "multivariate.shape"
   ]
  },
  {
   "cell_type": "code",
   "execution_count": 6,
   "id": "e8694d1f-cbbf-4b17-a2b7-44f78b580e65",
   "metadata": {},
   "outputs": [
    {
     "data": {
      "text/plain": [
       "array([[ 0,  3],\n",
       "       [ 6,  9],\n",
       "       [12, 15],\n",
       "       [18, 21]])"
      ]
     },
     "execution_count": 6,
     "metadata": {},
     "output_type": "execute_result"
    }
   ],
   "source": [
    "# first level\n",
    "multivariate[:, :, 0]"
   ]
  },
  {
   "cell_type": "code",
   "execution_count": 7,
   "id": "0f7becbc-e667-4144-9400-82eb21c92907",
   "metadata": {},
   "outputs": [
    {
     "data": {
      "text/plain": [
       "array([[ 1,  4],\n",
       "       [ 7, 10],\n",
       "       [13, 16],\n",
       "       [19, 22]])"
      ]
     },
     "execution_count": 7,
     "metadata": {},
     "output_type": "execute_result"
    }
   ],
   "source": [
    "# second level\n",
    "multivariate[:, :, 1]"
   ]
  },
  {
   "cell_type": "code",
   "execution_count": 8,
   "id": "8670c1c2-db94-40cf-bd62-c6f107018f5e",
   "metadata": {},
   "outputs": [
    {
     "data": {
      "text/plain": [
       "array([[ 2,  5],\n",
       "       [ 8, 11],\n",
       "       [14, 17],\n",
       "       [20, 23]])"
      ]
     },
     "execution_count": 8,
     "metadata": {},
     "output_type": "execute_result"
    }
   ],
   "source": [
    "# third level\n",
    "multivariate[:, :, 2]"
   ]
  },
  {
   "cell_type": "markdown",
   "id": "67373e64-28e3-4008-a3b2-c1d0b456e5b7",
   "metadata": {},
   "source": [
    "To convert **that** into the dataframe style..."
   ]
  },
  {
   "cell_type": "markdown",
   "id": "5e7f853a-5ea6-4ba8-9a08-df7cbd0dd824",
   "metadata": {},
   "source": [
    "#### Option 1"
   ]
  },
  {
   "cell_type": "code",
   "execution_count": 9,
   "id": "2ebcdf67-e5a6-481f-a4e2-338a9fac0bb3",
   "metadata": {},
   "outputs": [
    {
     "data": {
      "text/plain": [
       "array([[ 0,  3,  1,  4,  2,  5],\n",
       "       [ 6,  9,  7, 10,  8, 11],\n",
       "       [12, 15, 13, 16, 14, 17],\n",
       "       [18, 21, 19, 22, 20, 23]])"
      ]
     },
     "execution_count": 9,
     "metadata": {},
     "output_type": "execute_result"
    }
   ],
   "source": [
    "# a reshape with order \"F\"\n",
    "multivariate.reshape(4, 6, order=\"F\")"
   ]
  },
  {
   "cell_type": "markdown",
   "id": "5283e70e-f112-4943-81ad-f0ced1113d14",
   "metadata": {},
   "source": [
    "#### Option 2"
   ]
  },
  {
   "cell_type": "code",
   "execution_count": 10,
   "id": "0861fd85-0143-4327-903b-483f7d123ac9",
   "metadata": {},
   "outputs": [],
   "source": [
    "# a loop operation\n",
    "x = multivariate[:, :, 0].copy()\n",
    "for i in range(1, multivariate.shape[-1]): # for shape D\n",
    "    x = np.c_[x, multivariate[:, :, i]]"
   ]
  },
  {
   "cell_type": "code",
   "execution_count": 11,
   "id": "6676dd20-02a1-4bbd-a6bf-4ebe97e0261a",
   "metadata": {},
   "outputs": [
    {
     "data": {
      "text/plain": [
       "array([[ 0,  3,  1,  4,  2,  5],\n",
       "       [ 6,  9,  7, 10,  8, 11],\n",
       "       [12, 15, 13, 16, 14, 17],\n",
       "       [18, 21, 19, 22, 20, 23]])"
      ]
     },
     "execution_count": 11,
     "metadata": {},
     "output_type": "execute_result"
    }
   ],
   "source": [
    "x"
   ]
  },
  {
   "cell_type": "markdown",
   "id": "9054096b-243a-4de0-b7ac-5d45dd25919b",
   "metadata": {
    "tags": []
   },
   "source": [
    "#### 🛣 Back to the track"
   ]
  },
  {
   "cell_type": "markdown",
   "id": "935e7a72-7b4a-45b0-bf00-8510bdd3944c",
   "metadata": {},
   "source": [
    "Now we know **how the data is represented** we would love to see **what shouldn't be done.**"
   ]
  },
  {
   "cell_type": "markdown",
   "id": "8bfc313d-d0fd-4986-ad26-be72d3667d28",
   "metadata": {},
   "source": [
    "## 🧷 What we did.\n",
    "\n",
    "1. We had `N x T x D` shape of data.\n",
    "2. We converted that into `N x TD` data so that can be treated as 2D\n",
    "\n",
    "After that, the **naive approach** would be to **make the simple NN as we usually do**... \n",
    "\n",
    "```python\n",
    "input_layer = Input(shape=(TD,))\n",
    "hidden_layer = Dense(...)\n",
    "...\n",
    "model = Model(...)\n",
    "```\n",
    "\n",
    "Simple right? <br>\n",
    "But that's **NOT** ideal. Because that means that: ***each dimension is treated equally.***\n",
    "\n",
    "Since this time-series has a special structure, we would need to take the advantage of that. And also our neural network is so flexible that it can handle this *multivariate* or *multi-input* kind of inputs. We just need to tweak some parameters. "
   ]
  },
  {
   "cell_type": "markdown",
   "id": "00512783-020e-404e-b33e-4b5fe93c9880",
   "metadata": {},
   "source": [
    "### ⚒ So we will build multi \"tailed\" network\n",
    "\n",
    "<img src=\"../images/multivariate-nn.png\" width=400 height=500>"
   ]
  },
  {
   "cell_type": "markdown",
   "id": "97b9e74f-87dd-43e4-8eca-8873482dabde",
   "metadata": {},
   "source": [
    "> 🤔 But...? Why multi **tailed** and not **multi-headed**? <br> <br> 😀 The reason is that, the final layer (output layer) is called the \"head\" of the neural net. Thus, the inputs are the tails."
   ]
  },
  {
   "cell_type": "markdown",
   "id": "22705a37-bddb-474e-b81c-5e47dacfa31f",
   "metadata": {},
   "source": [
    "And **yes**. The final layer (output layer) can have the multiple layers as well! Which is multi-layer-output."
   ]
  },
  {
   "cell_type": "markdown",
   "id": "46d5477c-c9bf-454f-8df2-826b2b095b43",
   "metadata": {},
   "source": [
    "The code will be like:\n",
    "```python\n",
    "# multiple inputes\n",
    "input_layer1 = Input(shape(T,))\n",
    "input_layer2 = Input(shape(T,))\n",
    "input_layer3 = Input(shape(T,))\n",
    "\n",
    "# hidden layer 1 for each inputs\n",
    "hidden_layer1_1 = Dense(32, activation=\"relu\")(input_layer1)\n",
    "hidden_layer1_2 = Dense(32, activation=\"relu\")(input_layer2)\n",
    "hidden_layer1_3 = Dense(32, activation=\"relu\")(input_layer3)\n",
    "\n",
    "# this will let us to streamline all seperate layers into a single - sequential layer\n",
    "full_layer = Concatenate()([hidden_layer1_1, hidden_layer1_2, hidden_layer1_3])\n",
    "\n",
    "# the final output | K = number of classes (so the nodes)\n",
    "output_layer = Dense(K)(full_layer)\n",
    "\n",
    "# the model\n",
    "model = Model([input_layer1, input_layer2, input_layer3], output_layer)\n",
    "```"
   ]
  },
  {
   "cell_type": "markdown",
   "id": "75df1aaf-187a-4936-b66e-57bb3b9f9bc0",
   "metadata": {},
   "source": [
    "Yes, the code certainly feels like **training multiple seperate neural networks** for each layer... but that is just in the starting portion. When we concatenate, things are not like the *seperate nets*. "
   ]
  },
  {
   "cell_type": "markdown",
   "id": "688a1322-09f7-4663-a0ec-14873c4f6422",
   "metadata": {},
   "source": [
    "# "
   ]
  },
  {
   "cell_type": "markdown",
   "id": "fa54b30b-5c7e-47b6-a7db-f01556fa7b59",
   "metadata": {},
   "source": [
    "# 👨‍💻 Let's code it"
   ]
  },
  {
   "cell_type": "code",
   "execution_count": 40,
   "id": "a625a178-554c-4dff-8493-e5895ccb1cfa",
   "metadata": {},
   "outputs": [],
   "source": [
    "# usual imports \n",
    "import numpy as np\n",
    "import pandas as pd\n",
    "import matplotlib.pyplot as plt\n",
    "\n",
    "# unusual imports\n",
    "import os\n",
    "\n",
    "plt.rcParams[\"figure.figsize\"] = (20, 10)\n",
    "\n",
    "# sklearn imports\n",
    "from sklearn.metrics import accuracy_score, ConfusionMatrixDisplay, confusion_matrix\n",
    "from sklearn.preprocessing import StandardScaler\n",
    "\n",
    "# neural network imports\n",
    "import tensorflow as tf\n",
    "from tensorflow.keras.layers import Input, Dense, Concatenate ### ← new ← ###\n",
    "from tensorflow.keras.models import Model\n",
    "\n",
    "# the neural network loss import\n",
    "from tensorflow.keras.losses import SparseCategoricalCrossentropy\n",
    "\n",
    "# to save the model state: \"મસ્ત\"\n",
    "from tensorflow.keras.callbacks import ModelCheckpoint\n",
    "\n",
    "tf.random.set_seed(42)"
   ]
  },
  {
   "cell_type": "markdown",
   "id": "366b78df-e711-441a-a1e5-fbe44a85f784",
   "metadata": {},
   "source": [
    "> Please download the data from this direct [link](https://lazyprogrammer.me/course_files/timeseries/UCI-HAR.zip).\n",
    "\n",
    "**NOTE**: The data is in **multiple** files. We have to merge all files together and make the single dataframe out of it."
   ]
  },
  {
   "cell_type": "markdown",
   "id": "ca30a3fd-6cc3-442e-8bca-08e73583be50",
   "metadata": {},
   "source": [
    "___"
   ]
  },
  {
   "cell_type": "markdown",
   "id": "649f7474-9e99-48b4-b480-9177de5e98cb",
   "metadata": {},
   "source": [
    "## 📜  Some info about the dataset if you want to read.\n",
    "\n",
    "The experiments have been carried out with a group of 30 volunteers within an age bracket of 19-48 years. Each person performed six activities (*WALKING, WALKING_UPSTAIRS, WALKING_DOWNSTAIRS, SITTING, STANDING, LAYING*) wearing a smartphone (Samsung Galaxy S II) on the waist. Using its embedded accelerometer and gyroscope, we captured 3-axial linear acceleration and 3-axial angular velocity at a constant rate of 50Hz. The experiments have been video-recorded to label the data manually. The obtained dataset has been randomly partitioned into two sets, where 70% of the volunteers was selected for generating the training data and 30% the test data. \n",
    "\n",
    "The sensor signals (accelerometer and gyroscope) were pre-processed by applying noise filters and then sampled in fixed-width sliding windows of 2.56 sec and 50% overlap (128 readings/window). The sensor acceleration signal, which has gravitational and body motion components, was separated using a Butterworth low-pass filter into body acceleration and gravity. The gravitational force is assumed to have only low frequency components, therefore a filter with 0.3 Hz cutoff frequency was used. From each window, a vector of features was obtained by calculating variables from the time and frequency domain. See 'features_info.txt' for more details. \n",
    "\n",
    "#### 👉 For each record it is provided:\n",
    "- Triaxial acceleration from the accelerometer (total acceleration) and the estimated body acceleration.\n",
    "- Triaxial Angular velocity from the gyroscope. \n",
    "- A 561-feature vector with time and frequency domain variables. \n",
    "- Its activity label. \n",
    "- An identifier of the subject who carried out the experiment.\n",
    "\n",
    "#### 👉 The dataset includes the following files:\n",
    "\n",
    "- **'README.txt'**\n",
    "- **'features_info.txt'**: Shows information about the variables used on the feature vector.\n",
    "- **'features.txt'**: List of all features.\n",
    "- **'activity_labels.txt'**: Links the class labels with their activity name.\n",
    "- **'train/X_train.txt'**: Training set.\n",
    "- **'train/y_train.txt'**: Training labels.\n",
    "- **'test/X_test.txt'**: Test set.\n",
    "- **'test/y_test.txt'**: Test labels.\n",
    "\n",
    "The following files are available for the train and test data. Their descriptions are equivalent. \n",
    "\n",
    "- **'train/subject_train.txt'**: Each row identifies the subject who performed the activity for each window sample. Its range is from 1 to 30. \n",
    "- **'train/Inertial Signals/total_acc_x_train.txt'**: The acceleration signal from the smartphone accelerometer X axis in standard gravity units 'g'. Every row shows a 128 element vector. The same description applies for the 'total_acc_x_train.txt' and 'total_acc_z_train.txt' files for the Y and Z axis. \n",
    "- **'train/Inertial Signals/body_acc_x_train.txt'**: The body acceleration signal obtained by subtracting the gravity from the total acceleration. \n",
    "- **'train/Inertial Signals/body_gyro_x_train.txt'**: The angular velocity vector measured by the gyroscope for each window sample. The units are radians/second. \n",
    "\n",
    "#### 👉 Notes: \n",
    "- Features are normalized and bounded within [-1,1].\n",
    "- Each feature vector is a row on the text file.\n",
    "- The units used for the accelerations (total and body) are 'g's (gravity of earth -> 9.80665 m/seg2).\n",
    "- The gyroscope units are rad/seg.\n",
    "- A video of the experiment including an example of the 6 recorded activities with one of the participants can be seen in the following link: http://www.youtube.com/watch?v=XOEN9W05_4A\n",
    "\n",
    "#### 👉 Activity lables:\n",
    "- `1`  WALKING\n",
    "- `2`  WALKING_UPSTAIRS\n",
    "- `3`  WALKING_DOWNSTAIRS\n",
    "- `4`  SITTING\n",
    "- `5`  STANDING\n",
    "- `6`  LAYING"
   ]
  },
  {
   "cell_type": "markdown",
   "id": "c45a7e50-a151-43d5-917a-68e44a6c0b20",
   "metadata": {},
   "source": [
    "___"
   ]
  },
  {
   "cell_type": "markdown",
   "id": "3087ca6b-72c0-4654-8d06-ee052f78458d",
   "metadata": {},
   "source": [
    "Yeah, I have tried to make it look pretty... if you've read it, it should be pretty clear by now about the data. At least 20-30% what it tries to say.\n",
    "\n",
    "Now, let's load the data in and see what's possible."
   ]
  },
  {
   "cell_type": "code",
   "execution_count": 13,
   "id": "dacdcbe5-8df9-4a40-8c96-8cda822d0523",
   "metadata": {},
   "outputs": [
    {
     "name": "stdout",
     "output_type": "stream",
     "text": [
      "UCI HAR Dataset\n",
      "__MACOSX\n"
     ]
    }
   ],
   "source": [
    "# this is the main data\n",
    "!ls \"../data/UCI-HAR/\""
   ]
  },
  {
   "cell_type": "code",
   "execution_count": 14,
   "id": "6e57e4ed-3bba-4ed0-85c7-ce185f915ed9",
   "metadata": {},
   "outputs": [
    {
     "name": "stdout",
     "output_type": "stream",
     "text": [
      "README.txt\n",
      "activity_labels.txt\n",
      "features.txt\n",
      "features_info.txt\n",
      "test\n",
      "train\n"
     ]
    }
   ],
   "source": [
    "# this is the main view\n",
    "!ls \"../data/UCI-HAR/UCI HAR Dataset\""
   ]
  },
  {
   "cell_type": "markdown",
   "id": "c531417d-1572-4546-9345-55a6f55ff334",
   "metadata": {},
   "source": [
    "We're interested in `train` and `test`"
   ]
  },
  {
   "cell_type": "code",
   "execution_count": 15,
   "id": "e8bbd6ca-d307-492a-9025-40a727558a65",
   "metadata": {},
   "outputs": [
    {
     "name": "stdout",
     "output_type": "stream",
     "text": [
      "Inertial Signals\n",
      "X_train.txt\n",
      "subject_train.txt\n",
      "y_train.txt\n"
     ]
    }
   ],
   "source": [
    "# for `train`\n",
    "!ls \"../data/UCI-HAR/UCI HAR Dataset/train\""
   ]
  },
  {
   "cell_type": "code",
   "execution_count": 16,
   "id": "b3827761-6a9d-41e6-886d-5cfe9ac91a3f",
   "metadata": {},
   "outputs": [
    {
     "name": "stdout",
     "output_type": "stream",
     "text": [
      "Inertial Signals\n",
      "X_test.txt\n",
      "subject_test.txt\n",
      "y_test.txt\n"
     ]
    }
   ],
   "source": [
    "# for `test`\n",
    "!ls \"../data/UCI-HAR/UCI HAR Dataset/test\""
   ]
  },
  {
   "cell_type": "markdown",
   "id": "d7ffcb66-f67f-492a-8152-7245b416ca86",
   "metadata": {},
   "source": [
    "👉 Before going inside of any of the files... let's have a look at `features.txt`"
   ]
  },
  {
   "cell_type": "code",
   "execution_count": 17,
   "id": "18e35db9-6443-4a8e-b7f7-7e6c5509242a",
   "metadata": {},
   "outputs": [
    {
     "name": "stdout",
     "output_type": "stream",
     "text": [
      "1 tBodyAcc-mean()-X\n",
      "2 tBodyAcc-mean()-Y\n",
      "3 tBodyAcc-mean()-Z\n",
      "4 tBodyAcc-std()-X\n",
      "5 tBodyAcc-std()-Y\n",
      "6 tBodyAcc-std()-Z\n",
      "7 tBodyAcc-mad()-X\n",
      "8 tBodyAcc-mad()-Y\n",
      "9 tBodyAcc-mad()-Z\n",
      "10 tBodyAcc-max()-X\n"
     ]
    }
   ],
   "source": [
    "!head \"../data/UCI-HAR/UCI HAR Dataset/features.txt\""
   ]
  },
  {
   "cell_type": "markdown",
   "id": "7b5b6e5f-e70f-4568-a113-f845cca08c4a",
   "metadata": {},
   "source": [
    "There are like 561 features in total... but for the sake of *head* we can see these top 10."
   ]
  },
  {
   "cell_type": "markdown",
   "id": "4fd8d64b-bca5-4d89-82fc-7b3531973713",
   "metadata": {},
   "source": [
    "Alright, <br>\n",
    "Let's now explore the files in the `train` folder. Alternatively, the same type of data will be in the `test` folder. So, just try to understand."
   ]
  },
  {
   "cell_type": "code",
   "execution_count": 18,
   "id": "3b83e612-669d-4afe-bd37-0c451ee47cf6",
   "metadata": {},
   "outputs": [
    {
     "name": "stdout",
     "output_type": "stream",
     "text": [
      "Inertial Signals\n",
      "X_train.txt\n",
      "subject_train.txt\n",
      "y_train.txt\n"
     ]
    }
   ],
   "source": [
    "# for `train`\n",
    "!ls \"../data/UCI-HAR/UCI HAR Dataset/train\""
   ]
  },
  {
   "cell_type": "markdown",
   "id": "cfb2e0f6-2f6d-4f54-ab73-375baa79bac8",
   "metadata": {},
   "source": [
    "To start with, there is the `subject_train.txt` which is for..."
   ]
  },
  {
   "cell_type": "code",
   "execution_count": 19,
   "id": "acca3de8-af52-4050-8264-9e9ccd37e0fb",
   "metadata": {},
   "outputs": [
    {
     "name": "stdout",
     "output_type": "stream",
     "text": [
      "1\n",
      "1\n",
      "1\n",
      "1\n",
      "1\n",
      "1\n",
      "1\n",
      "1\n",
      "1\n",
      "1\n"
     ]
    }
   ],
   "source": [
    "!head \"../data/UCI-HAR/UCI HAR Dataset/train/subject_train.txt\""
   ]
  },
  {
   "cell_type": "code",
   "execution_count": 20,
   "id": "814cbff5-ab81-422b-a2f7-41188c89a754",
   "metadata": {},
   "outputs": [
    {
     "name": "stdout",
     "output_type": "stream",
     "text": [
      "7352 ../data/UCI-HAR/UCI HAR Dataset/train/subject_train.txt\n"
     ]
    }
   ],
   "source": [
    "# total number of records / lines\n",
    "!wc -l \"../data/UCI-HAR/UCI HAR Dataset/train/subject_train.txt\""
   ]
  },
  {
   "cell_type": "markdown",
   "id": "b944da4e-6a20-4692-ab7e-da5c08d01f6e",
   "metadata": {},
   "source": [
    "There are total `30` people who contributed to this project... so this file represents the number from 1 to 30 to indecate which row represents what. **Which is not necessary** for our exploration and the model building."
   ]
  },
  {
   "cell_type": "code",
   "execution_count": 21,
   "id": "28037cc3-364e-4165-9c6a-405cdc026497",
   "metadata": {},
   "outputs": [],
   "source": [
    "# for `x_train`\n",
    "Xtrain = pd.read_csv(\"../data/UCI-HAR/UCI HAR Dataset/train/X_train.txt\", \n",
    "                        header=None, \n",
    "                        delim_whitespace=True)"
   ]
  },
  {
   "cell_type": "code",
   "execution_count": 22,
   "id": "231d9fa2-2838-4bfb-8e49-60867ba937e4",
   "metadata": {},
   "outputs": [
    {
     "data": {
      "text/html": [
       "<div>\n",
       "<style scoped>\n",
       "    .dataframe tbody tr th:only-of-type {\n",
       "        vertical-align: middle;\n",
       "    }\n",
       "\n",
       "    .dataframe tbody tr th {\n",
       "        vertical-align: top;\n",
       "    }\n",
       "\n",
       "    .dataframe thead th {\n",
       "        text-align: right;\n",
       "    }\n",
       "</style>\n",
       "<table border=\"1\" class=\"dataframe\">\n",
       "  <thead>\n",
       "    <tr style=\"text-align: right;\">\n",
       "      <th></th>\n",
       "      <th>0</th>\n",
       "      <th>1</th>\n",
       "      <th>2</th>\n",
       "      <th>3</th>\n",
       "      <th>4</th>\n",
       "      <th>5</th>\n",
       "      <th>6</th>\n",
       "      <th>7</th>\n",
       "      <th>8</th>\n",
       "      <th>9</th>\n",
       "      <th>...</th>\n",
       "      <th>551</th>\n",
       "      <th>552</th>\n",
       "      <th>553</th>\n",
       "      <th>554</th>\n",
       "      <th>555</th>\n",
       "      <th>556</th>\n",
       "      <th>557</th>\n",
       "      <th>558</th>\n",
       "      <th>559</th>\n",
       "      <th>560</th>\n",
       "    </tr>\n",
       "  </thead>\n",
       "  <tbody>\n",
       "    <tr>\n",
       "      <th>0</th>\n",
       "      <td>0.288585</td>\n",
       "      <td>-0.020294</td>\n",
       "      <td>-0.132905</td>\n",
       "      <td>-0.995279</td>\n",
       "      <td>-0.983111</td>\n",
       "      <td>-0.913526</td>\n",
       "      <td>-0.995112</td>\n",
       "      <td>-0.983185</td>\n",
       "      <td>-0.923527</td>\n",
       "      <td>-0.934724</td>\n",
       "      <td>...</td>\n",
       "      <td>-0.074323</td>\n",
       "      <td>-0.298676</td>\n",
       "      <td>-0.710304</td>\n",
       "      <td>-0.112754</td>\n",
       "      <td>0.030400</td>\n",
       "      <td>-0.464761</td>\n",
       "      <td>-0.018446</td>\n",
       "      <td>-0.841247</td>\n",
       "      <td>0.179941</td>\n",
       "      <td>-0.058627</td>\n",
       "    </tr>\n",
       "    <tr>\n",
       "      <th>1</th>\n",
       "      <td>0.278419</td>\n",
       "      <td>-0.016411</td>\n",
       "      <td>-0.123520</td>\n",
       "      <td>-0.998245</td>\n",
       "      <td>-0.975300</td>\n",
       "      <td>-0.960322</td>\n",
       "      <td>-0.998807</td>\n",
       "      <td>-0.974914</td>\n",
       "      <td>-0.957686</td>\n",
       "      <td>-0.943068</td>\n",
       "      <td>...</td>\n",
       "      <td>0.158075</td>\n",
       "      <td>-0.595051</td>\n",
       "      <td>-0.861499</td>\n",
       "      <td>0.053477</td>\n",
       "      <td>-0.007435</td>\n",
       "      <td>-0.732626</td>\n",
       "      <td>0.703511</td>\n",
       "      <td>-0.844788</td>\n",
       "      <td>0.180289</td>\n",
       "      <td>-0.054317</td>\n",
       "    </tr>\n",
       "    <tr>\n",
       "      <th>2</th>\n",
       "      <td>0.279653</td>\n",
       "      <td>-0.019467</td>\n",
       "      <td>-0.113462</td>\n",
       "      <td>-0.995380</td>\n",
       "      <td>-0.967187</td>\n",
       "      <td>-0.978944</td>\n",
       "      <td>-0.996520</td>\n",
       "      <td>-0.963668</td>\n",
       "      <td>-0.977469</td>\n",
       "      <td>-0.938692</td>\n",
       "      <td>...</td>\n",
       "      <td>0.414503</td>\n",
       "      <td>-0.390748</td>\n",
       "      <td>-0.760104</td>\n",
       "      <td>-0.118559</td>\n",
       "      <td>0.177899</td>\n",
       "      <td>0.100699</td>\n",
       "      <td>0.808529</td>\n",
       "      <td>-0.848933</td>\n",
       "      <td>0.180637</td>\n",
       "      <td>-0.049118</td>\n",
       "    </tr>\n",
       "    <tr>\n",
       "      <th>3</th>\n",
       "      <td>0.279174</td>\n",
       "      <td>-0.026201</td>\n",
       "      <td>-0.123283</td>\n",
       "      <td>-0.996091</td>\n",
       "      <td>-0.983403</td>\n",
       "      <td>-0.990675</td>\n",
       "      <td>-0.997099</td>\n",
       "      <td>-0.982750</td>\n",
       "      <td>-0.989302</td>\n",
       "      <td>-0.938692</td>\n",
       "      <td>...</td>\n",
       "      <td>0.404573</td>\n",
       "      <td>-0.117290</td>\n",
       "      <td>-0.482845</td>\n",
       "      <td>-0.036788</td>\n",
       "      <td>-0.012892</td>\n",
       "      <td>0.640011</td>\n",
       "      <td>-0.485366</td>\n",
       "      <td>-0.848649</td>\n",
       "      <td>0.181935</td>\n",
       "      <td>-0.047663</td>\n",
       "    </tr>\n",
       "    <tr>\n",
       "      <th>4</th>\n",
       "      <td>0.276629</td>\n",
       "      <td>-0.016570</td>\n",
       "      <td>-0.115362</td>\n",
       "      <td>-0.998139</td>\n",
       "      <td>-0.980817</td>\n",
       "      <td>-0.990482</td>\n",
       "      <td>-0.998321</td>\n",
       "      <td>-0.979672</td>\n",
       "      <td>-0.990441</td>\n",
       "      <td>-0.942469</td>\n",
       "      <td>...</td>\n",
       "      <td>0.087753</td>\n",
       "      <td>-0.351471</td>\n",
       "      <td>-0.699205</td>\n",
       "      <td>0.123320</td>\n",
       "      <td>0.122542</td>\n",
       "      <td>0.693578</td>\n",
       "      <td>-0.615971</td>\n",
       "      <td>-0.847865</td>\n",
       "      <td>0.185151</td>\n",
       "      <td>-0.043892</td>\n",
       "    </tr>\n",
       "  </tbody>\n",
       "</table>\n",
       "<p>5 rows × 561 columns</p>\n",
       "</div>"
      ],
      "text/plain": [
       "        0         1         2         3         4         5         6    \\\n",
       "0  0.288585 -0.020294 -0.132905 -0.995279 -0.983111 -0.913526 -0.995112   \n",
       "1  0.278419 -0.016411 -0.123520 -0.998245 -0.975300 -0.960322 -0.998807   \n",
       "2  0.279653 -0.019467 -0.113462 -0.995380 -0.967187 -0.978944 -0.996520   \n",
       "3  0.279174 -0.026201 -0.123283 -0.996091 -0.983403 -0.990675 -0.997099   \n",
       "4  0.276629 -0.016570 -0.115362 -0.998139 -0.980817 -0.990482 -0.998321   \n",
       "\n",
       "        7         8         9    ...       551       552       553       554  \\\n",
       "0 -0.983185 -0.923527 -0.934724  ... -0.074323 -0.298676 -0.710304 -0.112754   \n",
       "1 -0.974914 -0.957686 -0.943068  ...  0.158075 -0.595051 -0.861499  0.053477   \n",
       "2 -0.963668 -0.977469 -0.938692  ...  0.414503 -0.390748 -0.760104 -0.118559   \n",
       "3 -0.982750 -0.989302 -0.938692  ...  0.404573 -0.117290 -0.482845 -0.036788   \n",
       "4 -0.979672 -0.990441 -0.942469  ...  0.087753 -0.351471 -0.699205  0.123320   \n",
       "\n",
       "        555       556       557       558       559       560  \n",
       "0  0.030400 -0.464761 -0.018446 -0.841247  0.179941 -0.058627  \n",
       "1 -0.007435 -0.732626  0.703511 -0.844788  0.180289 -0.054317  \n",
       "2  0.177899  0.100699  0.808529 -0.848933  0.180637 -0.049118  \n",
       "3 -0.012892  0.640011 -0.485366 -0.848649  0.181935 -0.047663  \n",
       "4  0.122542  0.693578 -0.615971 -0.847865  0.185151 -0.043892  \n",
       "\n",
       "[5 rows x 561 columns]"
      ]
     },
     "execution_count": 22,
     "metadata": {},
     "output_type": "execute_result"
    }
   ],
   "source": [
    "Xtrain.head()"
   ]
  },
  {
   "cell_type": "code",
   "execution_count": 23,
   "id": "527ef537-b8ce-414d-9103-47916e48f406",
   "metadata": {},
   "outputs": [
    {
     "data": {
      "text/plain": [
       "(7352, 561)"
      ]
     },
     "execution_count": 23,
     "metadata": {},
     "output_type": "execute_result"
    }
   ],
   "source": [
    "Xtrain.shape"
   ]
  },
  {
   "cell_type": "markdown",
   "id": "32adc806-9dd2-4df1-bf91-b6574c6e06bc",
   "metadata": {},
   "source": [
    "Cool. This means that we have the data in `x_train` with columns as all the features **found in** the `features.txt` and the rows are different observations. *(Same as total number of lines in features.txt 7352 == 7352)*"
   ]
  },
  {
   "cell_type": "code",
   "execution_count": 24,
   "id": "9a951c31-8719-4c00-92fd-1f0585c78461",
   "metadata": {},
   "outputs": [
    {
     "name": "stdout",
     "output_type": "stream",
     "text": [
      "5\n",
      "5\n",
      "5\n",
      "5\n",
      "5\n",
      "5\n",
      "5\n",
      "5\n",
      "5\n",
      "5\n"
     ]
    }
   ],
   "source": [
    "# for `y_train`\n",
    "!head \"../data/UCI-HAR/UCI HAR Dataset/train/y_train.txt\""
   ]
  },
  {
   "cell_type": "markdown",
   "id": "c6e33a96-228c-4227-8437-bffa7bc6a69b",
   "metadata": {},
   "source": [
    "This shows the **activity**. Which is encoded from 1 to 5. "
   ]
  },
  {
   "cell_type": "code",
   "execution_count": 25,
   "id": "dc021618-1584-4a2b-9619-533081b3120a",
   "metadata": {},
   "outputs": [
    {
     "name": "stdout",
     "output_type": "stream",
     "text": [
      "7352 ../data/UCI-HAR/UCI HAR Dataset/train/y_train.txt\n"
     ]
    }
   ],
   "source": [
    "!wc -l \"../data/UCI-HAR/UCI HAR Dataset/train/y_train.txt\""
   ]
  },
  {
   "cell_type": "markdown",
   "id": "54b9a79b-feae-4111-a2d0-d1cb515eba0e",
   "metadata": {},
   "source": [
    "Again, the same number of records 7352  == 7352  == 7352 "
   ]
  },
  {
   "cell_type": "code",
   "execution_count": 26,
   "id": "d4ff890e-2fd6-44fe-ade8-8038fd169238",
   "metadata": {},
   "outputs": [
    {
     "name": "stdout",
     "output_type": "stream",
     "text": [
      "body_acc_x_train.txt\n",
      "body_acc_y_train.txt\n",
      "body_acc_z_train.txt\n",
      "body_gyro_x_train.txt\n",
      "body_gyro_y_train.txt\n",
      "body_gyro_z_train.txt\n",
      "total_acc_x_train.txt\n",
      "total_acc_y_train.txt\n",
      "total_acc_z_train.txt\n"
     ]
    }
   ],
   "source": [
    "!ls \"../data/UCI-HAR/UCI HAR Dataset/train/Inertial Signals\""
   ]
  },
  {
   "cell_type": "markdown",
   "id": "feb30956-d6b2-4e50-8973-21cb503b5028",
   "metadata": {},
   "source": [
    "Okay, this looks like there are multiple *other* files to... I don't know!"
   ]
  },
  {
   "cell_type": "code",
   "execution_count": 27,
   "id": "6447de34-47e1-4c27-928d-2085854f7007",
   "metadata": {},
   "outputs": [],
   "source": [
    "# for `x_train`\n",
    "some_file = pd.read_csv(\"../data/UCI-HAR/UCI HAR Dataset/train/Inertial Signals/body_acc_x_train.txt\", \n",
    "                        header=None, \n",
    "                        delim_whitespace=True)"
   ]
  },
  {
   "cell_type": "code",
   "execution_count": 28,
   "id": "8c58fe21-36ef-461a-8a87-4b9c117ff285",
   "metadata": {},
   "outputs": [
    {
     "data": {
      "text/html": [
       "<div>\n",
       "<style scoped>\n",
       "    .dataframe tbody tr th:only-of-type {\n",
       "        vertical-align: middle;\n",
       "    }\n",
       "\n",
       "    .dataframe tbody tr th {\n",
       "        vertical-align: top;\n",
       "    }\n",
       "\n",
       "    .dataframe thead th {\n",
       "        text-align: right;\n",
       "    }\n",
       "</style>\n",
       "<table border=\"1\" class=\"dataframe\">\n",
       "  <thead>\n",
       "    <tr style=\"text-align: right;\">\n",
       "      <th></th>\n",
       "      <th>0</th>\n",
       "      <th>1</th>\n",
       "      <th>2</th>\n",
       "      <th>3</th>\n",
       "      <th>4</th>\n",
       "      <th>5</th>\n",
       "      <th>6</th>\n",
       "      <th>7</th>\n",
       "      <th>8</th>\n",
       "      <th>9</th>\n",
       "      <th>...</th>\n",
       "      <th>118</th>\n",
       "      <th>119</th>\n",
       "      <th>120</th>\n",
       "      <th>121</th>\n",
       "      <th>122</th>\n",
       "      <th>123</th>\n",
       "      <th>124</th>\n",
       "      <th>125</th>\n",
       "      <th>126</th>\n",
       "      <th>127</th>\n",
       "    </tr>\n",
       "  </thead>\n",
       "  <tbody>\n",
       "    <tr>\n",
       "      <th>0</th>\n",
       "      <td>0.000181</td>\n",
       "      <td>0.010139</td>\n",
       "      <td>0.009276</td>\n",
       "      <td>0.005066</td>\n",
       "      <td>0.010810</td>\n",
       "      <td>0.004045</td>\n",
       "      <td>0.004757</td>\n",
       "      <td>0.006214</td>\n",
       "      <td>0.003307</td>\n",
       "      <td>0.007572</td>\n",
       "      <td>...</td>\n",
       "      <td>0.001412</td>\n",
       "      <td>-0.001509</td>\n",
       "      <td>0.000060</td>\n",
       "      <td>0.000435</td>\n",
       "      <td>-0.000819</td>\n",
       "      <td>0.000228</td>\n",
       "      <td>-0.000300</td>\n",
       "      <td>-0.001147</td>\n",
       "      <td>-0.000222</td>\n",
       "      <td>0.001576</td>\n",
       "    </tr>\n",
       "    <tr>\n",
       "      <th>1</th>\n",
       "      <td>0.001094</td>\n",
       "      <td>0.004550</td>\n",
       "      <td>0.002879</td>\n",
       "      <td>0.002247</td>\n",
       "      <td>0.003305</td>\n",
       "      <td>0.002416</td>\n",
       "      <td>0.001619</td>\n",
       "      <td>0.000981</td>\n",
       "      <td>0.000009</td>\n",
       "      <td>-0.000363</td>\n",
       "      <td>...</td>\n",
       "      <td>-0.000104</td>\n",
       "      <td>-0.000141</td>\n",
       "      <td>0.001333</td>\n",
       "      <td>0.001541</td>\n",
       "      <td>0.001077</td>\n",
       "      <td>-0.000736</td>\n",
       "      <td>-0.003767</td>\n",
       "      <td>-0.004646</td>\n",
       "      <td>-0.002941</td>\n",
       "      <td>-0.001599</td>\n",
       "    </tr>\n",
       "    <tr>\n",
       "      <th>2</th>\n",
       "      <td>0.003531</td>\n",
       "      <td>0.002285</td>\n",
       "      <td>-0.000420</td>\n",
       "      <td>-0.003738</td>\n",
       "      <td>-0.006706</td>\n",
       "      <td>-0.003148</td>\n",
       "      <td>0.000733</td>\n",
       "      <td>0.000668</td>\n",
       "      <td>0.002162</td>\n",
       "      <td>-0.000946</td>\n",
       "      <td>...</td>\n",
       "      <td>0.000661</td>\n",
       "      <td>0.001853</td>\n",
       "      <td>-0.000268</td>\n",
       "      <td>-0.000394</td>\n",
       "      <td>-0.000279</td>\n",
       "      <td>-0.000316</td>\n",
       "      <td>0.000144</td>\n",
       "      <td>0.001246</td>\n",
       "      <td>0.003117</td>\n",
       "      <td>0.002178</td>\n",
       "    </tr>\n",
       "    <tr>\n",
       "      <th>3</th>\n",
       "      <td>-0.001772</td>\n",
       "      <td>-0.001311</td>\n",
       "      <td>0.000388</td>\n",
       "      <td>0.000408</td>\n",
       "      <td>-0.000355</td>\n",
       "      <td>0.000998</td>\n",
       "      <td>0.001109</td>\n",
       "      <td>-0.003149</td>\n",
       "      <td>-0.008882</td>\n",
       "      <td>-0.010483</td>\n",
       "      <td>...</td>\n",
       "      <td>0.000458</td>\n",
       "      <td>0.002103</td>\n",
       "      <td>0.001358</td>\n",
       "      <td>0.000820</td>\n",
       "      <td>-0.000212</td>\n",
       "      <td>-0.001915</td>\n",
       "      <td>-0.001631</td>\n",
       "      <td>-0.000867</td>\n",
       "      <td>-0.001172</td>\n",
       "      <td>-0.000028</td>\n",
       "    </tr>\n",
       "    <tr>\n",
       "      <th>4</th>\n",
       "      <td>0.000087</td>\n",
       "      <td>-0.000272</td>\n",
       "      <td>0.001022</td>\n",
       "      <td>0.003126</td>\n",
       "      <td>0.002284</td>\n",
       "      <td>0.000885</td>\n",
       "      <td>0.001933</td>\n",
       "      <td>0.002270</td>\n",
       "      <td>0.002247</td>\n",
       "      <td>0.002175</td>\n",
       "      <td>...</td>\n",
       "      <td>0.002529</td>\n",
       "      <td>0.003518</td>\n",
       "      <td>-0.000248</td>\n",
       "      <td>-0.002761</td>\n",
       "      <td>0.000252</td>\n",
       "      <td>0.003752</td>\n",
       "      <td>0.001626</td>\n",
       "      <td>-0.000698</td>\n",
       "      <td>-0.001223</td>\n",
       "      <td>-0.003328</td>\n",
       "    </tr>\n",
       "  </tbody>\n",
       "</table>\n",
       "<p>5 rows × 128 columns</p>\n",
       "</div>"
      ],
      "text/plain": [
       "        0         1         2         3         4         5         6    \\\n",
       "0  0.000181  0.010139  0.009276  0.005066  0.010810  0.004045  0.004757   \n",
       "1  0.001094  0.004550  0.002879  0.002247  0.003305  0.002416  0.001619   \n",
       "2  0.003531  0.002285 -0.000420 -0.003738 -0.006706 -0.003148  0.000733   \n",
       "3 -0.001772 -0.001311  0.000388  0.000408 -0.000355  0.000998  0.001109   \n",
       "4  0.000087 -0.000272  0.001022  0.003126  0.002284  0.000885  0.001933   \n",
       "\n",
       "        7         8         9    ...       118       119       120       121  \\\n",
       "0  0.006214  0.003307  0.007572  ...  0.001412 -0.001509  0.000060  0.000435   \n",
       "1  0.000981  0.000009 -0.000363  ... -0.000104 -0.000141  0.001333  0.001541   \n",
       "2  0.000668  0.002162 -0.000946  ...  0.000661  0.001853 -0.000268 -0.000394   \n",
       "3 -0.003149 -0.008882 -0.010483  ...  0.000458  0.002103  0.001358  0.000820   \n",
       "4  0.002270  0.002247  0.002175  ...  0.002529  0.003518 -0.000248 -0.002761   \n",
       "\n",
       "        122       123       124       125       126       127  \n",
       "0 -0.000819  0.000228 -0.000300 -0.001147 -0.000222  0.001576  \n",
       "1  0.001077 -0.000736 -0.003767 -0.004646 -0.002941 -0.001599  \n",
       "2 -0.000279 -0.000316  0.000144  0.001246  0.003117  0.002178  \n",
       "3 -0.000212 -0.001915 -0.001631 -0.000867 -0.001172 -0.000028  \n",
       "4  0.000252  0.003752  0.001626 -0.000698 -0.001223 -0.003328  \n",
       "\n",
       "[5 rows x 128 columns]"
      ]
     },
     "execution_count": 28,
     "metadata": {},
     "output_type": "execute_result"
    }
   ],
   "source": [
    "some_file.head()"
   ]
  },
  {
   "cell_type": "markdown",
   "id": "310463cf-486b-462c-9167-90ddc6938e1a",
   "metadata": {},
   "source": [
    "Alright, it has `128` columns now. We have seen this number before. This is the number derived from **tracking a single activity** with the 50Hz of refresh rate run for 2.56 seconds."
   ]
  },
  {
   "cell_type": "code",
   "execution_count": 29,
   "id": "40085c65-aa79-4025-8cf7-397fb2f0c9cd",
   "metadata": {},
   "outputs": [
    {
     "data": {
      "text/plain": [
       "128.0"
      ]
     },
     "execution_count": 29,
     "metadata": {},
     "output_type": "execute_result"
    }
   ],
   "source": [
    "50 * 2.56"
   ]
  },
  {
   "cell_type": "code",
   "execution_count": 30,
   "id": "0703f972-442c-4469-b92f-b10da462fccd",
   "metadata": {},
   "outputs": [
    {
     "data": {
      "text/plain": [
       "(7352, 128)"
      ]
     },
     "execution_count": 30,
     "metadata": {},
     "output_type": "execute_result"
    }
   ],
   "source": [
    "some_file.shape"
   ]
  },
  {
   "cell_type": "markdown",
   "id": "de891046-6eaf-4c74-b7c8-c8d07c3422f4",
   "metadata": {},
   "source": [
    "This `7352` number is a huge helper for us. Keep that in mind 🧠"
   ]
  },
  {
   "cell_type": "code",
   "execution_count": 31,
   "id": "ba7b5e11-00a2-4783-9f99-643ace6087af",
   "metadata": {},
   "outputs": [
    {
     "data": {
      "image/png": "[encoded data removed]",
      "text/plain": [
       "<Figure size 1440x720 with 1 Axes>"
      ]
     },
     "metadata": {
      "needs_background": "light"
     },
     "output_type": "display_data"
    }
   ],
   "source": [
    "# a single record in the intertial folder\n",
    "some_file.iloc[0].plot();"
   ]
  },
  {
   "cell_type": "code",
   "execution_count": 32,
   "id": "89f71c30-3ee6-463a-ab5c-ad0adc92491d",
   "metadata": {},
   "outputs": [
    {
     "data": {
      "image/png": "[encoded data removed]",
      "text/plain": [
       "<Figure size 1440x720 with 1 Axes>"
      ]
     },
     "metadata": {
      "needs_background": "light"
     },
     "output_type": "display_data"
    }
   ],
   "source": [
    "# a single column in the Xtrain file\n",
    "Xtrain.iloc[:, 0].plot();"
   ]
  },
  {
   "cell_type": "markdown",
   "id": "1e648463-50fd-4d51-bb8e-814bf8a9d875",
   "metadata": {},
   "source": [
    "### 🤩 Are you feeling something about the N x T x D now?\n",
    "It looks like we are looking at the data from multiple dimensions. **Nah.** We're not."
   ]
  },
  {
   "cell_type": "markdown",
   "id": "aa82b491-dfab-450c-9291-3a6ae201a280",
   "metadata": {},
   "source": [
    "- **Inertial Signals** are the collection of the **original** signals (of course the preprocessed but the simple, straingt signals.) \n",
    "- That means, whatever we have in the `x_train` or in `x_test` with 561 features are the **result** of feature engineering on the straight **intertial signals**!!\n",
    "- Thus, we have 2 options:\n",
    "    1. Either use the **ready** feature engineered file.\n",
    "    2. Use the raw signals from the intertial signals folder.\n",
    "- Note that inertial signals folder has `9` files. So, `x`, `y` and `z` from gyroscore and accelerometer *(and another one from body acceleration, as we have calculated above)*."
   ]
  },
  {
   "cell_type": "markdown",
   "id": "de95d522-e95d-4d7c-9374-af2c3bb12c53",
   "metadata": {},
   "source": [
    "> To make this project fun and understandable, we are going to use the files from the \"inertial signals\" folder and make the dataset from ground up. "
   ]
  },
  {
   "cell_type": "markdown",
   "id": "30ab3687-0402-43e6-9ad7-030aa54a7ac7",
   "metadata": {},
   "source": [
    "We have the following files to combine:"
   ]
  },
  {
   "cell_type": "code",
   "execution_count": 33,
   "id": "68de0a5b-1b2f-4e41-8fd0-c094257241be",
   "metadata": {},
   "outputs": [
    {
     "name": "stdout",
     "output_type": "stream",
     "text": [
      "body_acc_x_train.txt\n",
      "body_acc_y_train.txt\n",
      "body_acc_z_train.txt\n",
      "body_gyro_x_train.txt\n",
      "body_gyro_y_train.txt\n",
      "body_gyro_z_train.txt\n",
      "total_acc_x_train.txt\n",
      "total_acc_y_train.txt\n",
      "total_acc_z_train.txt\n"
     ]
    }
   ],
   "source": [
    "!ls \"../data/UCI-HAR/UCI HAR Dataset/train/Inertial Signals\""
   ]
  },
  {
   "cell_type": "markdown",
   "id": "d99a049d-2122-4ba2-9aff-0e48348e0fc9",
   "metadata": {},
   "source": [
    "Which will look like..."
   ]
  },
  {
   "cell_type": "markdown",
   "id": "97bceefe-c391-4deb-ae49-80ed63fd3f92",
   "metadata": {},
   "source": [
    "<img src=\"../images/data-viz.jpg\" height=400 width=400>"
   ]
  },
  {
   "cell_type": "markdown",
   "id": "e7f47242-29c0-4ce7-8914-71c67b53cff1",
   "metadata": {},
   "source": [
    "For both, *train* and *test*.\n",
    "___\n",
    "Let's code that out!"
   ]
  },
  {
   "cell_type": "markdown",
   "id": "58618ea8-e3ea-4690-940a-6a27f8e852e4",
   "metadata": {},
   "source": [
    "👉 Number of records in training!"
   ]
  },
  {
   "cell_type": "code",
   "execution_count": 34,
   "id": "d2d2b5ae-9be4-4284-b5ed-9226be8c0c15",
   "metadata": {},
   "outputs": [
    {
     "name": "stdout",
     "output_type": "stream",
     "text": [
      "7352 ../data/UCI-HAR/UCI HAR Dataset/train/Inertial Signals/body_acc_x_train.txt\n"
     ]
    }
   ],
   "source": [
    "!wc -l \"../data/UCI-HAR/UCI HAR Dataset/train/Inertial Signals/body_acc_x_train.txt\""
   ]
  },
  {
   "cell_type": "markdown",
   "id": "c3219133-e88b-45ec-b4e8-e5a319e75800",
   "metadata": {},
   "source": [
    "👉 Number of records in testing!"
   ]
  },
  {
   "cell_type": "code",
   "execution_count": 36,
   "id": "b7aa8f4a-85ce-4b40-a403-66f96addeab9",
   "metadata": {},
   "outputs": [
    {
     "name": "stdout",
     "output_type": "stream",
     "text": [
      "2947 ../data/UCI-HAR/UCI HAR Dataset/test/Inertial Signals/body_acc_x_test.txt\n"
     ]
    }
   ],
   "source": [
    "!wc -l \"../data/UCI-HAR/UCI HAR Dataset/test/Inertial Signals/body_acc_x_test.txt\""
   ]
  },
  {
   "cell_type": "code",
   "execution_count": 37,
   "id": "d2bb1eba-ef4d-4a19-9bf7-dd18ce289198",
   "metadata": {},
   "outputs": [],
   "source": [
    "# loading all 9 files and storing them in the array for easy access!\n",
    "Ntrain = 7352\n",
    "Ntest = 2947\n",
    "T = 128\n",
    "D = 9"
   ]
  },
  {
   "cell_type": "markdown",
   "id": "145bec8a-12ab-4d91-b79d-41510a3377b6",
   "metadata": {},
   "source": [
    "Great. Now, let's make the **empty** arrays where the data will be stored."
   ]
  },
  {
   "cell_type": "code",
   "execution_count": 39,
   "id": "25976b5f-7b99-4573-b7b4-1db0a6edbed6",
   "metadata": {},
   "outputs": [],
   "source": [
    "train = np.zeros(shape=(Ntrain, T, D))\n",
    "test = np.zeros(shape=(Ntest, T, D))"
   ]
  },
  {
   "cell_type": "markdown",
   "id": "e9adfda9-90cf-46ab-b52a-972b03e165ee",
   "metadata": {},
   "source": [
    "Now, let's start storing!"
   ]
  },
  {
   "cell_type": "code",
   "execution_count": 48,
   "id": "c93cb47e-68b8-4cfb-8730-cdc120c6a88a",
   "metadata": {},
   "outputs": [
    {
     "name": "stdout",
     "output_type": "stream",
     "text": [
      "Reading & Storing Successful for D = 0\n",
      "Reading & Storing Successful for D = 1\n",
      "Reading & Storing Successful for D = 2\n",
      "Reading & Storing Successful for D = 3\n",
      "Reading & Storing Successful for D = 4\n",
      "Reading & Storing Successful for D = 5\n",
      "Reading & Storing Successful for D = 6\n",
      "Reading & Storing Successful for D = 7\n",
      "Reading & Storing Successful for D = 8\n"
     ]
    }
   ],
   "source": [
    "# for training\n",
    "path = \"../data/UCI-HAR/UCI HAR Dataset/train/Inertial Signals/\"\n",
    "for Dth, file in enumerate(os.listdir(path=path)):\n",
    "    data = pd.read_csv(path+file, \n",
    "                       header=None,\n",
    "                       delim_whitespace=True).values\n",
    "    train[:, :, Dth] = data\n",
    "    print(\"Reading & Storing Successful for D =\", Dth)"
   ]
  },
  {
   "cell_type": "code",
   "execution_count": 51,
   "id": "da69a6e6-5f0e-4290-9a2b-af7d7eea563c",
   "metadata": {},
   "outputs": [
    {
     "name": "stdout",
     "output_type": "stream",
     "text": [
      "Reading & Storing Successful for D = 0\n",
      "Reading & Storing Successful for D = 1\n",
      "Reading & Storing Successful for D = 2\n",
      "Reading & Storing Successful for D = 3\n",
      "Reading & Storing Successful for D = 4\n",
      "Reading & Storing Successful for D = 5\n",
      "Reading & Storing Successful for D = 6\n",
      "Reading & Storing Successful for D = 7\n",
      "Reading & Storing Successful for D = 8\n"
     ]
    }
   ],
   "source": [
    "# for testing\n",
    "path = \"../data/UCI-HAR/UCI HAR Dataset/test/Inertial Signals/\"\n",
    "for Dth, file in enumerate(os.listdir(path=path)):\n",
    "    data = pd.read_csv(path+file, \n",
    "                       header=None,\n",
    "                       delim_whitespace=True).values\n",
    "    test[:, :, Dth] = data\n",
    "    print(\"Reading & Storing Successful for D =\", Dth)"
   ]
  },
  {
   "cell_type": "code",
   "execution_count": 54,
   "id": "f0cd9f66-16ba-4492-a744-8af691e44c26",
   "metadata": {},
   "outputs": [
    {
     "data": {
      "text/plain": [
       "(7352, 128, 9)"
      ]
     },
     "execution_count": 54,
     "metadata": {},
     "output_type": "execute_result"
    }
   ],
   "source": [
    "train.shape"
   ]
  },
  {
   "cell_type": "code",
   "execution_count": 55,
   "id": "d7b2200e-85c6-4017-8e33-ce361394afc5",
   "metadata": {},
   "outputs": [
    {
     "data": {
      "text/plain": [
       "(2947, 128, 9)"
      ]
     },
     "execution_count": 55,
     "metadata": {},
     "output_type": "execute_result"
    }
   ],
   "source": [
    "test.shape"
   ]
  },
  {
   "cell_type": "markdown",
   "id": "03cc2d8d-fdd1-4378-ac33-159134d1b3a1",
   "metadata": {},
   "source": [
    "### 🆒 "
   ]
  },
  {
   "cell_type": "markdown",
   "id": "0d767ed5-6d1e-4d8e-a865-20615853976f",
   "metadata": {},
   "source": [
    "#### Did we just forget our `y`?"
   ]
  },
  {
   "cell_type": "code",
   "execution_count": 62,
   "id": "6a1cf4d0-b5f4-49f7-a34d-8549873ea557",
   "metadata": {},
   "outputs": [],
   "source": [
    "ytrain = pd.read_csv(\"../data/UCI-HAR/UCI HAR Dataset/train/y_train.txt\", header=None).values.flatten()\n",
    "ytest = pd.read_csv(\"../data/UCI-HAR/UCI HAR Dataset/test/y_test.txt\", header=None).values.flatten()"
   ]
  },
  {
   "cell_type": "code",
   "execution_count": 63,
   "id": "5eff0dfb-9c71-46ac-9398-7957446d3b3d",
   "metadata": {},
   "outputs": [
    {
     "data": {
      "text/plain": [
       "array([5, 5, 5, ..., 2, 2, 2], dtype=int64)"
      ]
     },
     "execution_count": 63,
     "metadata": {},
     "output_type": "execute_result"
    }
   ],
   "source": [
    "ytrain"
   ]
  },
  {
   "cell_type": "code",
   "execution_count": 64,
   "id": "1988ca98-dd2a-468e-bced-bee6580bf843",
   "metadata": {},
   "outputs": [
    {
     "data": {
      "text/plain": [
       "(7352,)"
      ]
     },
     "execution_count": 64,
     "metadata": {},
     "output_type": "execute_result"
    }
   ],
   "source": [
    "ytrain.shape"
   ]
  },
  {
   "cell_type": "markdown",
   "id": "72de0cce-4c40-48bb-8ac4-8301155ae506",
   "metadata": {},
   "source": [
    "### 🆒 "
   ]
  },
  {
   "cell_type": "code",
   "execution_count": 87,
   "id": "93d3b7be-a986-482a-b03b-53a804d03d7f",
   "metadata": {},
   "outputs": [
    {
     "data": {
      "image/png": "[encoded data removed]",
      "text/plain": [
       "<Figure size 1440x720 with 1 Axes>"
      ]
     },
     "metadata": {
      "needs_background": "light"
     },
     "output_type": "display_data"
    }
   ],
   "source": [
    "# this is how `1` person's data looks like \n",
    "# for all 9 sensors.\n",
    "plt.plot(train[7000, :, :]);"
   ]
  },
  {
   "cell_type": "markdown",
   "id": "8b655e9a-b425-4fa2-a8ec-98ac13330432",
   "metadata": {},
   "source": [
    "Here, we are plotting: "
   ]
  },
  {
   "cell_type": "markdown",
   "id": "4220669d-e709-40a5-a1d7-3ad75737f7da",
   "metadata": {},
   "source": [
    "<img src=\"../images/all-sensors.jpg\" height=300 width=300>"
   ]
  },
  {
   "cell_type": "markdown",
   "id": "67569a0e-d464-4c82-a11c-a04be29d2970",
   "metadata": {},
   "source": [
    "*Used 7000th person because in the course, the author uses the same number. I have tried different numbers like 123, 1212, 999... but those persons are not showing a good chart like this. Hats off to the author for bringing this 7000th person with this clear view.*"
   ]
  },
  {
   "cell_type": "markdown",
   "id": "5d5e3454-0ca2-406b-b670-42e4aebb1590",
   "metadata": {},
   "source": [
    "# "
   ]
  },
  {
   "cell_type": "markdown",
   "id": "a760f6c5-f2a4-4f24-b207-f48c522119f8",
   "metadata": {},
   "source": [
    "# Model Building"
   ]
  },
  {
   "cell_type": "markdown",
   "id": "a8f1eb27-4d3b-4c76-af05-acba8e6dc015",
   "metadata": {},
   "source": [
    "<p align=\"center\">\n",
    "<img src=\"../images/neural_net.jpg\" height=500 width=300 alt=\"https://process.studio\">\n",
    "</p> "
   ]
  },
  {
   "cell_type": "markdown",
   "id": "ae5fb550-302f-44ca-a5a0-10b436a88f93",
   "metadata": {},
   "source": [
    "Now, we will start making the *multi tailed neural network* and that for *each D*."
   ]
  },
  {
   "cell_type": "code",
   "execution_count": 96,
   "id": "42513a3e-b84f-4241-b8a4-fbe9d093d080",
   "metadata": {},
   "outputs": [],
   "source": [
    "# to store input layers\n",
    "input_layers = []\n",
    "\n",
    "# to store the last hidden layers\n",
    "last_hidden_layers = []\n",
    "\n",
    "for i in range(D):\n",
    "    input_layer = Input(shape=(T,))\n",
    "    hidden_layer = Dense(64, activation=\"relu\")(input_layer)\n",
    "    hidden_layer = Dense(32, activation=\"relu\")(hidden_layer)\n",
    "    \n",
    "    input_layers.append(input_layer)\n",
    "    last_hidden_layers.append(hidden_layer)"
   ]
  },
  {
   "cell_type": "markdown",
   "id": "52f4c1cc-51d0-4bc4-87be-9710aaf0d958",
   "metadata": {},
   "source": [
    "Till now, we have the **left side** of the all `9` neural network ready. The right side of **concatination** and the **final output** layer is still remaining."
   ]
  },
  {
   "cell_type": "code",
   "execution_count": 97,
   "id": "bf717077-dc73-48a5-8aff-25f75564c8b4",
   "metadata": {},
   "outputs": [
    {
     "data": {
      "text/plain": [
       "9"
      ]
     },
     "execution_count": 97,
     "metadata": {},
     "output_type": "execute_result"
    }
   ],
   "source": [
    "len(last_hidden_layers)"
   ]
  },
  {
   "cell_type": "code",
   "execution_count": 100,
   "id": "5f8c6cd5-aae9-423a-a40c-8ef9a746b3fb",
   "metadata": {},
   "outputs": [],
   "source": [
    "fully_concatinated_layer = Concatenate()(last_hidden_layers)"
   ]
  },
  {
   "cell_type": "code",
   "execution_count": 101,
   "id": "4c5d31cd-c379-43d0-bf5c-988068cea1fa",
   "metadata": {},
   "outputs": [
    {
     "data": {
      "text/plain": [
       "<KerasTensor: shape=(None, 288) dtype=float32 (created by layer 'concatenate_2')>"
      ]
     },
     "execution_count": 101,
     "metadata": {},
     "output_type": "execute_result"
    }
   ],
   "source": [
    "fully_concatinated_layer"
   ]
  },
  {
   "cell_type": "code",
   "execution_count": 102,
   "id": "064225c3-d911-45d2-a001-1a16cf27eb79",
   "metadata": {},
   "outputs": [
    {
     "data": {
      "text/plain": [
       "288"
      ]
     },
     "execution_count": 102,
     "metadata": {},
     "output_type": "execute_result"
    }
   ],
   "source": [
    "32 * 9"
   ]
  },
  {
   "cell_type": "markdown",
   "id": "f88b581e-3a2d-47ed-a7cd-703928e81a24",
   "metadata": {},
   "source": [
    "See that number `288`? <br>\n",
    "That means, the last hidden_layer of 32 nodes for all 9 neural network have been concatenated and have made a **single major** layer with `288` nodes. Simple calculation!"
   ]
  },
  {
   "cell_type": "code",
   "execution_count": 104,
   "id": "8fa255b3-15a4-421e-a4be-ea00372d8d06",
   "metadata": {},
   "outputs": [],
   "source": [
    "# the number of classes\n",
    "n_classes = 6\n",
    "output_layer = Dense(n_classes, activation=\"softmax\")(fully_concatinated_layer)\n",
    "model = Model(input_layers, output_layer)"
   ]
  },
  {
   "cell_type": "code",
   "execution_count": 105,
   "id": "945da625-8694-4489-8c2e-f744e75cb0e5",
   "metadata": {},
   "outputs": [
    {
     "data": {
      "text/plain": [
       "<keras.engine.functional.Functional at 0x1afe7361760>"
      ]
     },
     "execution_count": 105,
     "metadata": {},
     "output_type": "execute_result"
    }
   ],
   "source": [
    "model"
   ]
  },
  {
   "cell_type": "markdown",
   "id": "55d79c6b-5fc6-4d72-926f-72ebf15e6fb3",
   "metadata": {},
   "source": [
    "Now, finally the model is **ready** 🤘"
   ]
  }
 ],
 "metadata": {
  "kernelspec": {
   "display_name": "Python 3 (ipykernel)",
   "language": "python",
   "name": "python3"
  },
  "language_info": {
   "codemirror_mode": {
    "name": "ipython",
    "version": 3
   },
   "file_extension": ".py",
   "mimetype": "text/x-python",
   "name": "python",
   "nbconvert_exporter": "python",
   "pygments_lexer": "ipython3",
   "version": "3.9.7"
  }
 },
 "nbformat": 4,
 "nbformat_minor": 5
}
