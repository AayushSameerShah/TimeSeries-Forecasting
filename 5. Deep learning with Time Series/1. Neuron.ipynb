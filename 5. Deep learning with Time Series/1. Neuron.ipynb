{
 "cells": [
  {
   "cell_type": "markdown",
   "id": "73bc26d8-f012-4ad8-8b17-420bc2f5c495",
   "metadata": {},
   "source": [
    "# 🧠 Neuron\n",
    "*Sorry for re-using the used emoji again... but what should I do! There are no emojies related with a freakin neuron!*"
   ]
  },
  {
   "cell_type": "markdown",
   "id": "bceb5161-a8f9-4f0a-b349-b814e74d971f",
   "metadata": {},
   "source": [
    "# "
   ]
  },
  {
   "cell_type": "markdown",
   "id": "56e0a6e1-f37e-41da-99bc-c220975df701",
   "metadata": {},
   "source": [
    "## 🧘‍♂️ \"A Logistic Regression as a Neuron\"\n",
    "\n",
    "Linear regression is a **fundamental**. Logistic regression **uses** linear regression internally. And a neuron can be **translated** into a logistic regression without a worry. \n",
    "\n",
    "*But how?*"
   ]
  },
  {
   "cell_type": "markdown",
   "id": "10fb7edc-e728-4fc1-bbeb-50affa8339de",
   "metadata": {},
   "source": [
    "> #### *Neurons are the fundamental unit of comuptation in neural netowrks.*"
   ]
  }
 ],
 "metadata": {
  "kernelspec": {
   "display_name": "Python 3 (ipykernel)",
   "language": "python",
   "name": "python3"
  },
  "language_info": {
   "codemirror_mode": {
    "name": "ipython",
    "version": 3
   },
   "file_extension": ".py",
   "mimetype": "text/x-python",
   "name": "python",
   "nbconvert_exporter": "python",
   "pygments_lexer": "ipython3",
   "version": "3.9.7"
  }
 },
 "nbformat": 4,
 "nbformat_minor": 5
}
