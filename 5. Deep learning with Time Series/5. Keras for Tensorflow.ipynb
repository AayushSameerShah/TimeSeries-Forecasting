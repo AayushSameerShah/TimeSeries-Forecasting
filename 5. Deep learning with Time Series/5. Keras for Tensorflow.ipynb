{
 "cells": [
  {
   "cell_type": "markdown",
   "id": "a6a259ae-d836-4cba-8810-69a56a179283",
   "metadata": {},
   "source": [
    "# 💖 Super excited.\n",
    "Hey hey!! We will be coding our first line for the deep learning. It is the place from where the outputs like **DALL•E**, **GPT** take birth. It is the place from where deepfakes are created, it is the place where the super mario learns to complete the level by itself.\n",
    "\n",
    "It creates limitless opportunities. And here is out first step to do something towards it. Of course since this is not the AI class where we will build these things, here our aim is to **forecast**. Still, the technology is what drives them behind the scenes, isn't it?"
   ]
  },
  {
   "cell_type": "markdown",
   "id": "b06dff98-4c07-472c-9408-0285f5f3608b",
   "metadata": {},
   "source": [
    "## **`K`** Keras\n",
    "\n",
    "> ### *\"I thought of using **tensorflow**... <br> so why Keras here?\"*"
   ]
  },
  {
   "cell_type": "markdown",
   "id": "2d667c69-1d4c-4a21-b964-363e53cbb8bb",
   "metadata": {},
   "source": [
    "Man! This is the question like, \"*I wanted to use matplotlib, why am I using seaborn!?*\" <br>\n",
    "Didn't get the idea still?\n",
    "\n",
    "One more: \"*I wanted to use RDD, why am I using DataFrames!?*\". <br> Nah, that is complicated one... here's, here's one more... it is simple: \"*I wanted to use DecisionTree, what the hack is sklearn?*\".\n",
    "\n",
    "Sorry, if I confused you but the moral of the *questions* is, using Keras is **not different** than using **tensorflow**.\n",
    "___\n",
    "\n",
    "When you use Keras, it uses the tensorflow internally, already. Keras is built on top of tensorflow. It is called **\"A tensorflow API\"**. It is designed for **humans**. Even their tagline is: \"Deep learning for humans\".\n",
    "\n",
    "From their site:\n",
    "> Keras is an API designed for human beings, not machines. Keras follows best practices for reducing cognitive load: it offers consistent & simple APIs, it minimizes the number of user actions required for common use cases, and it provides clear & actionable error messages. It also has extensive documentation and developer guides."
   ]
  },
  {
   "cell_type": "markdown",
   "id": "30c627c0-6180-4e55-85aa-89e13ee18668",
   "metadata": {},
   "source": [
    "**Which leads to the logical conclusion that** tensorflow is the whole world. If you want some **highly customized** neural network, which is so much rare and is used by the **pros**, then go for it.\n",
    "\n",
    "Keras lets you use tensorflow in the minimal and easy way. It hides **boilerplate** code and confusing syntax and calculations. Since tensorflow lets you create customized solutions, it gives you the complete control. It is like the matplotlib where if you know the plotting structure, you can access ***each*** line on the line plot and change it in your way, while if you use seaborn, then you can make plots quickly but the customization will be limited.\n",
    "\n",
    "Here Keras is our seaborn and tensorflow is our matplotlib. And I think that makes sense.\n",
    "\n",
    "> Tensorflow is designed for you to use the Keras API, and it is the proper way to use Tensorflow 2! Only go beyond keras when needed. <br> <br> — Google's advice"
   ]
  },
  {
   "cell_type": "markdown",
   "id": "b7e501d9-add3-4382-9759-8b57a8c4b04e",
   "metadata": {},
   "source": [
    "When tensorflow is designed to be used from Keras, it solves all confusions! An amazing introductory website of [keras.io](https://keras.io/), have a look."
   ]
  },
  {
   "cell_type": "markdown",
   "id": "54e994a4-dbb2-4549-ab1d-87e0d94498e7",
   "metadata": {},
   "source": [
    "### 😍 The steps are same!?\n",
    "\n",
    "The basic steps are like...\n",
    "1. Create model `model = Model(...)`\n",
    "2. Fit it `model.fit(Xtrain, ytrain)`\n",
    "3. Predict `model.predict(Xtest)`\n",
    "\n",
    "Oh my! Seriously, it is called \"Deep learning on my fingertips.\""
   ]
  },
  {
   "cell_type": "markdown",
   "id": "255f9445-ad91-40ff-b175-e0976d049e06",
   "metadata": {},
   "source": [
    "# "
   ]
  },
  {
   "cell_type": "markdown",
   "id": "da3c98a0-1b71-497d-8e4e-e82f284a8110",
   "metadata": {},
   "source": [
    "# Promise.\n",
    "In the next book we will implement it. For sure. See you there."
   ]
  }
 ],
 "metadata": {
  "kernelspec": {
   "display_name": "Python 3 (ipykernel)",
   "language": "python",
   "name": "python3"
  },
  "language_info": {
   "codemirror_mode": {
    "name": "ipython",
    "version": 3
   },
   "file_extension": ".py",
   "mimetype": "text/x-python",
   "name": "python",
   "nbconvert_exporter": "python",
   "pygments_lexer": "ipython3",
   "version": "3.9.12"
  }
 },
 "nbformat": 4,
 "nbformat_minor": 5
}
