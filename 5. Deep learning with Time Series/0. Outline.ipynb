{
 "cells": [
  {
   "cell_type": "markdown",
   "id": "cf69dc28-631b-4df5-9944-d62de2997aa3",
   "metadata": {},
   "source": [
    "# 🤗 Glad, you are still with me. \n",
    "We are starting our journey with **Deep Learning** now.\n",
    "\n",
    "At this point in time, I really want to write a lot apart from Time-sereis. But I think you are not interested in what I say... so I am keeping hold to my self and will write things related with me and my mindset at the end of this course. So, here we are going to start something new.\n",
    "\n",
    "*Surprisingly*, I have learnt Deep Learning and neural nets before, but that time I was *not* noting down the technical stuff like what I am doing now and what you're reading.\n",
    "\n",
    "I was making ***paper notes***. I loved writing with different pens and colors. I loved to illustrate the stuff. I still do but I find this way more *accessible* and *fast*.\n",
    "\n",
    "Some of my works...\n",
    "\n",
    "<img src=\"../images/mydl1.jpg\">\n",
    "\n",
    "<img src=\"../images/mydl2.jpg\">\n",
    "\n",
    "<img src=\"../images/mydl3.jpg\">\n",
    "\n",
    "<img src=\"../images/mydl4.jpg\">"
   ]
  },
  {
   "cell_type": "markdown",
   "id": "2fc90bc8-3f1f-43cf-8867-bc9081c8c580",
   "metadata": {},
   "source": [
    "See? There is a ton of them but I have found myself not refering them enough. So, I found this GitHub way more handy."
   ]
  },
  {
   "cell_type": "markdown",
   "id": "03d16727-736f-458b-841d-b1f074585d0d",
   "metadata": {},
   "source": [
    "# "
   ]
  },
  {
   "cell_type": "markdown",
   "id": "b44342a4-ff02-43de-a1b4-f57401f82fce",
   "metadata": {},
   "source": [
    "# 🧠 Outline of Deep Learning"
   ]
  },
  {
   "cell_type": "markdown",
   "id": "ecce5823-b7b4-47fe-8690-ccd2eaca7040",
   "metadata": {},
   "source": [
    "1. We will start with **ANN** (Artificial Neural Networks)\n",
    "    - If just needed to ***use*** ANN; then we wouldn't need to learn it here\n",
    "    - It is already available in sklearn — which we have already tried the hands on\n",
    "    - But still we need **to know how it works**.\n",
    "    - Once we know how do they work, then we can go complex (CNN, RNN)!\n",
    "2. We will learn Neuron *(A new perspective of linear models)*.\n",
    "3. How to **combine** neurons to get the neural network.\n",
    "4. We will see ANN from the **geometrical** perspective *(why neural networks are not linear)*.\n",
    "5. **Activation** functions.\n",
    "6. **Multi class** classification.\n",
    "7. A classifier that can handle **multivariate time-series** non-naively "
   ]
  },
  {
   "cell_type": "markdown",
   "id": "21ecfe74-ae17-4bdb-a602-cc704f1016e9",
   "metadata": {},
   "source": [
    "I think things are looking awsome and especially the 7th one. I am not sure at this point, but we will get to that what does that mean."
   ]
  },
  {
   "cell_type": "markdown",
   "id": "f1208345-71d2-40e0-9529-f4aa45b8eb8c",
   "metadata": {},
   "source": [
    "# "
   ]
  },
  {
   "cell_type": "markdown",
   "id": "feae2b25-2cca-4ea7-9028-30934cad9862",
   "metadata": {},
   "source": [
    "# See you in very next book,\n",
    "Things are *really* lookin' spiced up. Let's see how spicy do they get."
   ]
  }
 ],
 "metadata": {
  "kernelspec": {
   "display_name": "Python 3 (ipykernel)",
   "language": "python",
   "name": "python3"
  },
  "language_info": {
   "codemirror_mode": {
    "name": "ipython",
    "version": 3
   },
   "file_extension": ".py",
   "mimetype": "text/x-python",
   "name": "python",
   "nbconvert_exporter": "python",
   "pygments_lexer": "ipython3",
   "version": "3.9.7"
  }
 },
 "nbformat": 4,
 "nbformat_minor": 5
}
