{
 "cells": [
  {
   "cell_type": "markdown",
   "id": "daf5e3ae-7b61-437e-b8f3-f3130b3cf98a",
   "metadata": {},
   "source": [
    "# **Model** vs **Prediction**\n",
    "*I know a redundent information, but still it is a title! 😅*"
   ]
  },
  {
   "cell_type": "markdown",
   "id": "dedec386-1de0-413b-818e-bf3c9f7a2d19",
   "metadata": {},
   "source": [
    "# "
   ]
  },
  {
   "cell_type": "markdown",
   "id": "4bb4fc05-1d87-4871-bf09-0324fcaff618",
   "metadata": {},
   "source": [
    "### Modeling:\n",
    "1. It gives the functional form to your data\n",
    "2. It allows you to interepret your time-series\n",
    "    - Like how it works and what affects it\n",
    "3. With it you can **explain** som questions\n",
    "    - Why the time series ***mean-reverting***?\n",
    "    - Why the time series grow too much?? *(grow unbounded)*\n",
    "4. It can tell \"How predictable your time-series is!\" *(Whether you can forecast by eyeballing or not - predictable)*\n",
    "___\n",
    "### Predicting:\n",
    "1. It lets you predict what is unknown\n",
    "    - What will be the price tomorrow?"
   ]
  },
  {
   "cell_type": "markdown",
   "id": "84f5de40-ed0c-4dd7-bbc2-b82a6f073d2b",
   "metadata": {},
   "source": [
    "##### "
   ]
  },
  {
   "cell_type": "markdown",
   "id": "519727f7-c2f4-4dbc-be23-b994da16b757",
   "metadata": {},
   "source": [
    "> ### Someone who doesn't know ***\"modeling\"*** might end up predict something - *which is unpredictable*! (eg. coin flip)\n",
    "\n",
    "Thus, knowing *how to model* is important."
   ]
  },
  {
   "cell_type": "markdown",
   "id": "eaed7438-2b2b-41a6-9f97-4782f9682a5b",
   "metadata": {},
   "source": [
    "# "
   ]
  },
  {
   "cell_type": "markdown",
   "id": "a651ab94-e399-4529-a252-eb639b4f19de",
   "metadata": {},
   "source": [
    "**Bonus!!**\n",
    "# Time-series **analysis** *vs* **forecasting**\n",
    "—\n",
    "The same! <br>\n",
    "- **Modeling** == Time series **analysis**\n",
    "- **Predicting** == Time series **forecasting**"
   ]
  },
  {
   "cell_type": "markdown",
   "id": "44394737-4ef4-4dbc-9a9b-4ccd591ab0c8",
   "metadata": {},
   "source": [
    "##### "
   ]
  },
  {
   "cell_type": "markdown",
   "id": "5bf77af8-229e-493c-8182-71d55d78cbcd",
   "metadata": {},
   "source": [
    "> ### Sometimes the goal is to forecast <br> Sometimes the goal is to better understand the data"
   ]
  },
  {
   "cell_type": "markdown",
   "id": "77acbe8f-f3ec-4d94-8596-e2fc987a9652",
   "metadata": {},
   "source": [
    "# Next up,\n",
    "We will see **the shape of the data**."
   ]
  }
 ],
 "metadata": {
  "kernelspec": {
   "display_name": "Python 3 (ipykernel)",
   "language": "python",
   "name": "python3"
  },
  "language_info": {
   "codemirror_mode": {
    "name": "ipython",
    "version": 3
   },
   "file_extension": ".py",
   "mimetype": "text/x-python",
   "name": "python",
   "nbconvert_exporter": "python",
   "pygments_lexer": "ipython3",
   "version": "3.9.7"
  }
 },
 "nbformat": 4,
 "nbformat_minor": 5
}
