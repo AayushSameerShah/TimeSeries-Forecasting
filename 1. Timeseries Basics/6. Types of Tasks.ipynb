{
 "cells": [
  {
   "cell_type": "markdown",
   "id": "6786b5ef-97c1-4390-ba52-53187809ad42",
   "metadata": {},
   "source": [
    "# 🤔 So, in which ways do we forecast? "
   ]
  },
  {
   "cell_type": "markdown",
   "id": "5ed0ff0c-423f-4395-a391-a1477341d4a1",
   "metadata": {},
   "source": [
    "As there are types of other algorithms... we do have some types for the *time series*... not that kind of but still.\n",
    "<br>—<br>\n",
    "1. **One-Step**\n",
    "2. **Multi-Step**\n",
    "     - Incremental Multi-step\n",
    "     - Multi-output Multi step\n",
    "3. **Time series classification**"
   ]
  },
  {
   "cell_type": "markdown",
   "id": "a032aae5-31f9-4800-84af-94335d18053c",
   "metadata": {},
   "source": [
    "# "
   ]
  },
  {
   "cell_type": "markdown",
   "id": "f836525e-e6ba-43d3-99e6-a95125d9e652",
   "metadata": {},
   "source": [
    "### `1.` **One Step** Forecast\n",
    "\n",
    "Here we will forecast for only **one time** — *Very next frame*.\n",
    "\n",
    "<img src=\"../images/onestep.png\">"
   ]
  },
  {
   "cell_type": "markdown",
   "id": "384a6f64-d219-4fea-87a7-127f13864d6c",
   "metadata": {},
   "source": [
    "#### "
   ]
  },
  {
   "cell_type": "markdown",
   "id": "cbf6f3ae-5e81-414a-a3c8-6f0aa8550df4",
   "metadata": {},
   "source": [
    "### `2.` **Multi Step** Forecast\n",
    "\n",
    "The ***most of the time*** we would be needing such forecast. <br>\n",
    "—\n",
    "The term used is: **\"Forecast horizon\" = Multiple steps in the future**.\n",
    "\n",
    "___\n",
    "Now, there are **2** ways to produce such \"Multi step\" forecasts.\n",
    "1. Incremental method *(which can be done with any 1 step predictor)*\n",
    "2. Multi-output forecast *(limited to certain models)*\n",
    "\n",
    "**Remember**, those are just the *methods* not the types of models. So, multiple models can be used to achieve be fit in such method. <br>\n",
    "Ex: ARIMA can only do 1-step forecast so that can be used **only** with **first method**."
   ]
  },
  {
   "cell_type": "markdown",
   "id": "9e08839e-1392-4b2c-9317-d26d5fd8e100",
   "metadata": {},
   "source": [
    "###### "
   ]
  },
  {
   "cell_type": "markdown",
   "id": "e6508bbe-418b-4b17-8609-bf4bd04bdd6e",
   "metadata": {},
   "source": [
    "#### `2.1` Incremental forecast\n",
    "\n",
    "See, <br>\n",
    "The model can be trained on the **fixed** `n` days. So, suppose <br>\n",
    "\n",
    "<pre>\n",
    "                      ┌────────┐\n",
    "┌───┐  ┌───┐  ┌───┐   │        │     ┌──────────┐\n",
    "│ 1 ├──┤ 2 ├──┤ 3 ├──►│ MODEL  ├────►│ Pred: 4  │\n",
    "└───┘  └───┘  └───┘   │        │     └──────────┘\n",
    "                      └────────┘\n",
    "</pre>\n",
    "\n",
    "Here, our `p = 3` and `h = 2`.\n",
    "\n",
    "- `p` = How many days do you want to **base your forecast** on?\n",
    "- `h` = How many days do you want to forecast?\n",
    "\n",
    "Now, **in the first iteration** we have forecast 4th day. But still **one** day is yet to be forecast so we will take `day 4 as the input`.\n",
    "\n",
    "\n",
    "                      \n",
    "<pre>\n",
    "   \\     /                         ┌────────┐\n",
    "    \\───/  ┌───┐  ┌───┐  ┌───┐     │        │     ┌──────────┐\n",
    "    │\\ /├──┤ 2 ├──┤ 3 ├──┤ 4 ├────►│ MODEL  ├────►│          │\n",
    "    └/\\─┘  └───┘  └───┘  └───┘     │        │     └──────────┘  \n",
    "    /  \\                           └────────┘                             \n",
    "   /    \\\n",
    "    \n",
    "</pre>\n",
    "\n",
    "So, **instead of increasing** the number of days, we will **eleminate the first ones** to keep the `p consistant`.\n",
    "\n",
    "<pre>\n",
    "                      ┌────────┐\n",
    "┌───┐  ┌───┐  ┌───┐   │        │     ┌──────────┐\n",
    "│ 2 ├──┤ 3 ├──┤ 4 ├──►│ MODEL  ├────►│ Pred: 5  │\n",
    "└───┘  └───┘  └───┘   │        │     └──────────┘\n",
    "                      └────────┘\n",
    "</pre>\n",
    "\n",
    "> This is how ***incremental multi-step works*** in a nutshell."
   ]
  },
  {
   "cell_type": "markdown",
   "id": "2fb86d08-61bd-44dc-a8a5-89494f9e6bc2",
   "metadata": {},
   "source": [
    "#"
   ]
  },
  {
   "cell_type": "markdown",
   "id": "1860bc65-a8bb-45c6-82b8-51195ea709a2",
   "metadata": {},
   "source": [
    "#### `2.2` Multi output forecast\n",
    "\n",
    "Here, we feed the time-series **in** and get the `p` days **out** and *at once*.\n",
    "\n",
    "<pre>\n",
    "\n",
    "                                        ┌──────────┐\n",
    "                         ┌────────┐ ┌──►│ Pred: 4  │\n",
    "┌───┐  ┌───┐  ┌───┐      │        │ │   └──────────┘\n",
    "│ 1 ├──┤ 2 ├──┤ 3 ├─────►│ MODEL  ├─┤\n",
    "└───┘  └───┘  └───┘      │        │ │\n",
    "                         └────────┘ │   ┌──────────┐\n",
    "                                    └──►│ Pred: 5  │\n",
    "                                        └──────────┘\n",
    "\n",
    "\n",
    "</pre>"
   ]
  },
  {
   "cell_type": "markdown",
   "id": "a6fa4988-a623-4f2b-a45e-016b614cdb48",
   "metadata": {},
   "source": [
    "# "
   ]
  },
  {
   "cell_type": "markdown",
   "id": "59c2a988-c4b5-427b-9027-0e2f71579aa0",
   "metadata": {},
   "source": [
    "### `3.` Series based **classification**\n",
    "\n",
    "Here, instead of forecasting the continuous variable - we will forecast the **class**, but based on the time series. Thus, it is called: \"Time series classification\".\n",
    "\n",
    "<img src=\"../images/time-class.png\">\n",
    "\n",
    "Here, we can see that based on the *sequential* data, we have to predict whether something will happen or not... so such things are considered as the time series classification."
   ]
  },
  {
   "cell_type": "markdown",
   "id": "0efc78eb-dd2f-4102-8cf9-e5c9b50afc82",
   "metadata": {},
   "source": [
    "# "
   ]
  },
  {
   "cell_type": "markdown",
   "id": "0b99b5f5-af53-4ca8-8aac-350550c46f98",
   "metadata": {},
   "source": [
    "# Next up,\n",
    "We will see the **transformations**."
   ]
  }
 ],
 "metadata": {
  "kernelspec": {
   "display_name": "Python 3 (ipykernel)",
   "language": "python",
   "name": "python3"
  },
  "language_info": {
   "codemirror_mode": {
    "name": "ipython",
    "version": 3
   },
   "file_extension": ".py",
   "mimetype": "text/x-python",
   "name": "python",
   "nbconvert_exporter": "python",
   "pygments_lexer": "ipython3",
   "version": "3.9.7"
  }
 },
 "nbformat": 4,
 "nbformat_minor": 5
}
