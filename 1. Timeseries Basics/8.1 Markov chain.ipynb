{
 "cells": [
  {
   "cell_type": "markdown",
   "id": "0813d2dd-95cc-4725-9bbb-81adaade5d4c",
   "metadata": {},
   "source": [
    "# Markov Chain"
   ]
  },
  {
   "cell_type": "markdown",
   "id": "96b0f632-325c-4826-bf8c-844a3d171773",
   "metadata": {},
   "source": [
    "## TL;DR\n",
    "The random walk model follows the *Markov Chain* because the value of the next time frame is based upon **only** on the very last time frame."
   ]
  },
  {
   "cell_type": "markdown",
   "id": "f9004b2d-f446-4329-9dce-9d24743bdae3",
   "metadata": {},
   "source": [
    "##### "
   ]
  },
  {
   "cell_type": "markdown",
   "id": "32baa39c-285e-451f-9dcc-96f4d3a544b3",
   "metadata": {},
   "source": [
    "## TL;WR "
   ]
  },
  {
   "cell_type": "markdown",
   "id": "adab6eb1-0993-4a16-80e4-2c6cd88a8b00",
   "metadata": {},
   "source": [
    "Given a sentcence: \"**Aayush Shah is a boy who studies**\".\n",
    "\n",
    "But, <br>\n",
    "Given: **Aayush Shah is a boy who ___**. <br>\n",
    "Can you predict the next word? Yes right? Because you cheated, the whole sentence was given above. But still there could be many possible words right?\n",
    "\n",
    "**Meaning**, given those words *(n words)* we want to predict the next word *(n+1 word)*. <br>\n",
    "Formally: \n",
    "\n",
    "# $$P(\\text{word}_{n+1}~|~\\text{word}_{n}, \\text{word}_{n-1}, ..., \\text{word}_{0})$$"
   ]
  },
  {
   "cell_type": "markdown",
   "id": "bb724fd5-3a24-49c1-9692-8f5b8901d4bf",
   "metadata": {},
   "source": [
    "### BUTT\n",
    "Markov says that: ***\"According to me, the next word's probability only significantly depends on the previous word\"***. <br>\n",
    "Which means, other words **don't provide any significance**. So the formulae becomes:\n",
    "\n",
    "# $$P(\\text{word}_{n+1}~|~\\text{word}_{n})$$"
   ]
  },
  {
   "cell_type": "markdown",
   "id": "d5ed446c-eebb-4077-9518-a81b2228754f",
   "metadata": {},
   "source": [
    "> Thus, ***today what I am, is because of what I was yesterday. Not the total past***."
   ]
  },
  {
   "cell_type": "markdown",
   "id": "d83e8ab1-a717-4e24-aaa5-f0642948c64e",
   "metadata": {},
   "source": [
    "So, to predict the **next word**, you would only need the **previous word**... and not the past *(which is really a naive, and is not applicable in the real world)*"
   ]
  },
  {
   "cell_type": "markdown",
   "id": "1f0b1c32-11b5-47c7-8f89-7ad86bf594fa",
   "metadata": {},
   "source": [
    "### "
   ]
  },
  {
   "cell_type": "markdown",
   "id": "60a8092f-9011-4e55-b99c-c40404fac934",
   "metadata": {},
   "source": [
    "## How is that related to our forecasting thing?\n",
    "Recall our **Gaussian random walk** formulae: \n",
    "\n",
    "# $$ new = old + e : e \\in N(0, \\sigma^2)$$ \n",
    "#### $$ ↓ $$\n",
    "# $$ new \\approx N(old, \\sigma^2)$$ "
   ]
  },
  {
   "cell_type": "markdown",
   "id": "05973f12-1044-4b78-ba95-4d294e35aa9f",
   "metadata": {},
   "source": [
    "The **new** values is entirely depended on the old value and the distribution from which the error/noise is coming - **not from the other past data**."
   ]
  },
  {
   "cell_type": "markdown",
   "id": "b1d96a20-3207-4800-9284-3415942f72ba",
   "metadata": {},
   "source": [
    "## Hence,\n",
    "Gaussian Random Walk forms a Markov chain."
   ]
  },
  {
   "cell_type": "markdown",
   "id": "5557690b-0cd1-4648-b1fc-712c6aca6645",
   "metadata": {},
   "source": [
    "#### "
   ]
  },
  {
   "cell_type": "markdown",
   "id": "69cee68a-076e-4e84-be4d-11ab54f074f9",
   "metadata": {},
   "source": [
    "## Forecasting time\n",
    "*Given that the time series forms a gaussian random walk, what will be the next value?*\n",
    "\n",
    "- Here, we have $new = old + e$ and **expected value of a Gaussian is it's mean**.\n",
    "- Thus, the next forecast will be the **old** value itself.\n",
    "- I know... what? Thissss much for just `ffill`?\n",
    "- And yeah, `ffill` fill-forward does the same"
   ]
  },
  {
   "cell_type": "markdown",
   "id": "f88d4354-f873-4a80-bb2d-f273529fe81a",
   "metadata": {},
   "source": [
    "<img src=\"../images/ffill.png\" width=500 height=200>"
   ]
  },
  {
   "cell_type": "markdown",
   "id": "ddc4ccb7-b683-4293-9b67-3d6a6891995e",
   "metadata": {},
   "source": [
    "## "
   ]
  },
  {
   "cell_type": "markdown",
   "id": "dbde26b1-0c60-46e2-bc59-135ea91e9432",
   "metadata": {},
   "source": [
    "# Necxst Up?\n",
    "I know, after a long things to discuess we ended here with just the `ffill` thing. And then I deribretily skipped the **confidence** thing as that was not explained properly and didn't see any significance. Let's meet in the next notebook."
   ]
  }
 ],
 "metadata": {
  "kernelspec": {
   "display_name": "Python 3 (ipykernel)",
   "language": "python",
   "name": "python3"
  },
  "language_info": {
   "codemirror_mode": {
    "name": "ipython",
    "version": 3
   },
   "file_extension": ".py",
   "mimetype": "text/x-python",
   "name": "python",
   "nbconvert_exporter": "python",
   "pygments_lexer": "ipython3",
   "version": "3.9.12"
  }
 },
 "nbformat": 4,
 "nbformat_minor": 5
}
