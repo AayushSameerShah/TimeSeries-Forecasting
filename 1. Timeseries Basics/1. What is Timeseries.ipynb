{
 "cells": [
  {
   "cell_type": "markdown",
   "id": "65c142fd-ffb9-4f66-aaae-5e1df128606d",
   "metadata": {},
   "source": [
    "# I know what, but still **what**?"
   ]
  },
  {
   "cell_type": "markdown",
   "id": "b9585066-e432-49f7-8187-8b3862e19875",
   "metadata": {},
   "source": [
    "> ### Time series shows the **continuous** value but **discrite** in ***time***.\n",
    "<br>\n",
    "<img src=\"../images/what.png\">"
   ]
  },
  {
   "cell_type": "markdown",
   "id": "a83675f9-63c9-456f-8e79-6b16124d306d",
   "metadata": {},
   "source": [
    "### A part of?\n",
    "\n",
    "**Time series** is the *one-of-a-kind* of the **sequential data**. <br>\n",
    "—<br>\n",
    "Sequential Data:\n",
    "- Sentences (NLP)\n",
    "- Genetics\n",
    "- Time series"
   ]
  },
  {
   "cell_type": "markdown",
   "id": "b9442b46-996f-44cc-801f-ea03181a7aa6",
   "metadata": {},
   "source": [
    "> The methods that we are going to be discussing **will not be useful** for the data which has **inconsistant** time readings."
   ]
  },
  {
   "cell_type": "markdown",
   "id": "9391fb7e-5898-48a5-8872-dd550102e044",
   "metadata": {},
   "source": [
    "### A vector Time Series?\n",
    "\n",
    "It is the **most common** type of time series is calle this: *vector time series*. <br> <br>\n",
    "<img src=\"../images/vector.png\">"
   ]
  },
  {
   "cell_type": "markdown",
   "id": "9064e7b7-49f7-445b-939f-eb2e3103f64f",
   "metadata": {},
   "source": [
    "# "
   ]
  },
  {
   "cell_type": "markdown",
   "id": "58ca4fff-15fb-4be7-8572-c0ca04f274e4",
   "metadata": {},
   "source": [
    "# In Next,\n",
    "We will see the difference between **Modeling** and **Predicting**."
   ]
  }
 ],
 "metadata": {
  "kernelspec": {
   "display_name": "Python 3 (ipykernel)",
   "language": "python",
   "name": "python3"
  },
  "language_info": {
   "codemirror_mode": {
    "name": "ipython",
    "version": 3
   },
   "file_extension": ".py",
   "mimetype": "text/x-python",
   "name": "python",
   "nbconvert_exporter": "python",
   "pygments_lexer": "ipython3",
   "version": "3.9.7"
  }
 },
 "nbformat": 4,
 "nbformat_minor": 5
}
