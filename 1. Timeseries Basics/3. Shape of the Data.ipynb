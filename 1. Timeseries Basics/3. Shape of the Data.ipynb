{
 "cells": [
  {
   "cell_type": "markdown",
   "id": "5438b9db-175a-4707-96e1-f51adc1a44c4",
   "metadata": {},
   "source": [
    "# The Shape of Data\n",
    "The models will make *certain* **assumptions** about the shape of the data."
   ]
  },
  {
   "cell_type": "markdown",
   "id": "53a8584b-9254-4a44-9bde-c200840e99ea",
   "metadata": {},
   "source": [
    "# "
   ]
  },
  {
   "cell_type": "markdown",
   "id": "c8619bcf-7797-48d1-a2c3-cd674afca67f",
   "metadata": {},
   "source": [
    "**We usually** think is this one. Like the one-D.<br>\n",
    "It only consists of the time and the data associated with it.<br>\n",
    "—<br>\n",
    "Which is the more general form like shown here ↓<br> <br>\n",
    "<img src=\"../images/1d.png\" height=500 width=300>"
   ]
  },
  {
   "cell_type": "markdown",
   "id": "626865f9-1980-4bee-b4fb-3efc4acdeaf3",
   "metadata": {},
   "source": [
    "___"
   ]
  },
  {
   "cell_type": "markdown",
   "id": "9a4bd6cb-f7cd-438a-8a57-a0ef3cbb1f62",
   "metadata": {},
   "source": [
    "**But it can get** Multi dimentional<br> <br>\n",
    "<img src=\"../images/multid.png\">\n",
    "\n",
    "This can be represented as 2D form. And this is the **reading** / **observation** of the same element on multiple locations / things. Thus here the **variable to consider is only 1**.\n",
    "\n",
    "— The **prime example: Stock of multiple companies**."
   ]
  },
  {
   "cell_type": "markdown",
   "id": "95d02c14-1cd6-475b-9877-a3d1cce12d19",
   "metadata": {},
   "source": [
    "#### "
   ]
  },
  {
   "cell_type": "markdown",
   "id": "c6e48fca-c409-4c8a-afed-edfc2d8297bb",
   "metadata": {},
   "source": [
    "**And even more...** if we add another **observation** like:\n",
    "\n",
    "> ### Stock price, BJP votes during that time... would... look like in multi D.\n",
    "\n",
    "This has **Time** X **Stock Price** X **BJP Votes** <br>\n",
    "Come on, we then would have to do some simplification. "
   ]
  },
  {
   "cell_type": "code",
   "execution_count": 5,
   "id": "4984a7ad-7301-4c4b-bf66-eff78485d872",
   "metadata": {},
   "outputs": [
    {
     "data": {
      "text/plain": [
       "array([[[6, 5, 7],\n",
       "        [7, 5, 8],\n",
       "        [1, 7, 9]],\n",
       "\n",
       "       [[2, 7, 1],\n",
       "        [0, 4, 4],\n",
       "        [1, 0, 8]],\n",
       "\n",
       "       [[6, 3, 5],\n",
       "        [3, 7, 0],\n",
       "        [9, 0, 5]],\n",
       "\n",
       "       [[8, 8, 1],\n",
       "        [2, 0, 5],\n",
       "        [6, 3, 5]]])"
      ]
     },
     "execution_count": 5,
     "metadata": {},
     "output_type": "execute_result"
    }
   ],
   "source": [
    "import numpy as np\n",
    "np.random.randint(0, 10, (4, 3, 3))"
   ]
  },
  {
   "cell_type": "markdown",
   "id": "f156dc15-0764-4024-8727-3a3c086ba3ec",
   "metadata": {},
   "source": [
    "So, you might want to think it like a box with 3 sides... you know it very well man... just skip it."
   ]
  },
  {
   "cell_type": "markdown",
   "id": "ce0694d1-a4a7-4dfd-8ba3-4973c8fc56ed",
   "metadata": {},
   "source": [
    "# "
   ]
  },
  {
   "cell_type": "markdown",
   "id": "cfde9ab6-82d1-4da8-bf44-173ff845e01c",
   "metadata": {},
   "source": [
    "# Next up,\n",
    "Let's discuss about the **type of tasks**."
   ]
  }
 ],
 "metadata": {
  "kernelspec": {
   "display_name": "Python 3 (ipykernel)",
   "language": "python",
   "name": "python3"
  },
  "language_info": {
   "codemirror_mode": {
    "name": "ipython",
    "version": 3
   },
   "file_extension": ".py",
   "mimetype": "text/x-python",
   "name": "python",
   "nbconvert_exporter": "python",
   "pygments_lexer": "ipython3",
   "version": "3.9.7"
  }
 },
 "nbformat": 4,
 "nbformat_minor": 5
}
