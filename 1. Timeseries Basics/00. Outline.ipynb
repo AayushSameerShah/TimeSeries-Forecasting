{
 "cells": [
  {
   "cell_type": "markdown",
   "id": "47336c57-e765-4f96-80c3-f7ead7932927",
   "metadata": {},
   "source": [
    "# In this folder... we will see\n",
    "\n",
    "1. The time series definition\n",
    "2. Difference between **modeling** and **predicting**\n",
    "3. The **shape** of the data *(visualization)*\n",
    "4. **Kinds** of time-series task\n",
    "    - One-step\n",
    "    - Multi-step\n",
    "    - Classification *(timeseries classification)*\n",
    "5. Data **transformation** for time series (Box-cox)\n",
    "6. **Evaluation** metrics\n",
    "7. **Financial** terms *(returns, prices, adjusted close)*\n",
    "8. Price **simulations**\n",
    "9. Random walk **hypothesis**\n",
    "10. **Naive** forecast"
   ]
  },
  {
   "cell_type": "markdown",
   "id": "3c08e9a6-e54f-4313-b14e-f158bc50d0f7",
   "metadata": {},
   "source": [
    "# "
   ]
  },
  {
   "cell_type": "markdown",
   "id": "56069ccc-8453-4a14-b425-bf701da29352",
   "metadata": {},
   "source": [
    "## Gonna be amazing!\n",
    "Let's see how amazingly the amazing looks like!"
   ]
  }
 ],
 "metadata": {
  "kernelspec": {
   "display_name": "Python 3 (ipykernel)",
   "language": "python",
   "name": "python3"
  },
  "language_info": {
   "codemirror_mode": {
    "name": "ipython",
    "version": 3
   },
   "file_extension": ".py",
   "mimetype": "text/x-python",
   "name": "python",
   "nbconvert_exporter": "python",
   "pygments_lexer": "ipython3",
   "version": "3.9.7"
  }
 },
 "nbformat": 4,
 "nbformat_minor": 5
}
