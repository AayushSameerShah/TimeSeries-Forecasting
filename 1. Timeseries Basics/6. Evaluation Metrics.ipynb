{
 "cells": [
  {
   "cell_type": "markdown",
   "id": "8e2d2b95-73a8-4765-b148-a86bd6c21f1f",
   "metadata": {},
   "source": [
    "# 🔢 The metrics? For time-series?\n",
    "In the first shot, it would look like that it is the time series, so there would be something different here... but it comes out to be: it is **not**."
   ]
  },
  {
   "cell_type": "markdown",
   "id": "ec75dbe5-9069-4d93-a939-9302ccb57e39",
   "metadata": {},
   "source": [
    "### "
   ]
  },
  {
   "cell_type": "markdown",
   "id": "6a387a52-4c61-46b9-90fe-f1554413c7db",
   "metadata": {},
   "source": [
    "### `1.` Sum of Squares\n",
    "\n",
    "# $$ \\sum{(\\hat y - y)^2} $$"
   ]
  },
  {
   "cell_type": "markdown",
   "id": "49b24f13-62e3-41e6-b403-83508baa5688",
   "metadata": {},
   "source": [
    "### `2.` Mean Squares Error\n",
    "\n",
    "# $$ \\frac{\\sum{(\\hat y - y)^2}}{N} $$"
   ]
  },
  {
   "cell_type": "markdown",
   "id": "9e4f77b2-b842-4001-9442-e61a1588aa70",
   "metadata": {},
   "source": [
    "### `3.` Root Mean Squares Error\n",
    "\n",
    "# $$ \\sqrt{\\frac{\\sum{(\\hat y - y)^2}}{N}} $$"
   ]
  },
  {
   "cell_type": "markdown",
   "id": "e72cd673-da0b-4e45-b8ea-9a2a24d3c910",
   "metadata": {},
   "source": [
    "### `4.` Mean Absolute Error\n",
    "\n",
    "# $$ \\frac{\\sum{|\\hat y - y|}}{N} $$\n",
    "\n",
    "> **NOTE**: That, if we are building the algorithm to minimize on MSE, then while reporting (evaluating) we **shouldn't** use the MAE. As the model was optimized on another one.\n",
    "\n",
    "The **MAE** is less influenced by the outliers.\n",
    "\n",
    "<img src=\"../images/errorr-metric.png\" height=200 width=200>"
   ]
  },
  {
   "cell_type": "markdown",
   "id": "635b0707-ec1c-4a64-8102-fdcd13a95145",
   "metadata": {},
   "source": [
    "##### "
   ]
  },
  {
   "cell_type": "markdown",
   "id": "ad3ac032-5458-48e4-8404-89ac582a0146",
   "metadata": {},
   "source": [
    "### `5.` $R^2$\n",
    "\n",
    "# $$ 1 - \\frac{SSE}{SST}$$\n",
    "\n",
    "# $$ 1 - \\frac{MSE}{\\sigma^2_y}$$"
   ]
  },
  {
   "cell_type": "markdown",
   "id": "74793f15-0c03-47ed-9123-4982fc0c68c4",
   "metadata": {},
   "source": [
    "### `6.` Mean Absolute Percentage Error\n",
    "\n",
    "# $$ \\frac{\\sum\\frac{\\hat y - y}{y}}{N}$$"
   ]
  },
  {
   "cell_type": "code",
   "execution_count": 3,
   "id": "9ea645ac-eadb-4314-801e-272b39587271",
   "metadata": {},
   "outputs": [
    {
     "data": {
      "text/plain": [
       "0.2"
      ]
     },
     "execution_count": 3,
     "metadata": {},
     "output_type": "execute_result"
    }
   ],
   "source": [
    "original = 10\n",
    "predicted = 12\n",
    "\n",
    "(predicted - original) / original"
   ]
  },
  {
   "cell_type": "markdown",
   "id": "39ba0caa-2839-4456-925b-4f8ec24c5b7b",
   "metadata": {},
   "source": [
    "Meaning `0.2` or `20%` prediction is high than the original value."
   ]
  },
  {
   "cell_type": "markdown",
   "id": "8605a7c1-2e9b-48e2-a8a2-f8dab43ac41f",
   "metadata": {},
   "source": [
    "#### "
   ]
  },
  {
   "cell_type": "markdown",
   "id": "a79b1f46-3236-4baa-93c8-a89be6cf3ebc",
   "metadata": {},
   "source": [
    "### `7.` Symmetric Mean Absolute Percentage Error\n",
    "\n",
    "# $$ \\frac{\\sum\\frac{|\\hat y - y|}{\\frac{|\\hat y| + |y|}{2}}}{N}$$"
   ]
  },
  {
   "cell_type": "code",
   "execution_count": 1,
   "id": "028908b4-b9c4-4aba-aee3-9189be016691",
   "metadata": {},
   "outputs": [
    {
     "data": {
      "text/plain": [
       "0.045454545454545456"
      ]
     },
     "execution_count": 1,
     "metadata": {},
     "output_type": "execute_result"
    }
   ],
   "source": [
    "original = 10\n",
    "predicted = 12\n",
    "\n",
    "(abs(predicted - original)) / (abs(predicted) + abs(original)) / 2"
   ]
  },
  {
   "cell_type": "code",
   "execution_count": 2,
   "id": "57a4c67f-c324-439b-8005-389a3b0ec906",
   "metadata": {},
   "outputs": [
    {
     "data": {
      "text/plain": [
       "0.05555555555555555"
      ]
     },
     "execution_count": 2,
     "metadata": {},
     "output_type": "execute_result"
    }
   ],
   "source": [
    "original = 10\n",
    "predicted = 8\n",
    "\n",
    "(abs(predicted - original)) / (abs(predicted) + abs(original)) / 2"
   ]
  },
  {
   "cell_type": "markdown",
   "id": "87a79da5-56e2-4e8d-ba70-c0cfbe62823d",
   "metadata": {},
   "source": [
    "> Meaning, the value will be the same if it is on the negative or the positive side. *(We could have taken the abs and that would be the same thing right? But this sMAPE is something different and its interpretation would be different as well.)*"
   ]
  },
  {
   "cell_type": "markdown",
   "id": "a1ac1ece-2f3e-4f3a-9b39-0fa66b80b3b4",
   "metadata": {},
   "source": [
    "# "
   ]
  },
  {
   "cell_type": "markdown",
   "id": "460d636a-386e-41eb-9e69-a624fe36aa2a",
   "metadata": {},
   "source": [
    "# Too much!\n",
    "I know, be we are gonna use one or two of them, I shouldn't have written this file as well but just wrote it because I like to write the ***formulaes***... Hahaha. (😅)"
   ]
  }
 ],
 "metadata": {
  "kernelspec": {
   "display_name": "Python 3 (ipykernel)",
   "language": "python",
   "name": "python3"
  },
  "language_info": {
   "codemirror_mode": {
    "name": "ipython",
    "version": 3
   },
   "file_extension": ".py",
   "mimetype": "text/x-python",
   "name": "python",
   "nbconvert_exporter": "python",
   "pygments_lexer": "ipython3",
   "version": "3.9.12"
  }
 },
 "nbformat": 4,
 "nbformat_minor": 5
}
