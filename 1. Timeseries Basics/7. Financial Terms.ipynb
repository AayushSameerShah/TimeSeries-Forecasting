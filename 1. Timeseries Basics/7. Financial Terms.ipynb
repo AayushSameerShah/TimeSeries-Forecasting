{
 "cells": [
  {
   "cell_type": "markdown",
   "id": "f18ad81b-ad05-4dbd-b549-71a8fb699fd0",
   "metadata": {},
   "source": [
    "# Some **Financials** here"
   ]
  },
  {
   "cell_type": "markdown",
   "id": "9ec98a17-3cd0-4c07-95b6-e85716982ec6",
   "metadata": {},
   "source": [
    "Here, I would have to write the explanations unlike what I did in the previous notebook. I think, I am writing some unnecessary things... so let's start."
   ]
  },
  {
   "cell_type": "markdown",
   "id": "cb61555a-61b6-4663-97a4-ef6df66be732",
   "metadata": {},
   "source": [
    "# "
   ]
  },
  {
   "cell_type": "markdown",
   "id": "b5503f25-68a6-4711-b8af-04cdfffa5da0",
   "metadata": {},
   "source": [
    "### `1.` Stock Return\n",
    "\n",
    "Meaning, nothing! <br>\n",
    "It is the same what we call \"percentage-change\".\n",
    "<br>—<br>\n",
    "***\"How much change is there in the stock price since we have bought it?\"*** <br>\n",
    "# $$ return = \\frac{\\text{Price}_\\text{current} - \\text{Price}_\\text{buy}}{\\text{Price}_\\text{buy}}$$"
   ]
  },
  {
   "cell_type": "code",
   "execution_count": 2,
   "id": "a8cb0abe-ab9a-4d23-b965-d182d8ee5d89",
   "metadata": {},
   "outputs": [
    {
     "data": {
      "text/plain": [
       "3.0"
      ]
     },
     "execution_count": 2,
     "metadata": {},
     "output_type": "execute_result"
    }
   ],
   "source": [
    "buy = 5\n",
    "current = 20\n",
    "\n",
    "(current - buy) / buy"
   ]
  },
  {
   "cell_type": "markdown",
   "id": "7e09bba7-6507-4830-8244-028884dc1f05",
   "metadata": {},
   "source": [
    "Meaning, the price has grown 300% than the original. Thus..."
   ]
  },
  {
   "cell_type": "code",
   "execution_count": 3,
   "id": "9df959d3-1a96-4ebe-8943-95b61a3881f5",
   "metadata": {},
   "outputs": [
    {
     "data": {
      "text/plain": [
       "15.0"
      ]
     },
     "execution_count": 3,
     "metadata": {},
     "output_type": "execute_result"
    }
   ],
   "source": [
    "(5 * 300) / 100"
   ]
  },
  {
   "cell_type": "markdown",
   "id": "5402c301-4c7a-4d5e-9150-2d477d91d9af",
   "metadata": {},
   "source": [
    "5 + 15 = 20"
   ]
  },
  {
   "cell_type": "markdown",
   "id": "fc9203d9-a577-42d4-9b83-12a0e83d43fa",
   "metadata": {},
   "source": [
    "## "
   ]
  },
  {
   "cell_type": "markdown",
   "id": "1abba16c-35aa-490b-a013-23b14eb53814",
   "metadata": {},
   "source": [
    "### `2.` Gross Return\n",
    "It gives the \"single number\" that we can use **to directly** get the final price. \n",
    "\n",
    "# $$ Gross Return = \\frac{\\text{Price}_\\text{current}}{\\text{Price}_\\text{buy}}  $$\n",
    "\n",
    "Meaning, it will return the *\"multiplier\"*."
   ]
  },
  {
   "cell_type": "code",
   "execution_count": 4,
   "id": "b00d68dc-fdd6-431c-940d-80449655aae1",
   "metadata": {},
   "outputs": [
    {
     "data": {
      "text/plain": [
       "4.0"
      ]
     },
     "execution_count": 4,
     "metadata": {},
     "output_type": "execute_result"
    }
   ],
   "source": [
    "buy = 5\n",
    "current = 20\n",
    "\n",
    "current / buy"
   ]
  },
  {
   "cell_type": "markdown",
   "id": "541cf630-4023-4fb6-a846-53551a5a7a75",
   "metadata": {},
   "source": [
    "Thus,"
   ]
  },
  {
   "cell_type": "markdown",
   "id": "bc8f7ab5-5808-46e2-b7f0-83a9433a37d4",
   "metadata": {},
   "source": [
    "5 * 4 = 20"
   ]
  },
  {
   "cell_type": "markdown",
   "id": "a8d43749-dc5d-493e-9d8f-91a20976a2de",
   "metadata": {},
   "source": [
    "> # <br><br> $GrossReturn = return + 1$ <br><br>"
   ]
  },
  {
   "cell_type": "markdown",
   "id": "14523d04-c088-4f85-a40d-9536766c3a7c",
   "metadata": {},
   "source": [
    "GrossReturn < 1 = LOSS <br>\n",
    "GrossReturn > 1 = GAIN"
   ]
  },
  {
   "cell_type": "markdown",
   "id": "441e31a4-c7b4-4397-a30e-34e8c0e379d8",
   "metadata": {},
   "source": [
    "# "
   ]
  },
  {
   "cell_type": "markdown",
   "id": "c6e0f17a-f24f-4528-a242-975579f67afa",
   "metadata": {},
   "source": [
    "### `3.` Log Return\n",
    "\n",
    "Here, we simply take a $log$ of the $GrossReturn$.\n",
    "\n",
    "Why? <br>\n",
    "$log$ of $GrossReturn$ but not of simple $return$?\n",
    "\n",
    "- The simple $return$ can be negative and we can't take log of any negative number\n",
    "\n",
    "# $$ log(GrossReturn) $$"
   ]
  },
  {
   "cell_type": "markdown",
   "id": "90c583cb-d393-4540-b268-2e775e62b438",
   "metadata": {},
   "source": [
    "**Just forget** as you read the following sentenct: <br>\n",
    "*\"$log(GrossRet) = log(current) - log(buy)$\"*: Log grossReturn is the difference between log buy and log current price."
   ]
  },
  {
   "cell_type": "code",
   "execution_count": 11,
   "id": "90332748-6de6-4638-9981-0d2ad849e7f2",
   "metadata": {},
   "outputs": [
    {
     "data": {
      "text/plain": [
       "-1.0116009116784799"
      ]
     },
     "execution_count": 11,
     "metadata": {},
     "output_type": "execute_result"
    }
   ],
   "source": [
    "buy = 55\n",
    "current = 20\n",
    "\n",
    "np.log(current / buy)"
   ]
  },
  {
   "cell_type": "code",
   "execution_count": 13,
   "id": "a05b69e2-24bb-4c34-9035-b35c753dfecc",
   "metadata": {},
   "outputs": [
    {
     "data": {
      "text/plain": [
       "-1.0116009116784803"
      ]
     },
     "execution_count": 13,
     "metadata": {},
     "output_type": "execute_result"
    }
   ],
   "source": [
    "np.log(20) - np.log(55)"
   ]
  },
  {
   "cell_type": "markdown",
   "id": "59a03158-01cb-4e0b-85b7-eba445ef9a6d",
   "metadata": {},
   "source": [
    "# "
   ]
  }
 ],
 "metadata": {
  "kernelspec": {
   "display_name": "Python 3 (ipykernel)",
   "language": "python",
   "name": "python3"
  },
  "language_info": {
   "codemirror_mode": {
    "name": "ipython",
    "version": 3
   },
   "file_extension": ".py",
   "mimetype": "text/x-python",
   "name": "python",
   "nbconvert_exporter": "python",
   "pygments_lexer": "ipython3",
   "version": "3.9.7"
  }
 },
 "nbformat": 4,
 "nbformat_minor": 5
}
