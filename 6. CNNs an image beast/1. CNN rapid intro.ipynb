{
 "cells": [
  {
   "cell_type": "markdown",
   "id": "e57b3a3f-a35b-4e6c-9371-67d5a48f99c0",
   "metadata": {},
   "source": [
    "# 🎛 Convolution NN\n",
    "In this notebook, we will see:\n",
    "1. What the convolution is.\n",
    "2. Somewhat example *(tiny, little, baby)*.\n",
    "3. How to code *(in abstract manner)*.\n",
    "4. What is the math behind."
   ]
  },
  {
   "cell_type": "markdown",
   "id": "f3069eb6-28e8-4a69-987b-c961e735b438",
   "metadata": {},
   "source": [
    "## `1.` WTC!\n",
    "\n",
    "Mainly, convolution is **all related with the images**. It is, how to *convolute* to *transform* and image and use its output for the next layer.\n",
    "\n",
    "> And so to simplify, ***it is the activation function of the images***.\n",
    "\n",
    "Nah, the line above is used too loosely, but just for now, understand it like that.\n",
    "\n",
    "- We have an image.\n",
    "- To **extract** features from that image like overall structure, edges, shapes etc we use *some* filters.\n",
    "- Those filters are called \"convolutions\"\n",
    "- And the *layer* made of *those* convolutions are called \"convolution layers\".\n",
    "\n",
    "Hold on a sec, lemme show you the image instead."
   ]
  },
  {
   "cell_type": "markdown",
   "id": "74752eaf-5dfe-46ae-8ea2-0ae366b2f650",
   "metadata": {},
   "source": [
    "<img src=\"../images/cnn.png\" width=500 height=300>"
   ]
  },
  {
   "cell_type": "markdown",
   "id": "f1223a41-7dc8-47d1-b374-19bd677b9f79",
   "metadata": {},
   "source": [
    "You can see those *middle* hidden layers. They are now full of the filters. And, what they filters do? Make your face beautiful in instagram, right?\n",
    "\n",
    "Here, it makes it worse 🤣\n",
    "___\n",
    "Sorry. Let's continue with the intuition."
   ]
  },
  {
   "cell_type": "markdown",
   "id": "7a9658a9-8683-4668-80ec-5d7df27a7409",
   "metadata": {},
   "source": [
    "<img src=\"../images/filter-1.png\" width=500 height=300>"
   ]
  },
  {
   "cell_type": "markdown",
   "id": "52067988-1098-47b8-a4be-226c7e7b2259",
   "metadata": {},
   "source": [
    "The **filter** is called the **kernel** most of the times. And this **whole process** of **multiplying** is called ***convolution***. You see that here the **blur** filter has been used. Thus, it results the picture with the blur."
   ]
  },
  {
   "cell_type": "markdown",
   "id": "56c8f01b-e1bb-4b2c-b699-8c630f3ab733",
   "metadata": {},
   "source": [
    "<img src=\"../images/filter-2.png\" width=500 height=300>"
   ]
  },
  {
   "cell_type": "markdown",
   "id": "583bfd29-9659-40cd-8cd2-13efe00372dd",
   "metadata": {},
   "source": [
    "Here we have applied the **edge detection** kernel so, it amplifies the edge in the image."
   ]
  },
  {
   "cell_type": "markdown",
   "id": "f68fd5c7-ced4-40ba-9421-af57245a844d",
   "metadata": {},
   "source": [
    "> **NOTE:** Here we have shown the `*` sign. It is to show the **process of convolution**. But in the math, it is the multiplication and addition. So, take care of understanding what is going on. We will see a small example in a bit."
   ]
  },
  {
   "cell_type": "markdown",
   "id": "63536168-b209-4b94-841b-54353d7f010c",
   "metadata": {},
   "source": [
    "#### How to select the filter? Where to get those?\n",
    "Hold on, we will get to those as well. For now, let's continue with the example."
   ]
  },
  {
   "cell_type": "markdown",
   "id": "1b2eb346-a653-407c-9ea7-1c408c1645ef",
   "metadata": {},
   "source": [
    "## `2.` A tiny example"
   ]
  },
  {
   "cell_type": "markdown",
   "id": "c0a6abea-0123-4aa7-9909-387c7b25cf64",
   "metadata": {},
   "source": [
    "**Step 1**: Have an image and a kernel <br>\n",
    "<img src=\"../images/cnn-process-1.png\" width=500 height=300>"
   ]
  },
  {
   "cell_type": "markdown",
   "id": "f446bff3-7d8a-41bc-9166-a4a1ed82f3ee",
   "metadata": {},
   "source": [
    "**Step 2**: Start from the upper left corner <br>\n",
    "<img src=\"../images/cnn-process-2.png\" width=500 height=300>"
   ]
  },
  {
   "cell_type": "markdown",
   "id": "d0eeb54f-33e4-4b00-8833-17f2750e97ad",
   "metadata": {},
   "source": [
    "**Step 3**: Perform element wise multiplication and add the result <br>\n",
    "<img src=\"../images/cnn-process-3.png\" width=500 height=300>"
   ]
  },
  {
   "cell_type": "markdown",
   "id": "ffe8727c-2c8c-4683-b1da-ad4f667675c2",
   "metadata": {},
   "source": [
    "And yeah, finally we will have the **output** image or the **convoluted** image."
   ]
  }
 ],
 "metadata": {
  "kernelspec": {
   "display_name": "Python 3 (ipykernel)",
   "language": "python",
   "name": "python3"
  },
  "language_info": {
   "codemirror_mode": {
    "name": "ipython",
    "version": 3
   },
   "file_extension": ".py",
   "mimetype": "text/x-python",
   "name": "python",
   "nbconvert_exporter": "python",
   "pygments_lexer": "ipython3",
   "version": "3.9.12"
  }
 },
 "nbformat": 4,
 "nbformat_minor": 5
}
