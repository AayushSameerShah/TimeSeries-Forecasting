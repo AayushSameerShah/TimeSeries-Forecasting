{
 "cells": [
  {
   "cell_type": "markdown",
   "id": "2ba13d67-1a38-4a88-ad5c-759d04b0105f",
   "metadata": {},
   "source": [
    "# 📸 Time and Image?\n",
    "Ah, recalling my final year project. AAAi. Or 3ple Ai in which we had used the CNN. What a great time! Now, the application of CNN is a bit *different*.\n",
    "\n",
    "Here, we will use them for time-series. \n",
    "> Time series ***can be*** converted into images and then CNN can be used on ***that*** image of time-series data. So, you know it is like grabbing left ear with right hand when you can grab it with left hand."
   ]
  },
  {
   "cell_type": "markdown",
   "id": "5bba7693-c726-4d3e-9831-0c0acae9c823",
   "metadata": {},
   "source": [
    "### Outline\n",
    "1. See what convolution is.\n",
    "2. Code what convolution is.\n",
    "\n",
    "Hah, I know now the outline of the section is getting smaller, but it is what it is. For now, let's see in the next notebook how the CNN goes into a rabbit hole.\n",
    "\n",
    "*(used the term rabbit hole out-of-context, please don't try to rub your head to understand the \"philosophical\" meaning behind it. As there is no meaning.)*"
   ]
  },
  {
   "cell_type": "markdown",
   "id": "7c2da3a0-6dd7-4d2c-9336-672a9d310f4b",
   "metadata": {},
   "source": [
    "# "
   ]
  },
  {
   "cell_type": "markdown",
   "id": "490152c3-c988-4699-9c2f-506af9a81f3f",
   "metadata": {},
   "source": [
    "# See you there. "
   ]
  }
 ],
 "metadata": {
  "kernelspec": {
   "display_name": "Python 3 (ipykernel)",
   "language": "python",
   "name": "python3"
  },
  "language_info": {
   "codemirror_mode": {
    "name": "ipython",
    "version": 3
   },
   "file_extension": ".py",
   "mimetype": "text/x-python",
   "name": "python",
   "nbconvert_exporter": "python",
   "pygments_lexer": "ipython3",
   "version": "3.9.12"
  }
 },
 "nbformat": 4,
 "nbformat_minor": 5
}
