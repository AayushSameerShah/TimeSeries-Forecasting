{
 "cells": [
  {
   "cell_type": "markdown",
   "id": "87351673-c753-4387-b6fe-77cf300dc5ce",
   "metadata": {},
   "source": [
    "# ⏲ CNN for TimeSeries\n",
    "Finally we will uncover the mystery of \"how CNN can be used for TimeSeries\"."
   ]
  },
  {
   "cell_type": "markdown",
   "id": "0fb1cfdd-e782-4139-a5c8-74d0cbce9648",
   "metadata": {},
   "source": [
    "### 🖼️ This is what \"blurring\" means for an image\n",
    "It is where we have chosen the \"blur\" kernel in to \"smooth\" the image.\n",
    "\n",
    "<img src=\"../images/blur.png\" height=400 width=500>"
   ]
  },
  {
   "cell_type": "markdown",
   "id": "9f1eee5e-5485-4625-acd2-f79c946ae4af",
   "metadata": {},
   "source": [
    "###  🕧 This is what \"blurring\" means for a time series\n",
    "This is where our EWMA (😊) / smoothing comes into play.\n",
    "\n",
    "- If we convolve the blur kernel with the timeseries, we get the *blurred* version of the time-series.\n",
    "- We call it *\"smoothing\"* for time\n",
    "\n",
    "<img src=\"../images/time-blur.png\" height=400 width=500>"
   ]
  },
  {
   "cell_type": "markdown",
   "id": "acf4d560-bb2e-445f-84ca-0f5d586e27e6",
   "metadata": {},
   "source": [
    "### 🤝 Cross Correlation = Convolution \n",
    "Now, how is convolution is related with correlation and then ARIMA?\n",
    "\n",
    "Well, if you recall we faced some \"***auto-correlation***\" thing in the past when we were dealing with ARIMA. We saw how PACF and ACF plots were made. They were literally based upon the *correlation*!\n",
    "\n",
    "Notice the *link*:  <br>\n",
    "Image → Convolution → **Correlation** ← ARIMA ← Timeseries\n",
    "\n",
    "____\n",
    "We can see that how things are *interconnected*. Let's have a look at them.\n",
    "\n",
    "- For image we get the \"**spike**\" where we find the pattern matching.\n",
    "- For time-series we *also* get a \"**spike**\" but in the PACF/ACF plots whenever the timeseries matches itself."
   ]
  },
  {
   "cell_type": "markdown",
   "id": "ffed6c63-0127-4d83-890a-513766a90c08",
   "metadata": {},
   "source": [
    "### 🔗 AR connection with convolution\n",
    "\n",
    "🟦 Recall the AR formulae:\n",
    "## $$ \\hat y_t = b + \\varphi_1y_{t - 1} + \\varphi_2y_{t - 2} + \\cdots + \\varphi_py_{t - p} + \\epsilon $$\n",
    "\n",
    "🟦 Can be **re-written** as:\n",
    "## $$ \\hat y_t = \\displaystyle \\sum_{k=1}^p \\varphi_k y_{t-k} + b + \\epsilon$$\n",
    "\n",
    "🟥 And... convolution process is the same...\n",
    "\n",
    "    1 2 3           0 -1           (1*0) + (2 * -1) + (4 * -1) + (5 * 0)\n",
    "    4 5 6     *    -1  0     = \n",
    "    7 8 9\n",
    "  \n",
    "    image        kernel            For first iteration. And for all.\n",
    "    \n",
    "🟥 Convolution equation:\n",
    "## $$ (A * w)_{ij} = \\displaystyle \\sum_{i' = 0}^{K - 1} \\sum_{j' = 0}^{K - 1} A(i + i', j + j')\\times w(i', j')$$"
   ]
  },
  {
   "cell_type": "markdown",
   "id": "4760a630-b03a-4b08-8e06-c1d1eb831d7d",
   "metadata": {},
   "source": [
    "In both cases 🟦 & 🟥 we see that there is multiplication and then summation. Thus, ***AR model is a \"mini convolution\" already!***"
   ]
  },
  {
   "cell_type": "markdown",
   "id": "fc50989c-67fd-4e08-9781-f76972eb056e",
   "metadata": {},
   "source": [
    "# "
   ]
  },
  {
   "cell_type": "markdown",
   "id": "9f78b20f-9d51-4bf5-85f0-8636451769a5",
   "metadata": {},
   "source": [
    "# I have said before,\n",
    "The maths might not be to important today here. I know, let's deal with prectical in the next one."
   ]
  }
 ],
 "metadata": {
  "kernelspec": {
   "display_name": "Python 3 (ipykernel)",
   "language": "python",
   "name": "python3"
  },
  "language_info": {
   "codemirror_mode": {
    "name": "ipython",
    "version": 3
   },
   "file_extension": ".py",
   "mimetype": "text/x-python",
   "name": "python",
   "nbconvert_exporter": "python",
   "pygments_lexer": "ipython3",
   "version": "3.9.12"
  }
 },
 "nbformat": 4,
 "nbformat_minor": 5
}
