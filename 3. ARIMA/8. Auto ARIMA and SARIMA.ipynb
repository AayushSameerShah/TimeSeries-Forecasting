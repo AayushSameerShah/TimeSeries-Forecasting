{
 "cells": [
  {
   "cell_type": "markdown",
   "id": "78e15e6b-2a6b-4f11-a100-4218fcb2e6f8",
   "metadata": {},
   "source": [
    "# ⚙️ Auto ARIMA\n",
    "*The machine learning done by machine learning.*"
   ]
  },
  {
   "cell_type": "markdown",
   "id": "de12fd10-67b9-402d-aaa1-acc57b4d95e0",
   "metadata": {},
   "source": [
    "### Getting the sub-optimal model\n",
    "Agreed. ACF and PACF *(also Dicky-test)* help use a lot deciding the `p`, `d` and `q`  values *(not respectively)*. But **the model is not guerenteed to be the most optimal model**. We usually get the best but that model can be said to be \"sub-optimal\" model. Thus, we can leave this job for the computer to do and after getting that *initial* sub-optimal model we can continue making that a better model tuining the parameters according to our needs.\n",
    "\n",
    "> That is to say, it is Auto ARIMA."
   ]
  },
  {
   "cell_type": "markdown",
   "id": "d07bafeb-862e-4089-844c-e71582b188a8",
   "metadata": {},
   "source": [
    "# "
   ]
  },
  {
   "cell_type": "markdown",
   "id": "11a296e8-f9b8-4d13-bdb5-99c1023290cb",
   "metadata": {},
   "source": [
    "## 🍂SARIMA\n",
    "A **S**easonal **ARIMA** = **SARIMA**"
   ]
  },
  {
   "cell_type": "markdown",
   "id": "1a061fd0-5494-4418-b776-bf10be489fa1",
   "metadata": {},
   "source": [
    "Wait, why here? We were going smothly with the ARIMA but why the heck would you introduce to me this SARIMA thing?\n",
    "\n",
    "Ah, frankly? I don't know. The reason can be; we are going to use the new library called ***\"pmdarima\"***. That uses the statsmodels under-the-hood. And with that library, we can achive the auto ARIMA functionality.\n",
    "\n",
    "In this course that I am taking, SARIMA is not explained as a core topic. The focus that we have given to ARIMA and the previous models, same doesn't go for SARIMA. And I also think that that is an agreeable choice. Since understanding that is easy. But still the author gives the overview of SARIMA model to get an idea."
   ]
  },
  {
   "cell_type": "markdown",
   "id": "2e11cc5c-1fde-4278-9d10-8dedb8490fca",
   "metadata": {},
   "source": [
    "### But still, why SARIMA here?\n",
    "It is because the `pmdarima` is able to fit the ARIMA or SARIMA with the same function call. Meaning you can toggle the `seasonal=False` to make it ARIMA and SARIMA otherwise. So we should cover that here as we are **not** going to have a full notebook for that. *Again*, that full notebook is not required.\n",
    "\n",
    "So finally: ***How SARIMA works?***\n",
    "___"
   ]
  },
  {
   "cell_type": "markdown",
   "id": "7860f867-ad50-4e57-9dd5-20710bc6c1b2",
   "metadata": {},
   "source": [
    "### 😐 ARIMA before SARIMA"
   ]
  },
  {
   "cell_type": "markdown",
   "id": "c2e12fc4-bed0-4138-9017-1835db828d96",
   "metadata": {},
   "source": [
    "The **Vanilla ARIMA** or just ARIMA works by taking the previoud `p` and `q` datapoints to predict the next value according the the horizon defined. Now, that is **enough** to model the seasonality as well. I mean really, we have seen that before that in the *airline* dataset, our ARIMA model worked faboluously well — even though there was a seasonality!"
   ]
  },
  {
   "cell_type": "markdown",
   "id": "37996c95-930a-4ccf-95a4-790d4f74b492",
   "metadata": {},
   "source": [
    "<img src=\"../images/arima-comp.png\" height=400 width=500>"
   ]
  },
  {
   "cell_type": "markdown",
   "id": "f5c966cc-96cf-4cd0-a424-ff7af6362c9d",
   "metadata": {},
   "source": [
    "But it is said that when there is the seasonality, using SARIMA over ARIMA should result well. So, here is our SARIMA.<br>\n",
    "Now, how it is **represented**?"
   ]
  },
  {
   "cell_type": "markdown",
   "id": "7878568f-62c1-41ac-9fb9-54f5558a15ca",
   "metadata": {},
   "source": [
    "# $$ \\text{SARIMA}\\left\\{(p, d, q) \\times (P, D, Q)_m\\right\\} $$\n",
    "\n",
    "Where, <br>\n",
    "$p, d, q:$ Are the same `p`, `d` and `q` from ARIMA model <br>\n",
    "$P:$ How many past data points do you want to consider but from the previous `m` period <br>\n",
    "$D:$ The order of differencing from the previous `m` period <br>\n",
    "$Q:$ How many past errors do you want to consider but from the previous `m` period <br>\n",
    "$m:$ Seasonal period \\*(ex: 12, 4 etc.)*\n",
    "\n",
    "Thus the `P`, `D` and `Q` are analogous of the lower-case version of the ARIMA."
   ]
  },
  {
   "cell_type": "markdown",
   "id": "e53a463c-ce91-431b-abea-12a20b8e809a",
   "metadata": {},
   "source": [
    "**We** are then \"multiplying\" that seasonal-part $(P, D, Q)_m$ to the non-seasonal-part $(p, d, q)$ to get the SARIMA model. Now. let's focus on how that `P`, `D` and `Q` are in the equations."
   ]
  },
  {
   "cell_type": "markdown",
   "id": "ed27dc0f-8a06-49bf-be35-b6e740f5073e",
   "metadata": {},
   "source": [
    "###### "
   ]
  },
  {
   "cell_type": "markdown",
   "id": "eae59bc6-8ce0-4ff2-b33e-a339217b2366",
   "metadata": {},
   "source": [
    "### ➡ Seasonal Differencing"
   ]
  },
  {
   "cell_type": "markdown",
   "id": "985de308-3ac9-439a-8bfc-95c2b1ac57ba",
   "metadata": {},
   "source": [
    "Recall the stationarity in ARIMA. It is the same but done for the previous period. <br>\n",
    "Suppose, here $D = 1$. Then the differencing would be...\n",
    "\n",
    "# $$ \\Delta_m Y_t = Y_t - Y_{t-m}$$\n",
    "\n",
    "Which means, **\"difference the *current* value from the *previous* period at the same time \"**. <br>\n",
    "Example: $ \\Delta_{12} Y_{\\text{01-Jan-2022}} = Y_{\\text{01-Jan-2022}} - Y_{\\text{01-Jan-2021}}$\n",
    "\n",
    "I hope that's clear. <br>\n",
    "> Here *instead of differencing from the previous **term**, we difference from the **previous period***.\n",
    "\n",
    "Then, according to the `D`,  we will look previous `D` terms."
   ]
  },
  {
   "cell_type": "markdown",
   "id": "72f69551-73bf-44cf-b834-341c06404d6d",
   "metadata": {},
   "source": [
    "#### New lesson learnt\n",
    "**The seris is not stationary, if it exhibits seasonality\".**\n",
    "\n",
    "As in the previous notebooks, we saw that that series is not seasonal if:\n",
    "- It has same mean\n",
    "- It has same variance\n",
    "\n",
    "And now,\n",
    "- **It doesn't have seasonality**"
   ]
  },
  {
   "cell_type": "markdown",
   "id": "418393a7-61fc-4cd8-b27e-aa674233ce12",
   "metadata": {},
   "source": [
    "<img src=\"../images/non-seasonal-all-3.png\" height=400 width=500> <br>\n",
    "I hope that makes sense."
   ]
  },
  {
   "cell_type": "markdown",
   "id": "52b6e7aa-9a2f-4c3f-bf97-ac6fdabc7411",
   "metadata": {},
   "source": [
    "###### "
   ]
  },
  {
   "cell_type": "markdown",
   "id": "584fa41e-1421-477c-9729-82932792ecfa",
   "metadata": {},
   "source": [
    "### 🪐 AR term with P\n",
    "Here we will see how it **considers the past `P` terms but from the previous period**."
   ]
  },
  {
   "cell_type": "markdown",
   "id": "b3a6db37-4d86-483f-9bc0-c23c01c9abbd",
   "metadata": {},
   "source": [
    "# $$ \\hat y_t = b + \\varphi_1y_{t - 1m} + \\varphi_2y_{t - 2m} + \\cdots + \\varphi_Py_{t - Pm} + \\varepsilon_t$$\n",
    "Simple and intuitive."
   ]
  },
  {
   "cell_type": "markdown",
   "id": "26036d46-12e7-42e2-8bf5-7473e7971d5d",
   "metadata": {},
   "source": [
    "### 🚶‍♂️ MA term with Q\n",
    "Here we will see how it **considers the past `Q`  errors but from the previous period**."
   ]
  },
  {
   "cell_type": "markdown",
   "id": "d0dcb3c7-3d09-417b-956d-09a78c2694b6",
   "metadata": {},
   "source": [
    "# $$ y_t = c + \\varepsilon_t + \\theta_1\\varepsilon_{t-m} + \\theta_2\\varepsilon_{t-2m} + \\cdots + \\theta_Q\\varepsilon_{t-Qm}$$"
   ]
  },
  {
   "cell_type": "markdown",
   "id": "29845810-0995-4f3a-8fb7-3cf462c5f8be",
   "metadata": {},
   "source": [
    "Finally, once we have this **seasonal** part, we will multiply that with **non-seasonal** part to get the full SARIMA model."
   ]
  },
  {
   "cell_type": "markdown",
   "id": "3dd335a6-32e7-40e5-9f23-5e39a69d8363",
   "metadata": {},
   "source": [
    "# "
   ]
  },
  {
   "cell_type": "markdown",
   "id": "05bfa788-5323-47d2-8af4-a20564ad9581",
   "metadata": {},
   "source": [
    "## 🌏 SARIMAX\n",
    "*It is when the new value does not only rely on its past values, but the **exogenous** variables matter.*"
   ]
  },
  {
   "cell_type": "markdown",
   "id": "18477d7d-5995-42db-9bee-3253230d028e",
   "metadata": {},
   "source": [
    "It is made of: **S**easonal + **ARIMA** + **Ex**ogenous = SARIMAX"
   ]
  },
  {
   "cell_type": "markdown",
   "id": "33e0e6c4-4522-4f1c-b504-27b77f9a426e",
   "metadata": {},
   "source": [
    "Here the term *\"exogenous\"* means: \n",
    " > *\"having an external cause or origin.\"*"
   ]
  },
  {
   "cell_type": "markdown",
   "id": "03e2e137-7a38-4ad1-8dca-851f6995105a",
   "metadata": {},
   "source": [
    "Simply put, when we see that the Bitcoin prices dropped instantly after the tweet of Elon Musk, or something **outside** parameter affected the value change, it is called **exogenous**. *(I typed that word myself 😚)*\n",
    "\n",
    "- So for that, we will just need to *pass* another array with the main values.\n",
    "- So the model will learn its effect and then we will be able to predict when that data is available in the future.\n",
    "- Yes, so for the future forecasting, we will need that exogeneous variable to be in the dataset to make forecasting."
   ]
  },
  {
   "cell_type": "markdown",
   "id": "c7b98bfa-8575-4204-a19a-c47c0f1e7f04",
   "metadata": {},
   "source": [
    "# "
   ]
  },
  {
   "cell_type": "markdown",
   "id": "df42c6a8-5db1-4ede-8e64-1c40cd3b130c",
   "metadata": {},
   "source": [
    "### 👨‍💻 Discussed too much, show me the code! (please.)"
   ]
  },
  {
   "cell_type": "markdown",
   "id": "9c410b3c-d62d-41fc-a599-e1e49808d594",
   "metadata": {},
   "source": [
    "Nah Nah Nah... not this time.\n",
    "\n",
    "Not cheating, I will show the code... but before that I will have to make another notebook for a very important topic to define **what is the \"best\"**.  Once we see how that's done, we will surely see the code."
   ]
  },
  {
   "cell_type": "markdown",
   "id": "fc5595a0-029c-42bf-9bc6-9cc261622bac",
   "metadata": {},
   "source": [
    "# "
   ]
  },
  {
   "cell_type": "markdown",
   "id": "388bfebf-9eb0-4c17-90e2-8f20f7e8b95c",
   "metadata": {},
   "source": [
    "# Excited to learn the next topic,\n",
    "That is AIC and BIC score. Why excited to learn that? Will share that with you in that notebook. For sure. I promise."
   ]
  }
 ],
 "metadata": {
  "kernelspec": {
   "display_name": "Python 3 (ipykernel)",
   "language": "python",
   "name": "python3"
  },
  "language_info": {
   "codemirror_mode": {
    "name": "ipython",
    "version": 3
   },
   "file_extension": ".py",
   "mimetype": "text/x-python",
   "name": "python",
   "nbconvert_exporter": "python",
   "pygments_lexer": "ipython3",
   "version": "3.9.7"
  }
 },
 "nbformat": 4,
 "nbformat_minor": 5
}
