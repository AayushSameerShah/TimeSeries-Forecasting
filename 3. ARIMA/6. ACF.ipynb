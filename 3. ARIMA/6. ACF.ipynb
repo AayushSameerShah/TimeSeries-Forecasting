{
 "cells": [
  {
   "cell_type": "markdown",
   "id": "40a3fd1c-95cf-4b85-bf25-56aad3b1b5e3",
   "metadata": {},
   "source": [
    "# 🎚 ACF\n",
    "Try guessing the full name... yeah give it a try. I am watching you 🤨 \n",
    "\n",
    "> Okay it is: *Autocorrelation-function* <br>\n",
    "It's fine if you didn't get it, or said: Autocovariance ... **FOCUS**! It is *Auto-Co**rrelation***! not Co***variance***!"
   ]
  },
  {
   "cell_type": "markdown",
   "id": "c83c74be-b03d-4291-8929-d63eb1ff49bd",
   "metadata": {},
   "source": [
    "######"
   ]
  },
  {
   "cell_type": "markdown",
   "id": "9460fcc4-1877-4bc7-b9f0-536e61706a60",
   "metadata": {},
   "source": [
    "## 🔎 We will search for the value of `q`\n",
    "Previously we looked at the `ADF` test to determine the value of `d` parameter. Now it is the time to have a look at `q` parameter which if you remember is used in MA model. For MA(q)."
   ]
  },
  {
   "cell_type": "markdown",
   "id": "59d72f91-d48d-4ee3-ac47-f31c3922f171",
   "metadata": {},
   "source": [
    "## Autocovariance"
   ]
  },
  {
   "cell_type": "markdown",
   "id": "112af606-35c1-4501-8321-7f6281c47389",
   "metadata": {},
   "source": [
    "Here, similar to *auto-covariance* we will find the *auto-correlation*. Which again is the ***\"correlation of 2 different values from the same time-series\"***."
   ]
  },
  {
   "cell_type": "markdown",
   "id": "08f7a0e7-3374-41b6-9965-518d10711b55",
   "metadata": {},
   "source": [
    "# $$ cor(t_1, t_2) = \\frac{cov(t_1, t_2)}{\\sigma_{t_1}, \\sigma_{t_2}}$$ "
   ]
  },
  {
   "cell_type": "markdown",
   "id": "f7c26484-2e03-4529-962f-a939c7cda7c6",
   "metadata": {},
   "source": [
    "# $$ cov(t_1, t_2) = (x - \\bar x)(y - \\bar y) $$"
   ]
  },
  {
   "cell_type": "markdown",
   "id": "e80ddcfc-bc03-4c9b-af9f-01bee704dac7",
   "metadata": {},
   "source": [
    "### But... how to get the correlation?\n",
    "Not asking the formulae, that we already know... but the thing is that since we have **only one value to compare with one value** how are we supposed to get the correlation?\n",
    "\n",
    "As we know, to get the correlation, we need more than 2 values at least. Meaning:\n",
    "\n",
    "|        | **y1** | **y2** | **y3** | **y4** | **y5** |\n",
    "|--------|--------|--------|--------|--------|--------|\n",
    "| **v1** |   12   |   34   |   44   |   55   |   33   |\n",
    "| **v2** |   13   |   44   |   43   |   12   |   44   |\n",
    "| **v3** |    3   |   34   |   44   |   33   |   44   |\n",
    "\n",
    "For each `y` value there should be *multiple versions* so that we can get the correlation. Now, you may ask this is possible in the seasonality! If we take suppose period as `12` say, then there are the ***versions*** of all values right?\n",
    "\n",
    "That's what it does! The further explanation is below this section but based on the *period* ($\\tau$) we will get the auto-correlation for each point and then divide by some value (which we will see in just a sec) and get ***whole autocorrelation*** for **that tau $\\tau$**."
   ]
  },
  {
   "cell_type": "markdown",
   "id": "12f981db-0aa7-4e12-9a65-3acee3085200",
   "metadata": {},
   "source": [
    "### Autocorrelation formulae:\n",
    "\n",
    "The formulae *assumes* that the time-series is stationary. That means the mean and variance don't change over time. Thus, based on that *strong assumption* we will get our work done!"
   ]
  },
  {
   "cell_type": "markdown",
   "id": "eece52b0-170b-4ba0-896c-c8bd7f159291",
   "metadata": {},
   "source": [
    "And the guyz behind the stats have given a ***rotated sigma*** symbol for the *autocorrelation* to distinguish it with the *simple correlation*! Which is: $\\varrho$. Written in LaTeX as `\\varrho`."
   ]
  },
  {
   "cell_type": "markdown",
   "id": "493211d7-0e99-4952-ad08-1fbd03aa78ef",
   "metadata": {
    "tags": []
   },
   "source": [
    "# $$ \\varrho(\\tau) = \\frac{\\displaystyle \\sum_{t=1}^{T-\\tau} (y_t - \\hat \\mu) (y_{t + \\tau} - \\hat \\mu)} {(T - \\tau) \\hat \\sigma^2}$$ "
   ]
  },
  {
   "cell_type": "markdown",
   "id": "764e2c9e-9155-4742-88bc-1378d5cd425d",
   "metadata": {},
   "source": [
    "This is simple, <br>\n",
    "**Numerator:** is simple autocovariance formula. That is for the 2 values on different time stamps. From 1 to $T-\\tau$. <br>\n",
    "**Denominator:** is also simple because that is just $T-\\tau$ multiplied by $\\sigma^2$.\n"
   ]
  },
  {
   "cell_type": "markdown",
   "id": "3be5e821-9c80-40cd-8497-1bbcd289327f",
   "metadata": {},
   "source": [
    "After doing the math, you will find a **single number** between -1 and 1 as the measure of correlation for the given $\\tau$. And we will take different values of $\\tau$ from say 1 to 30. Meaning, the distance between $t_1$ and $t_2$ will be 1, then 2, till 30. And for each of those distances, we will get the *autocorrelation $\\varrho$*.\n",
    "\n",
    "> Plotting them on the graph will give us the ACF.\n",
    "\n",
    "And, ***ACF is also known as <u>correlogram</u>.***"
   ]
  },
  {
   "cell_type": "markdown",
   "id": "5b3d3809-79e3-4f05-b3f7-4fdbd9d22711",
   "metadata": {},
   "source": [
    "###### "
   ]
  },
  {
   "cell_type": "markdown",
   "id": "206dfcd4-b965-410e-9e7f-3362861c7d63",
   "metadata": {},
   "source": [
    "### 🤭 Is it that simple? \n",
    "Yeah! ACF is just the *plot* of a bunch of autocorrelations over the taus!"
   ]
  },
  {
   "cell_type": "markdown",
   "id": "593dd637-7171-45fc-acf5-898b2d4912d2",
   "metadata": {},
   "source": [
    "<img src=\"../images/acf.png\" width=400 height=300>"
   ]
  },
  {
   "cell_type": "markdown",
   "id": "d44e0f0b-1849-4512-a465-6ede40592bf6",
   "metadata": {},
   "source": [
    "- Note there, when the $\\tau$ is 0, the $\\varrho$ is 1. That makes sense because the correlation of same series with same series is just 1.\n",
    "- When we use the ***lag*** meaning the $\\tau$, the series is *shifted* by $\\tau$ units and if then we find the $\\varrho$ it gives different autocorrelation values.\n",
    "- The **blue-region** in the plot is the confidence interval. The smaller is better. \n",
    "- That is found using the alpha value `0.05`. Thus, if any $\\varrho$ gets outside of that region, then that $\\varrho$ is by error. That is not reliable. But still there are 5% chances of that error to be made.\n",
    "\n",
    "##### 🐾 Which value to choose then?\n",
    "- We must choose the higher value for the $\\tau$.\n",
    "- But if we are getting low autocorrelation for the high $\\tau$, then we should check for the $\\tau$ before that.\n",
    "- In short, we need to find the *peak* after which the autocorrelation falls.\n",
    "- Here, we will choose the $\\tau$ as `2`. Because after that all $\\varrho$ are smaller.\n",
    "- Since the $\\varrho$ in 2 is **outside** of the confidence interval, we will keep that because there are no other values to keep which are high and inside the blue-region.\n",
    "- If there were another high $\\varrho$ but inside of the blue region, then we would have chosen that one instead of `2`. But here is not the case.\n",
    "\n",
    "We will soon take the example to illustrate the same. "
   ]
  },
  {
   "cell_type": "markdown",
   "id": "a9694712-27f8-402e-9c6a-88f99a330613",
   "metadata": {},
   "source": [
    "#### Then what?\n",
    "Great! You have your *optimal* `q`! Aren't you happy? You should be man! Now you've found the `q`. Let's see that in action in the code below."
   ]
  },
  {
   "cell_type": "code",
   "execution_count": 7,
   "id": "f3694ffa-95c8-4abe-8385-241eebd9aec9",
   "metadata": {},
   "outputs": [],
   "source": [
    "import pandas as pd\n",
    "import numpy as np\n",
    "import matplotlib.pyplot as plt\n",
    "plt.rcParams[\"figure.figsize\"] = (20, 10)\n",
    "\n",
    "from statsmodels.graphics.tsaplots import plot_acf"
   ]
  },
  {
   "cell_type": "markdown",
   "id": "9f48b262-89a4-447e-9946-fd0300e4b1e4",
   "metadata": {},
   "source": [
    "Let's start making the random numbers and then see the whether do we get the result or not."
   ]
  },
  {
   "cell_type": "code",
   "execution_count": 13,
   "id": "73ff471c-0a28-4996-9093-d2ad8dec3b20",
   "metadata": {},
   "outputs": [],
   "source": [
    "seed = np.random.RandomState(42)"
   ]
  },
  {
   "cell_type": "markdown",
   "id": "5737bf17-49e3-4017-8997-1d6a26a0f03f",
   "metadata": {},
   "source": [
    "###### "
   ]
  },
  {
   "cell_type": "markdown",
   "id": "9b0efef1-a285-4deb-99fc-079b52f01a6c",
   "metadata": {},
   "source": [
    "#### Complelety Random"
   ]
  },
  {
   "cell_type": "code",
   "execution_count": 14,
   "id": "54e418e4-26b3-485c-9e1b-9af8ae120ebd",
   "metadata": {},
   "outputs": [
    {
     "data": {
      "image/png": "[encoded data removed]",
      "text/plain": [
       "<Figure size 1440x720 with 1 Axes>"
      ]
     },
     "metadata": {
      "needs_background": "light"
     },
     "output_type": "display_data"
    }
   ],
   "source": [
    "x = seed.randn(1000)\n",
    "plot_acf(x)\n",
    "plt.xlabel(\"← $\\\\tau$ →\", labelpad=20, fontdict={\"size\":15})\n",
    "plt.ylabel(\"← $\\\\varrho$ →\", labelpad=20, fontdict={\"size\":15});"
   ]
  },
  {
   "cell_type": "markdown",
   "id": "5afe1d05-f3b0-4640-87b3-ed764114b1d9",
   "metadata": {},
   "source": [
    "As expected, we can see that **there is no relation** between any point except the piint with it self at $\\tau=0$. That satisfies out hypothesis that the random values are not correlated with themselves."
   ]
  },
  {
   "cell_type": "markdown",
   "id": "1c2a7403-b9bf-44a4-98d9-92818c19f1b9",
   "metadata": {},
   "source": [
    "#### Based on past 1 error"
   ]
  },
  {
   "cell_type": "code",
   "execution_count": 15,
   "id": "ff2b0903-d2c9-4c49-bb7f-554618762629",
   "metadata": {},
   "outputs": [],
   "source": [
    "# taking all errors and storing in the errors which\n",
    "# are generated in the gaussian distribution\n",
    "errors = seed.randn(1000)\n",
    "# we could generate on-the-fly like seed.randn()\n",
    "# each time in the loop but I like this way for now.\n",
    "\n",
    "# here we will store the data, a time-series data.\n",
    "# used x1 because that is based upon past 1 error\n",
    "x1 = []\n",
    "\n",
    "for i in range(1000):\n",
    "    #           coef  past error    current error    \n",
    "    new_point = 0.4 * errors[i-1] + errors[i]\n",
    "    x1.append(new_point)\n",
    "    \n",
    "x1 = np.array(x1)"
   ]
  },
  {
   "cell_type": "markdown",
   "id": "d97cfcb1-281f-4ee3-b12c-c641fa351ef9",
   "metadata": {},
   "source": [
    "🤔 **Wondering?** <br>\n",
    "In the first iteration, if there is no previous error... then how can we use the `[-1]` syntax?\n",
    "\n",
    "The answer is that, we have use the last error in the errros, as they all are independent when generated and that makes no difference what I pick. So to make the code simple. Otherwise I would have to write:\n",
    "\n",
    "```python\n",
    "for i in range(1000):\n",
    "    if i == 0: # for first time only\n",
    "        new_point = errors[i]\n",
    "    else:\n",
    "        new_point = 0.4 * errors[i-1] + errors[i]\n",
    "```\n",
    "See? Each time we will need to do the check which will cost the O(1) time! Man!"
   ]
  },
  {
   "cell_type": "code",
   "execution_count": 16,
   "id": "da3a20d4-82e9-4203-a94f-b6e234df0203",
   "metadata": {},
   "outputs": [
    {
     "data": {
      "image/png": "[encoded data removed]",
      "text/plain": [
       "<Figure size 1440x720 with 1 Axes>"
      ]
     },
     "metadata": {
      "needs_background": "light"
     },
     "output_type": "display_data"
    }
   ],
   "source": [
    "plot_acf(x1)\n",
    "plt.xlabel(\"← $\\\\tau$ →\", labelpad=20, fontdict={\"size\":15})\n",
    "plt.ylabel(\"← $\\\\varrho$ →\", labelpad=20, fontdict={\"size\":15});"
   ]
  },
  {
   "cell_type": "markdown",
   "id": "1c3bf431-62e7-4fdf-8026-58e977a7e50b",
   "metadata": {},
   "source": [
    "Here we go! Here we can see that clearly, the errors are dependent on the past 1 value. Thus, in this case if we didn't know the data, we would choose `q` as 1."
   ]
  },
  {
   "cell_type": "markdown",
   "id": "0ab696e7-cf51-458b-b480-22a6b5242e78",
   "metadata": {},
   "source": [
    "#### Based on past 2 errors"
   ]
  },
  {
   "cell_type": "code",
   "execution_count": 20,
   "id": "9bb9e1a5-c554-44fa-b25f-d23dab423240",
   "metadata": {},
   "outputs": [],
   "source": [
    "errors = seed.randn(1000)\n",
    "x2 = []\n",
    "\n",
    "for i in range(1000):\n",
    "    new_point = 0.4 * errors[i-1] \\\n",
    "                - 0.3 * errors[i-2] + errors[i]\n",
    "    x2.append(new_point)\n",
    "    \n",
    "x2 = np.array(x2)"
   ]
  },
  {
   "cell_type": "code",
   "execution_count": 21,
   "id": "ae37b38c-09eb-4396-bd5f-f56b0d6e04f3",
   "metadata": {},
   "outputs": [
    {
     "data": {
      "image/png": "[encoded data removed]",
      "text/plain": [
       "<Figure size 1440x720 with 1 Axes>"
      ]
     },
     "metadata": {
      "needs_background": "light"
     },
     "output_type": "display_data"
    }
   ],
   "source": [
    "plot_acf(x2)\n",
    "plt.xlabel(\"← $\\\\tau$ →\", labelpad=20, fontdict={\"size\":15})\n",
    "plt.ylabel(\"← $\\\\varrho$ →\", labelpad=20, fontdict={\"size\":15});"
   ]
  },
  {
   "cell_type": "markdown",
   "id": "982d5271-dfca-4556-a6ed-259b57764d38",
   "metadata": {},
   "source": [
    "Again, the ACF is at our help. Here we would choose `q` as 2."
   ]
  },
  {
   "cell_type": "markdown",
   "id": "b878452f-a31e-4a2b-9bbc-650a4b5a2e6d",
   "metadata": {},
   "source": [
    "#### Based on past 6 errors (!!!)"
   ]
  },
  {
   "cell_type": "code",
   "execution_count": 22,
   "id": "c416385e-8fc8-4e9b-ae23-76cafeff201c",
   "metadata": {},
   "outputs": [],
   "source": [
    "errors = seed.randn(1000)\n",
    "x6 = []\n",
    "\n",
    "for i in range(1000):\n",
    "    new_point = 0.4 * errors[i-1] \\\n",
    "                +0.2 * errors[i-2] \\\n",
    "                -0.4 * errors[i-3] \\\n",
    "                +0.5 * errors[i-4] \\\n",
    "                -0.4 * errors[i-5] \\\n",
    "                -0.3 * errors[i-6] + errors[i]\n",
    "    x6.append(new_point)\n",
    "    \n",
    "x6 = np.array(x6)"
   ]
  },
  {
   "cell_type": "code",
   "execution_count": 23,
   "id": "206f7bff-52b4-486c-9ca9-78e88c70bb42",
   "metadata": {},
   "outputs": [
    {
     "data": {
      "image/png": "[encoded data removed]",
      "text/plain": [
       "<Figure size 1440x720 with 1 Axes>"
      ]
     },
     "metadata": {
      "needs_background": "light"
     },
     "output_type": "display_data"
    }
   ],
   "source": [
    "plot_acf(x6)\n",
    "plt.xlabel(\"← $\\\\tau$ →\", labelpad=20, fontdict={\"size\":15})\n",
    "plt.ylabel(\"← $\\\\varrho$ →\", labelpad=20, fontdict={\"size\":15});"
   ]
  },
  {
   "cell_type": "markdown",
   "id": "fcff35bf-f719-4693-917f-0f42795c9d19",
   "metadata": {},
   "source": [
    "Here we see that the higheast non-zero $\\tau$ is 6. Thus we would choose that, *but still* we can see the value of $\\tau$ goes outside of the confidence interval is 21. As per the statistical tests, we can ignore that value as there is 5% of the room for the error here. And also we would prefer the **simpler** model, thus instead of taking `q = 21` we would take `q = 6`."
   ]
  },
  {
   "cell_type": "markdown",
   "id": "854fd638-83c2-4063-b145-95e8c9fa1992",
   "metadata": {},
   "source": [
    "# "
   ]
  },
  {
   "cell_type": "markdown",
   "id": "a9fe5bad-f451-4217-b358-c5f817cb419b",
   "metadata": {},
   "source": [
    "# I know, I know\n",
    "We have not seen the real world examples here, but trust me these ACF and PACF will help you to get values for `q` and `p` really nicely. We will use these plots if we are going to deal with the examples in the upcoming noteoboks but for now, that's for the intuition!\n",
    "\n",
    "In the next book, we will talk about another technique called PACF! Get excited."
   ]
  }
 ],
 "metadata": {
  "kernelspec": {
   "display_name": "Python 3 (ipykernel)",
   "language": "python",
   "name": "python3"
  },
  "language_info": {
   "codemirror_mode": {
    "name": "ipython",
    "version": 3
   },
   "file_extension": ".py",
   "mimetype": "text/x-python",
   "name": "python",
   "nbconvert_exporter": "python",
   "pygments_lexer": "ipython3",
   "version": "3.9.7"
  },
  "widgets": {
   "application/vnd.jupyter.widget-state+json": {
    "state": {},
    "version_major": 2,
    "version_minor": 0
   }
  }
 },
 "nbformat": 4,
 "nbformat_minor": 5
}
