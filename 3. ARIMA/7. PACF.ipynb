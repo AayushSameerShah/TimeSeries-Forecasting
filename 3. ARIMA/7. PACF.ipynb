{
 "cells": [
  {
   "cell_type": "markdown",
   "id": "28b1bcd3-daf6-49ff-9a4f-e7cedbb41c37",
   "metadata": {},
   "source": [
    "# 🎚 PACF\n",
    "*Are they twin brothers? they are... but with a small twist 🥨*"
   ]
  },
  {
   "cell_type": "markdown",
   "id": "132e73c9-aeb4-4afa-b056-928721244738",
   "metadata": {},
   "source": [
    "Yeah, till now we have learnt the ways to find the `d` and `q` with *ADF test* and *ACF* respectively. Now it is time to **find the `p`**. PACF is for `p` and not for `q`. While ACF is for `q` and not for `p`. The reasons will be clear once we understand the difference between them."
   ]
  },
  {
   "cell_type": "markdown",
   "id": "146955d7-d93e-4d76-9960-ab25e4de2ded",
   "metadata": {},
   "source": [
    "## 🍎🍎 Similarities\n",
    "- It is the graph same as ACF\n",
    "- The way to determine the value of `p` is just same like we did in ACF.\n",
    "- We choose different $\\tau$ and then plot the *autocorrelation* on the y-axis.\n",
    "- Choose the highest $\\tau$ after which all values are small.\n",
    "\n",
    "No it is not Déjà-vu but as said, *they are the twins with some twist*."
   ]
  },
  {
   "cell_type": "markdown",
   "id": "74efe690-812e-46e0-8ddc-99bff977aa30",
   "metadata": {},
   "source": [
    "## 🍎🍏 Dis-similarities\n",
    "- It is calculated **differently**.\n",
    "- It is based on **all values** from $y_{t}$ till $y_{t+\\tau}$.\n",
    "- Meaning if we have the series like: $1, 4, 6, 7, 3, 22, 5, 34$ and if our $\\tau = 4$ then we will take $3, 22, 5, 34$ into consideration when calculating PACF unlike only $2$ values $3$ \\& $34$ in ACF.\n",
    "- Thus PACF considers the **middle values** as well."
   ]
  },
  {
   "cell_type": "markdown",
   "id": "4f0d4ae7-70d1-4754-8b98-3f3303e0a594",
   "metadata": {},
   "source": [
    "### What is it?\n",
    "> The PACF at the lag $\\tau$ is the autocorrelation <u>between</u> $y_t$ and $y_{t+\\tau}$ ***conditioned*** on $y_{t}, y_{t+1}, y_{t+2}, \\cdots, y_{t+\\tau-1}, y_{t+\\tau}.$\n",
    "\n",
    "- This is the ***conditional*** autocorrelation.\n",
    "- The ACF was ***unconditional***. \n",
    "- That means, the PACF has conditions on the values between $y_{t}$ till $y_{t+\\tau}$.\n",
    "\n",
    "Recall, we used the latter \"$\\varrho$\" to denote the ACF before. Here, we will denote PACF with \"$\\varphi$\". Yeah we have seen that before as a coefficient in `AR(p)` model. It is fine, don't mix them."
   ]
  },
  {
   "cell_type": "markdown",
   "id": "38908942-1b9a-43e4-b942-01b7052aa97e",
   "metadata": {},
   "source": [
    "## 🎦 Representation of $\\varphi$\n",
    "\n",
    "We usually show that with *double indices*. Meaning double-tau. \n",
    "\n",
    "## $$\\varphi(\\tau, \\tau): \\text{PACF at lag } \\tau$$\n",
    "\n",
    "**There,**<br>\n",
    "If $\\tau = 0$ then $\\varphi(0, 0)$ will be *same* as $\\varrho(0)$ or ACF at $\\tau=0$. Because there are no other elements in between if $\\tau$ is 0.\n",
    "\n",
    "Thus, <br>\n",
    "$\\varphi(0, 0) = \\varrho(0) = 1$\n",
    "<br>———<br>\n",
    "**If,** <br>\n",
    "$\\tau = 1$ then our $\\varphi(1, 1)$ will not have any value between $y_t$ and $y_{t+1}$. Thus, it will be same as ACF.\n",
    "\n",
    "Thus, <br>\n",
    "$\\varphi(1, 1) = \\varrho(1)$"
   ]
  },
  {
   "cell_type": "markdown",
   "id": "83e4aae1-d001-45aa-9de4-2023be55ca3a",
   "metadata": {},
   "source": [
    "*Please don't get confused with the $\\tau$ gets repeated. They mean the same thing, just written twice.*"
   ]
  },
  {
   "cell_type": "markdown",
   "id": "d93e772d-db45-43ac-bade-994012f068c1",
   "metadata": {},
   "source": [
    "###### "
   ]
  },
  {
   "cell_type": "markdown",
   "id": "e394c5ac-fb1f-491a-b8a9-1425adcadb5c",
   "metadata": {},
   "source": [
    "## ⛓ 2 autoregressions\n",
    "*Sometimes I really find a perfect emoji 😉*\n",
    "\n",
    "> Here we will have to run 2 different autoregressions."
   ]
  },
  {
   "cell_type": "markdown",
   "id": "0f602ff7-d66f-49fa-9d92-31713111b014",
   "metadata": {},
   "source": [
    "<img src=\"../images/2_autoregressions.png\" height=300 width=600>"
   ]
  },
  {
   "cell_type": "markdown",
   "id": "96706ea5-e147-4dae-b4e8-657a1151c3d9",
   "metadata": {},
   "source": [
    "Meaning, <br>\n",
    "Now we will build the autoregressive models for $y_{t}$ ***and also*** for $y_{t+\\tau}$.\n",
    "\n",
    "Thus, the equation for $y_{t+\\tau}$ will be:\n",
    "\n",
    "# $$\\hat y_{t+\\tau} = \\beta_0 + \\beta_1 y_{t+1} + \\beta_2 y_{t+2} + \\cdots + \\beta_{\\tau - 1} y_{t+\\tau-1}$$\n",
    "\n",
    "Look, how is it made: <br>\n",
    "<img src=\"../images/pacf-1.png\" height=300 width=500>\n",
    "\n",
    "___\n",
    "\n",
    "Similarly, the equation for $y_{t}$ will be:\n",
    "\n",
    "# $$\\hat y_{t} = \\beta_0' + \\beta_1' y_{t+1} + \\beta_2' y_{t+2} + \\cdots + \\beta_{\\tau - 1}' y_{t+\\tau-1}$$\n",
    "\n",
    "And, it is: <br>\n",
    "<img src=\"../images/pacf-2.png\" height=300 width=500>"
   ]
  },
  {
   "cell_type": "markdown",
   "id": "0eb7e120-0190-478b-9157-0e3f21f3321f",
   "metadata": {},
   "source": [
    "That's the same! Yeah! \n",
    "\n",
    "Of course, it will look like the they **both are being predicted with the same set of variables**. And that is truth. That is *also* kind of the multi-target regression which I have been researching on now-a-days 😉. But see, that the ***coefficients are different*** which is a big OF COURSE.\n",
    "\n",
    "> This looks like we are using the **future values** to predict **the past** when $y_t$ is considered."
   ]
  },
  {
   "cell_type": "markdown",
   "id": "994f2520-ac9b-4615-b694-aec874ee5606",
   "metadata": {},
   "source": [
    "## 🧝‍♂️ The biggest reveal\n",
    "Till now I have been hiding the ***main*** formulae for the PACF. But we were waiting for this moment. Now it is.\n",
    "\n",
    "# $$\\varphi(\\tau, \\tau) = corr\\left(y_t - \\hat y_t, y_{t+\\tau} - \\hat y_{t+\\tau} \\right)$$\n",
    "\n",
    "**સાચ્ચે? 😮** Wow! <br>\n",
    "મજા ન આવી? આગળનું વાંચ.\n",
    "\n",
    "> *The PACF between $y_t$ and $y_{t-\\tau}$ is only the **correlation between their errors/noises**.*\n",
    "\n",
    "Wait, what did just I say? <br>\n",
    "Exactly, the **correlation between the noises or simply the errors.**\n",
    "<br>—<br>\n",
    "So to summarize it, *please pay attentions it is required*:\n",
    "1. We trained 2 models with same set of variables to predict $y_t$ and $y_{t+\\tau}$\n",
    "2. We got their predictions as $\\hat y_t$ and $\\hat y_{t+\\tau}$\n",
    "3. Calculated their *errors*.\n",
    "4. Found their correlations... and that's how it is done!\n",
    "\n",
    "### But what about the in between values?\n",
    "Yeah, since the starting of this notebook we have been discussing how PACF is considering the in-between values. But in the final reveal we just took the two \"*edge points*\" and found the correlations! That is the same as ACF!\n",
    "\n",
    "But to get those errors, *we will need the in-between* points! Thus, they are helpful in predicting those points.\n",
    "\n",
    "### What does exactly that correlation between errors tell?\n",
    "- The correlation is the relation between $y_t$ and $y_{t+\\tau}$ that ***can't be explained*** by the in-between values.\n",
    "- Thus, if the correlation between those errors is **non-zero** that means **there is a significant relation** between $y_t$ and $y_{t+\\tau}$.\n",
    "- Think like this, if the in between values are able to explain $y_t$ and $y_{t+\\tau}$, then the error will be low or 0. Thus, the correlation between them will be 0. And that will mean that we shouldn't include $y_t$ to the future values! Should chose another `p`.\n",
    "- **But if** the correlation between errors is non-zero, then that means the dependency of the future value is ***directly*** dependent somehow ***that can't be explained by the in-between values***. Thus, we should consider taking that past `p` values into an account.\n",
    "\n",
    "That's how we choose our `p`.\n",
    "\n",
    "<img src=\"../images/direct-effect.png\" height=200 width=300>"
   ]
  },
  {
   "cell_type": "markdown",
   "id": "363bb01f-9814-4914-a09f-e6dbccaca93d",
   "metadata": {},
   "source": [
    "# Code here"
   ]
  }
 ],
 "metadata": {
  "kernelspec": {
   "display_name": "Python 3 (ipykernel)",
   "language": "python",
   "name": "python3"
  },
  "language_info": {
   "codemirror_mode": {
    "name": "ipython",
    "version": 3
   },
   "file_extension": ".py",
   "mimetype": "text/x-python",
   "name": "python",
   "nbconvert_exporter": "python",
   "pygments_lexer": "ipython3",
   "version": "3.9.12"
  },
  "widgets": {
   "application/vnd.jupyter.widget-state+json": {
    "state": {},
    "version_major": 2,
    "version_minor": 0
   }
  }
 },
 "nbformat": 4,
 "nbformat_minor": 5
}
