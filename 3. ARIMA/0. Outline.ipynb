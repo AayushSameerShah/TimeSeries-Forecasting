{
 "cells": [
  {
   "cell_type": "markdown",
   "id": "5c986658-70ec-4fb4-a622-e149496a8810",
   "metadata": {},
   "source": [
    "# 🤖 ARIMA\n",
    "Yeah! I don't know why when I hear the word ***ARIMA***, I start singing *\"Arima Arima...\"* from robot 🎶\n",
    "\n",
    "<img src=\"../images/arima-arima-song.png\" height=400 width=500>\n",
    "\n",
    "[Here](https://www.youtube.com/watch?v=6I2a0GmR9T8) if you are interested!"
   ]
  },
  {
   "cell_type": "markdown",
   "id": "aa2969aa-4f8a-4458-bcd3-e2beb610cd7f",
   "metadata": {},
   "source": [
    "# "
   ]
  },
  {
   "cell_type": "markdown",
   "id": "77bda429-336f-421d-934b-be7fc39ca1cf",
   "metadata": {},
   "source": [
    "### 🕴 Okay, Let's Talk Business"
   ]
  },
  {
   "cell_type": "markdown",
   "id": "78b222a0-7ea7-4582-a4d1-57a9165b14d5",
   "metadata": {},
   "source": [
    "First, congratulations! We have completed the **first** stage in the world of forecasting. Like amazing! And, that was not just the *fit and predict* but we have seen how that works internally and implemented things in our own way.\n",
    "\n",
    "Now, it the time to try learning more stuff. And here it is `ARIMA`. Let's see the outline in the chronological order, so we can understand how things will go.\n",
    "\n",
    "1. We will understand the **bases** of the ARIMA model.\n",
    "    - The **AR(p)** model\n",
    "    - The **MA(q)** model\n",
    "    - Here we will ***also*** get them running on the data.\n",
    "2. How to choose the **model parameters** (p, d, q).\n",
    "    - **ACF** & **PACF** will come handy (for p & q)\n",
    "    - Why ACF & PACF work? Like **why**?\n",
    "    - The **rules** for ACF & PACF\n",
    "    - Simulations\n",
    "3. **Model selection** by using \"Auto ARIMA\".\n",
    "    - This helps us understand how the ***modern*** approach stacks up against the classical approaches like ACF and PACF.\n",
    "    - Comes with **other extensions**\n",
    "        - Seasonality ARIMA (SARIMA)\n",
    "        - Exogenous data (SARIMAX)\n",
    "    - **AIC** & **BIC**\n",
    "4. Apply the leant model to the **stock prices** data.\n",
    "    - Compare the predictions with the naive forecast\n",
    "    - Apply the ACF & PACF to the stock returns"
   ]
  },
  {
   "cell_type": "markdown",
   "id": "dc47b28a-f102-4d9e-bd8f-b485d9b4d4fa",
   "metadata": {},
   "source": [
    "> **NOTE**: That while learning the ARIMA, the MA stands for *\"Moving Average\"* but **that** MA ***is not*** same as the moving average that we have studied previously. We will see what does that mean when we will tackle that one."
   ]
  },
  {
   "cell_type": "markdown",
   "id": "822098db-d61c-4e03-bf3d-2088d842b006",
   "metadata": {},
   "source": [
    "# "
   ]
  },
  {
   "cell_type": "markdown",
   "id": "86cc4732-abbc-43b8-a784-3f20e7a091ca",
   "metadata": {},
   "source": [
    "# Next up,\n",
    "We will really get started with AR(p) model. Don't worry, we will reach to the top of the mountain by getting started with climbing. One step at a time."
   ]
  }
 ],
 "metadata": {
  "kernelspec": {
   "display_name": "Python 3 (ipykernel)",
   "language": "python",
   "name": "python3"
  },
  "language_info": {
   "codemirror_mode": {
    "name": "ipython",
    "version": 3
   },
   "file_extension": ".py",
   "mimetype": "text/x-python",
   "name": "python",
   "nbconvert_exporter": "python",
   "pygments_lexer": "ipython3",
   "version": "3.9.7"
  }
 },
 "nbformat": 4,
 "nbformat_minor": 5
}
