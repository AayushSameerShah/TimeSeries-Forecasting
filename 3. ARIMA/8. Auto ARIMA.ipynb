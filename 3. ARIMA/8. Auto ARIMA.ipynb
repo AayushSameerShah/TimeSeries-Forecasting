{
 "cells": [
  {
   "cell_type": "markdown",
   "id": "78e15e6b-2a6b-4f11-a100-4218fcb2e6f8",
   "metadata": {},
   "source": [
    "# ⚙️ Auto ARIMA\n",
    "*The machine learning done by machine learning.*"
   ]
  },
  {
   "cell_type": "code",
   "execution_count": null,
   "id": "80463180-c6b8-49f2-a947-d530a1168aea",
   "metadata": {},
   "outputs": [],
   "source": [
    "s"
   ]
  }
 ],
 "metadata": {
  "kernelspec": {
   "display_name": "Python 3 (ipykernel)",
   "language": "python",
   "name": "python3"
  },
  "language_info": {
   "codemirror_mode": {
    "name": "ipython",
    "version": 3
   },
   "file_extension": ".py",
   "mimetype": "text/x-python",
   "name": "python",
   "nbconvert_exporter": "python",
   "pygments_lexer": "ipython3",
   "version": "3.9.12"
  }
 },
 "nbformat": 4,
 "nbformat_minor": 5
}
