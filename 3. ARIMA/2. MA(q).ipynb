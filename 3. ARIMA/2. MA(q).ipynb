{
 "cells": [
  {
   "cell_type": "markdown",
   "id": "f0e10d76-ba36-444a-aeee-69295130e63f",
   "metadata": {},
   "source": [
    "# 🚶Moving Average "
   ]
  },
  {
   "cell_type": "markdown",
   "id": "16cd9707-165a-4cae-a92f-a11c5a994aa2",
   "metadata": {},
   "source": [
    "This will make you think that till now ***whatever*** that we have learnt was a lie. That might be exaggeration but the term ***Moving Average (MA)*** here *isn't* the MA that we have learn't till now."
   ]
  },
  {
   "cell_type": "code",
   "execution_count": null,
   "id": "d77af959-601a-4e56-96c4-aeb945d43716",
   "metadata": {},
   "outputs": [],
   "source": []
  }
 ],
 "metadata": {
  "kernelspec": {
   "display_name": "Python 3 (ipykernel)",
   "language": "python",
   "name": "python3"
  },
  "language_info": {
   "codemirror_mode": {
    "name": "ipython",
    "version": 3
   },
   "file_extension": ".py",
   "mimetype": "text/x-python",
   "name": "python",
   "nbconvert_exporter": "python",
   "pygments_lexer": "ipython3",
   "version": "3.9.7"
  }
 },
 "nbformat": 4,
 "nbformat_minor": 5
}
