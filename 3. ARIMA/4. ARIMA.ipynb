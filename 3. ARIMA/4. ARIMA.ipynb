{
 "cells": [
  {
   "cell_type": "markdown",
   "id": "f2ef14e4-72c6-41b0-bc85-0f5667627cb9",
   "metadata": {},
   "source": [
    "# ARIMA (p, d, q)"
   ]
  },
  {
   "cell_type": "markdown",
   "id": "4c57ced7-23c1-4e9c-920f-95c0004df1b2",
   "metadata": {},
   "source": [
    "So, what if we just add the AR and MA model? And that's the ARMA model!"
   ]
  },
  {
   "cell_type": "markdown",
   "id": "dfb15ede-2703-44e7-9237-d5604a2c7c22",
   "metadata": {},
   "source": [
    "Where,\n",
    "\n",
    "### $$ y_t = b + \\varphi_1y_{t - 1} + \\cdots + \\varphi_py_{t - p} + \\theta_1\\varepsilon_{t-1} + \\cdots + \\theta_q\\varepsilon_{t-q} + \\varepsilon_t $$"
   ]
  },
  {
   "cell_type": "markdown",
   "id": "647ded33-58c4-4ac9-a53c-e9f7f06ac219",
   "metadata": {},
   "source": [
    "Have a look: <br>\n",
    "<img src=\"../images/arma.png\" height=200 width=500>"
   ]
  },
  {
   "cell_type": "markdown",
   "id": "fd9b1768-c14e-4793-a80b-e5771ea7e039",
   "metadata": {},
   "source": [
    "Which makes:\n",
    "#### $ARMA(p, q) = AR(p) + MA(q)$"
   ]
  },
  {
   "cell_type": "markdown",
   "id": "2cf73835-a6f6-4b9a-aa5d-9f34e38f080a",
   "metadata": {},
   "source": [
    "We do this, when we *think* that the each point in the timeseries is ***linearly correlated***. "
   ]
  },
  {
   "cell_type": "markdown",
   "id": "69562dfc-bf77-4d11-ac05-a977e09fefe6",
   "metadata": {},
   "source": [
    "So, what happens is still a bit fuzzy to me at this time... but the points are:\n",
    "- First with `d` term, the ARIMA model differences the time series to make it *stationary*.\n",
    "- Then it uses the AR(p) model to learn the points.\n",
    "- Along with that it also uses the MA(q) model to learn from the errors.\n",
    "- Then finally we make the predictions \"somehow\".\n",
    "\n",
    "We will see how."
   ]
  },
  {
   "cell_type": "markdown",
   "id": "f9a37471-4ff1-49b5-b1cf-0b3ac3e8eada",
   "metadata": {},
   "source": [
    "###### "
   ]
  },
  {
   "cell_type": "markdown",
   "id": "1deba3cd-b399-4f1b-a053-ba74cb958946",
   "metadata": {},
   "source": [
    "## ✨ Special Cases of ARIMA\n",
    "The previous models are the special cases of ARIMA! Here's how.\n",
    "\n",
    "#### 1️⃣ ARIMA(p, 0, 0)\n",
    "This is the **`AR(p)`** model!\n",
    "- No differencing, no error learning\n",
    "- Just the pure AR(p)\n",
    "\n",
    "#### 2️⃣ ARIMA(0, 0, q)\n",
    "This is the **`MA(q)`** model!\n",
    "- No differencing, no auto-regressive learning\n",
    "- Just the pure MA(q)\n",
    "\n",
    "#### 3️⃣ ARIMA(0, d, 0)\n",
    "This is the **`I(d)`** model!\n",
    "- auto-regressive learning, no error learning\n",
    "- Just the pure I(d)\n",
    "\n",
    "#### 4️⃣ Random Walk — ARIMA(0, 1, 0)\n",
    "This is the **`I(1)`** model, but it has a special meaning.\n",
    "\n",
    "## $\\Delta y_t = \\varepsilon_t$\n",
    "It says, *\"The difference at point $t$ is equivalent to the error $\\varepsilon$ at time $t$\"*.\n",
    "\n",
    "That can be re-written as ↓\n",
    "## $y_t  - y_{t-1} = \\varepsilon_t$\n",
    "And thus ↓\n",
    "## $y_t = y_{t-1} + \\varepsilon_t$"
   ]
  },
  {
   "cell_type": "markdown",
   "id": "f855fdb2-afb3-4fa4-bf62-2b172311d1ea",
   "metadata": {},
   "source": [
    "**Do you see something?** That $y_t = y_{t-1} + \\varepsilon_t$ is the ***random walk*** formulae! Which simply means that the upcoming value in the time-series depends on the exacly **single past** value and the noise."
   ]
  },
  {
   "cell_type": "markdown",
   "id": "5d6eba0d-a0ed-49ee-8859-6aa8baec79ee",
   "metadata": {},
   "source": [
    "Thus, $\\Delta y_t = \\varepsilon_t$ means, if we take the difference between two datapoins, we are only left with the natural error at that point in time. \n",
    "\n",
    "In future if we find that the ARIMA(0, 1, 0) is the best model, then it means that the given time-series follows the random walk."
   ]
  },
  {
   "cell_type": "markdown",
   "id": "1f1e5ad8-bfac-4e30-9a55-becefcff81a4",
   "metadata": {},
   "source": [
    "# "
   ]
  },
  {
   "cell_type": "code",
   "execution_count": null,
   "id": "27516c26-affd-42cd-a45a-fc99befc92d3",
   "metadata": {},
   "outputs": [],
   "source": []
  }
 ],
 "metadata": {
  "kernelspec": {
   "display_name": "Python 3 (ipykernel)",
   "language": "python",
   "name": "python3"
  },
  "language_info": {
   "codemirror_mode": {
    "name": "ipython",
    "version": 3
   },
   "file_extension": ".py",
   "mimetype": "text/x-python",
   "name": "python",
   "nbconvert_exporter": "python",
   "pygments_lexer": "ipython3",
   "version": "3.9.7"
  }
 },
 "nbformat": 4,
 "nbformat_minor": 5
}
