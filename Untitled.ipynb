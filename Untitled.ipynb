{
 "cells": [
  {
   "cell_type": "code",
   "execution_count": null,
   "id": "b1358929-1e7e-4923-8730-81a33dcb8de3",
   "metadata": {},
   "outputs": [],
   "source": [
    "asas rdfdfsdfsd\n",
    "def "
   ]
  },
  {
   "cell_type": "markdown",
   "id": "41410a00-cd6d-401c-bea8-772c9b3d0131",
   "metadata": {},
   "source": [
    "KAKA!"
   ]
  },
  {
   "cell_type": "markdown",
   "id": "a11a5752-0851-4899-87e6-8e25dd453896",
   "metadata": {},
   "source": [
    "12"
   ]
  },
  {
   "cell_type": "markdown",
   "id": "9a0cd7be-b4d6-4e89-9d73-d4f60074ecae",
   "metadata": {},
   "source": [
    "233 This is me!!"
   ]
  },
  {
   "cell_type": "markdown",
   "id": "77a39389-3083-4878-adf9-4a59f095d751",
   "metadata": {},
   "source": [
    "This is possible. Not impossible 123"
   ]
  }
 ],
 "metadata": {
  "kernelspec": {
   "display_name": "Python 3 (ipykernel)",
   "language": "python",
   "name": "python3"
  },
  "language_info": {
   "codemirror_mode": {
    "name": "ipython",
    "version": 3
   },
   "file_extension": ".py",
   "mimetype": "text/x-python",
   "name": "python",
   "nbconvert_exporter": "python",
   "pygments_lexer": "ipython3",
   "version": "3.9.12"
  }
 },
 "nbformat": 4,
 "nbformat_minor": 5
}
